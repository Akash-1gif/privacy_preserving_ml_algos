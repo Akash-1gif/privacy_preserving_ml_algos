{
 "cells": [
  {
   "cell_type": "code",
   "execution_count": 1,
   "id": "5ad1818c-f308-4b5d-8b3b-13db9039bdaa",
   "metadata": {},
   "outputs": [],
   "source": [
    "from lightphe import LightPHE"
   ]
  },
  {
   "cell_type": "code",
   "execution_count": 2,
   "id": "b306fd0b-7de7-4d1a-884a-81086141c079",
   "metadata": {},
   "outputs": [],
   "source": [
    "cs=LightPHE(algorithm_name=\"Paillier\")"
   ]
  },
  {
   "cell_type": "code",
   "execution_count": 3,
   "id": "f3bd1d2c-e813-4ee1-96f3-ba5e26d8f714",
   "metadata": {},
   "outputs": [],
   "source": [
    "t1=[1.005,2.05,3.5,4]\n",
    "t2=[5,6.2,7.002,8.02]"
   ]
  },
  {
   "cell_type": "markdown",
   "id": "dad38a00-5a25-431e-8f87-33493daa5f67",
   "metadata": {},
   "source": [
    "Encryption:"
   ]
  },
  {
   "cell_type": "code",
   "execution_count": 4,
   "id": "af0775ca-55dc-457c-b449-95c2455edc09",
   "metadata": {},
   "outputs": [],
   "source": [
    "c1=cs.encrypt(t1)\n",
    "c2=cs.encrypt(t2)"
   ]
  },
  {
   "cell_type": "markdown",
   "id": "48b0280f-85fb-440f-8ece-15e14a0cd9b1",
   "metadata": {},
   "source": [
    "Addition:"
   ]
  },
  {
   "cell_type": "code",
   "execution_count": 5,
   "id": "2a58f63b-4e0f-41e3-ba02-4775c0f036b2",
   "metadata": {
    "scrolled": true
   },
   "outputs": [
    {
     "data": {
      "text/plain": [
       "[6.00499, 8.24999, 10.50199, 12.01999]"
      ]
     },
     "execution_count": 5,
     "metadata": {},
     "output_type": "execute_result"
    }
   ],
   "source": [
    "c3=c1+c2\n",
    "cs.decrypt(c3)"
   ]
  },
  {
   "cell_type": "markdown",
   "id": "6307a90b-3cb6-4912-9362-7dccb9752705",
   "metadata": {},
   "source": [
    "Multiplication with a plain constant:"
   ]
  },
  {
   "cell_type": "code",
   "execution_count": 6,
   "id": "96171860-2839-4a85-90c8-07ff84fb8bed",
   "metadata": {},
   "outputs": [
    {
     "data": {
      "text/plain": [
       "[60.0499, 82.4999, 105.0199, 120.1999]"
      ]
     },
     "execution_count": 6,
     "metadata": {},
     "output_type": "execute_result"
    }
   ],
   "source": [
    "c3=c3*10\n",
    "cs.decrypt(c3)"
   ]
  },
  {
   "cell_type": "markdown",
   "id": "638483af-5d47-47e0-9154-3bc254f09dde",
   "metadata": {},
   "source": [
    "Subtraction:"
   ]
  },
  {
   "cell_type": "code",
   "execution_count": 7,
   "id": "425e5a56-a9d1-44fd-94c2-02776b3df70c",
   "metadata": {},
   "outputs": [
    {
     "data": {
      "text/plain": [
       "[-5.0, -6.2, -7.00199, -8.01999]"
      ]
     },
     "execution_count": 7,
     "metadata": {},
     "output_type": "execute_result"
    }
   ],
   "source": [
    "c2=c2*(-1)\n",
    "cs.decrypt(c2)"
   ]
  },
  {
   "cell_type": "code",
   "execution_count": 9,
   "id": "dfcbf27e-2672-45f3-b4e1-851083f73b69",
   "metadata": {},
   "outputs": [
    {
     "data": {
      "text/plain": [
       "[65.0499, 88.6999, 112.02189, 128.21989]"
      ]
     },
     "execution_count": 9,
     "metadata": {},
     "output_type": "execute_result"
    }
   ],
   "source": [
    "c3=c3+c2\n",
    "cs.decrypt(c3)"
   ]
  },
  {
   "cell_type": "code",
   "execution_count": null,
   "id": "8436d6b6-8366-4b12-a449-eff2ebaaee1a",
   "metadata": {},
   "outputs": [],
   "source": []
  }
 ],
 "metadata": {
  "kernelspec": {
   "display_name": "Python 3 (ipykernel)",
   "language": "python",
   "name": "python3"
  },
  "language_info": {
   "codemirror_mode": {
    "name": "ipython",
    "version": 3
   },
   "file_extension": ".py",
   "mimetype": "text/x-python",
   "name": "python",
   "nbconvert_exporter": "python",
   "pygments_lexer": "ipython3",
   "version": "3.10.0"
  }
 },
 "nbformat": 4,
 "nbformat_minor": 5
}
