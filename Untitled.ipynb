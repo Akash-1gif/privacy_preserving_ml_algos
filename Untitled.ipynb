{
 "cells": [
  {
   "cell_type": "code",
   "execution_count": 1,
   "id": "b12e26a5-5876-4e88-a678-4c49db50604d",
   "metadata": {},
   "outputs": [],
   "source": [
    "import tenseal as ts"
   ]
  },
  {
   "cell_type": "code",
   "execution_count": 2,
   "id": "434e0e65-ed6b-4670-a80d-beec4b4f1227",
   "metadata": {},
   "outputs": [],
   "source": [
    "context=ts.context(\n",
    "    ts.SCHEME_TYPE.CKKS,\n",
    "    poly_modulus_degree=8192,\n",
    "    coeff_mod_bit_sizes=[60,40,40,60]\n",
    ")"
   ]
  },
  {
   "cell_type": "code",
   "execution_count": 3,
   "id": "deba14bc-1298-405d-919c-f73e6cca62e8",
   "metadata": {},
   "outputs": [],
   "source": [
    "context.generate_galois_keys()\n",
    "context.global_scale=2**40"
   ]
  },
  {
   "cell_type": "markdown",
   "id": "606e2ab2-338a-4e9f-89c1-aef2ae025c43",
   "metadata": {},
   "source": [
    "### single number addition:"
   ]
  },
  {
   "cell_type": "code",
   "execution_count": 4,
   "id": "f20c43f4-32ef-4c7e-9a5b-80b0ccb0a3cc",
   "metadata": {},
   "outputs": [],
   "source": [
    "v1=[900]\n",
    "enc_v1=ts.ckks_vector(context,v1)"
   ]
  },
  {
   "cell_type": "code",
   "execution_count": 5,
   "id": "4dae1e6e-dd8f-408f-8db4-56a64fe3197b",
   "metadata": {},
   "outputs": [
    {
     "data": {
      "text/plain": [
       "[1900.0000000000516]"
      ]
     },
     "execution_count": 5,
     "metadata": {},
     "output_type": "execute_result"
    }
   ],
   "source": [
    "enc_v1=enc_v1+1000\n",
    "enc_v1.decrypt()"
   ]
  },
  {
   "cell_type": "markdown",
   "id": "d6774bf7-d305-455f-8fc0-eedfc5a39af4",
   "metadata": {},
   "source": [
    "### single number subtraction:"
   ]
  },
  {
   "cell_type": "code",
   "execution_count": 6,
   "id": "f8b0809d-e447-490f-853f-68db54d91606",
   "metadata": {},
   "outputs": [
    {
     "data": {
      "text/plain": [
       "[-599.7659999999399]"
      ]
     },
     "execution_count": 6,
     "metadata": {},
     "output_type": "execute_result"
    }
   ],
   "source": [
    "v2=[400.234]\n",
    "enc_v2=ts.ckks_vector(context,v2)\n",
    "enc_v2=enc_v2-1000\n",
    "enc_v2.decrypt()"
   ]
  },
  {
   "cell_type": "markdown",
   "id": "812a0f2c-95fd-43b3-b288-92c487b60593",
   "metadata": {},
   "source": [
    "### single number multiplication:"
   ]
  },
  {
   "cell_type": "code",
   "execution_count": 7,
   "id": "a33bf0f1-cda4-4ea8-a5d5-2c4a4e764bd9",
   "metadata": {},
   "outputs": [
    {
     "data": {
      "text/plain": [
       "[120.00001609208017]"
      ]
     },
     "execution_count": 7,
     "metadata": {},
     "output_type": "execute_result"
    }
   ],
   "source": [
    "v3=[12]\n",
    "enc_v3=ts.ckks_vector(context,v3)\n",
    "enc_v3*=10\n",
    "enc_v3.decrypt()"
   ]
  },
  {
   "cell_type": "markdown",
   "id": "5bc7bb4c-bc3d-4b84-ac1e-d60b6e78fab1",
   "metadata": {},
   "source": [
    "### Multiple numbers addition:"
   ]
  },
  {
   "cell_type": "code",
   "execution_count": 8,
   "id": "a3e55969-fae5-47c9-8715-a1ddba808dc7",
   "metadata": {},
   "outputs": [
    {
     "data": {
      "text/plain": [
       "[5]"
      ]
     },
     "execution_count": 8,
     "metadata": {},
     "output_type": "execute_result"
    }
   ],
   "source": [
    "v4=[10,20,30,40,50]\n",
    "enc_v4=ts.ckks_vector(context,v4)\n",
    "enc_v4.shape"
   ]
  },
  {
   "cell_type": "code",
   "execution_count": 9,
   "id": "89f2327d-24f0-4c57-8c33-86166feac0f4",
   "metadata": {},
   "outputs": [
    {
     "data": {
      "text/plain": [
       "[5]"
      ]
     },
     "execution_count": 9,
     "metadata": {},
     "output_type": "execute_result"
    }
   ],
   "source": [
    "v5=[11,21,31,41,51]\n",
    "enc_v5=ts.ckks_vector(context,v5)\n",
    "enc_v5.shape"
   ]
  },
  {
   "cell_type": "code",
   "execution_count": 10,
   "id": "8dbfeda0-dd07-44fb-9623-2e2f9c4d46a9",
   "metadata": {},
   "outputs": [
    {
     "data": {
      "text/plain": [
       "[5]"
      ]
     },
     "execution_count": 10,
     "metadata": {},
     "output_type": "execute_result"
    }
   ],
   "source": [
    "v6=[12,22,32,42,52]\n",
    "enc_v6=ts.ckks_vector(context,v6)\n",
    "enc_v6.shape"
   ]
  },
  {
   "cell_type": "code",
   "execution_count": 11,
   "id": "15a0a841-543d-4e3c-b6ce-33c020e029c8",
   "metadata": {},
   "outputs": [],
   "source": [
    "big_vec=[]\n",
    "for i in [enc_v4,enc_v5,enc_v6]:\n",
    "    big_vec.append(i)"
   ]
  },
  {
   "cell_type": "code",
   "execution_count": 12,
   "id": "de3aeeb2-8654-4f64-aa44-d10fe0fd7f7c",
   "metadata": {},
   "outputs": [
    {
     "data": {
      "text/plain": [
       "3"
      ]
     },
     "execution_count": 12,
     "metadata": {},
     "output_type": "execute_result"
    }
   ],
   "source": [
    "v7=[[11,21,31,41,51],[10,20,30,40,50],[12,22,32,42,52]]\n",
    "enc_v7=[ts.ckks_vector(context,v) for v in v7]\n",
    "len(enc_v7)"
   ]
  },
  {
   "cell_type": "code",
   "execution_count": null,
   "id": "1489690d-2ad1-444b-82e8-9b0ee36f79aa",
   "metadata": {},
   "outputs": [],
   "source": []
  }
 ],
 "metadata": {
  "kernelspec": {
   "display_name": "Python 3 (ipykernel)",
   "language": "python",
   "name": "python3"
  },
  "language_info": {
   "codemirror_mode": {
    "name": "ipython",
    "version": 3
   },
   "file_extension": ".py",
   "mimetype": "text/x-python",
   "name": "python",
   "nbconvert_exporter": "python",
   "pygments_lexer": "ipython3",
   "version": "3.10.0"
  }
 },
 "nbformat": 4,
 "nbformat_minor": 5
}
