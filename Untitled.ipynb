{
 "cells": [
  {
   "cell_type": "code",
   "execution_count": 1,
   "id": "b12e26a5-5876-4e88-a678-4c49db50604d",
   "metadata": {},
   "outputs": [],
   "source": [
    "import tenseal as ts\n",
    "import numpy as np"
   ]
  },
  {
   "cell_type": "code",
   "execution_count": 2,
   "id": "434e0e65-ed6b-4670-a80d-beec4b4f1227",
   "metadata": {},
   "outputs": [],
   "source": [
    "context=ts.context(\n",
    "    ts.SCHEME_TYPE.CKKS,\n",
    "    poly_modulus_degree=8192,\n",
    "    coeff_mod_bit_sizes=[60,40,40,60]\n",
    ")"
   ]
  },
  {
   "cell_type": "code",
   "execution_count": 3,
   "id": "deba14bc-1298-405d-919c-f73e6cca62e8",
   "metadata": {},
   "outputs": [],
   "source": [
    "context.generate_galois_keys()\n",
    "context.global_scale=2**40"
   ]
  },
  {
   "cell_type": "markdown",
   "id": "606e2ab2-338a-4e9f-89c1-aef2ae025c43",
   "metadata": {},
   "source": [
    "### single number addition:"
   ]
  },
  {
   "cell_type": "code",
   "execution_count": 4,
   "id": "f20c43f4-32ef-4c7e-9a5b-80b0ccb0a3cc",
   "metadata": {},
   "outputs": [],
   "source": [
    "v1=[900]\n",
    "enc_v1=ts.ckks_vector(context,v1)"
   ]
  },
  {
   "cell_type": "code",
   "execution_count": 5,
   "id": "4dae1e6e-dd8f-408f-8db4-56a64fe3197b",
   "metadata": {},
   "outputs": [
    {
     "data": {
      "text/plain": [
       "[1900.00000000075]"
      ]
     },
     "execution_count": 5,
     "metadata": {},
     "output_type": "execute_result"
    }
   ],
   "source": [
    "enc_v1=enc_v1+1000\n",
    "enc_v1.decrypt()"
   ]
  },
  {
   "cell_type": "markdown",
   "id": "d6774bf7-d305-455f-8fc0-eedfc5a39af4",
   "metadata": {},
   "source": [
    "### single number subtraction:"
   ]
  },
  {
   "cell_type": "code",
   "execution_count": 6,
   "id": "f8b0809d-e447-490f-853f-68db54d91606",
   "metadata": {},
   "outputs": [
    {
     "data": {
      "text/plain": [
       "[-599.7660000008331]"
      ]
     },
     "execution_count": 6,
     "metadata": {},
     "output_type": "execute_result"
    }
   ],
   "source": [
    "v2=[400.234]\n",
    "enc_v2=ts.ckks_vector(context,v2)\n",
    "enc_v2=enc_v2-1000\n",
    "enc_v2.decrypt()"
   ]
  },
  {
   "cell_type": "markdown",
   "id": "812a0f2c-95fd-43b3-b288-92c487b60593",
   "metadata": {},
   "source": [
    "### single number multiplication:"
   ]
  },
  {
   "cell_type": "code",
   "execution_count": 7,
   "id": "a33bf0f1-cda4-4ea8-a5d5-2c4a4e764bd9",
   "metadata": {},
   "outputs": [
    {
     "data": {
      "text/plain": [
       "[120.00001610384746]"
      ]
     },
     "execution_count": 7,
     "metadata": {},
     "output_type": "execute_result"
    }
   ],
   "source": [
    "v3=[12]\n",
    "enc_v3=ts.ckks_vector(context,v3)\n",
    "enc_v3*=10\n",
    "enc_v3.decrypt()"
   ]
  },
  {
   "cell_type": "markdown",
   "id": "5bc7bb4c-bc3d-4b84-ac1e-d60b6e78fab1",
   "metadata": {},
   "source": [
    "### Multiple numbers addition:"
   ]
  },
  {
   "cell_type": "code",
   "execution_count": 8,
   "id": "a3e55969-fae5-47c9-8715-a1ddba808dc7",
   "metadata": {},
   "outputs": [
    {
     "data": {
      "text/plain": [
       "[5]"
      ]
     },
     "execution_count": 8,
     "metadata": {},
     "output_type": "execute_result"
    }
   ],
   "source": [
    "v4=[10,20,30,40,50]\n",
    "enc_v4=ts.ckks_vector(context,v4)\n",
    "enc_v4.shape"
   ]
  },
  {
   "cell_type": "code",
   "execution_count": 9,
   "id": "89f2327d-24f0-4c57-8c33-86166feac0f4",
   "metadata": {},
   "outputs": [
    {
     "data": {
      "text/plain": [
       "[5]"
      ]
     },
     "execution_count": 9,
     "metadata": {},
     "output_type": "execute_result"
    }
   ],
   "source": [
    "v5=[11,21,31,41,51]\n",
    "enc_v5=ts.ckks_vector(context,v5)\n",
    "enc_v5.shape"
   ]
  },
  {
   "cell_type": "code",
   "execution_count": 10,
   "id": "8dbfeda0-dd07-44fb-9623-2e2f9c4d46a9",
   "metadata": {},
   "outputs": [
    {
     "data": {
      "text/plain": [
       "[5]"
      ]
     },
     "execution_count": 10,
     "metadata": {},
     "output_type": "execute_result"
    }
   ],
   "source": [
    "v6=[12,22,32,42,52]\n",
    "enc_v6=ts.ckks_vector(context,v6)\n",
    "enc_v6.shape"
   ]
  },
  {
   "cell_type": "code",
   "execution_count": 11,
   "id": "15a0a841-543d-4e3c-b6ce-33c020e029c8",
   "metadata": {},
   "outputs": [],
   "source": [
    "big_vec=[]\n",
    "for i in [enc_v4,enc_v5,enc_v6]:\n",
    "    big_vec.append(i)"
   ]
  },
  {
   "cell_type": "code",
   "execution_count": 12,
   "id": "de3aeeb2-8654-4f64-aa44-d10fe0fd7f7c",
   "metadata": {},
   "outputs": [
    {
     "data": {
      "text/plain": [
       "3"
      ]
     },
     "execution_count": 12,
     "metadata": {},
     "output_type": "execute_result"
    }
   ],
   "source": [
    "v7=[[11,21,31,41,51],[10,20,30,40,50],[12,22,32,42,52]]\n",
    "enc_v7=[ts.ckks_vector(context,v) for v in v7]\n",
    "len(enc_v7)"
   ]
  },
  {
   "cell_type": "code",
   "execution_count": 13,
   "id": "1489690d-2ad1-444b-82e8-9b0ee36f79aa",
   "metadata": {},
   "outputs": [
    {
     "data": {
      "text/plain": [
       "<tenseal.tensors.ckksvector.CKKSVector at 0x1c47f0121a0>"
      ]
     },
     "execution_count": 13,
     "metadata": {},
     "output_type": "execute_result"
    }
   ],
   "source": [
    "x1=[2,2,2,2,2]\n",
    "x1=ts.ckks_vector(context,x1)\n",
    "x1"
   ]
  },
  {
   "cell_type": "code",
   "execution_count": 14,
   "id": "7545df7a-9f3b-4495-88eb-a5bdd08d5dae",
   "metadata": {},
   "outputs": [],
   "source": [
    "res=[]\n",
    "for i in enc_v7:\n",
    "    t=x1.dot(i)\n",
    "    res.append(t)"
   ]
  },
  {
   "cell_type": "code",
   "execution_count": 15,
   "id": "99651b63-7c35-463d-98cd-d2b23e40ac5f",
   "metadata": {},
   "outputs": [
    {
     "data": {
      "text/plain": [
       "[<tenseal.tensors.ckksvector.CKKSVector at 0x1c47f011990>,\n",
       " <tenseal.tensors.ckksvector.CKKSVector at 0x1c47f010e20>,\n",
       " <tenseal.tensors.ckksvector.CKKSVector at 0x1c47f012170>]"
      ]
     },
     "execution_count": 15,
     "metadata": {},
     "output_type": "execute_result"
    }
   ],
   "source": [
    "res"
   ]
  },
  {
   "cell_type": "code",
   "execution_count": 16,
   "id": "f982a24c-3fee-41bf-81ac-3099712da305",
   "metadata": {},
   "outputs": [
    {
     "name": "stdout",
     "output_type": "stream",
     "text": [
      "[310.0000423926079]\n",
      "[300.0000410459139]\n",
      "[320.0000437242373]\n"
     ]
    }
   ],
   "source": [
    "for i in res:\n",
    "    print(i.decrypt())"
   ]
  },
  {
   "cell_type": "code",
   "execution_count": 17,
   "id": "c666773d-5eec-4980-88ad-87b28d19aaa1",
   "metadata": {},
   "outputs": [
    {
     "name": "stdout",
     "output_type": "stream",
     "text": [
      "<tenseal.tensors.ckksvector.CKKSVector object at 0x000001C47F011990>\n",
      "<tenseal.tensors.ckksvector.CKKSVector object at 0x000001C47F010E20>\n",
      "<tenseal.tensors.ckksvector.CKKSVector object at 0x000001C47F012170>\n"
     ]
    }
   ],
   "source": [
    "for i in res:\n",
    "    print(i)"
   ]
  },
  {
   "cell_type": "code",
   "execution_count": 18,
   "id": "d632fd90-413c-4cf5-ad46-40a9d2bb6983",
   "metadata": {},
   "outputs": [],
   "source": [
    "for i in range(len(res)):\n",
    "    res[i]=res[i]+1000"
   ]
  },
  {
   "cell_type": "code",
   "execution_count": 19,
   "id": "bcdcbf91-164a-435c-b0dd-a8a19e1750b8",
   "metadata": {},
   "outputs": [
    {
     "name": "stdout",
     "output_type": "stream",
     "text": [
      "[1310.000042392608]\n",
      "<class 'list'>\n",
      "[1310.000042392608]\n",
      "[1300.000041045914]\n",
      "<class 'list'>\n",
      "[1300.000041045914]\n",
      "[1320.0000437242372]\n",
      "<class 'list'>\n",
      "[1320.0000437242372]\n"
     ]
    }
   ],
   "source": [
    "for i in res:\n",
    "    c=i.decrypt()\n",
    "    print(c)\n",
    "    print(type(c))\n",
    "    print(i.decrypt())"
   ]
  },
  {
   "cell_type": "code",
   "execution_count": 20,
   "id": "5c4a72f4-2749-4cc1-b50b-887334aabecb",
   "metadata": {},
   "outputs": [
    {
     "name": "stdout",
     "output_type": "stream",
     "text": [
      "<tenseal.tensors.ckksvector.CKKSVector object at 0x000001C47F013280>\n",
      "<tenseal.tensors.ckksvector.CKKSVector object at 0x000001C47F011990>\n",
      "<tenseal.tensors.ckksvector.CKKSVector object at 0x000001C47F010E20>\n"
     ]
    }
   ],
   "source": [
    "for i in res:\n",
    "    print(i)"
   ]
  },
  {
   "cell_type": "code",
   "execution_count": 21,
   "id": "2c831b21-3951-45fe-b228-b81939169a0b",
   "metadata": {},
   "outputs": [],
   "source": [
    "v=np.array([1,2,3,4])\n",
    "v_enc=ts.ckks_vector(context,v)"
   ]
  },
  {
   "cell_type": "code",
   "execution_count": 22,
   "id": "a1cde0bf-3af8-4608-9cdc-fd87b839ef1e",
   "metadata": {},
   "outputs": [
    {
     "name": "stdout",
     "output_type": "stream",
     "text": [
      "[1.0000000007281677, 2.000000000293567, 2.9999999994981015, 4.000000003334408]\n",
      "<class 'list'>\n"
     ]
    }
   ],
   "source": [
    "r=v_enc.decrypt()\n",
    "print(r)\n",
    "print(type(r))"
   ]
  },
  {
   "cell_type": "code",
   "execution_count": null,
   "id": "96bb7cb8-cae9-4d97-bfd8-b1795a693a45",
   "metadata": {},
   "outputs": [],
   "source": []
  }
 ],
 "metadata": {
  "kernelspec": {
   "display_name": "Python 3 (ipykernel)",
   "language": "python",
   "name": "python3"
  },
  "language_info": {
   "codemirror_mode": {
    "name": "ipython",
    "version": 3
   },
   "file_extension": ".py",
   "mimetype": "text/x-python",
   "name": "python",
   "nbconvert_exporter": "python",
   "pygments_lexer": "ipython3",
   "version": "3.10.0"
  }
 },
 "nbformat": 4,
 "nbformat_minor": 5
}
