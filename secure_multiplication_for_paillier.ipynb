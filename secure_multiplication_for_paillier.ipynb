{
 "cells": [
  {
   "cell_type": "code",
   "execution_count": 1,
   "id": "c17ebd4a-8aac-4e4a-896a-145818e0231a",
   "metadata": {},
   "outputs": [],
   "source": [
    "from phe import paillier"
   ]
  },
  {
   "cell_type": "code",
   "execution_count": 2,
   "id": "e18a66fe-f068-4c74-a5e2-51ac7f0b28a3",
   "metadata": {},
   "outputs": [],
   "source": [
    "public_key,private_key=paillier.generate_paillier_keypair()"
   ]
  },
  {
   "cell_type": "code",
   "execution_count": 3,
   "id": "45402572-052a-4861-80af-a233a952baea",
   "metadata": {},
   "outputs": [],
   "source": [
    "p1=11.126\n",
    "p2=15.743"
   ]
  },
  {
   "cell_type": "code",
   "execution_count": 4,
   "id": "8c842083-2fa3-4a16-993f-ee13b0c8b414",
   "metadata": {},
   "outputs": [],
   "source": [
    "enc_p1=public_key.encrypt(p1)\n",
    "enc_p2=public_key.encrypt(p2)"
   ]
  },
  {
   "cell_type": "code",
   "execution_count": 5,
   "id": "11750b80-1f66-416f-810d-88513d327f89",
   "metadata": {},
   "outputs": [],
   "source": [
    "def decrypted_mul(x,y):\n",
    "    xi=private_key.decrypt(x)\n",
    "    yi=private_key.decrypt(y)\n",
    "    zi=xi*yi\n",
    "    z=public_key.encrypt(zi)\n",
    "    return z"
   ]
  },
  {
   "cell_type": "code",
   "execution_count": 6,
   "id": "ea395a79-00f3-462a-a0f5-844b20b9aed2",
   "metadata": {},
   "outputs": [
    {
     "data": {
      "text/plain": [
       "175.156618"
      ]
     },
     "execution_count": 6,
     "metadata": {},
     "output_type": "execute_result"
    }
   ],
   "source": [
    "ans=decrypted_mul(enc_p1,enc_p2)\n",
    "private_key.decrypt(ans)"
   ]
  },
  {
   "cell_type": "markdown",
   "id": "086b6f44-3470-41cd-a296-baf92776f533",
   "metadata": {},
   "source": [
    "#### extra layer security:"
   ]
  },
  {
   "cell_type": "code",
   "execution_count": 7,
   "id": "cae312c8-ec0a-4d69-90cd-75e572b362cb",
   "metadata": {},
   "outputs": [],
   "source": [
    "def security_for_mul(X,Y):\n",
    "    random_num1=3.7765\n",
    "    random_num2=5.8965\n",
    "    random_mul=random_num1*random_num2\n",
    "    add1=X*random_num2\n",
    "    add2=Y*random_num1\n",
    "    add_on=random_mul+add1+add2\n",
    "    add_on=add_on*(-1)\n",
    "    X=X+random_num1\n",
    "    Y=Y+random_num2\n",
    "    ans=decrypted_mul(X,Y)\n",
    "    ans=ans+add_on\n",
    "    return ans"
   ]
  },
  {
   "cell_type": "code",
   "execution_count": 8,
   "id": "94f21d88-6de4-4ea6-8e92-99aefd3cc2e5",
   "metadata": {},
   "outputs": [
    {
     "data": {
      "text/plain": [
       "175.15661799999995"
      ]
     },
     "execution_count": 8,
     "metadata": {},
     "output_type": "execute_result"
    }
   ],
   "source": [
    "ans=security_for_mul(enc_p1,enc_p2)\n",
    "private_key.decrypt(ans)"
   ]
  },
  {
   "cell_type": "code",
   "execution_count": null,
   "id": "199774c8-97c4-43a7-bf46-925c37cc41a8",
   "metadata": {},
   "outputs": [],
   "source": []
  }
 ],
 "metadata": {
  "kernelspec": {
   "display_name": "Python 3 (ipykernel)",
   "language": "python",
   "name": "python3"
  },
  "language_info": {
   "codemirror_mode": {
    "name": "ipython",
    "version": 3
   },
   "file_extension": ".py",
   "mimetype": "text/x-python",
   "name": "python",
   "nbconvert_exporter": "python",
   "pygments_lexer": "ipython3",
   "version": "3.12.3"
  }
 },
 "nbformat": 4,
 "nbformat_minor": 5
}
