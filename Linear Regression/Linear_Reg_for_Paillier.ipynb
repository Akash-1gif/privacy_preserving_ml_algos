{
 "cells": [
  {
   "cell_type": "code",
   "execution_count": 1,
   "id": "b8265ffa-7144-49cc-b409-4e3af8e65806",
   "metadata": {},
   "outputs": [],
   "source": [
    "import numpy as np\n",
    "from sklearn.model_selection import train_test_split\n",
    "from sklearn import datasets\n",
    "import matplotlib.pyplot as plt\n",
    "plt.style.use(\"dark_background\")"
   ]
  },
  {
   "cell_type": "markdown",
   "id": "2c7b62ec-56f2-4afd-9427-55bbcbdfef7f",
   "metadata": {},
   "source": [
    "### Fetching data:"
   ]
  },
  {
   "cell_type": "code",
   "execution_count": 2,
   "id": "07c7b9a1-2dc3-4411-936f-b8a5bf4b06c1",
   "metadata": {},
   "outputs": [],
   "source": [
    "X, y = datasets.make_regression(n_samples=100, n_features=1, noise=20, random_state=1234)\n",
    "X_train, X_test, y_train, y_test = train_test_split(X, y, test_size=0.2, random_state=4)"
   ]
  },
  {
   "cell_type": "markdown",
   "id": "e3ebd9b2-49a5-45e6-ad9a-187024b6c3f1",
   "metadata": {},
   "source": [
    "### Displaying data on 2D plane:"
   ]
  },
  {
   "cell_type": "code",
   "execution_count": 3,
   "id": "e67d3572-9046-47be-a6c3-c3765f3bc70a",
   "metadata": {},
   "outputs": [
    {
     "data": {
      "image/png": "[encoded data removed]",
      "text/plain": [
       "<Figure size 576x432 with 1 Axes>"
      ]
     },
     "metadata": {
      "needs_background": "dark"
     },
     "output_type": "display_data"
    }
   ],
   "source": [
    "fig=plt.figure(figsize=(8,6))\n",
    "plt.scatter(X[:,0],y)\n",
    "plt.show()"
   ]
  },
  {
   "cell_type": "markdown",
   "id": "a9fb146a-7548-47f8-b83e-ce2978428727",
   "metadata": {},
   "source": [
    "on X axis -> independent variables values, \n",
    "on Y axis -> dependent variable values"
   ]
  },
  {
   "cell_type": "markdown",
   "id": "79e47e83-92f7-4302-82a1-dc7054824af3",
   "metadata": {},
   "source": [
    "##### Appending 1 to each instance/data point in order to calculate bias:"
   ]
  },
  {
   "cell_type": "code",
   "execution_count": 4,
   "id": "1db0d53a-f8a1-4113-89c7-ba545fa642bd",
   "metadata": {},
   "outputs": [
    {
     "data": {
      "text/plain": [
       "array([[ 1.00000000e+00,  3.61419367e-02],\n",
       "       [ 1.00000000e+00,  9.84919842e-01],\n",
       "       [ 1.00000000e+00,  1.82891913e-02],\n",
       "       [ 1.00000000e+00, -1.22091575e-01],\n",
       "       [ 1.00000000e+00,  2.15268581e-01],\n",
       "       [ 1.00000000e+00, -1.19097569e+00],\n",
       "       [ 1.00000000e+00, -3.12651896e-01],\n",
       "       [ 1.00000000e+00,  5.65738306e-01],\n",
       "       [ 1.00000000e+00,  2.00784295e+00],\n",
       "       [ 1.00000000e+00,  3.07968855e-01],\n",
       "       [ 1.00000000e+00,  1.15003572e+00],\n",
       "       [ 1.00000000e+00,  1.39198619e+00],\n",
       "       [ 1.00000000e+00, -2.02646325e-01],\n",
       "       [ 1.00000000e+00,  1.64529543e-01],\n",
       "       [ 1.00000000e+00, -9.74236334e-01],\n",
       "       [ 1.00000000e+00,  3.95126867e-02],\n",
       "       [ 1.00000000e+00,  6.31979446e-01],\n",
       "       [ 1.00000000e+00,  1.04593826e+00],\n",
       "       [ 1.00000000e+00,  2.11883387e-01],\n",
       "       [ 1.00000000e+00, -3.56351666e+00],\n",
       "       [ 1.00000000e+00,  7.67368736e-01],\n",
       "       [ 1.00000000e+00,  1.43270697e+00],\n",
       "       [ 1.00000000e+00,  1.93421376e-01],\n",
       "       [ 1.00000000e+00,  1.05896919e+00],\n",
       "       [ 1.00000000e+00, -2.40045363e+00],\n",
       "       [ 1.00000000e+00, -5.48242449e-01],\n",
       "       [ 1.00000000e+00,  2.39096052e+00],\n",
       "       [ 1.00000000e+00,  1.56963721e-02],\n",
       "       [ 1.00000000e+00, -2.08498763e-01],\n",
       "       [ 1.00000000e+00,  4.05453412e-01],\n",
       "       [ 1.00000000e+00, -1.44619508e-01],\n",
       "       [ 1.00000000e+00, -2.02125482e+00],\n",
       "       [ 1.00000000e+00, -3.99964581e-01],\n",
       "       [ 1.00000000e+00,  8.63717292e-01],\n",
       "       [ 1.00000000e+00,  3.54020332e-01],\n",
       "       [ 1.00000000e+00, -8.19470518e-02],\n",
       "       [ 1.00000000e+00,  5.23507968e-01],\n",
       "       [ 1.00000000e+00, -4.69305285e-01],\n",
       "       [ 1.00000000e+00, -5.11881309e-01],\n",
       "       [ 1.00000000e+00, -1.54690555e+00],\n",
       "       [ 1.00000000e+00,  1.54565880e+00],\n",
       "       [ 1.00000000e+00,  1.31815155e+00],\n",
       "       [ 1.00000000e+00, -5.66445930e-01],\n",
       "       [ 1.00000000e+00,  2.03060362e+00],\n",
       "       [ 1.00000000e+00, -3.97840228e-01],\n",
       "       [ 1.00000000e+00, -5.84718211e-01],\n",
       "       [ 1.00000000e+00, -1.00918200e-01],\n",
       "       [ 1.00000000e+00,  2.11836468e-03],\n",
       "       [ 1.00000000e+00,  1.52630552e-01],\n",
       "       [ 1.00000000e+00,  2.70835849e-01],\n",
       "       [ 1.00000000e+00, -2.07497760e+00],\n",
       "       [ 1.00000000e+00, -7.85435212e-01],\n",
       "       [ 1.00000000e+00, -1.81702723e+00],\n",
       "       [ 1.00000000e+00, -7.20588733e-01],\n",
       "       [ 1.00000000e+00,  6.75554085e-01],\n",
       "       [ 1.00000000e+00,  8.59588414e-01],\n",
       "       [ 1.00000000e+00, -1.36794833e-01],\n",
       "       [ 1.00000000e+00,  8.41674713e-01],\n",
       "       [ 1.00000000e+00,  7.55413982e-01],\n",
       "       [ 1.00000000e+00, -7.03448771e-02],\n",
       "       [ 1.00000000e+00,  9.53324128e-01],\n",
       "       [ 1.00000000e+00, -3.55130253e-02],\n",
       "       [ 1.00000000e+00, -1.83108540e-01],\n",
       "       [ 1.00000000e+00,  5.28288145e-01],\n",
       "       [ 1.00000000e+00, -1.15265911e+00],\n",
       "       [ 1.00000000e+00, -3.34077366e-01],\n",
       "       [ 1.00000000e+00,  7.98423130e-02],\n",
       "       [ 1.00000000e+00,  3.37437654e-01],\n",
       "       [ 1.00000000e+00,  8.16593927e-01],\n",
       "       [ 1.00000000e+00,  2.26962542e-01],\n",
       "       [ 1.00000000e+00, -3.22794806e-01],\n",
       "       [ 1.00000000e+00, -1.44581008e+00],\n",
       "       [ 1.00000000e+00, -1.02785056e+00],\n",
       "       [ 1.00000000e+00,  4.62059737e-01],\n",
       "       [ 1.00000000e+00, -1.14263129e+00],\n",
       "       [ 1.00000000e+00, -4.30095691e-01],\n",
       "       [ 1.00000000e+00,  1.04757857e+00],\n",
       "       [ 1.00000000e+00, -1.06898878e+00],\n",
       "       [ 1.00000000e+00,  1.32115819e+00],\n",
       "       [ 1.00000000e+00, -6.55969344e-01]])"
      ]
     },
     "execution_count": 4,
     "metadata": {},
     "output_type": "execute_result"
    }
   ],
   "source": [
    "X_train_augmented = np.hstack((np.ones((X_train.shape[0], 1)), X_train))\n",
    "X_train_augmented"
   ]
  },
  {
   "cell_type": "code",
   "execution_count": 5,
   "id": "753bf8c5-8838-4fa0-ac90-771ffa140a22",
   "metadata": {},
   "outputs": [],
   "source": [
    "X_train_T = X_train_augmented.T"
   ]
  },
  {
   "cell_type": "markdown",
   "id": "3e20b33f-a80c-4cd8-8dae-fdc6c7449ddc",
   "metadata": {},
   "source": [
    "#### Introducing Noise:"
   ]
  },
  {
   "cell_type": "code",
   "execution_count": 6,
   "id": "751cf6bf-1a7e-46ac-b466-11a092ee611e",
   "metadata": {},
   "outputs": [],
   "source": [
    "noise=1234\n",
    "X_train_T1=X_train_T*noise"
   ]
  },
  {
   "cell_type": "markdown",
   "id": "d077d9ba-d0a3-43f6-a4ac-04858424a4fb",
   "metadata": {},
   "source": [
    "### Encrypting data:"
   ]
  },
  {
   "cell_type": "code",
   "execution_count": 7,
   "id": "0f2294a1-c29b-459a-8302-a03a5dfc3bfb",
   "metadata": {},
   "outputs": [],
   "source": [
    "from phe import paillier\n",
    "public_key,private_key=paillier.generate_paillier_keypair()"
   ]
  },
  {
   "cell_type": "code",
   "execution_count": 8,
   "id": "7aeddf8b-92de-4bb1-9b2e-b77b26c2d958",
   "metadata": {},
   "outputs": [],
   "source": [
    "enc_X_train=[]\n",
    "for i in X_train_T:\n",
    "    row_in=[]\n",
    "    for j in i:\n",
    "        p=public_key.encrypt(j)\n",
    "        row_in.append(p)\n",
    "    enc_X_train.append(row_in)"
   ]
  },
  {
   "cell_type": "code",
   "execution_count": 9,
   "id": "2354bf67-ac88-44da-9cec-99d94a30da41",
   "metadata": {},
   "outputs": [],
   "source": [
    "enc_y_train=[]\n",
    "for i in y_train:\n",
    "    p=public_key.encrypt(i)\n",
    "    enc_y_train.append(p)"
   ]
  },
  {
   "cell_type": "markdown",
   "id": "a735f6d7-f5c8-46f1-a52f-fc07fc1100a5",
   "metadata": {},
   "source": [
    "### SERVER SIDE CODE:"
   ]
  },
  {
   "cell_type": "code",
   "execution_count": 10,
   "id": "10194c53-fd11-4ebc-997a-c810e0a8211a",
   "metadata": {},
   "outputs": [],
   "source": [
    "XTX=[]\n",
    "for i in enc_X_train:\n",
    "    row_in=[]\n",
    "    for j in X_train_T1:\n",
    "        row_in2=0\n",
    "        for p,q in zip(i,j):\n",
    "            t=p*q\n",
    "            row_in2=row_in2+t\n",
    "        row_in.append(row_in2)\n",
    "    XTX.append(row_in)\n",
    "            "
   ]
  },
  {
   "cell_type": "code",
   "execution_count": 11,
   "id": "ce3d4b4e-cd94-4adf-99c3-9cca89619d16",
   "metadata": {},
   "outputs": [],
   "source": [
    "XTY=[]\n",
    "for i in X_train_T1:\n",
    "    summation=0\n",
    "    for p,q in zip(i,enc_y_train):\n",
    "        t=p*q\n",
    "        summation=summation+t\n",
    "    XTY.append(summation)"
   ]
  },
  {
   "cell_type": "markdown",
   "id": "d62e7c3f-286f-4280-a7ec-34cf6a0510b5",
   "metadata": {},
   "source": [
    "### CLIENT SIDE CODE:"
   ]
  },
  {
   "cell_type": "code",
   "execution_count": 12,
   "id": "8812d5c4-f05a-41ff-8012-04cfbf466f49",
   "metadata": {},
   "outputs": [],
   "source": [
    "XTX_dec=[]\n",
    "for i in XTX:\n",
    "    row_in=[]\n",
    "    for j in i:\n",
    "        p=private_key.decrypt(j)\n",
    "        p=p/noise\n",
    "        row_in.append(p)\n",
    "    XTX_dec.append(row_in)"
   ]
  },
  {
   "cell_type": "code",
   "execution_count": 13,
   "id": "112f49cd-4f3d-420f-b3c9-25ef58455109",
   "metadata": {},
   "outputs": [
    {
     "data": {
      "text/plain": [
       "[[80.0, 1.2495511274108566], [1.2495511274108566, 82.88460721340509]]"
      ]
     },
     "execution_count": 13,
     "metadata": {},
     "output_type": "execute_result"
    }
   ],
   "source": [
    "XTX_dec"
   ]
  },
  {
   "cell_type": "code",
   "execution_count": 14,
   "id": "da08d9a9-a195-4312-b544-dc49879ba49f",
   "metadata": {},
   "outputs": [
    {
     "data": {
      "text/plain": [
       "numpy.ndarray"
      ]
     },
     "execution_count": 14,
     "metadata": {},
     "output_type": "execute_result"
    }
   ],
   "source": [
    "XTX_dec=np.array(XTX_dec)\n",
    "type(XTX_dec)"
   ]
  },
  {
   "cell_type": "code",
   "execution_count": 15,
   "id": "beea2c2e-ec63-4612-a11f-0e74cbe1ff46",
   "metadata": {},
   "outputs": [
    {
     "data": {
      "text/plain": [
       "[182.82934447510516, 7245.8129092568015]"
      ]
     },
     "execution_count": 15,
     "metadata": {},
     "output_type": "execute_result"
    }
   ],
   "source": [
    "XTY_dec=[]\n",
    "for i in XTY:\n",
    "    p=private_key.decrypt(i)\n",
    "    p=p/noise\n",
    "    XTY_dec.append(p)\n",
    "\n",
    "XTY_dec"
   ]
  },
  {
   "cell_type": "code",
   "execution_count": 16,
   "id": "4d98f51c-c8fd-480d-96f5-84176db09411",
   "metadata": {},
   "outputs": [
    {
     "data": {
      "text/plain": [
       "numpy.ndarray"
      ]
     },
     "execution_count": 16,
     "metadata": {},
     "output_type": "execute_result"
    }
   ],
   "source": [
    "XTY_dec=np.array(XTY_dec)\n",
    "type(XTY_dec)"
   ]
  },
  {
   "cell_type": "code",
   "execution_count": 17,
   "id": "90e25079-92ca-406b-8de6-338c50da6e45",
   "metadata": {},
   "outputs": [],
   "source": [
    "XTX_inv = np.linalg.inv(XTX_dec)\n",
    "theta = np.dot(XTX_inv, XTY_dec)"
   ]
  },
  {
   "cell_type": "markdown",
   "id": "427877fc-d8c2-430f-8c33-95c086347c69",
   "metadata": {},
   "source": [
    "### OBTAINED VALUES:"
   ]
  },
  {
   "cell_type": "code",
   "execution_count": 18,
   "id": "6a8c32e5-d1a6-40eb-a7aa-f9e98ce44dd2",
   "metadata": {},
   "outputs": [],
   "source": [
    "bias = theta[0]\n",
    "weights = theta[1:]"
   ]
  },
  {
   "cell_type": "code",
   "execution_count": 19,
   "id": "242de2f2-a3d4-4720-9b6d-545d30aa89ac",
   "metadata": {},
   "outputs": [
    {
     "data": {
      "text/plain": [
       "0.9201288375788539"
      ]
     },
     "execution_count": 19,
     "metadata": {},
     "output_type": "execute_result"
    }
   ],
   "source": [
    "bias"
   ]
  },
  {
   "cell_type": "code",
   "execution_count": 20,
   "id": "1624e04e-cdba-46bf-b823-130dd7b679f3",
   "metadata": {},
   "outputs": [
    {
     "data": {
      "text/plain": [
       "array([87.40661752])"
      ]
     },
     "execution_count": 20,
     "metadata": {},
     "output_type": "execute_result"
    }
   ],
   "source": [
    "weights"
   ]
  },
  {
   "cell_type": "markdown",
   "id": "035db8cb-20b7-4761-99fd-82dce297375c",
   "metadata": {},
   "source": [
    "### Testing:"
   ]
  },
  {
   "cell_type": "code",
   "execution_count": 21,
   "id": "4497fa8e-9bde-4755-abdc-eb70ff780d54",
   "metadata": {},
   "outputs": [],
   "source": [
    "enc_X_test=[]\n",
    "for i in X_test:\n",
    "    row_in=[]\n",
    "    for j in i:\n",
    "        p=public_key.encrypt(j)\n",
    "        row_in.append(p)\n",
    "    enc_X_test.append(row_in)"
   ]
  },
  {
   "cell_type": "code",
   "execution_count": 22,
   "id": "949d787d-a69c-4663-aa8d-bf87d6c30c24",
   "metadata": {},
   "outputs": [
    {
     "data": {
      "text/plain": [
       "[[<phe.paillier.EncryptedNumber at 0x25131006020>],\n",
       " [<phe.paillier.EncryptedNumber at 0x25131004940>],\n",
       " [<phe.paillier.EncryptedNumber at 0x25131006050>],\n",
       " [<phe.paillier.EncryptedNumber at 0x25131004b80>]]"
      ]
     },
     "execution_count": 22,
     "metadata": {},
     "output_type": "execute_result"
    }
   ],
   "source": [
    "enc_X_test[:4]"
   ]
  },
  {
   "cell_type": "code",
   "execution_count": 23,
   "id": "79e114c5-c9bb-4c3b-9e43-50b08fe30135",
   "metadata": {},
   "outputs": [],
   "source": [
    "predictions=[]\n",
    "for i in enc_X_test:\n",
    "    pred=0\n",
    "    for j,k in zip(i,weights):\n",
    "        p=j*k\n",
    "        pred=pred+p\n",
    "    pred=pred+bias\n",
    "    predictions.append(private_key.decrypt(pred))"
   ]
  },
  {
   "cell_type": "code",
   "execution_count": 24,
   "id": "22d042d6-7e95-4ada-bc31-ef37aa3c0af3",
   "metadata": {},
   "outputs": [
    {
     "data": {
      "text/plain": [
       "[22.57880686613582,\n",
       " -54.71623765730707,\n",
       " 41.511091173831005,\n",
       " 87.62277541575808,\n",
       " -195.10537717706566,\n",
       " 49.29435204981532,\n",
       " -77.49731107793603,\n",
       " 11.82086628773719,\n",
       " 26.188677551747578,\n",
       " 7.5804770670639465,\n",
       " -80.04062767401058,\n",
       " 62.517374907700294,\n",
       " 78.46404064146893,\n",
       " 62.47433598931837,\n",
       " -29.21470230524052,\n",
       " 42.12668188074821,\n",
       " 91.28115406285822,\n",
       " -121.62161355576431,\n",
       " 116.3935020762197,\n",
       " 74.42986290946634]"
      ]
     },
     "execution_count": 24,
     "metadata": {},
     "output_type": "execute_result"
    }
   ],
   "source": [
    "predictions"
   ]
  },
  {
   "cell_type": "markdown",
   "id": "8fa03259-64f4-4d65-b334-ca98da61dc2c",
   "metadata": {},
   "source": [
    "### Comparing actual values with Predicted values:"
   ]
  },
  {
   "cell_type": "code",
   "execution_count": 25,
   "id": "faa2a575-b6db-4144-b606-611842841f18",
   "metadata": {
    "scrolled": true
   },
   "outputs": [
    {
     "name": "stdout",
     "output_type": "stream",
     "text": [
      "-6.400439740897028 22.57880686613582\n",
      "-75.83288846408419 -54.71623765730707\n",
      "43.02438482670904 41.511091173831005\n",
      "81.72162477765585 87.62277541575808\n",
      "-197.9801503584435 -195.10537717706566\n",
      "32.09705138165424 49.29435204981532\n",
      "-102.66748011552487 -77.49731107793603\n",
      "15.35071412820563 11.82086628773719\n",
      "6.892323119468568 26.188677551747578\n",
      "26.28851287900197 7.5804770670639465\n",
      "-80.36899984455164 -80.04062767401058\n",
      "30.84591703151775 62.517374907700294\n",
      "95.06862969774186 78.46404064146893\n",
      "69.43879729019481 62.47433598931837\n",
      "-45.80868282540775 -29.21470230524052\n",
      "63.18804079600157 42.12668188074821\n",
      "91.41603362148403 91.28115406285822\n",
      "-108.37740214379002 -121.62161355576431\n",
      "142.75464960351508 116.3935020762197\n",
      "87.77205622112535 74.42986290946634\n"
     ]
    }
   ],
   "source": [
    "for a,b in zip(y_test,predictions):\n",
    "    print(a,b)"
   ]
  },
  {
   "cell_type": "markdown",
   "id": "dcb634af-5f25-46fc-971f-d6cc458ec67a",
   "metadata": {},
   "source": [
    "### Calculating Mean Square Error of Predicted Values:"
   ]
  },
  {
   "cell_type": "code",
   "execution_count": 26,
   "id": "df8ae2a3-96c8-4cd4-bc60-198dde11511c",
   "metadata": {},
   "outputs": [
    {
     "name": "stdout",
     "output_type": "stream",
     "text": [
      "304.4934833078535\n"
     ]
    }
   ],
   "source": [
    "def mse(y_test, enc_predictions):\n",
    "    return np.mean((y_test-enc_predictions)**2)\n",
    "\n",
    "mse = mse(y_test,predictions)\n",
    "print(mse)"
   ]
  },
  {
   "cell_type": "markdown",
   "id": "4c9596a5-6eda-4f11-b533-ff831ebb4b14",
   "metadata": {},
   "source": [
    "### Displaying Predicted vs Actual Values on 2D plane:"
   ]
  },
  {
   "cell_type": "code",
   "execution_count": 27,
   "id": "4863ab87-35ee-4409-a33c-0c0581a367c2",
   "metadata": {},
   "outputs": [
    {
     "data": {
      "image/png": "[encoded data removed]",
      "text/plain": [
       "<Figure size 432x288 with 1 Axes>"
      ]
     },
     "metadata": {
      "needs_background": "dark"
     },
     "output_type": "display_data"
    }
   ],
   "source": [
    "plt.scatter(X_test,y_test,color='green',label='actual data')\n",
    "plt.plot(X_test,predictions,color='red',linewidth=2,label='Prediction')\n",
    "plt.legend()\n",
    "plt.show()"
   ]
  }
 ],
 "metadata": {
  "kernelspec": {
   "display_name": "Python 3 (ipykernel)",
   "language": "python",
   "name": "python3"
  },
  "language_info": {
   "codemirror_mode": {
    "name": "ipython",
    "version": 3
   },
   "file_extension": ".py",
   "mimetype": "text/x-python",
   "name": "python",
   "nbconvert_exporter": "python",
   "pygments_lexer": "ipython3",
   "version": "3.10.0"
  }
 },
 "nbformat": 4,
 "nbformat_minor": 5
}
