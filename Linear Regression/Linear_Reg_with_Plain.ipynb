{
 "cells": [
  {
   "cell_type": "code",
   "execution_count": 1,
   "id": "9a267c9f-95de-4c12-a8ef-1ab7e90b9333",
   "metadata": {},
   "outputs": [],
   "source": [
    "import numpy as np\n",
    "from sklearn.model_selection import train_test_split\n",
    "from sklearn import datasets\n",
    "import matplotlib.pyplot as plt\n",
    "plt.style.use(\"dark_background\")"
   ]
  },
  {
   "cell_type": "code",
   "execution_count": 2,
   "id": "e34e947b-9bd8-4db8-8ff3-2892cefbb6a0",
   "metadata": {},
   "outputs": [],
   "source": [
    "X, y = datasets.make_regression(n_samples=100, n_features=1, noise=20, random_state=1234)\n",
    "X_train, X_test, y_train, y_test = train_test_split(X, y, test_size=0.2, random_state=4)"
   ]
  },
  {
   "cell_type": "code",
   "execution_count": 3,
   "id": "48c092ea-e4c6-4303-ad4b-2c9fc2f40b73",
   "metadata": {},
   "outputs": [
    {
     "data": {
      "image/png": "[encoded data removed]",
      "text/plain": [
       "<Figure size 576x432 with 1 Axes>"
      ]
     },
     "metadata": {
      "needs_background": "dark"
     },
     "output_type": "display_data"
    }
   ],
   "source": [
    "fig=plt.figure(figsize=(8,6))\n",
    "plt.scatter(X[:,0],y)\n",
    "plt.show()"
   ]
  },
  {
   "cell_type": "code",
   "execution_count": 4,
   "id": "83d33167-7e5d-4056-b519-e0f26bf78cbf",
   "metadata": {},
   "outputs": [
    {
     "data": {
      "text/plain": [
       "array([[ 1.00000000e+00,  3.61419367e-02],\n",
       "       [ 1.00000000e+00,  9.84919842e-01],\n",
       "       [ 1.00000000e+00,  1.82891913e-02],\n",
       "       [ 1.00000000e+00, -1.22091575e-01],\n",
       "       [ 1.00000000e+00,  2.15268581e-01],\n",
       "       [ 1.00000000e+00, -1.19097569e+00],\n",
       "       [ 1.00000000e+00, -3.12651896e-01],\n",
       "       [ 1.00000000e+00,  5.65738306e-01],\n",
       "       [ 1.00000000e+00,  2.00784295e+00],\n",
       "       [ 1.00000000e+00,  3.07968855e-01],\n",
       "       [ 1.00000000e+00,  1.15003572e+00],\n",
       "       [ 1.00000000e+00,  1.39198619e+00],\n",
       "       [ 1.00000000e+00, -2.02646325e-01],\n",
       "       [ 1.00000000e+00,  1.64529543e-01],\n",
       "       [ 1.00000000e+00, -9.74236334e-01],\n",
       "       [ 1.00000000e+00,  3.95126867e-02],\n",
       "       [ 1.00000000e+00,  6.31979446e-01],\n",
       "       [ 1.00000000e+00,  1.04593826e+00],\n",
       "       [ 1.00000000e+00,  2.11883387e-01],\n",
       "       [ 1.00000000e+00, -3.56351666e+00],\n",
       "       [ 1.00000000e+00,  7.67368736e-01],\n",
       "       [ 1.00000000e+00,  1.43270697e+00],\n",
       "       [ 1.00000000e+00,  1.93421376e-01],\n",
       "       [ 1.00000000e+00,  1.05896919e+00],\n",
       "       [ 1.00000000e+00, -2.40045363e+00],\n",
       "       [ 1.00000000e+00, -5.48242449e-01],\n",
       "       [ 1.00000000e+00,  2.39096052e+00],\n",
       "       [ 1.00000000e+00,  1.56963721e-02],\n",
       "       [ 1.00000000e+00, -2.08498763e-01],\n",
       "       [ 1.00000000e+00,  4.05453412e-01],\n",
       "       [ 1.00000000e+00, -1.44619508e-01],\n",
       "       [ 1.00000000e+00, -2.02125482e+00],\n",
       "       [ 1.00000000e+00, -3.99964581e-01],\n",
       "       [ 1.00000000e+00,  8.63717292e-01],\n",
       "       [ 1.00000000e+00,  3.54020332e-01],\n",
       "       [ 1.00000000e+00, -8.19470518e-02],\n",
       "       [ 1.00000000e+00,  5.23507968e-01],\n",
       "       [ 1.00000000e+00, -4.69305285e-01],\n",
       "       [ 1.00000000e+00, -5.11881309e-01],\n",
       "       [ 1.00000000e+00, -1.54690555e+00],\n",
       "       [ 1.00000000e+00,  1.54565880e+00],\n",
       "       [ 1.00000000e+00,  1.31815155e+00],\n",
       "       [ 1.00000000e+00, -5.66445930e-01],\n",
       "       [ 1.00000000e+00,  2.03060362e+00],\n",
       "       [ 1.00000000e+00, -3.97840228e-01],\n",
       "       [ 1.00000000e+00, -5.84718211e-01],\n",
       "       [ 1.00000000e+00, -1.00918200e-01],\n",
       "       [ 1.00000000e+00,  2.11836468e-03],\n",
       "       [ 1.00000000e+00,  1.52630552e-01],\n",
       "       [ 1.00000000e+00,  2.70835849e-01],\n",
       "       [ 1.00000000e+00, -2.07497760e+00],\n",
       "       [ 1.00000000e+00, -7.85435212e-01],\n",
       "       [ 1.00000000e+00, -1.81702723e+00],\n",
       "       [ 1.00000000e+00, -7.20588733e-01],\n",
       "       [ 1.00000000e+00,  6.75554085e-01],\n",
       "       [ 1.00000000e+00,  8.59588414e-01],\n",
       "       [ 1.00000000e+00, -1.36794833e-01],\n",
       "       [ 1.00000000e+00,  8.41674713e-01],\n",
       "       [ 1.00000000e+00,  7.55413982e-01],\n",
       "       [ 1.00000000e+00, -7.03448771e-02],\n",
       "       [ 1.00000000e+00,  9.53324128e-01],\n",
       "       [ 1.00000000e+00, -3.55130253e-02],\n",
       "       [ 1.00000000e+00, -1.83108540e-01],\n",
       "       [ 1.00000000e+00,  5.28288145e-01],\n",
       "       [ 1.00000000e+00, -1.15265911e+00],\n",
       "       [ 1.00000000e+00, -3.34077366e-01],\n",
       "       [ 1.00000000e+00,  7.98423130e-02],\n",
       "       [ 1.00000000e+00,  3.37437654e-01],\n",
       "       [ 1.00000000e+00,  8.16593927e-01],\n",
       "       [ 1.00000000e+00,  2.26962542e-01],\n",
       "       [ 1.00000000e+00, -3.22794806e-01],\n",
       "       [ 1.00000000e+00, -1.44581008e+00],\n",
       "       [ 1.00000000e+00, -1.02785056e+00],\n",
       "       [ 1.00000000e+00,  4.62059737e-01],\n",
       "       [ 1.00000000e+00, -1.14263129e+00],\n",
       "       [ 1.00000000e+00, -4.30095691e-01],\n",
       "       [ 1.00000000e+00,  1.04757857e+00],\n",
       "       [ 1.00000000e+00, -1.06898878e+00],\n",
       "       [ 1.00000000e+00,  1.32115819e+00],\n",
       "       [ 1.00000000e+00, -6.55969344e-01]])"
      ]
     },
     "execution_count": 4,
     "metadata": {},
     "output_type": "execute_result"
    }
   ],
   "source": [
    "X_train_augmented = np.hstack((np.ones((X_train.shape[0], 1)), X_train))\n",
    "X_train_augmented"
   ]
  },
  {
   "cell_type": "code",
   "execution_count": 5,
   "id": "0a81a87a-2e0a-4778-9dea-5eba5072709c",
   "metadata": {},
   "outputs": [
    {
     "data": {
      "text/plain": [
       "(80, 2)"
      ]
     },
     "execution_count": 5,
     "metadata": {},
     "output_type": "execute_result"
    }
   ],
   "source": [
    "X_train_augmented.shape"
   ]
  },
  {
   "cell_type": "code",
   "execution_count": 7,
   "id": "5f4da626-44cb-4f7d-9247-43b6f04dc940",
   "metadata": {},
   "outputs": [],
   "source": [
    "import tenseal as ts\n",
    "context = ts.context(\n",
    "    ts.SCHEME_TYPE.CKKS,\n",
    "    poly_modulus_degree=8192,\n",
    "    coeff_mod_bit_sizes=[60, 40, 40, 60]\n",
    ")\n",
    "context.generate_galois_keys()\n",
    "context.global_scale = 2**40"
   ]
  },
  {
   "cell_type": "code",
   "execution_count": 8,
   "id": "a56d3645-c5c9-495f-85e8-58ce4ff2fd00",
   "metadata": {},
   "outputs": [],
   "source": [
    "X_train_T = X_train_augmented.T"
   ]
  },
  {
   "cell_type": "code",
   "execution_count": 9,
   "id": "a160b5cc-b1fd-4f80-b104-9fb66010d62a",
   "metadata": {},
   "outputs": [
    {
     "data": {
      "text/plain": [
       "array([[ 1.00000000e+00,  1.00000000e+00,  1.00000000e+00,\n",
       "         1.00000000e+00,  1.00000000e+00,  1.00000000e+00,\n",
       "         1.00000000e+00,  1.00000000e+00,  1.00000000e+00,\n",
       "         1.00000000e+00,  1.00000000e+00,  1.00000000e+00,\n",
       "         1.00000000e+00,  1.00000000e+00,  1.00000000e+00,\n",
       "         1.00000000e+00,  1.00000000e+00,  1.00000000e+00,\n",
       "         1.00000000e+00,  1.00000000e+00,  1.00000000e+00,\n",
       "         1.00000000e+00,  1.00000000e+00,  1.00000000e+00,\n",
       "         1.00000000e+00,  1.00000000e+00,  1.00000000e+00,\n",
       "         1.00000000e+00,  1.00000000e+00,  1.00000000e+00,\n",
       "         1.00000000e+00,  1.00000000e+00,  1.00000000e+00,\n",
       "         1.00000000e+00,  1.00000000e+00,  1.00000000e+00,\n",
       "         1.00000000e+00,  1.00000000e+00,  1.00000000e+00,\n",
       "         1.00000000e+00,  1.00000000e+00,  1.00000000e+00,\n",
       "         1.00000000e+00,  1.00000000e+00,  1.00000000e+00,\n",
       "         1.00000000e+00,  1.00000000e+00,  1.00000000e+00,\n",
       "         1.00000000e+00,  1.00000000e+00,  1.00000000e+00,\n",
       "         1.00000000e+00,  1.00000000e+00,  1.00000000e+00,\n",
       "         1.00000000e+00,  1.00000000e+00,  1.00000000e+00,\n",
       "         1.00000000e+00,  1.00000000e+00,  1.00000000e+00,\n",
       "         1.00000000e+00,  1.00000000e+00,  1.00000000e+00,\n",
       "         1.00000000e+00,  1.00000000e+00,  1.00000000e+00,\n",
       "         1.00000000e+00,  1.00000000e+00,  1.00000000e+00,\n",
       "         1.00000000e+00,  1.00000000e+00,  1.00000000e+00,\n",
       "         1.00000000e+00,  1.00000000e+00,  1.00000000e+00,\n",
       "         1.00000000e+00,  1.00000000e+00,  1.00000000e+00,\n",
       "         1.00000000e+00,  1.00000000e+00],\n",
       "       [ 3.61419367e-02,  9.84919842e-01,  1.82891913e-02,\n",
       "        -1.22091575e-01,  2.15268581e-01, -1.19097569e+00,\n",
       "        -3.12651896e-01,  5.65738306e-01,  2.00784295e+00,\n",
       "         3.07968855e-01,  1.15003572e+00,  1.39198619e+00,\n",
       "        -2.02646325e-01,  1.64529543e-01, -9.74236334e-01,\n",
       "         3.95126867e-02,  6.31979446e-01,  1.04593826e+00,\n",
       "         2.11883387e-01, -3.56351666e+00,  7.67368736e-01,\n",
       "         1.43270697e+00,  1.93421376e-01,  1.05896919e+00,\n",
       "        -2.40045363e+00, -5.48242449e-01,  2.39096052e+00,\n",
       "         1.56963721e-02, -2.08498763e-01,  4.05453412e-01,\n",
       "        -1.44619508e-01, -2.02125482e+00, -3.99964581e-01,\n",
       "         8.63717292e-01,  3.54020332e-01, -8.19470518e-02,\n",
       "         5.23507968e-01, -4.69305285e-01, -5.11881309e-01,\n",
       "        -1.54690555e+00,  1.54565880e+00,  1.31815155e+00,\n",
       "        -5.66445930e-01,  2.03060362e+00, -3.97840228e-01,\n",
       "        -5.84718211e-01, -1.00918200e-01,  2.11836468e-03,\n",
       "         1.52630552e-01,  2.70835849e-01, -2.07497760e+00,\n",
       "        -7.85435212e-01, -1.81702723e+00, -7.20588733e-01,\n",
       "         6.75554085e-01,  8.59588414e-01, -1.36794833e-01,\n",
       "         8.41674713e-01,  7.55413982e-01, -7.03448771e-02,\n",
       "         9.53324128e-01, -3.55130253e-02, -1.83108540e-01,\n",
       "         5.28288145e-01, -1.15265911e+00, -3.34077366e-01,\n",
       "         7.98423130e-02,  3.37437654e-01,  8.16593927e-01,\n",
       "         2.26962542e-01, -3.22794806e-01, -1.44581008e+00,\n",
       "        -1.02785056e+00,  4.62059737e-01, -1.14263129e+00,\n",
       "        -4.30095691e-01,  1.04757857e+00, -1.06898878e+00,\n",
       "         1.32115819e+00, -6.55969344e-01]])"
      ]
     },
     "execution_count": 9,
     "metadata": {},
     "output_type": "execute_result"
    }
   ],
   "source": [
    "X_train_T"
   ]
  },
  {
   "cell_type": "code",
   "execution_count": 10,
   "id": "fd00f710-ba90-4ce1-8fe7-1c32b9f0b010",
   "metadata": {},
   "outputs": [],
   "source": [
    "XTX = np.dot(X_train_T, X_train_augmented)"
   ]
  },
  {
   "cell_type": "code",
   "execution_count": 11,
   "id": "8b839b98-f689-498e-85d3-a58f68f67f47",
   "metadata": {},
   "outputs": [
    {
     "data": {
      "text/plain": [
       "array([[80.        ,  1.24955113],\n",
       "       [ 1.24955113, 82.88460721]])"
      ]
     },
     "execution_count": 11,
     "metadata": {},
     "output_type": "execute_result"
    }
   ],
   "source": [
    "XTX"
   ]
  },
  {
   "cell_type": "code",
   "execution_count": 12,
   "id": "a2dea4c0-c308-4d51-b137-7936a9b6fc8b",
   "metadata": {},
   "outputs": [],
   "source": [
    "XTY = np.dot(X_train_T, y_train)"
   ]
  },
  {
   "cell_type": "code",
   "execution_count": 13,
   "id": "6de67f82-fb30-4ebb-b1b0-6e1f51f13e9f",
   "metadata": {},
   "outputs": [],
   "source": [
    "# Client-side code to find weights (including bias)\n",
    "XTX_inv = np.linalg.inv(XTX)\n",
    "theta = np.dot(XTX_inv, XTY)"
   ]
  },
  {
   "cell_type": "code",
   "execution_count": 14,
   "id": "4258e61f-9c1b-43ce-af7d-5a05ebb4f9e4",
   "metadata": {},
   "outputs": [],
   "source": [
    "bias = theta[0]\n",
    "weights = theta[1:]"
   ]
  },
  {
   "cell_type": "code",
   "execution_count": 15,
   "id": "c11fb9d8-e7d0-4189-aef3-8182efca2a15",
   "metadata": {},
   "outputs": [
    {
     "data": {
      "text/plain": [
       "0.9201288375788544"
      ]
     },
     "execution_count": 15,
     "metadata": {},
     "output_type": "execute_result"
    }
   ],
   "source": [
    "bias"
   ]
  },
  {
   "cell_type": "code",
   "execution_count": 16,
   "id": "3b3d7d57-15c4-45ce-b6da-1a89ae0cd60f",
   "metadata": {},
   "outputs": [
    {
     "data": {
      "text/plain": [
       "array([87.40661752])"
      ]
     },
     "execution_count": 16,
     "metadata": {},
     "output_type": "execute_result"
    }
   ],
   "source": [
    "weights"
   ]
  },
  {
   "cell_type": "code",
   "execution_count": 17,
   "id": "ca810b54-6b31-48fa-80fe-6f491f9de3e9",
   "metadata": {},
   "outputs": [
    {
     "data": {
      "text/plain": [
       "[22.578806866135803,\n",
       " -54.71623765730702,\n",
       " 41.51109117383098,\n",
       " 87.62277541575803,\n",
       " -195.1053771770655,\n",
       " 49.29435204981529,\n",
       " -77.49731107793596,\n",
       " 11.82086628773718,\n",
       " 26.18867755174756,\n",
       " 7.580477067063941,\n",
       " -80.04062767401052,\n",
       " 62.51737490770025,\n",
       " 78.46404064146887,\n",
       " 62.47433598931833,\n",
       " -29.214702305240497,\n",
       " 42.12668188074818,\n",
       " 91.28115406285815,\n",
       " -121.62161355576421,\n",
       " 116.39350207621962,\n",
       " 74.42986290946628]"
      ]
     },
     "execution_count": 17,
     "metadata": {},
     "output_type": "execute_result"
    }
   ],
   "source": [
    "weights=np.array(weights)\n",
    "enc_predictions=[]\n",
    "for i in X_test:\n",
    "    t=i.dot(weights)\n",
    "    t=t+bias\n",
    "    enc_predictions.append(t)\n",
    "\n",
    "enc_predictions"
   ]
  },
  {
   "cell_type": "code",
   "execution_count": 18,
   "id": "b913023c-05d1-41a2-992a-2208d3d0a03d",
   "metadata": {},
   "outputs": [
    {
     "name": "stdout",
     "output_type": "stream",
     "text": [
      "-6.400439740897028 22.578806866135803\n",
      "-75.83288846408419 -54.71623765730702\n",
      "43.02438482670904 41.51109117383098\n",
      "81.72162477765585 87.62277541575803\n",
      "-197.9801503584435 -195.1053771770655\n",
      "32.09705138165424 49.29435204981529\n",
      "-102.66748011552487 -77.49731107793596\n",
      "15.35071412820563 11.82086628773718\n",
      "6.892323119468568 26.18867755174756\n",
      "26.28851287900197 7.580477067063941\n",
      "-80.36899984455164 -80.04062767401052\n",
      "30.84591703151775 62.51737490770025\n",
      "95.06862969774186 78.46404064146887\n",
      "69.43879729019481 62.47433598931833\n",
      "-45.80868282540775 -29.214702305240497\n",
      "63.18804079600157 42.12668188074818\n",
      "91.41603362148403 91.28115406285815\n",
      "-108.37740214379002 -121.62161355576421\n",
      "142.75464960351508 116.39350207621962\n",
      "87.77205622112535 74.42986290946628\n"
     ]
    }
   ],
   "source": [
    "for a,b in zip(y_test,enc_predictions):\n",
    "    print(a,b)"
   ]
  },
  {
   "cell_type": "code",
   "execution_count": 20,
   "id": "eba31662-32dc-4806-a087-1e53e997d59f",
   "metadata": {},
   "outputs": [
    {
     "name": "stdout",
     "output_type": "stream",
     "text": [
      "304.49348330785404\n"
     ]
    }
   ],
   "source": [
    "def mse(y_test, enc_predictions):\n",
    "    return np.mean((y_test-enc_predictions)**2)\n",
    "\n",
    "mse = mse(y_test, enc_predictions)\n",
    "print(mse)"
   ]
  },
  {
   "cell_type": "code",
   "execution_count": 21,
   "id": "e6d8cefc-a3b9-474b-ae19-532f4f2037cb",
   "metadata": {},
   "outputs": [
    {
     "data": {
      "image/png": "[encoded data removed]",
      "text/plain": [
       "<Figure size 432x288 with 1 Axes>"
      ]
     },
     "metadata": {
      "needs_background": "dark"
     },
     "output_type": "display_data"
    }
   ],
   "source": [
    "plt.scatter(X_test,y_test,color='green',label='actual data')\n",
    "plt.plot(X_test,enc_predictions,color='red',linewidth=2,label='Prediction')\n",
    "plt.legend()\n",
    "plt.show()"
   ]
  },
  {
   "cell_type": "code",
   "execution_count": null,
   "id": "1a916562-a4ce-4a88-bd61-fd772dce565d",
   "metadata": {},
   "outputs": [],
   "source": []
  }
 ],
 "metadata": {
  "kernelspec": {
   "display_name": "Python 3 (ipykernel)",
   "language": "python",
   "name": "python3"
  },
  "language_info": {
   "codemirror_mode": {
    "name": "ipython",
    "version": 3
   },
   "file_extension": ".py",
   "mimetype": "text/x-python",
   "name": "python",
   "nbconvert_exporter": "python",
   "pygments_lexer": "ipython3",
   "version": "3.10.0"
  }
 },
 "nbformat": 4,
 "nbformat_minor": 5
}
