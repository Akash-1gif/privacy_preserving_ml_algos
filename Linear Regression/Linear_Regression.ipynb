{
 "cells": [
  {
   "cell_type": "code",
   "execution_count": 1,
   "id": "4167aa99-3607-4651-a3a0-4a738d50676f",
   "metadata": {},
   "outputs": [],
   "source": [
    "import numpy as np\n",
    "from sklearn.model_selection import train_test_split\n",
    "from sklearn import datasets\n",
    "import matplotlib.pyplot as plt\n",
    "import torch\n",
    "plt.style.use(\"dark_background\")"
   ]
  },
  {
   "cell_type": "code",
   "execution_count": 2,
   "id": "8073a4f8-0103-48f4-8fe5-553ab3115ed2",
   "metadata": {},
   "outputs": [],
   "source": [
    "X,y=datasets.make_regression(n_samples=100,n_features=1,noise=20,random_state=1234)\n",
    "X_train,X_test,y_train,y_test=train_test_split(X,y,test_size=0.2,random_state=4)"
   ]
  },
  {
   "cell_type": "code",
   "execution_count": 3,
   "id": "cb78b3d4-38ec-4a5e-85d7-a803fdc95b6c",
   "metadata": {},
   "outputs": [
    {
     "data": {
      "image/png": "[encoded data removed]",
      "text/plain": [
       "<Figure size 576x432 with 1 Axes>"
      ]
     },
     "metadata": {
      "needs_background": "dark"
     },
     "output_type": "display_data"
    }
   ],
   "source": [
    "fig=plt.figure(figsize=(8,6))\n",
    "plt.scatter(X[:,0],y)\n",
    "plt.show()"
   ]
  },
  {
   "cell_type": "code",
   "execution_count": 4,
   "id": "878bc084-9dff-49ce-a750-a6660efadad1",
   "metadata": {},
   "outputs": [
    {
     "data": {
      "text/plain": [
       "((80, 1), (20, 1), (80,), (20,))"
      ]
     },
     "execution_count": 4,
     "metadata": {},
     "output_type": "execute_result"
    }
   ],
   "source": [
    "X_train.shape,X_test.shape,y_train.shape,y_test.shape"
   ]
  },
  {
   "cell_type": "code",
   "execution_count": 5,
   "id": "b9441e58-9468-47cb-aa28-ce11ce37edd3",
   "metadata": {},
   "outputs": [],
   "source": [
    "lr=0.01\n",
    "n_iters=1000"
   ]
  },
  {
   "cell_type": "code",
   "execution_count": 6,
   "id": "bd1f02f3-ae40-40ef-9d32-c18fa6ed48cc",
   "metadata": {},
   "outputs": [
    {
     "name": "stdout",
     "output_type": "stream",
     "text": [
      "80 1\n"
     ]
    }
   ],
   "source": [
    "n_samples,n_features=X_train.shape\n",
    "print(n_samples,n_features)"
   ]
  },
  {
   "cell_type": "code",
   "execution_count": 7,
   "id": "bf658a1f-bb70-4dff-aa60-af8e69973295",
   "metadata": {},
   "outputs": [],
   "source": [
    "import tenseal as ts\n",
    "\n",
    "context=ts.context(\n",
    "        ts.SCHEME_TYPE.CKKS,\n",
    "        poly_modulus_degree=8192,\n",
    "        coeff_mod_bit_sizes=[60, 40, 40, 60]\n",
    "    )\n",
    "context.generate_galois_keys()\n",
    "context.global_scale=2**40"
   ]
  },
  {
   "cell_type": "code",
   "execution_count": 8,
   "id": "9a6d547e-5738-4edd-94f5-32b7841c0709",
   "metadata": {},
   "outputs": [],
   "source": [
    "enc_X_train=[]\n",
    "for i in X_train:\n",
    "    t=ts.ckks_vector(context,i)\n",
    "    enc_X_train.append(t)"
   ]
  },
  {
   "cell_type": "code",
   "execution_count": 9,
   "id": "a25124da-10c1-44db-8cd2-d8f1be1353de",
   "metadata": {},
   "outputs": [],
   "source": [
    "enc_X_test=[]\n",
    "for i in X_test:\n",
    "    t=ts.ckks_vector(context,i)\n",
    "    enc_X_test.append(t)"
   ]
  },
  {
   "cell_type": "code",
   "execution_count": 10,
   "id": "54a0d543-5ef6-4f07-8d98-5dd6d6d854f5",
   "metadata": {},
   "outputs": [],
   "source": [
    "enc_y_train=ts.ckks_vector(context,y_train)"
   ]
  },
  {
   "cell_type": "code",
   "execution_count": 11,
   "id": "c8bc1b77-c7bb-47be-973f-92df8d4d3168",
   "metadata": {},
   "outputs": [],
   "source": [
    "enc_y_test=ts.ckks_vector(context,y_test)"
   ]
  },
  {
   "cell_type": "code",
   "execution_count": 12,
   "id": "cc0b3720-e2d3-4150-ab50-5d4f1f2314d3",
   "metadata": {},
   "outputs": [],
   "source": [
    "X_train_t=X_train.T"
   ]
  },
  {
   "cell_type": "code",
   "execution_count": 13,
   "id": "135cf67c-e4d6-42d1-8522-9186ad492f9e",
   "metadata": {},
   "outputs": [],
   "source": [
    "enc_X_train_t=[]\n",
    "for i in X_train_t:\n",
    "    t=ts.ckks_vector(context,i)\n",
    "    enc_X_train_t.append(t)"
   ]
  },
  {
   "cell_type": "code",
   "execution_count": null,
   "id": "8e330b73-b3ed-4b47-be88-c744fc1f0e1e",
   "metadata": {},
   "outputs": [],
   "source": []
  }
 ],
 "metadata": {
  "kernelspec": {
   "display_name": "Python 3 (ipykernel)",
   "language": "python",
   "name": "python3"
  },
  "language_info": {
   "codemirror_mode": {
    "name": "ipython",
    "version": 3
   },
   "file_extension": ".py",
   "mimetype": "text/x-python",
   "name": "python",
   "nbconvert_exporter": "python",
   "pygments_lexer": "ipython3",
   "version": "3.10.0"
  }
 },
 "nbformat": 4,
 "nbformat_minor": 5
}
