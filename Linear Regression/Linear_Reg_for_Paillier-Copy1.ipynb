{
 "cells": [
  {
   "cell_type": "code",
   "execution_count": 1,
   "id": "b8265ffa-7144-49cc-b409-4e3af8e65806",
   "metadata": {},
   "outputs": [],
   "source": [
    "import numpy as np\n",
    "from sklearn.model_selection import train_test_split\n",
    "from sklearn import datasets\n",
    "import matplotlib.pyplot as plt\n",
    "plt.style.use(\"dark_background\")"
   ]
  },
  {
   "cell_type": "markdown",
   "id": "2c7b62ec-56f2-4afd-9427-55bbcbdfef7f",
   "metadata": {},
   "source": [
    "### Fetching data:"
   ]
  },
  {
   "cell_type": "code",
   "execution_count": 2,
   "id": "07c7b9a1-2dc3-4411-936f-b8a5bf4b06c1",
   "metadata": {},
   "outputs": [],
   "source": [
    "X, y = datasets.make_regression(n_samples=100, n_features=1, noise=20, random_state=1234)\n",
    "X_train, X_test, y_train, y_test = train_test_split(X, y, test_size=0.2, random_state=4)"
   ]
  },
  {
   "cell_type": "markdown",
   "id": "e3ebd9b2-49a5-45e6-ad9a-187024b6c3f1",
   "metadata": {},
   "source": [
    "### Displaying data on 2D plane:"
   ]
  },
  {
   "cell_type": "code",
   "execution_count": 3,
   "id": "e67d3572-9046-47be-a6c3-c3765f3bc70a",
   "metadata": {},
   "outputs": [
    {
     "data": {
      "image/png": "[encoded data removed]",
      "text/plain": [
       "<Figure size 800x600 with 1 Axes>"
      ]
     },
     "metadata": {},
     "output_type": "display_data"
    }
   ],
   "source": [
    "fig=plt.figure(figsize=(8,6))\n",
    "plt.scatter(X[:,0],y)\n",
    "plt.show()"
   ]
  },
  {
   "cell_type": "markdown",
   "id": "a9fb146a-7548-47f8-b83e-ce2978428727",
   "metadata": {},
   "source": [
    "on X axis -> independent variables values, \n",
    "on Y axis -> dependent variable values"
   ]
  },
  {
   "cell_type": "markdown",
   "id": "79e47e83-92f7-4302-82a1-dc7054824af3",
   "metadata": {},
   "source": [
    "##### Appending 1 to each instance/data point in order to calculate bias:"
   ]
  },
  {
   "cell_type": "code",
   "execution_count": 4,
   "id": "7bf5a9a1-1899-4e49-b2ef-7b0e9f4523a3",
   "metadata": {},
   "outputs": [],
   "source": [
    "X_train_n1=X_train.copy()\n",
    "X_train_n2=X_train.copy()\n",
    "y_train_n1=y_train.copy()"
   ]
  },
  {
   "cell_type": "code",
   "execution_count": 5,
   "id": "11f9a5a9-0add-4ec5-99b5-db3e671b70c7",
   "metadata": {},
   "outputs": [],
   "source": [
    "X_train_m1=[]\n",
    "X_train_m2=[]\n",
    "y_train_m1=[]"
   ]
  },
  {
   "cell_type": "code",
   "execution_count": 6,
   "id": "2486e227-cbd7-41dc-98d9-b43b7c49b279",
   "metadata": {},
   "outputs": [],
   "source": [
    "diff_no=[2,5]"
   ]
  },
  {
   "cell_type": "code",
   "execution_count": 7,
   "id": "40f54c2d-e5be-41d9-97ff-764511b92420",
   "metadata": {},
   "outputs": [],
   "source": [
    "import random\n",
    "for i,j,k in zip(X_train_n1,X_train_n2,y_train_n1):\n",
    "    r=random.choice(diff_no)\n",
    "    p=i*r\n",
    "    q=j/r\n",
    "    s=k*r\n",
    "    X_train_m1.append(p)\n",
    "    X_train_m2.append(q)\n",
    "    y_train_m1.append(s)"
   ]
  },
  {
   "cell_type": "code",
   "execution_count": 31,
   "id": "0871f6de-d154-43c7-b80f-8deebc326714",
   "metadata": {},
   "outputs": [
    {
     "data": {
      "text/plain": [
       "[23.628551728866583,\n",
       " 74.60662939282216,\n",
       " 49.23089883910339,\n",
       " -23.73481008099739,\n",
       " 233.07169881940888,\n",
       " -442.8182970030234,\n",
       " -115.25425591170794,\n",
       " 246.5490115870804,\n",
       " 374.2371076185973,\n",
       " 105.57361439456267,\n",
       " 201.27562484578445,\n",
       " 632.9568260799474,\n",
       " -174.6151366980698,\n",
       " -11.975033263722352,\n",
       " -183.09482749618078,\n",
       " -6.6037588293510225,\n",
       " 223.32191031895456,\n",
       " 214.46191887202832,\n",
       " 90.57098724629685,\n",
       " -1445.6349814525581,\n",
       " 286.49911958525473,\n",
       " 663.95094200912,\n",
       " 209.03360540264472,\n",
       " 443.84869943051086,\n",
       " -437.06651096714023,\n",
       " -123.30177823657237,\n",
       " 483.79903645421837,\n",
       " -50.662047807717585,\n",
       " -232.13590584069658,\n",
       " 128.230923239822,\n",
       " -27.002851085415863,\n",
       " -883.6220536611497,\n",
       " -93.34716690486466,\n",
       " 101.13457680588712,\n",
       " 45.28686414177842,\n",
       " -42.180450757190975,\n",
       " 324.6040620837084,\n",
       " -324.355799434499,\n",
       " -62.972633576208544,\n",
       " -694.8405701275611,\n",
       " 267.05823373456093,\n",
       " 244.35855783462318,\n",
       " -267.52657065715425,\n",
       " 342.5197252116646,\n",
       " -109.9127219388036,\n",
       " -131.80406966306674,\n",
       " 41.009538691658406,\n",
       " -21.362908653123558,\n",
       " 214.75999046295897,\n",
       " 48.2911770098136,\n",
       " -898.4548826637148,\n",
       " -348.6076849590137,\n",
       " -737.4295636208033,\n",
       " -483.5841686656875,\n",
       " 74.15500117050024,\n",
       " 344.01344285200395,\n",
       " -37.223441420178645,\n",
       " 159.24628322972657,\n",
       " 105.12913970556596,\n",
       " 57.02308769036451,\n",
       " 538.4199769429786,\n",
       " 159.47704917734845,\n",
       " -58.84473234792169,\n",
       " 224.34463485661604,\n",
       " -226.95799268433467,\n",
       " -234.09995589665317,\n",
       " 1.4487157693606,\n",
       " 90.8664130329109,\n",
       " 120.881452754379,\n",
       " -27.720670437537848,\n",
       " -54.619519658257225,\n",
       " -588.2813043157289,\n",
       " -607.498244730696,\n",
       " 80.42617515397922,\n",
       " -477.51755632819874,\n",
       " -161.09493013320537,\n",
       " 198.82264615312167,\n",
       " -357.62806248901575,\n",
       " 576.6244836130705,\n",
       " -113.74773703378438]"
      ]
     },
     "execution_count": 31,
     "metadata": {},
     "output_type": "execute_result"
    }
   ],
   "source": [
    "y_train_m1"
   ]
  },
  {
   "cell_type": "code",
   "execution_count": 8,
   "id": "67509058-d23d-41de-83e8-e151c6b7678d",
   "metadata": {},
   "outputs": [],
   "source": [
    "X_train_m1=np.array(X_train_m1)\n",
    "X_train_m2=np.array(X_train_m2)"
   ]
  },
  {
   "cell_type": "code",
   "execution_count": 32,
   "id": "96bd382c-3bae-4ad6-b4ef-9bb882d0877a",
   "metadata": {},
   "outputs": [
    {
     "data": {
      "text/plain": [
       "array([[ 1.80709683e-01],\n",
       "       [ 1.96983968e+00],\n",
       "       [ 9.14459567e-02],\n",
       "       [-6.10457874e-01],\n",
       "       [ 1.07634290e+00],\n",
       "       [-5.95487847e+00],\n",
       "       [-1.56325948e+00],\n",
       "       [ 2.82869153e+00],\n",
       "       [ 4.01568590e+00],\n",
       "       [ 6.15937710e-01],\n",
       "       [ 2.30007145e+00],\n",
       "       [ 6.95993097e+00],\n",
       "       [-1.01323162e+00],\n",
       "       [ 8.22647715e-01],\n",
       "       [-1.94847267e+00],\n",
       "       [ 1.97563433e-01],\n",
       "       [ 3.15989723e+00],\n",
       "       [ 2.09187651e+00],\n",
       "       [ 4.23766774e-01],\n",
       "       [-1.78175833e+01],\n",
       "       [ 3.83684368e+00],\n",
       "       [ 7.16353484e+00],\n",
       "       [ 9.67106882e-01],\n",
       "       [ 5.29484594e+00],\n",
       "       [-4.80090727e+00],\n",
       "       [-2.74121225e+00],\n",
       "       [ 4.78192103e+00],\n",
       "       [ 7.84818606e-02],\n",
       "       [-1.04249382e+00],\n",
       "       [ 2.02726706e+00],\n",
       "       [-2.89239017e-01],\n",
       "       [-1.01062741e+01],\n",
       "       [-1.99982290e+00],\n",
       "       [ 1.72743458e+00],\n",
       "       [ 7.08040664e-01],\n",
       "       [-1.63894104e-01],\n",
       "       [ 2.61753984e+00],\n",
       "       [-2.34652642e+00],\n",
       "       [-1.02376262e+00],\n",
       "       [-7.73452777e+00],\n",
       "       [ 3.09131761e+00],\n",
       "       [ 2.63630311e+00],\n",
       "       [-2.83222965e+00],\n",
       "       [ 4.06120724e+00],\n",
       "       [-1.98920114e+00],\n",
       "       [-2.92359106e+00],\n",
       "       [-2.01836400e-01],\n",
       "       [ 4.23672937e-03],\n",
       "       [ 7.63152761e-01],\n",
       "       [ 5.41671698e-01],\n",
       "       [-1.03748880e+01],\n",
       "       [-3.92717606e+00],\n",
       "       [-9.08513613e+00],\n",
       "       [-3.60294367e+00],\n",
       "       [ 1.35110817e+00],\n",
       "       [ 4.29794207e+00],\n",
       "       [-2.73589667e-01],\n",
       "       [ 1.68334943e+00],\n",
       "       [ 1.51082796e+00],\n",
       "       [-1.40689754e-01],\n",
       "       [ 4.76662064e+00],\n",
       "       [-1.77565126e-01],\n",
       "       [-9.15542701e-01],\n",
       "       [ 2.64144073e+00],\n",
       "       [-2.30531822e+00],\n",
       "       [-1.67038683e+00],\n",
       "       [ 3.99211565e-01],\n",
       "       [ 6.74875307e-01],\n",
       "       [ 1.63318785e+00],\n",
       "       [ 4.53925084e-01],\n",
       "       [-6.45589611e-01],\n",
       "       [-7.22905039e+00],\n",
       "       [-5.13925279e+00],\n",
       "       [ 9.24119474e-01],\n",
       "       [-5.71315645e+00],\n",
       "       [-8.60191382e-01],\n",
       "       [ 2.09515715e+00],\n",
       "       [-5.34494392e+00],\n",
       "       [ 6.60579096e+00],\n",
       "       [-1.31193869e+00]])"
      ]
     },
     "execution_count": 32,
     "metadata": {},
     "output_type": "execute_result"
    }
   ],
   "source": [
    "X_train_m1"
   ]
  },
  {
   "cell_type": "code",
   "execution_count": 9,
   "id": "83b97c64-968f-46eb-b4fd-01264fe569cc",
   "metadata": {},
   "outputs": [],
   "source": [
    "X_train_augmented1=np.hstack((np.ones((X_train_m1.shape[0], 1)), X_train_m1))\n",
    "X_train_augmented2=np.hstack((np.ones((X_train_m2.shape[0], 1)), X_train_m2))\n",
    "X_train_T = X_train_augmented1.T\n",
    "X_train_T1 = X_train_augmented2.T"
   ]
  },
  {
   "cell_type": "markdown",
   "id": "d077d9ba-d0a3-43f6-a4ac-04858424a4fb",
   "metadata": {},
   "source": [
    "### Encrypting data:"
   ]
  },
  {
   "cell_type": "code",
   "execution_count": 10,
   "id": "0f2294a1-c29b-459a-8302-a03a5dfc3bfb",
   "metadata": {},
   "outputs": [],
   "source": [
    "from phe import paillier\n",
    "public_key,private_key=paillier.generate_paillier_keypair()"
   ]
  },
  {
   "cell_type": "code",
   "execution_count": 11,
   "id": "7aeddf8b-92de-4bb1-9b2e-b77b26c2d958",
   "metadata": {},
   "outputs": [],
   "source": [
    "enc_X_train=[]\n",
    "for i in X_train_T:\n",
    "    row_in=[]\n",
    "    for j in i:\n",
    "        p=public_key.encrypt(j)\n",
    "        row_in.append(p)\n",
    "    enc_X_train.append(row_in)"
   ]
  },
  {
   "cell_type": "code",
   "execution_count": 12,
   "id": "2354bf67-ac88-44da-9cec-99d94a30da41",
   "metadata": {},
   "outputs": [],
   "source": [
    "enc_y_train=[]\n",
    "for i in y_train_m1:\n",
    "    p=public_key.encrypt(i)\n",
    "    enc_y_train.append(p)"
   ]
  },
  {
   "cell_type": "markdown",
   "id": "a735f6d7-f5c8-46f1-a52f-fc07fc1100a5",
   "metadata": {},
   "source": [
    "### SERVER SIDE CODE:"
   ]
  },
  {
   "cell_type": "code",
   "execution_count": 13,
   "id": "10194c53-fd11-4ebc-997a-c810e0a8211a",
   "metadata": {},
   "outputs": [],
   "source": [
    "XTX=[]\n",
    "for i in enc_X_train:\n",
    "    row_in=[]\n",
    "    for j in X_train_T1:\n",
    "        row_in2=0\n",
    "        for p,q in zip(i,j):\n",
    "            t=p*q\n",
    "            row_in2=row_in2+t\n",
    "        row_in.append(row_in2)\n",
    "    XTX.append(row_in)\n",
    "            "
   ]
  },
  {
   "cell_type": "code",
   "execution_count": 14,
   "id": "ce3d4b4e-cd94-4adf-99c3-9cca89619d16",
   "metadata": {},
   "outputs": [],
   "source": [
    "XTY=[]\n",
    "for i in X_train_T1:\n",
    "    summation=0\n",
    "    for p,q in zip(i,enc_y_train):\n",
    "        t=p*q\n",
    "        summation=summation+t\n",
    "    XTY.append(summation)"
   ]
  },
  {
   "cell_type": "markdown",
   "id": "d62e7c3f-286f-4280-a7ec-34cf6a0510b5",
   "metadata": {},
   "source": [
    "### CLIENT SIDE CODE:"
   ]
  },
  {
   "cell_type": "code",
   "execution_count": 15,
   "id": "8812d5c4-f05a-41ff-8012-04cfbf466f49",
   "metadata": {},
   "outputs": [],
   "source": [
    "XTX_dec=[]\n",
    "for i in XTX:\n",
    "    row_in=[]\n",
    "    for j in i:\n",
    "        p=private_key.decrypt(j)\n",
    "        row_in.append(p)\n",
    "    XTX_dec.append(row_in)"
   ]
  },
  {
   "cell_type": "code",
   "execution_count": 16,
   "id": "112f49cd-4f3d-420f-b3c9-25ef58455109",
   "metadata": {},
   "outputs": [
    {
     "data": {
      "text/plain": [
       "[[80.0, 4.049474984395263], [-31.747891952076632, 82.8846072134051]]"
      ]
     },
     "execution_count": 16,
     "metadata": {},
     "output_type": "execute_result"
    }
   ],
   "source": [
    "XTX_dec"
   ]
  },
  {
   "cell_type": "code",
   "execution_count": 17,
   "id": "da08d9a9-a195-4312-b544-dc49879ba49f",
   "metadata": {},
   "outputs": [
    {
     "data": {
      "text/plain": [
       "numpy.ndarray"
      ]
     },
     "execution_count": 17,
     "metadata": {},
     "output_type": "execute_result"
    }
   ],
   "source": [
    "XTX_dec=np.array(XTX_dec)\n",
    "type(XTX_dec)"
   ]
  },
  {
   "cell_type": "code",
   "execution_count": 18,
   "id": "beea2c2e-ec63-4612-a11f-0e74cbe1ff46",
   "metadata": {},
   "outputs": [
    {
     "data": {
      "text/plain": [
       "[-2274.3872534879038, 7245.812909256801]"
      ]
     },
     "execution_count": 18,
     "metadata": {},
     "output_type": "execute_result"
    }
   ],
   "source": [
    "XTY_dec=[]\n",
    "for i in XTY:\n",
    "    p=private_key.decrypt(i)\n",
    "    XTY_dec.append(p)\n",
    "XTY_dec"
   ]
  },
  {
   "cell_type": "code",
   "execution_count": 19,
   "id": "4d98f51c-c8fd-480d-96f5-84176db09411",
   "metadata": {},
   "outputs": [
    {
     "data": {
      "text/plain": [
       "numpy.ndarray"
      ]
     },
     "execution_count": 19,
     "metadata": {},
     "output_type": "execute_result"
    }
   ],
   "source": [
    "XTY_dec=np.array(XTY_dec)\n",
    "type(XTY_dec)"
   ]
  },
  {
   "cell_type": "code",
   "execution_count": 20,
   "id": "90e25079-92ca-406b-8de6-338c50da6e45",
   "metadata": {},
   "outputs": [],
   "source": [
    "XTX_inv = np.linalg.inv(XTX_dec)\n",
    "theta = np.dot(XTX_inv, XTY_dec)"
   ]
  },
  {
   "cell_type": "markdown",
   "id": "427877fc-d8c2-430f-8c33-95c086347c69",
   "metadata": {},
   "source": [
    "### OBTAINED VALUES:"
   ]
  },
  {
   "cell_type": "code",
   "execution_count": 21,
   "id": "6a8c32e5-d1a6-40eb-a7aa-f9e98ce44dd2",
   "metadata": {},
   "outputs": [],
   "source": [
    "bias = theta[0]\n",
    "weights = theta[1:]"
   ]
  },
  {
   "cell_type": "code",
   "execution_count": 22,
   "id": "242de2f2-a3d4-4720-9b6d-545d30aa89ac",
   "metadata": {},
   "outputs": [
    {
     "data": {
      "text/plain": [
       "-32.230029335875315"
      ]
     },
     "execution_count": 22,
     "metadata": {},
     "output_type": "execute_result"
    }
   ],
   "source": [
    "bias"
   ]
  },
  {
   "cell_type": "code",
   "execution_count": 23,
   "id": "1624e04e-cdba-46bf-b823-130dd7b679f3",
   "metadata": {},
   "outputs": [
    {
     "data": {
      "text/plain": [
       "array([75.07518741])"
      ]
     },
     "execution_count": 23,
     "metadata": {},
     "output_type": "execute_result"
    }
   ],
   "source": [
    "weights"
   ]
  },
  {
   "cell_type": "markdown",
   "id": "035db8cb-20b7-4761-99fd-82dce297375c",
   "metadata": {},
   "source": [
    "### Testing:"
   ]
  },
  {
   "cell_type": "code",
   "execution_count": 24,
   "id": "4497fa8e-9bde-4755-abdc-eb70ff780d54",
   "metadata": {},
   "outputs": [],
   "source": [
    "enc_X_test=[]\n",
    "for i in X_test:\n",
    "    row_in=[]\n",
    "    for j in i:\n",
    "        p=public_key.encrypt(j)\n",
    "        row_in.append(p)\n",
    "    enc_X_test.append(row_in)"
   ]
  },
  {
   "cell_type": "code",
   "execution_count": 25,
   "id": "949d787d-a69c-4663-aa8d-bf87d6c30c24",
   "metadata": {},
   "outputs": [
    {
     "data": {
      "text/plain": [
       "[[<phe.paillier.EncryptedNumber at 0x157c5472180>],\n",
       " [<phe.paillier.EncryptedNumber at 0x157c5472750>],\n",
       " [<phe.paillier.EncryptedNumber at 0x157c5471bb0>],\n",
       " [<phe.paillier.EncryptedNumber at 0x157c5471ee0>]]"
      ]
     },
     "execution_count": 25,
     "metadata": {},
     "output_type": "execute_result"
    }
   ],
   "source": [
    "enc_X_test[:4]"
   ]
  },
  {
   "cell_type": "code",
   "execution_count": 26,
   "id": "79e114c5-c9bb-4c3b-9e43-50b08fe30135",
   "metadata": {},
   "outputs": [],
   "source": [
    "predictions=[]\n",
    "for i in enc_X_test:\n",
    "    pred=0\n",
    "    for j,k in zip(i,weights):\n",
    "        p=j*k\n",
    "        pred=pred+p\n",
    "    pred=pred+bias\n",
    "    predictions.append(private_key.decrypt(pred))"
   ]
  },
  {
   "cell_type": "code",
   "execution_count": 27,
   "id": "22d042d6-7e95-4ada-bc31-ef37aa3c0af3",
   "metadata": {},
   "outputs": [
    {
     "data": {
      "text/plain": [
       "[-13.626983500004906,\n",
       " -80.01715072347766,\n",
       " 2.6343115009831664,\n",
       " 42.2405041961569,\n",
       " -200.6000225820922,\n",
       " 9.31950062644892,\n",
       " -99.58424306750312,\n",
       " -22.86718095876245,\n",
       " -10.5263976868977,\n",
       " -26.509330998118795,\n",
       " -101.76874551726124,\n",
       " 20.67700360930228,\n",
       " 34.37389467455844,\n",
       " 20.640036672985595,\n",
       " -58.11340247004967,\n",
       " 3.1630539349312246,\n",
       " 45.38275440954666,\n",
       " -137.48343619409025,\n",
       " 66.95222233934987,\n",
       " 30.908863560492247]"
      ]
     },
     "execution_count": 27,
     "metadata": {},
     "output_type": "execute_result"
    }
   ],
   "source": [
    "predictions"
   ]
  },
  {
   "cell_type": "markdown",
   "id": "8fa03259-64f4-4d65-b334-ca98da61dc2c",
   "metadata": {},
   "source": [
    "### Comparing actual values with Predicted values: (Actual Value - Predicted Value)"
   ]
  },
  {
   "cell_type": "code",
   "execution_count": 28,
   "id": "faa2a575-b6db-4144-b606-611842841f18",
   "metadata": {
    "scrolled": true
   },
   "outputs": [
    {
     "name": "stdout",
     "output_type": "stream",
     "text": [
      "-6.400439740897028 -13.626983500004906\n",
      "-75.83288846408419 -80.01715072347766\n",
      "43.02438482670904 2.6343115009831664\n",
      "81.72162477765585 42.2405041961569\n",
      "-197.9801503584435 -200.6000225820922\n",
      "32.09705138165424 9.31950062644892\n",
      "-102.66748011552487 -99.58424306750312\n",
      "15.35071412820563 -22.86718095876245\n",
      "6.892323119468568 -10.5263976868977\n",
      "26.28851287900197 -26.509330998118795\n",
      "-80.36899984455164 -101.76874551726124\n",
      "30.84591703151775 20.67700360930228\n",
      "95.06862969774186 34.37389467455844\n",
      "69.43879729019481 20.640036672985595\n",
      "-45.80868282540775 -58.11340247004967\n",
      "63.18804079600157 3.1630539349312246\n",
      "91.41603362148403 45.38275440954666\n",
      "-108.37740214379002 -137.48343619409025\n",
      "142.75464960351508 66.95222233934987\n",
      "87.77205622112535 30.908863560492247\n"
     ]
    }
   ],
   "source": [
    "for a,b in zip(y_test,predictions):\n",
    "    print(a,b)"
   ]
  },
  {
   "cell_type": "markdown",
   "id": "dcb634af-5f25-46fc-971f-d6cc458ec67a",
   "metadata": {},
   "source": [
    "### Calculating Mean Square Error of Predicted Values:"
   ]
  },
  {
   "cell_type": "code",
   "execution_count": 29,
   "id": "df8ae2a3-96c8-4cd4-bc60-198dde11511c",
   "metadata": {},
   "outputs": [
    {
     "name": "stdout",
     "output_type": "stream",
     "text": [
      "1533.6626052718486\n"
     ]
    }
   ],
   "source": [
    "def mse(y_test, enc_predictions):\n",
    "    return np.mean((y_test-enc_predictions)**2)\n",
    "\n",
    "mse = mse(y_test,predictions)\n",
    "print(mse)"
   ]
  },
  {
   "cell_type": "markdown",
   "id": "4c9596a5-6eda-4f11-b533-ff831ebb4b14",
   "metadata": {},
   "source": [
    "### Displaying Predicted vs Actual Values on 2D plane:"
   ]
  },
  {
   "cell_type": "code",
   "execution_count": 30,
   "id": "4863ab87-35ee-4409-a33c-0c0581a367c2",
   "metadata": {
    "scrolled": true
   },
   "outputs": [
    {
     "data": {
      "image/png": "[encoded data removed]",
      "text/plain": [
       "<Figure size 640x480 with 1 Axes>"
      ]
     },
     "metadata": {},
     "output_type": "display_data"
    }
   ],
   "source": [
    "plt.scatter(X_test,y_test,color='green',label='actual data')\n",
    "plt.plot(X_test,predictions,color='red',linewidth=2,label='Prediction')\n",
    "plt.legend()\n",
    "plt.show()"
   ]
  },
  {
   "cell_type": "markdown",
   "id": "a9447f0c-c8d1-46d2-b902-069c7eedc0df",
   "metadata": {},
   "source": [
    "### Conclusion:\n",
    "\n",
    "The linear regression model was trained on Paillier encrypted data. The weights and bias obtained from the following model (the Paillier encrypted model) are approximately equal to the weights and bias of the model that was trained on plain data (as observed in the ‘Linear_Reg_with_Plain.ipynb’ file). After training this model using encrypted data, we tested it against the testing data (which is also encrypted in Paillier). The results of the encrypted testing data are almost equal the results of the plain testing data (observed in the ‘Linear_Reg_with_Plain.ipynb’ file)."
   ]
  }
 ],
 "metadata": {
  "kernelspec": {
   "display_name": "Python 3 (ipykernel)",
   "language": "python",
   "name": "python3"
  },
  "language_info": {
   "codemirror_mode": {
    "name": "ipython",
    "version": 3
   },
   "file_extension": ".py",
   "mimetype": "text/x-python",
   "name": "python",
   "nbconvert_exporter": "python",
   "pygments_lexer": "ipython3",
   "version": "3.12.3"
  }
 },
 "nbformat": 4,
 "nbformat_minor": 5
}
