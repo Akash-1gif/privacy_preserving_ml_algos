{
 "cells": [
  {
   "cell_type": "code",
   "execution_count": 1,
   "id": "fc176da8-8596-4fa3-9bb1-f1319811293c",
   "metadata": {},
   "outputs": [],
   "source": [
    "import numpy as np\n",
    "from sklearn.model_selection import train_test_split\n",
    "from sklearn import datasets\n",
    "import matplotlib.pyplot as plt\n",
    "plt.style.use(\"dark_background\")"
   ]
  },
  {
   "cell_type": "markdown",
   "id": "c355aeb6-c0aa-4cd0-83ee-d444e37b2a39",
   "metadata": {},
   "source": [
    "### Fetching data:"
   ]
  },
  {
   "cell_type": "code",
   "execution_count": 2,
   "id": "3186bafd-9d77-447e-95c1-0f816a14ec99",
   "metadata": {},
   "outputs": [],
   "source": [
    "X, y = datasets.make_regression(n_samples=100, n_features=1, noise=20, random_state=1234)\n",
    "X_train, X_test, y_train, y_test = train_test_split(X, y, test_size=0.2, random_state=4)"
   ]
  },
  {
   "cell_type": "markdown",
   "id": "d534f4e1-783f-477a-805a-2c24f0372d42",
   "metadata": {},
   "source": [
    "### Displaying data on 2D plane:"
   ]
  },
  {
   "cell_type": "code",
   "execution_count": 3,
   "id": "f94cfe89-b68e-4983-a67f-b9ae6e66e475",
   "metadata": {},
   "outputs": [
    {
     "data": {
      "image/png": "[encoded data removed]",
      "text/plain": [
       "<Figure size 576x432 with 1 Axes>"
      ]
     },
     "metadata": {
      "needs_background": "dark"
     },
     "output_type": "display_data"
    }
   ],
   "source": [
    "fig=plt.figure(figsize=(8,6))\n",
    "plt.scatter(X[:,0],y)\n",
    "plt.show()"
   ]
  },
  {
   "cell_type": "markdown",
   "id": "2bb578ff-e1b0-420d-a625-d1c94b48bc3b",
   "metadata": {},
   "source": [
    "on X axis -> independent variables values, \n",
    "on Y axis -> dependent variable values"
   ]
  },
  {
   "cell_type": "markdown",
   "id": "9aa98f15-401e-422a-a691-dcf94c1c0a13",
   "metadata": {},
   "source": [
    "##### Appending 1 to each instance/data point in order to calculate bias:"
   ]
  },
  {
   "cell_type": "code",
   "execution_count": 4,
   "id": "9b09e00a-f046-4f8b-a52f-f80e9932b06e",
   "metadata": {
    "scrolled": true
   },
   "outputs": [
    {
     "data": {
      "text/plain": [
       "array([[ 1.00000000e+00,  3.61419367e-02],\n",
       "       [ 1.00000000e+00,  9.84919842e-01],\n",
       "       [ 1.00000000e+00,  1.82891913e-02],\n",
       "       [ 1.00000000e+00, -1.22091575e-01],\n",
       "       [ 1.00000000e+00,  2.15268581e-01],\n",
       "       [ 1.00000000e+00, -1.19097569e+00],\n",
       "       [ 1.00000000e+00, -3.12651896e-01],\n",
       "       [ 1.00000000e+00,  5.65738306e-01],\n",
       "       [ 1.00000000e+00,  2.00784295e+00],\n",
       "       [ 1.00000000e+00,  3.07968855e-01],\n",
       "       [ 1.00000000e+00,  1.15003572e+00],\n",
       "       [ 1.00000000e+00,  1.39198619e+00],\n",
       "       [ 1.00000000e+00, -2.02646325e-01],\n",
       "       [ 1.00000000e+00,  1.64529543e-01],\n",
       "       [ 1.00000000e+00, -9.74236334e-01],\n",
       "       [ 1.00000000e+00,  3.95126867e-02],\n",
       "       [ 1.00000000e+00,  6.31979446e-01],\n",
       "       [ 1.00000000e+00,  1.04593826e+00],\n",
       "       [ 1.00000000e+00,  2.11883387e-01],\n",
       "       [ 1.00000000e+00, -3.56351666e+00],\n",
       "       [ 1.00000000e+00,  7.67368736e-01],\n",
       "       [ 1.00000000e+00,  1.43270697e+00],\n",
       "       [ 1.00000000e+00,  1.93421376e-01],\n",
       "       [ 1.00000000e+00,  1.05896919e+00],\n",
       "       [ 1.00000000e+00, -2.40045363e+00],\n",
       "       [ 1.00000000e+00, -5.48242449e-01],\n",
       "       [ 1.00000000e+00,  2.39096052e+00],\n",
       "       [ 1.00000000e+00,  1.56963721e-02],\n",
       "       [ 1.00000000e+00, -2.08498763e-01],\n",
       "       [ 1.00000000e+00,  4.05453412e-01],\n",
       "       [ 1.00000000e+00, -1.44619508e-01],\n",
       "       [ 1.00000000e+00, -2.02125482e+00],\n",
       "       [ 1.00000000e+00, -3.99964581e-01],\n",
       "       [ 1.00000000e+00,  8.63717292e-01],\n",
       "       [ 1.00000000e+00,  3.54020332e-01],\n",
       "       [ 1.00000000e+00, -8.19470518e-02],\n",
       "       [ 1.00000000e+00,  5.23507968e-01],\n",
       "       [ 1.00000000e+00, -4.69305285e-01],\n",
       "       [ 1.00000000e+00, -5.11881309e-01],\n",
       "       [ 1.00000000e+00, -1.54690555e+00],\n",
       "       [ 1.00000000e+00,  1.54565880e+00],\n",
       "       [ 1.00000000e+00,  1.31815155e+00],\n",
       "       [ 1.00000000e+00, -5.66445930e-01],\n",
       "       [ 1.00000000e+00,  2.03060362e+00],\n",
       "       [ 1.00000000e+00, -3.97840228e-01],\n",
       "       [ 1.00000000e+00, -5.84718211e-01],\n",
       "       [ 1.00000000e+00, -1.00918200e-01],\n",
       "       [ 1.00000000e+00,  2.11836468e-03],\n",
       "       [ 1.00000000e+00,  1.52630552e-01],\n",
       "       [ 1.00000000e+00,  2.70835849e-01],\n",
       "       [ 1.00000000e+00, -2.07497760e+00],\n",
       "       [ 1.00000000e+00, -7.85435212e-01],\n",
       "       [ 1.00000000e+00, -1.81702723e+00],\n",
       "       [ 1.00000000e+00, -7.20588733e-01],\n",
       "       [ 1.00000000e+00,  6.75554085e-01],\n",
       "       [ 1.00000000e+00,  8.59588414e-01],\n",
       "       [ 1.00000000e+00, -1.36794833e-01],\n",
       "       [ 1.00000000e+00,  8.41674713e-01],\n",
       "       [ 1.00000000e+00,  7.55413982e-01],\n",
       "       [ 1.00000000e+00, -7.03448771e-02],\n",
       "       [ 1.00000000e+00,  9.53324128e-01],\n",
       "       [ 1.00000000e+00, -3.55130253e-02],\n",
       "       [ 1.00000000e+00, -1.83108540e-01],\n",
       "       [ 1.00000000e+00,  5.28288145e-01],\n",
       "       [ 1.00000000e+00, -1.15265911e+00],\n",
       "       [ 1.00000000e+00, -3.34077366e-01],\n",
       "       [ 1.00000000e+00,  7.98423130e-02],\n",
       "       [ 1.00000000e+00,  3.37437654e-01],\n",
       "       [ 1.00000000e+00,  8.16593927e-01],\n",
       "       [ 1.00000000e+00,  2.26962542e-01],\n",
       "       [ 1.00000000e+00, -3.22794806e-01],\n",
       "       [ 1.00000000e+00, -1.44581008e+00],\n",
       "       [ 1.00000000e+00, -1.02785056e+00],\n",
       "       [ 1.00000000e+00,  4.62059737e-01],\n",
       "       [ 1.00000000e+00, -1.14263129e+00],\n",
       "       [ 1.00000000e+00, -4.30095691e-01],\n",
       "       [ 1.00000000e+00,  1.04757857e+00],\n",
       "       [ 1.00000000e+00, -1.06898878e+00],\n",
       "       [ 1.00000000e+00,  1.32115819e+00],\n",
       "       [ 1.00000000e+00, -6.55969344e-01]])"
      ]
     },
     "execution_count": 4,
     "metadata": {},
     "output_type": "execute_result"
    }
   ],
   "source": [
    "X_train_augmented = np.hstack((np.ones((X_train.shape[0], 1)), X_train))\n",
    "X_train_augmented"
   ]
  },
  {
   "cell_type": "code",
   "execution_count": 5,
   "id": "fb70952f-aa24-4397-99ef-32dc250f99eb",
   "metadata": {},
   "outputs": [],
   "source": [
    "X_train_T = X_train_augmented.T"
   ]
  },
  {
   "cell_type": "markdown",
   "id": "473316af-0788-4d45-ab8f-c2fb565620e1",
   "metadata": {},
   "source": [
    "### Data Encryption and storing on cloud:"
   ]
  },
  {
   "cell_type": "code",
   "execution_count": 6,
   "id": "a845aa61-8d1e-42d3-ba55-3583eeb03f18",
   "metadata": {},
   "outputs": [],
   "source": [
    "import tenseal as ts\n",
    "context = ts.context(\n",
    "    ts.SCHEME_TYPE.CKKS,\n",
    "    poly_modulus_degree=8192,\n",
    "    coeff_mod_bit_sizes=[60, 40, 40, 60]\n",
    ")\n",
    "context.generate_galois_keys()\n",
    "context.global_scale = 2**40"
   ]
  },
  {
   "cell_type": "code",
   "execution_count": 7,
   "id": "4cbf0aaf-b414-4174-8e8f-b2ce14713f44",
   "metadata": {},
   "outputs": [
    {
     "data": {
      "text/plain": [
       "array([[ 1.00000000e+00,  1.00000000e+00,  1.00000000e+00,\n",
       "         1.00000000e+00,  1.00000000e+00,  1.00000000e+00,\n",
       "         1.00000000e+00,  1.00000000e+00,  1.00000000e+00,\n",
       "         1.00000000e+00,  1.00000000e+00,  1.00000000e+00,\n",
       "         1.00000000e+00,  1.00000000e+00,  1.00000000e+00,\n",
       "         1.00000000e+00,  1.00000000e+00,  1.00000000e+00,\n",
       "         1.00000000e+00,  1.00000000e+00,  1.00000000e+00,\n",
       "         1.00000000e+00,  1.00000000e+00,  1.00000000e+00,\n",
       "         1.00000000e+00,  1.00000000e+00,  1.00000000e+00,\n",
       "         1.00000000e+00,  1.00000000e+00,  1.00000000e+00,\n",
       "         1.00000000e+00,  1.00000000e+00,  1.00000000e+00,\n",
       "         1.00000000e+00,  1.00000000e+00,  1.00000000e+00,\n",
       "         1.00000000e+00,  1.00000000e+00,  1.00000000e+00,\n",
       "         1.00000000e+00,  1.00000000e+00,  1.00000000e+00,\n",
       "         1.00000000e+00,  1.00000000e+00,  1.00000000e+00,\n",
       "         1.00000000e+00,  1.00000000e+00,  1.00000000e+00,\n",
       "         1.00000000e+00,  1.00000000e+00,  1.00000000e+00,\n",
       "         1.00000000e+00,  1.00000000e+00,  1.00000000e+00,\n",
       "         1.00000000e+00,  1.00000000e+00,  1.00000000e+00,\n",
       "         1.00000000e+00,  1.00000000e+00,  1.00000000e+00,\n",
       "         1.00000000e+00,  1.00000000e+00,  1.00000000e+00,\n",
       "         1.00000000e+00,  1.00000000e+00,  1.00000000e+00,\n",
       "         1.00000000e+00,  1.00000000e+00,  1.00000000e+00,\n",
       "         1.00000000e+00,  1.00000000e+00,  1.00000000e+00,\n",
       "         1.00000000e+00,  1.00000000e+00,  1.00000000e+00,\n",
       "         1.00000000e+00,  1.00000000e+00,  1.00000000e+00,\n",
       "         1.00000000e+00,  1.00000000e+00],\n",
       "       [ 3.61419367e-02,  9.84919842e-01,  1.82891913e-02,\n",
       "        -1.22091575e-01,  2.15268581e-01, -1.19097569e+00,\n",
       "        -3.12651896e-01,  5.65738306e-01,  2.00784295e+00,\n",
       "         3.07968855e-01,  1.15003572e+00,  1.39198619e+00,\n",
       "        -2.02646325e-01,  1.64529543e-01, -9.74236334e-01,\n",
       "         3.95126867e-02,  6.31979446e-01,  1.04593826e+00,\n",
       "         2.11883387e-01, -3.56351666e+00,  7.67368736e-01,\n",
       "         1.43270697e+00,  1.93421376e-01,  1.05896919e+00,\n",
       "        -2.40045363e+00, -5.48242449e-01,  2.39096052e+00,\n",
       "         1.56963721e-02, -2.08498763e-01,  4.05453412e-01,\n",
       "        -1.44619508e-01, -2.02125482e+00, -3.99964581e-01,\n",
       "         8.63717292e-01,  3.54020332e-01, -8.19470518e-02,\n",
       "         5.23507968e-01, -4.69305285e-01, -5.11881309e-01,\n",
       "        -1.54690555e+00,  1.54565880e+00,  1.31815155e+00,\n",
       "        -5.66445930e-01,  2.03060362e+00, -3.97840228e-01,\n",
       "        -5.84718211e-01, -1.00918200e-01,  2.11836468e-03,\n",
       "         1.52630552e-01,  2.70835849e-01, -2.07497760e+00,\n",
       "        -7.85435212e-01, -1.81702723e+00, -7.20588733e-01,\n",
       "         6.75554085e-01,  8.59588414e-01, -1.36794833e-01,\n",
       "         8.41674713e-01,  7.55413982e-01, -7.03448771e-02,\n",
       "         9.53324128e-01, -3.55130253e-02, -1.83108540e-01,\n",
       "         5.28288145e-01, -1.15265911e+00, -3.34077366e-01,\n",
       "         7.98423130e-02,  3.37437654e-01,  8.16593927e-01,\n",
       "         2.26962542e-01, -3.22794806e-01, -1.44581008e+00,\n",
       "        -1.02785056e+00,  4.62059737e-01, -1.14263129e+00,\n",
       "        -4.30095691e-01,  1.04757857e+00, -1.06898878e+00,\n",
       "         1.32115819e+00, -6.55969344e-01]])"
      ]
     },
     "execution_count": 7,
     "metadata": {},
     "output_type": "execute_result"
    }
   ],
   "source": [
    "X_train_T"
   ]
  },
  {
   "cell_type": "code",
   "execution_count": 8,
   "id": "55d624ca-ac8c-44cc-9753-843ba2b808a1",
   "metadata": {},
   "outputs": [],
   "source": [
    "enc_X_train=[]\n",
    "for i in X_train_T:\n",
    "    p=ts.ckks_vector(context,i)\n",
    "    enc_X_train.append(p)"
   ]
  },
  {
   "cell_type": "code",
   "execution_count": 9,
   "id": "05f9dc7b-79ad-4ecd-959c-399208556749",
   "metadata": {},
   "outputs": [],
   "source": [
    "enc_y_train=ts.ckks_vector(context,y_train)"
   ]
  },
  {
   "cell_type": "markdown",
   "id": "eacf532d-72c8-4c70-ad58-d3075f90b5d7",
   "metadata": {},
   "source": [
    "### SERVER SIDE CODE:"
   ]
  },
  {
   "cell_type": "code",
   "execution_count": 10,
   "id": "890cacc9-1a93-4650-ba98-9bba97f66cca",
   "metadata": {},
   "outputs": [],
   "source": [
    "enc_X_1=enc_X_train"
   ]
  },
  {
   "cell_type": "code",
   "execution_count": 11,
   "id": "e0178aa5-a5be-438b-a20e-79f1a04ea8e2",
   "metadata": {},
   "outputs": [],
   "source": [
    "XTX=[]\n",
    "for i in enc_X_train:\n",
    "    row_in=[]\n",
    "    for j in enc_X_1:\n",
    "        p=i.dot(j)\n",
    "        row_in.append(p)\n",
    "    XTX.append(row_in)"
   ]
  },
  {
   "cell_type": "code",
   "execution_count": 12,
   "id": "703a0697-062d-4f1a-a697-945b010b0f8c",
   "metadata": {},
   "outputs": [],
   "source": [
    "XTY=[]\n",
    "for i in enc_X_train:\n",
    "    p=i.dot(enc_y_train)\n",
    "    XTY.append(p)"
   ]
  },
  {
   "cell_type": "markdown",
   "id": "3c0d2a3c-8505-47db-bee2-ddd875837ca5",
   "metadata": {},
   "source": [
    "### CLIENT SIDE CALCULATIONS:"
   ]
  },
  {
   "cell_type": "code",
   "execution_count": 13,
   "id": "9ce63ebc-dc96-4216-884a-9018afee239a",
   "metadata": {},
   "outputs": [
    {
     "data": {
      "text/plain": [
       "array([[80.00000904,  1.24954952],\n",
       "       [ 1.24954952, 82.88461672]])"
      ]
     },
     "execution_count": 13,
     "metadata": {},
     "output_type": "execute_result"
    }
   ],
   "source": [
    "XTX_dec=[]\n",
    "for i in XTX:\n",
    "    row_in=[]\n",
    "    for j in i:\n",
    "        p=j.decrypt()\n",
    "        row_in.append(p[0])\n",
    "    XTX_dec.append(row_in)\n",
    "\n",
    "XTX_dec_1 = np.array(XTX_dec)\n",
    "XTX_dec_1"
   ]
  },
  {
   "cell_type": "code",
   "execution_count": 14,
   "id": "d873cbe1-4306-48dd-92d1-98303a6ea566",
   "metadata": {},
   "outputs": [
    {
     "data": {
      "text/plain": [
       "array([ 182.82936692, 7245.81387877])"
      ]
     },
     "execution_count": 14,
     "metadata": {},
     "output_type": "execute_result"
    }
   ],
   "source": [
    "XTY_dec=[]\n",
    "for i in XTY:\n",
    "    p=i.decrypt()\n",
    "    XTY_dec.append(p[0])\n",
    "\n",
    "XTY_dec_1 = np.array(XTY_dec)\n",
    "XTY_dec_1"
   ]
  },
  {
   "cell_type": "code",
   "execution_count": 15,
   "id": "ae3865d5-6f5e-4b53-8c46-10046da992a4",
   "metadata": {},
   "outputs": [],
   "source": [
    "XTX_inv = np.linalg.inv(XTX_dec_1)\n",
    "theta = np.dot(XTX_inv, XTY_dec)"
   ]
  },
  {
   "cell_type": "code",
   "execution_count": 16,
   "id": "5fba0266-ddac-4e6c-8da7-3b380a710542",
   "metadata": {},
   "outputs": [],
   "source": [
    "bias = theta[0]\n",
    "weights = theta[1:]"
   ]
  },
  {
   "cell_type": "markdown",
   "id": "1e51de0c-2c1e-4dc1-923b-a4993c7d4683",
   "metadata": {},
   "source": [
    "### OBTAINED VALUES:"
   ]
  },
  {
   "cell_type": "code",
   "execution_count": 17,
   "id": "c3eea5a6-c562-40e8-bec3-c22d3a4676c7",
   "metadata": {},
   "outputs": [
    {
     "data": {
      "text/plain": [
       "0.9201307410137328"
      ]
     },
     "execution_count": 17,
     "metadata": {},
     "output_type": "execute_result"
    }
   ],
   "source": [
    "bias"
   ]
  },
  {
   "cell_type": "code",
   "execution_count": 18,
   "id": "35f546f2-a552-4dfb-a633-7b04bc30ae4d",
   "metadata": {},
   "outputs": [
    {
     "data": {
      "text/plain": [
       "array([87.40661918])"
      ]
     },
     "execution_count": 18,
     "metadata": {},
     "output_type": "execute_result"
    }
   ],
   "source": [
    "weights"
   ]
  },
  {
   "cell_type": "markdown",
   "id": "5425d2f0-af84-49ce-b63d-bc51f47e177f",
   "metadata": {},
   "source": [
    "### Testing:"
   ]
  },
  {
   "cell_type": "code",
   "execution_count": 19,
   "id": "81cd57c2-14da-4326-bc5e-bf4f4cdc7bea",
   "metadata": {},
   "outputs": [],
   "source": [
    "enc_X_test=[]\n",
    "for i in X_test:\n",
    "    p=ts.ckks_vector(context,i)\n",
    "    enc_X_test.append(p)"
   ]
  },
  {
   "cell_type": "code",
   "execution_count": 20,
   "id": "206241f1-d9a6-41cd-a000-1e7827cf487c",
   "metadata": {},
   "outputs": [],
   "source": [
    "predictions=[]\n",
    "for i in enc_X_test:\n",
    "    t=i.dot(weights)\n",
    "    t=t+bias\n",
    "    predictions.append(t.decrypt()[0])"
   ]
  },
  {
   "cell_type": "markdown",
   "id": "3953f3c8-87d7-4889-a063-03ea4fba0579",
   "metadata": {},
   "source": [
    "### Comparing actual values with Predicted values:"
   ]
  },
  {
   "cell_type": "code",
   "execution_count": 21,
   "id": "01eb2c5e-e8be-4127-9c29-2f516efc33dd",
   "metadata": {
    "scrolled": true
   },
   "outputs": [
    {
     "name": "stdout",
     "output_type": "stream",
     "text": [
      "-6.400439740897028 22.57881206552507\n",
      "-75.83288846408419 -54.716244275649814\n",
      "43.02438482670904 41.51109945854911\n",
      "81.72162477765585 87.62279056279252\n",
      "-197.9801503584435 -195.10540541928643\n",
      "32.09705138165424 49.294361321988674\n",
      "-102.66748011552487 -77.49732120267187\n",
      "15.35071412820563 11.820870004456758\n",
      "6.892323119468568 26.1886832778231\n",
      "26.28851287900197 7.580480010212662\n",
      "-80.36899984455164 -80.04063809615621\n",
      "30.84591703151775 62.5173862120707\n",
      "95.06862969774186 78.46405433966052\n",
      "69.43879729019481 62.4743473625705\n",
      "-45.80868282540775 -29.214704951308562\n",
      "63.18804079600157 42.12669008389426\n",
      "91.41603362148403 91.28116985673495\n",
      "-108.37740214379002 -121.62163047514838\n",
      "142.75464960351508 116.3935217350378\n",
      "87.77205622112535 74.42987609824604\n"
     ]
    }
   ],
   "source": [
    "for a,b in zip(y_test,predictions):\n",
    "    print(a,b)"
   ]
  },
  {
   "cell_type": "markdown",
   "id": "3c5ae05e-5436-4f2e-93c3-7691de54e888",
   "metadata": {},
   "source": [
    "### Calculating Mean Square Error of Predicted Values:"
   ]
  },
  {
   "cell_type": "code",
   "execution_count": 22,
   "id": "3108db40-5f36-4f22-83bc-b139bed6a0e7",
   "metadata": {},
   "outputs": [
    {
     "name": "stdout",
     "output_type": "stream",
     "text": [
      "304.49341456037354\n"
     ]
    }
   ],
   "source": [
    "def mse(y_test, enc_predictions):\n",
    "    return np.mean((y_test-enc_predictions)**2)\n",
    "\n",
    "mse = mse(y_test,predictions)\n",
    "print(mse)"
   ]
  },
  {
   "cell_type": "markdown",
   "id": "e860e59d-2c53-4208-ad04-269e04956efa",
   "metadata": {},
   "source": [
    "### Displaying Predicted vs Actual Values on 2D plane:"
   ]
  },
  {
   "cell_type": "code",
   "execution_count": 23,
   "id": "fe08fe6f-eef4-4dc3-887a-7a19d55bb7b0",
   "metadata": {},
   "outputs": [
    {
     "data": {
      "image/png": "[encoded data removed]",
      "text/plain": [
       "<Figure size 432x288 with 1 Axes>"
      ]
     },
     "metadata": {
      "needs_background": "dark"
     },
     "output_type": "display_data"
    }
   ],
   "source": [
    "plt.scatter(X_test,y_test,color='green',label='actual data')\n",
    "plt.plot(X_test,predictions,color='red',linewidth=2,label='Prediction')\n",
    "plt.legend()\n",
    "plt.show()"
   ]
  }
 ],
 "metadata": {
  "kernelspec": {
   "display_name": "Python 3 (ipykernel)",
   "language": "python",
   "name": "python3"
  },
  "language_info": {
   "codemirror_mode": {
    "name": "ipython",
    "version": 3
   },
   "file_extension": ".py",
   "mimetype": "text/x-python",
   "name": "python",
   "nbconvert_exporter": "python",
   "pygments_lexer": "ipython3",
   "version": "3.10.0"
  }
 },
 "nbformat": 4,
 "nbformat_minor": 5
}
