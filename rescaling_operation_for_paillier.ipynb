{
  "nbformat": 4,
  "nbformat_minor": 0,
  "metadata": {
    "colab": {
      "provenance": []
    },
    "kernelspec": {
      "name": "python3",
      "display_name": "Python 3"
    },
    "language_info": {
      "name": "python"
    }
  },
  "cells": [
    {
      "cell_type": "code",
      "execution_count": 1,
      "metadata": {
        "colab": {
          "base_uri": "https://localhost:8080/"
        },
        "id": "Q1ha0Xe2HOQY",
        "outputId": "825233e7-6248-4664-a546-4a32969238be"
      },
      "outputs": [
        {
          "output_type": "stream",
          "name": "stdout",
          "text": [
            "Requirement already satisfied: phe in /usr/local/lib/python3.10/dist-packages (1.5.0)\n"
          ]
        }
      ],
      "source": [
        "!pip install phe"
      ]
    },
    {
      "cell_type": "code",
      "source": [
        "from phe import paillier\n",
        "public_key,private_key=paillier.generate_paillier_keypair()"
      ],
      "metadata": {
        "id": "gdA26xVhHPqe"
      },
      "execution_count": 2,
      "outputs": []
    },
    {
      "cell_type": "code",
      "source": [
        "def re_scale(p):\n",
        "  pp=private_key.decrypt(p)\n",
        "  pp=round(pp,6)\n",
        "  pp=public_key.encrypt(pp)\n",
        "  return pp"
      ],
      "metadata": {
        "id": "6Xp2TUnZHXFU"
      },
      "execution_count": 3,
      "outputs": []
    },
    {
      "cell_type": "code",
      "source": [
        "def pre_re_scale(q):\n",
        "  random_num=12.345\n",
        "  w=q+random_num\n",
        "  s=re_scale(w)\n",
        "  s=s-random_num\n",
        "  return s"
      ],
      "metadata": {
        "id": "9FHLMU-LH21b"
      },
      "execution_count": 4,
      "outputs": []
    },
    {
      "cell_type": "code",
      "source": [
        "numb=14\n",
        "numb_enc=public_key.encrypt(numb)\n",
        "t=re_scale(numb_enc)\n",
        "private_key.decrypt(t)"
      ],
      "metadata": {
        "colab": {
          "base_uri": "https://localhost:8080/"
        },
        "id": "d1frNpKyH8kU",
        "outputId": "1496dbff-eaf6-4c37-82e9-84e0483a831f"
      },
      "execution_count": 5,
      "outputs": [
        {
          "output_type": "execute_result",
          "data": {
            "text/plain": [
              "14"
            ]
          },
          "metadata": {},
          "execution_count": 5
        }
      ]
    },
    {
      "cell_type": "code",
      "source": [
        "u=pre_re_scale(numb_enc)\n",
        "private_key.decrypt(u)"
      ],
      "metadata": {
        "colab": {
          "base_uri": "https://localhost:8080/"
        },
        "id": "1ylsTxcbIDuZ",
        "outputId": "f49a5ed6-8f87-4fc6-878a-1d117dfd6cbe"
      },
      "execution_count": 6,
      "outputs": [
        {
          "output_type": "execute_result",
          "data": {
            "text/plain": [
              "13.999999999999998"
            ]
          },
          "metadata": {},
          "execution_count": 6
        }
      ]
    },
    {
      "cell_type": "code",
      "source": [
        "def re_scale_vec(enc_vec):\n",
        "  re_enc=[]\n",
        "  for i in enc_vec:\n",
        "    p=private_key.decrypt(i)\n",
        "    p=round(p,6)\n",
        "    p=public_key.encrypt(p)\n",
        "    re_enc.append(p)\n",
        "\n",
        "  return re_enc"
      ],
      "metadata": {
        "id": "MRfwXcggIOkZ"
      },
      "execution_count": 7,
      "outputs": []
    },
    {
      "cell_type": "code",
      "source": [
        "import numpy as np\n",
        "def pre_re_scale_vec(enc_vec,size):\n",
        "  random_array=np.random.rand(size)\n",
        "  enc_vec=enc_vec+random_array\n",
        "  enc_vec=re_scale_vec(enc_vec)\n",
        "  enc_vec=enc_vec-random_array\n",
        "  return enc_vec"
      ],
      "metadata": {
        "id": "VxV0sZ1WIyJu"
      },
      "execution_count": 8,
      "outputs": []
    },
    {
      "cell_type": "code",
      "source": [
        "t=[1,2,3,4,5]\n",
        "size=5"
      ],
      "metadata": {
        "id": "eQDVSgTGI3N8"
      },
      "execution_count": 9,
      "outputs": []
    },
    {
      "cell_type": "code",
      "source": [
        "t_enc=[]\n",
        "for i in t:\n",
        "  p=public_key.encrypt(i)\n",
        "  t_enc.append(p)"
      ],
      "metadata": {
        "id": "why9b6I4I5Wo"
      },
      "execution_count": 10,
      "outputs": []
    },
    {
      "cell_type": "code",
      "source": [
        "re_enc=re_scale_vec(t_enc)\n",
        "for i in re_enc:\n",
        "  print(private_key.decrypt(i))"
      ],
      "metadata": {
        "colab": {
          "base_uri": "https://localhost:8080/"
        },
        "id": "yizzZixtJDXA",
        "outputId": "02e506e2-9383-48b7-f223-aff8d6a317ef"
      },
      "execution_count": 11,
      "outputs": [
        {
          "output_type": "stream",
          "name": "stdout",
          "text": [
            "1\n",
            "2\n",
            "3\n",
            "4\n",
            "5\n"
          ]
        }
      ]
    },
    {
      "cell_type": "code",
      "source": [
        "re_enc=pre_re_scale_vec(t_enc,size)\n",
        "for i in re_enc:\n",
        "  print(private_key.decrypt(i))"
      ],
      "metadata": {
        "colab": {
          "base_uri": "https://localhost:8080/"
        },
        "id": "KHVwXyCQJSgh",
        "outputId": "6ccc07d8-fbd1-4cf0-b745-b25a09460a7a"
      },
      "execution_count": 12,
      "outputs": [
        {
          "output_type": "stream",
          "name": "stdout",
          "text": [
            "1.0000001456461751\n",
            "1.9999997602128912\n",
            "3.0000001543934287\n",
            "3.999999522378991\n",
            "5.000000215825101\n"
          ]
        }
      ]
    },
    {
      "cell_type": "code",
      "source": [],
      "metadata": {
        "id": "Abb5nZQoJZB_"
      },
      "execution_count": 12,
      "outputs": []
    }
  ]
}