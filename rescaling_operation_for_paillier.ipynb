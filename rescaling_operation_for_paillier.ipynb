{
 "cells": [
  {
   "cell_type": "code",
   "execution_count": 1,
   "metadata": {
    "colab": {
     "base_uri": "https://localhost:8080/"
    },
    "id": "Q1ha0Xe2HOQY",
    "outputId": "825233e7-6248-4664-a546-4a32969238be"
   },
   "outputs": [
    {
     "name": "stdout",
     "output_type": "stream",
     "text": [
      "Requirement already satisfied: phe in c:\\users\\hp\\appdata\\local\\programs\\python\\python312\\lib\\site-packages (1.5.0)\n"
     ]
    }
   ],
   "source": [
    "!pip install phe"
   ]
  },
  {
   "cell_type": "code",
   "execution_count": 2,
   "metadata": {
    "id": "gdA26xVhHPqe"
   },
   "outputs": [],
   "source": [
    "from phe import paillier\n",
    "public_key,private_key=paillier.generate_paillier_keypair()"
   ]
  },
  {
   "cell_type": "code",
   "execution_count": 3,
   "metadata": {
    "id": "6Xp2TUnZHXFU"
   },
   "outputs": [],
   "source": [
    "def re_scale(p):\n",
    "  pp=private_key.decrypt(p)\n",
    "  pp=round(pp,6)\n",
    "  pp=public_key.encrypt(pp)\n",
    "  return pp"
   ]
  },
  {
   "cell_type": "code",
   "execution_count": 4,
   "metadata": {
    "id": "9FHLMU-LH21b"
   },
   "outputs": [],
   "source": [
    "def pre_re_scale(q):\n",
    "  random_num=12.345\n",
    "  w=q+random_num\n",
    "  s=re_scale(w)\n",
    "  s=s-random_num\n",
    "  return s"
   ]
  },
  {
   "cell_type": "code",
   "execution_count": 5,
   "metadata": {
    "colab": {
     "base_uri": "https://localhost:8080/"
    },
    "id": "d1frNpKyH8kU",
    "outputId": "1496dbff-eaf6-4c37-82e9-84e0483a831f"
   },
   "outputs": [
    {
     "data": {
      "text/plain": [
       "14"
      ]
     },
     "execution_count": 5,
     "metadata": {},
     "output_type": "execute_result"
    }
   ],
   "source": [
    "numb=14\n",
    "numb_enc=public_key.encrypt(numb)\n",
    "t=re_scale(numb_enc)\n",
    "private_key.decrypt(t)"
   ]
  },
  {
   "cell_type": "code",
   "execution_count": 6,
   "metadata": {
    "colab": {
     "base_uri": "https://localhost:8080/"
    },
    "id": "1ylsTxcbIDuZ",
    "outputId": "f49a5ed6-8f87-4fc6-878a-1d117dfd6cbe"
   },
   "outputs": [
    {
     "data": {
      "text/plain": [
       "13.999999999999998"
      ]
     },
     "execution_count": 6,
     "metadata": {},
     "output_type": "execute_result"
    }
   ],
   "source": [
    "u=pre_re_scale(numb_enc)\n",
    "private_key.decrypt(u)"
   ]
  },
  {
   "cell_type": "code",
   "execution_count": 7,
   "metadata": {
    "id": "MRfwXcggIOkZ"
   },
   "outputs": [],
   "source": [
    "def re_scale_vec(enc_vec):\n",
    "  re_enc=[]\n",
    "  for i in enc_vec:\n",
    "    p=private_key.decrypt(i)\n",
    "    p=round(p,6)\n",
    "    p=public_key.encrypt(p)\n",
    "    re_enc.append(p)\n",
    "\n",
    "  return re_enc"
   ]
  },
  {
   "cell_type": "code",
   "execution_count": 8,
   "metadata": {
    "id": "VxV0sZ1WIyJu"
   },
   "outputs": [],
   "source": [
    "import numpy as np\n",
    "def pre_re_scale_vec(enc_vec,size):\n",
    "  random_array=np.random.rand(size)\n",
    "  enc_vec=enc_vec+random_array\n",
    "  enc_vec=re_scale_vec(enc_vec)\n",
    "  enc_vec=enc_vec-random_array\n",
    "  # rpx=[]\n",
    "  # for i,j in zip(enc_vec,random_array):\n",
    "  #   rpx.append(i+j)\n",
    "  # rpx=re_scale_vec(enc_vec)\n",
    "  # rpx2=[]\n",
    "  # for i,j in zip(rpx,random_array):\n",
    "  #   rpx2.append(i-j)\n",
    "  return enc_vec"
   ]
  },
  {
   "cell_type": "code",
   "execution_count": 9,
   "metadata": {
    "id": "eQDVSgTGI3N8"
   },
   "outputs": [],
   "source": [
    "t=[1,2,3,4,5]\n",
    "size=5"
   ]
  },
  {
   "cell_type": "code",
   "execution_count": 10,
   "metadata": {
    "id": "why9b6I4I5Wo"
   },
   "outputs": [],
   "source": [
    "t_enc=[]\n",
    "for i in t:\n",
    "  p=public_key.encrypt(i)\n",
    "  t_enc.append(p)"
   ]
  },
  {
   "cell_type": "code",
   "execution_count": 11,
   "metadata": {
    "colab": {
     "base_uri": "https://localhost:8080/"
    },
    "id": "yizzZixtJDXA",
    "outputId": "02e506e2-9383-48b7-f223-aff8d6a317ef"
   },
   "outputs": [
    {
     "name": "stdout",
     "output_type": "stream",
     "text": [
      "1\n",
      "2\n",
      "3\n",
      "4\n",
      "5\n"
     ]
    }
   ],
   "source": [
    "re_enc=re_scale_vec(t_enc)\n",
    "for i in re_enc:\n",
    "  print(private_key.decrypt(i))"
   ]
  },
  {
   "cell_type": "code",
   "execution_count": 12,
   "metadata": {
    "colab": {
     "base_uri": "https://localhost:8080/"
    },
    "id": "KHVwXyCQJSgh",
    "outputId": "6ccc07d8-fbd1-4cf0-b745-b25a09460a7a"
   },
   "outputs": [
    {
     "ename": "NameError",
     "evalue": "name 'rpx2' is not defined",
     "output_type": "error",
     "traceback": [
      "\u001b[1;31m---------------------------------------------------------------------------\u001b[0m",
      "\u001b[1;31mNameError\u001b[0m                                 Traceback (most recent call last)",
      "Cell \u001b[1;32mIn[12], line 1\u001b[0m\n\u001b[1;32m----> 1\u001b[0m re_enc\u001b[38;5;241m=\u001b[39m\u001b[43mpre_re_scale_vec\u001b[49m\u001b[43m(\u001b[49m\u001b[43mt_enc\u001b[49m\u001b[43m,\u001b[49m\u001b[43msize\u001b[49m\u001b[43m)\u001b[49m\n\u001b[0;32m      2\u001b[0m \u001b[38;5;28;01mfor\u001b[39;00m i \u001b[38;5;129;01min\u001b[39;00m re_enc:\n\u001b[0;32m      3\u001b[0m   \u001b[38;5;28mprint\u001b[39m(private_key\u001b[38;5;241m.\u001b[39mdecrypt(i))\n",
      "Cell \u001b[1;32mIn[8], line 14\u001b[0m, in \u001b[0;36mpre_re_scale_vec\u001b[1;34m(enc_vec, size)\u001b[0m\n\u001b[0;32m      6\u001b[0m enc_vec\u001b[38;5;241m=\u001b[39menc_vec\u001b[38;5;241m-\u001b[39mrandom_array\n\u001b[0;32m      7\u001b[0m \u001b[38;5;66;03m# rpx=[]\u001b[39;00m\n\u001b[0;32m      8\u001b[0m \u001b[38;5;66;03m# for i,j in zip(enc_vec,random_array):\u001b[39;00m\n\u001b[0;32m      9\u001b[0m \u001b[38;5;66;03m#   rpx.append(i+j)\u001b[39;00m\n\u001b[1;32m   (...)\u001b[0m\n\u001b[0;32m     12\u001b[0m \u001b[38;5;66;03m# for i,j in zip(rpx,random_array):\u001b[39;00m\n\u001b[0;32m     13\u001b[0m \u001b[38;5;66;03m#   rpx2.append(i-j)\u001b[39;00m\n\u001b[1;32m---> 14\u001b[0m \u001b[38;5;28;01mreturn\u001b[39;00m \u001b[43mrpx2\u001b[49m\n",
      "\u001b[1;31mNameError\u001b[0m: name 'rpx2' is not defined"
     ]
    }
   ],
   "source": [
    "re_enc=pre_re_scale_vec(t_enc,size)\n",
    "for i in re_enc:\n",
    "  print(private_key.decrypt(i))"
   ]
  },
  {
   "cell_type": "code",
   "execution_count": null,
   "metadata": {
    "id": "Abb5nZQoJZB_"
   },
   "outputs": [],
   "source": []
  }
 ],
 "metadata": {
  "colab": {
   "provenance": []
  },
  "kernelspec": {
   "display_name": "Python 3 (ipykernel)",
   "language": "python",
   "name": "python3"
  },
  "language_info": {
   "codemirror_mode": {
    "name": "ipython",
    "version": 3
   },
   "file_extension": ".py",
   "mimetype": "text/x-python",
   "name": "python",
   "nbconvert_exporter": "python",
   "pygments_lexer": "ipython3",
   "version": "3.12.3"
  }
 },
 "nbformat": 4,
 "nbformat_minor": 4
}
