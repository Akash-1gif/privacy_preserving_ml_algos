{
 "cells": [
  {
   "cell_type": "code",
   "execution_count": 1,
   "id": "a33d0920-780d-4246-833a-77b8b8d3ffb2",
   "metadata": {},
   "outputs": [],
   "source": [
    "import numpy as np\n",
    "from sklearn.model_selection import train_test_split\n",
    "from sklearn import datasets\n",
    "import matplotlib.pyplot as plt\n",
    "plt.style.use(\"dark_background\")"
   ]
  },
  {
   "cell_type": "code",
   "execution_count": 2,
   "id": "76512848-e9d1-4256-90cd-4fc48c7f9209",
   "metadata": {},
   "outputs": [],
   "source": [
    "X, y = datasets.make_regression(n_samples=100, n_features=1, noise=20, random_state=1234)\n",
    "X_train, X_test, y_train, y_test = train_test_split(X, y, test_size=0.2, random_state=4)"
   ]
  },
  {
   "cell_type": "code",
   "execution_count": 3,
   "id": "fad9bc4f-4cbe-462e-9dda-b6e7ccf97c61",
   "metadata": {},
   "outputs": [
    {
     "data": {
      "text/plain": [
       "array([[ 0.03614194],\n",
       "       [ 0.98491984],\n",
       "       [ 0.01828919],\n",
       "       [-0.12209157]])"
      ]
     },
     "execution_count": 3,
     "metadata": {},
     "output_type": "execute_result"
    }
   ],
   "source": [
    "X_train[:4]"
   ]
  },
  {
   "cell_type": "code",
   "execution_count": 4,
   "id": "ec3db678-9ef7-4c4d-bfd4-810ff4a9384b",
   "metadata": {},
   "outputs": [
    {
     "data": {
      "text/plain": [
       "array([ 4.72571035, 37.3033147 ,  9.84617977, -4.74696202])"
      ]
     },
     "execution_count": 4,
     "metadata": {},
     "output_type": "execute_result"
    }
   ],
   "source": [
    "y_train[:4]"
   ]
  },
  {
   "cell_type": "code",
   "execution_count": 5,
   "id": "5dc5665f-18d0-44e8-ac6c-046609eaa733",
   "metadata": {},
   "outputs": [],
   "source": [
    "X_train = np.round(X_train, 4)\n",
    "y_train = np.round(y_train, 4)\n",
    "X_test = np.round(X_test, 4)\n",
    "y_test = np.round(y_test,4)"
   ]
  },
  {
   "cell_type": "code",
   "execution_count": 6,
   "id": "dc283a99-ff66-41d9-9597-101bc6519618",
   "metadata": {},
   "outputs": [
    {
     "data": {
      "text/plain": [
       "array([[ 0.0361],\n",
       "       [ 0.9849],\n",
       "       [ 0.0183],\n",
       "       [-0.1221]])"
      ]
     },
     "execution_count": 6,
     "metadata": {},
     "output_type": "execute_result"
    }
   ],
   "source": [
    "X_train[:4]"
   ]
  },
  {
   "cell_type": "code",
   "execution_count": 7,
   "id": "c0cb134a-55be-4bf9-b938-cada2cb255d5",
   "metadata": {},
   "outputs": [
    {
     "data": {
      "text/plain": [
       "array([ 4.7257, 37.3033,  9.8462, -4.747 ])"
      ]
     },
     "execution_count": 7,
     "metadata": {},
     "output_type": "execute_result"
    }
   ],
   "source": [
    "y_train[:4]"
   ]
  },
  {
   "cell_type": "code",
   "execution_count": 8,
   "id": "b55c68aa-9e77-4053-9e80-bdd5a8148e5c",
   "metadata": {},
   "outputs": [
    {
     "data": {
      "image/png": "[encoded data removed]",
      "text/plain": [
       "<Figure size 576x432 with 1 Axes>"
      ]
     },
     "metadata": {
      "needs_background": "dark"
     },
     "output_type": "display_data"
    }
   ],
   "source": [
    "X = np.round(X, 4)\n",
    "y = np.round(y, 4)\n",
    "fig=plt.figure(figsize=(8,6))\n",
    "plt.scatter(X[:,0],y)\n",
    "plt.show()"
   ]
  },
  {
   "cell_type": "code",
   "execution_count": 9,
   "id": "f0140bc6-74a6-4ceb-a7c7-9c7efb0355d2",
   "metadata": {},
   "outputs": [
    {
     "data": {
      "text/plain": [
       "array([[ 1.0000e+00,  3.6100e-02],\n",
       "       [ 1.0000e+00,  9.8490e-01],\n",
       "       [ 1.0000e+00,  1.8300e-02],\n",
       "       [ 1.0000e+00, -1.2210e-01],\n",
       "       [ 1.0000e+00,  2.1530e-01],\n",
       "       [ 1.0000e+00, -1.1910e+00],\n",
       "       [ 1.0000e+00, -3.1270e-01],\n",
       "       [ 1.0000e+00,  5.6570e-01],\n",
       "       [ 1.0000e+00,  2.0078e+00],\n",
       "       [ 1.0000e+00,  3.0800e-01],\n",
       "       [ 1.0000e+00,  1.1500e+00],\n",
       "       [ 1.0000e+00,  1.3920e+00],\n",
       "       [ 1.0000e+00, -2.0260e-01],\n",
       "       [ 1.0000e+00,  1.6450e-01],\n",
       "       [ 1.0000e+00, -9.7420e-01],\n",
       "       [ 1.0000e+00,  3.9500e-02],\n",
       "       [ 1.0000e+00,  6.3200e-01],\n",
       "       [ 1.0000e+00,  1.0459e+00],\n",
       "       [ 1.0000e+00,  2.1190e-01],\n",
       "       [ 1.0000e+00, -3.5635e+00],\n",
       "       [ 1.0000e+00,  7.6740e-01],\n",
       "       [ 1.0000e+00,  1.4327e+00],\n",
       "       [ 1.0000e+00,  1.9340e-01],\n",
       "       [ 1.0000e+00,  1.0590e+00],\n",
       "       [ 1.0000e+00, -2.4005e+00],\n",
       "       [ 1.0000e+00, -5.4820e-01],\n",
       "       [ 1.0000e+00,  2.3910e+00],\n",
       "       [ 1.0000e+00,  1.5700e-02],\n",
       "       [ 1.0000e+00, -2.0850e-01],\n",
       "       [ 1.0000e+00,  4.0550e-01],\n",
       "       [ 1.0000e+00, -1.4460e-01],\n",
       "       [ 1.0000e+00, -2.0213e+00],\n",
       "       [ 1.0000e+00, -4.0000e-01],\n",
       "       [ 1.0000e+00,  8.6370e-01],\n",
       "       [ 1.0000e+00,  3.5400e-01],\n",
       "       [ 1.0000e+00, -8.1900e-02],\n",
       "       [ 1.0000e+00,  5.2350e-01],\n",
       "       [ 1.0000e+00, -4.6930e-01],\n",
       "       [ 1.0000e+00, -5.1190e-01],\n",
       "       [ 1.0000e+00, -1.5469e+00],\n",
       "       [ 1.0000e+00,  1.5457e+00],\n",
       "       [ 1.0000e+00,  1.3182e+00],\n",
       "       [ 1.0000e+00, -5.6640e-01],\n",
       "       [ 1.0000e+00,  2.0306e+00],\n",
       "       [ 1.0000e+00, -3.9780e-01],\n",
       "       [ 1.0000e+00, -5.8470e-01],\n",
       "       [ 1.0000e+00, -1.0090e-01],\n",
       "       [ 1.0000e+00,  2.1000e-03],\n",
       "       [ 1.0000e+00,  1.5260e-01],\n",
       "       [ 1.0000e+00,  2.7080e-01],\n",
       "       [ 1.0000e+00, -2.0750e+00],\n",
       "       [ 1.0000e+00, -7.8540e-01],\n",
       "       [ 1.0000e+00, -1.8170e+00],\n",
       "       [ 1.0000e+00, -7.2060e-01],\n",
       "       [ 1.0000e+00,  6.7560e-01],\n",
       "       [ 1.0000e+00,  8.5960e-01],\n",
       "       [ 1.0000e+00, -1.3680e-01],\n",
       "       [ 1.0000e+00,  8.4170e-01],\n",
       "       [ 1.0000e+00,  7.5540e-01],\n",
       "       [ 1.0000e+00, -7.0300e-02],\n",
       "       [ 1.0000e+00,  9.5330e-01],\n",
       "       [ 1.0000e+00, -3.5500e-02],\n",
       "       [ 1.0000e+00, -1.8310e-01],\n",
       "       [ 1.0000e+00,  5.2830e-01],\n",
       "       [ 1.0000e+00, -1.1527e+00],\n",
       "       [ 1.0000e+00, -3.3410e-01],\n",
       "       [ 1.0000e+00,  7.9800e-02],\n",
       "       [ 1.0000e+00,  3.3740e-01],\n",
       "       [ 1.0000e+00,  8.1660e-01],\n",
       "       [ 1.0000e+00,  2.2700e-01],\n",
       "       [ 1.0000e+00, -3.2280e-01],\n",
       "       [ 1.0000e+00, -1.4458e+00],\n",
       "       [ 1.0000e+00, -1.0279e+00],\n",
       "       [ 1.0000e+00,  4.6210e-01],\n",
       "       [ 1.0000e+00, -1.1426e+00],\n",
       "       [ 1.0000e+00, -4.3010e-01],\n",
       "       [ 1.0000e+00,  1.0476e+00],\n",
       "       [ 1.0000e+00, -1.0690e+00],\n",
       "       [ 1.0000e+00,  1.3212e+00],\n",
       "       [ 1.0000e+00, -6.5600e-01]])"
      ]
     },
     "execution_count": 9,
     "metadata": {},
     "output_type": "execute_result"
    }
   ],
   "source": [
    "X_train_augmented = np.hstack((np.ones((X_train.shape[0], 1)), X_train))\n",
    "X_train_augmented"
   ]
  },
  {
   "cell_type": "code",
   "execution_count": 10,
   "id": "d363b1c5-4d2c-4952-9974-e9e9107900d0",
   "metadata": {},
   "outputs": [
    {
     "data": {
      "text/plain": [
       "array([[ 1.0000e+00,  1.0000e+00,  1.0000e+00,  1.0000e+00,  1.0000e+00,\n",
       "         1.0000e+00,  1.0000e+00,  1.0000e+00,  1.0000e+00,  1.0000e+00,\n",
       "         1.0000e+00,  1.0000e+00,  1.0000e+00,  1.0000e+00,  1.0000e+00,\n",
       "         1.0000e+00,  1.0000e+00,  1.0000e+00,  1.0000e+00,  1.0000e+00,\n",
       "         1.0000e+00,  1.0000e+00,  1.0000e+00,  1.0000e+00,  1.0000e+00,\n",
       "         1.0000e+00,  1.0000e+00,  1.0000e+00,  1.0000e+00,  1.0000e+00,\n",
       "         1.0000e+00,  1.0000e+00,  1.0000e+00,  1.0000e+00,  1.0000e+00,\n",
       "         1.0000e+00,  1.0000e+00,  1.0000e+00,  1.0000e+00,  1.0000e+00,\n",
       "         1.0000e+00,  1.0000e+00,  1.0000e+00,  1.0000e+00,  1.0000e+00,\n",
       "         1.0000e+00,  1.0000e+00,  1.0000e+00,  1.0000e+00,  1.0000e+00,\n",
       "         1.0000e+00,  1.0000e+00,  1.0000e+00,  1.0000e+00,  1.0000e+00,\n",
       "         1.0000e+00,  1.0000e+00,  1.0000e+00,  1.0000e+00,  1.0000e+00,\n",
       "         1.0000e+00,  1.0000e+00,  1.0000e+00,  1.0000e+00,  1.0000e+00,\n",
       "         1.0000e+00,  1.0000e+00,  1.0000e+00,  1.0000e+00,  1.0000e+00,\n",
       "         1.0000e+00,  1.0000e+00,  1.0000e+00,  1.0000e+00,  1.0000e+00,\n",
       "         1.0000e+00,  1.0000e+00,  1.0000e+00,  1.0000e+00,  1.0000e+00],\n",
       "       [ 3.6100e-02,  9.8490e-01,  1.8300e-02, -1.2210e-01,  2.1530e-01,\n",
       "        -1.1910e+00, -3.1270e-01,  5.6570e-01,  2.0078e+00,  3.0800e-01,\n",
       "         1.1500e+00,  1.3920e+00, -2.0260e-01,  1.6450e-01, -9.7420e-01,\n",
       "         3.9500e-02,  6.3200e-01,  1.0459e+00,  2.1190e-01, -3.5635e+00,\n",
       "         7.6740e-01,  1.4327e+00,  1.9340e-01,  1.0590e+00, -2.4005e+00,\n",
       "        -5.4820e-01,  2.3910e+00,  1.5700e-02, -2.0850e-01,  4.0550e-01,\n",
       "        -1.4460e-01, -2.0213e+00, -4.0000e-01,  8.6370e-01,  3.5400e-01,\n",
       "        -8.1900e-02,  5.2350e-01, -4.6930e-01, -5.1190e-01, -1.5469e+00,\n",
       "         1.5457e+00,  1.3182e+00, -5.6640e-01,  2.0306e+00, -3.9780e-01,\n",
       "        -5.8470e-01, -1.0090e-01,  2.1000e-03,  1.5260e-01,  2.7080e-01,\n",
       "        -2.0750e+00, -7.8540e-01, -1.8170e+00, -7.2060e-01,  6.7560e-01,\n",
       "         8.5960e-01, -1.3680e-01,  8.4170e-01,  7.5540e-01, -7.0300e-02,\n",
       "         9.5330e-01, -3.5500e-02, -1.8310e-01,  5.2830e-01, -1.1527e+00,\n",
       "        -3.3410e-01,  7.9800e-02,  3.3740e-01,  8.1660e-01,  2.2700e-01,\n",
       "        -3.2280e-01, -1.4458e+00, -1.0279e+00,  4.6210e-01, -1.1426e+00,\n",
       "        -4.3010e-01,  1.0476e+00, -1.0690e+00,  1.3212e+00, -6.5600e-01]])"
      ]
     },
     "execution_count": 10,
     "metadata": {},
     "output_type": "execute_result"
    }
   ],
   "source": [
    "X_train_T = X_train_augmented.T\n",
    "X_train_T"
   ]
  },
  {
   "cell_type": "code",
   "execution_count": 11,
   "id": "0bde6a1b-1063-4d00-b5d5-463d3b132daa",
   "metadata": {},
   "outputs": [
    {
     "data": {
      "text/plain": [
       "array([[80.        ,  1.2497    ],\n",
       "       [ 1.2497    , 82.88528039]])"
      ]
     },
     "execution_count": 11,
     "metadata": {},
     "output_type": "execute_result"
    }
   ],
   "source": [
    "XTX=X_train_T.dot(X_train_augmented)\n",
    "XTX"
   ]
  },
  {
   "cell_type": "code",
   "execution_count": 12,
   "id": "865ddcf4-0309-4635-8461-923bd298492d",
   "metadata": {},
   "outputs": [
    {
     "data": {
      "text/plain": [
       "array([ 182.8292    , 7245.84706509])"
      ]
     },
     "execution_count": 12,
     "metadata": {},
     "output_type": "execute_result"
    }
   ],
   "source": [
    "XTY=X_train_T.dot(y_train)\n",
    "XTY"
   ]
  },
  {
   "cell_type": "code",
   "execution_count": 13,
   "id": "57b04133-9563-41ed-b11d-cc5908ae516c",
   "metadata": {},
   "outputs": [],
   "source": [
    "XTX_inv = np.linalg.inv(XTX)\n",
    "theta = np.dot(XTX_inv, XTY)"
   ]
  },
  {
   "cell_type": "code",
   "execution_count": 14,
   "id": "6cf7696d-f464-4f71-b72a-d4ea776e08a7",
   "metadata": {},
   "outputs": [],
   "source": [
    "bias = theta[0]\n",
    "weights = theta[1:]"
   ]
  },
  {
   "cell_type": "code",
   "execution_count": 15,
   "id": "5d791ed6-8a8d-4241-bb6c-3f8ec498a6b5",
   "metadata": {},
   "outputs": [
    {
     "data": {
      "text/plain": [
       "0.9199690163964509"
      ]
     },
     "execution_count": 15,
     "metadata": {},
     "output_type": "execute_result"
    }
   ],
   "source": [
    "bias"
   ]
  },
  {
   "cell_type": "code",
   "execution_count": 16,
   "id": "db7c175a-6305-4b0b-98d5-b14bb33b99b3",
   "metadata": {},
   "outputs": [
    {
     "data": {
      "text/plain": [
       "array([87.40632047])"
      ]
     },
     "execution_count": 16,
     "metadata": {},
     "output_type": "execute_result"
    }
   ],
   "source": [
    "weights"
   ]
  },
  {
   "cell_type": "code",
   "execution_count": 17,
   "id": "9757b9f7-7936-48c9-933f-7041355bcd6e",
   "metadata": {},
   "outputs": [],
   "source": [
    "predictions=X_test.dot(weights)+bias"
   ]
  },
  {
   "cell_type": "code",
   "execution_count": 18,
   "id": "a1874144-eb2d-43e4-923d-1b7b2996e988",
   "metadata": {},
   "outputs": [
    {
     "name": "stdout",
     "output_type": "stream",
     "text": [
      "-6.4004 22.57925522825275\n",
      "-75.8329 -54.71415396119247\n",
      "43.0244 41.51146424152182\n",
      "81.7216 87.61829828814894\n",
      "-197.9802 -195.10618589615453\n",
      "32.0971 49.29062676313284\n",
      "-102.6675 -77.50098170708004\n",
      "15.3507 11.819537178698633\n",
      "6.8923 26.18913626356214\n",
      "26.2885 7.580330636022966\n",
      "-80.369 -80.04450563268544\n",
      "30.8459 62.51520304987157\n",
      "95.0686 78.46685653519755\n",
      "69.4388 62.47149988963781\n",
      "-45.8087 -29.21773028081119\n",
      "63.188 42.1233084847946\n",
      "91.416 91.28062311573885\n",
      "-108.3774 -121.623692279094\n",
      "142.7546 116.39245898606296\n",
      "87.7721 74.42868452959722\n"
     ]
    }
   ],
   "source": [
    "for a,b in zip(y_test,predictions):\n",
    "    print(a,b)"
   ]
  },
  {
   "cell_type": "code",
   "execution_count": 19,
   "id": "062b2bed-9142-4bc2-a3d8-2ca6c89c5874",
   "metadata": {},
   "outputs": [
    {
     "name": "stdout",
     "output_type": "stream",
     "text": [
      "304.4814978118552\n"
     ]
    }
   ],
   "source": [
    "def mse(y_test, enc_predictions):\n",
    "    return np.mean((y_test-enc_predictions)**2)\n",
    "\n",
    "mse = mse(y_test,predictions)\n",
    "print(mse)"
   ]
  },
  {
   "cell_type": "code",
   "execution_count": 20,
   "id": "24ea9dc6-da75-45e9-b2a6-d6975f637e89",
   "metadata": {},
   "outputs": [
    {
     "data": {
      "image/png": "[encoded data removed]",
      "text/plain": [
       "<Figure size 432x288 with 1 Axes>"
      ]
     },
     "metadata": {
      "needs_background": "dark"
     },
     "output_type": "display_data"
    }
   ],
   "source": [
    "plt.scatter(X_test,y_test,color='green',label='actual data')\n",
    "plt.plot(X_test,predictions,color='red',linewidth=2,label='Prediction')\n",
    "plt.legend()\n",
    "plt.show()"
   ]
  }
 ],
 "metadata": {
  "kernelspec": {
   "display_name": "Python 3 (ipykernel)",
   "language": "python",
   "name": "python3"
  },
  "language_info": {
   "codemirror_mode": {
    "name": "ipython",
    "version": 3
   },
   "file_extension": ".py",
   "mimetype": "text/x-python",
   "name": "python",
   "nbconvert_exporter": "python",
   "pygments_lexer": "ipython3",
   "version": "3.10.0"
  }
 },
 "nbformat": 4,
 "nbformat_minor": 5
}
