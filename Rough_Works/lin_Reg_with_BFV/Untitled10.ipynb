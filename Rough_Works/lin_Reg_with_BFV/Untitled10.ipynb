{
 "cells": [
  {
   "cell_type": "code",
   "execution_count": 1,
   "id": "43e98294-588d-4bd1-9c9e-7ca4ddf0b5a9",
   "metadata": {},
   "outputs": [],
   "source": [
    "import numpy as np\n",
    "from sklearn.model_selection import train_test_split\n",
    "from sklearn import datasets\n",
    "import matplotlib.pyplot as plt\n",
    "plt.style.use(\"dark_background\")"
   ]
  },
  {
   "cell_type": "code",
   "execution_count": 2,
   "id": "e089307e-1981-42f5-99cd-b6d4ce356e54",
   "metadata": {},
   "outputs": [],
   "source": [
    "X, y = datasets.make_regression(n_samples=100, n_features=1, noise=20, random_state=1234)\n",
    "X_train, X_test, y_train, y_test = train_test_split(X, y, test_size=0.2, random_state=4)"
   ]
  },
  {
   "cell_type": "code",
   "execution_count": 3,
   "id": "20d2dc1c-db37-476e-b5c8-25094ce788a2",
   "metadata": {},
   "outputs": [],
   "source": [
    "def normalize(data, new_min, new_max):\n",
    "    data_min = np.min(data)\n",
    "    data_max = np.max(data)\n",
    "    # Scale to 0-1\n",
    "    data_norm = (data - data_min) / (data_max - data_min)\n",
    "    # Scale to new_min to new_max\n",
    "    data_scaled = data_norm * (new_max - new_min) + new_min\n",
    "    return data_scaled"
   ]
  },
  {
   "cell_type": "code",
   "execution_count": 4,
   "id": "3e2165a9-c7f3-4dd4-85ce-ddbddb253d1c",
   "metadata": {},
   "outputs": [],
   "source": [
    "X_train = normalize(X_train, -10, 10)\n",
    "y_train = normalize(y_train, -10, 10)\n",
    "X_test = normalize(X_test, -10, 10)\n",
    "y_test = normalize(y_test, -10, 10)"
   ]
  },
  {
   "cell_type": "code",
   "execution_count": 5,
   "id": "d46ea141-dde8-4cb5-8159-091931b52fb1",
   "metadata": {},
   "outputs": [],
   "source": [
    "X_train = np.round(X_train, 4)\n",
    "y_train = np.round(y_train, 4)\n",
    "X_test = np.round(X_test, 4)\n",
    "y_test = np.round(y_test,4)"
   ]
  },
  {
   "cell_type": "code",
   "execution_count": 6,
   "id": "a830ab04-86f4-4dea-9c96-ede17d39cce5",
   "metadata": {},
   "outputs": [
    {
     "data": {
      "image/png": "[encoded data removed]",
      "text/plain": [
       "<Figure size 576x432 with 1 Axes>"
      ]
     },
     "metadata": {
      "needs_background": "dark"
     },
     "output_type": "display_data"
    }
   ],
   "source": [
    "X = normalize(X, -10, 10)\n",
    "y = normalize(y, -10, 10)\n",
    "fig=plt.figure(figsize=(8,6))\n",
    "plt.scatter(X[:,0],y)\n",
    "plt.show()"
   ]
  },
  {
   "cell_type": "code",
   "execution_count": 7,
   "id": "4a01495a-c221-4f5f-93ae-99e39b3f8f22",
   "metadata": {},
   "outputs": [
    {
     "data": {
      "text/plain": [
       "array([[2.0906],\n",
       "       [5.2774],\n",
       "       [2.0306],\n",
       "       [1.5591]])"
      ]
     },
     "execution_count": 7,
     "metadata": {},
     "output_type": "execute_result"
    }
   ],
   "source": [
    "X_train[:4]"
   ]
  },
  {
   "cell_type": "code",
   "execution_count": 8,
   "id": "64f76144-87ca-4fe0-89ee-b75219049719",
   "metadata": {},
   "outputs": [
    {
     "data": {
      "text/plain": [
       "array([1.0673, 2.2943, 1.2602, 0.7106])"
      ]
     },
     "execution_count": 8,
     "metadata": {},
     "output_type": "execute_result"
    }
   ],
   "source": [
    "y_train[:4]"
   ]
  },
  {
   "cell_type": "code",
   "execution_count": 9,
   "id": "2824f51b-dd23-44f9-a611-94ca27464c8e",
   "metadata": {},
   "outputs": [
    {
     "data": {
      "text/plain": [
       "array([[ 1.0000e+00,  2.0906e+00],\n",
       "       [ 1.0000e+00,  5.2774e+00],\n",
       "       [ 1.0000e+00,  2.0306e+00],\n",
       "       [ 1.0000e+00,  1.5591e+00],\n",
       "       [ 1.0000e+00,  2.6922e+00],\n",
       "       [ 1.0000e+00, -2.0311e+00],\n",
       "       [ 1.0000e+00,  9.1910e-01],\n",
       "       [ 1.0000e+00,  3.8694e+00],\n",
       "       [ 1.0000e+00,  8.7132e+00],\n",
       "       [ 1.0000e+00,  3.0036e+00],\n",
       "       [ 1.0000e+00,  5.8320e+00],\n",
       "       [ 1.0000e+00,  6.6446e+00],\n",
       "       [ 1.0000e+00,  1.2885e+00],\n",
       "       [ 1.0000e+00,  2.5218e+00],\n",
       "       [ 1.0000e+00, -1.3031e+00],\n",
       "       [ 1.0000e+00,  2.1019e+00],\n",
       "       [ 1.0000e+00,  4.0919e+00],\n",
       "       [ 1.0000e+00,  5.4823e+00],\n",
       "       [ 1.0000e+00,  2.6809e+00],\n",
       "       [ 1.0000e+00, -1.0000e+01],\n",
       "       [ 1.0000e+00,  4.5467e+00],\n",
       "       [ 1.0000e+00,  6.7814e+00],\n",
       "       [ 1.0000e+00,  2.6189e+00],\n",
       "       [ 1.0000e+00,  5.5261e+00],\n",
       "       [ 1.0000e+00, -6.0935e+00],\n",
       "       [ 1.0000e+00,  1.2780e-01],\n",
       "       [ 1.0000e+00,  1.0000e+01],\n",
       "       [ 1.0000e+00,  2.0219e+00],\n",
       "       [ 1.0000e+00,  1.2689e+00],\n",
       "       [ 1.0000e+00,  3.3310e+00],\n",
       "       [ 1.0000e+00,  1.4835e+00],\n",
       "       [ 1.0000e+00, -4.8198e+00],\n",
       "       [ 1.0000e+00,  6.2580e-01],\n",
       "       [ 1.0000e+00,  4.8703e+00],\n",
       "       [ 1.0000e+00,  3.1583e+00],\n",
       "       [ 1.0000e+00,  1.6940e+00],\n",
       "       [ 1.0000e+00,  3.7276e+00],\n",
       "       [ 1.0000e+00,  3.9290e-01],\n",
       "       [ 1.0000e+00,  2.4990e-01],\n",
       "       [ 1.0000e+00, -3.2266e+00],\n",
       "       [ 1.0000e+00,  7.1608e+00],\n",
       "       [ 1.0000e+00,  6.3966e+00],\n",
       "       [ 1.0000e+00,  6.6600e-02],\n",
       "       [ 1.0000e+00,  8.7896e+00],\n",
       "       [ 1.0000e+00,  6.3290e-01],\n",
       "       [ 1.0000e+00,  5.2000e-03],\n",
       "       [ 1.0000e+00,  1.6302e+00],\n",
       "       [ 1.0000e+00,  1.9763e+00],\n",
       "       [ 1.0000e+00,  2.4819e+00],\n",
       "       [ 1.0000e+00,  2.8789e+00],\n",
       "       [ 1.0000e+00, -5.0003e+00],\n",
       "       [ 1.0000e+00, -6.6890e-01],\n",
       "       [ 1.0000e+00, -4.1339e+00],\n",
       "       [ 1.0000e+00, -4.5110e-01],\n",
       "       [ 1.0000e+00,  4.2383e+00],\n",
       "       [ 1.0000e+00,  4.8564e+00],\n",
       "       [ 1.0000e+00,  1.5097e+00],\n",
       "       [ 1.0000e+00,  4.7962e+00],\n",
       "       [ 1.0000e+00,  4.5065e+00],\n",
       "       [ 1.0000e+00,  1.7329e+00],\n",
       "       [ 1.0000e+00,  5.1712e+00],\n",
       "       [ 1.0000e+00,  1.8499e+00],\n",
       "       [ 1.0000e+00,  1.3542e+00],\n",
       "       [ 1.0000e+00,  3.7436e+00],\n",
       "       [ 1.0000e+00, -1.9024e+00],\n",
       "       [ 1.0000e+00,  8.4710e-01],\n",
       "       [ 1.0000e+00,  2.2374e+00],\n",
       "       [ 1.0000e+00,  3.1026e+00],\n",
       "       [ 1.0000e+00,  4.7120e+00],\n",
       "       [ 1.0000e+00,  2.7315e+00],\n",
       "       [ 1.0000e+00,  8.8500e-01],\n",
       "       [ 1.0000e+00, -2.8870e+00],\n",
       "       [ 1.0000e+00, -1.4832e+00],\n",
       "       [ 1.0000e+00,  3.5212e+00],\n",
       "       [ 1.0000e+00, -1.8687e+00],\n",
       "       [ 1.0000e+00,  5.2460e-01],\n",
       "       [ 1.0000e+00,  5.4878e+00],\n",
       "       [ 1.0000e+00, -1.6213e+00],\n",
       "       [ 1.0000e+00,  6.4067e+00],\n",
       "       [ 1.0000e+00, -2.3410e-01]])"
      ]
     },
     "execution_count": 9,
     "metadata": {},
     "output_type": "execute_result"
    }
   ],
   "source": [
    "X_train_augmented = np.hstack((np.ones((X_train.shape[0], 1)), X_train))\n",
    "X_train_augmented"
   ]
  },
  {
   "cell_type": "code",
   "execution_count": 10,
   "id": "0cc09af5-5703-40f3-a41b-4cb027502bfc",
   "metadata": {},
   "outputs": [
    {
     "data": {
      "text/plain": [
       "array([[ 1.0000e+00,  1.0000e+00,  1.0000e+00,  1.0000e+00,  1.0000e+00,\n",
       "         1.0000e+00,  1.0000e+00,  1.0000e+00,  1.0000e+00,  1.0000e+00,\n",
       "         1.0000e+00,  1.0000e+00,  1.0000e+00,  1.0000e+00,  1.0000e+00,\n",
       "         1.0000e+00,  1.0000e+00,  1.0000e+00,  1.0000e+00,  1.0000e+00,\n",
       "         1.0000e+00,  1.0000e+00,  1.0000e+00,  1.0000e+00,  1.0000e+00,\n",
       "         1.0000e+00,  1.0000e+00,  1.0000e+00,  1.0000e+00,  1.0000e+00,\n",
       "         1.0000e+00,  1.0000e+00,  1.0000e+00,  1.0000e+00,  1.0000e+00,\n",
       "         1.0000e+00,  1.0000e+00,  1.0000e+00,  1.0000e+00,  1.0000e+00,\n",
       "         1.0000e+00,  1.0000e+00,  1.0000e+00,  1.0000e+00,  1.0000e+00,\n",
       "         1.0000e+00,  1.0000e+00,  1.0000e+00,  1.0000e+00,  1.0000e+00,\n",
       "         1.0000e+00,  1.0000e+00,  1.0000e+00,  1.0000e+00,  1.0000e+00,\n",
       "         1.0000e+00,  1.0000e+00,  1.0000e+00,  1.0000e+00,  1.0000e+00,\n",
       "         1.0000e+00,  1.0000e+00,  1.0000e+00,  1.0000e+00,  1.0000e+00,\n",
       "         1.0000e+00,  1.0000e+00,  1.0000e+00,  1.0000e+00,  1.0000e+00,\n",
       "         1.0000e+00,  1.0000e+00,  1.0000e+00,  1.0000e+00,  1.0000e+00,\n",
       "         1.0000e+00,  1.0000e+00,  1.0000e+00,  1.0000e+00,  1.0000e+00],\n",
       "       [ 2.0906e+00,  5.2774e+00,  2.0306e+00,  1.5591e+00,  2.6922e+00,\n",
       "        -2.0311e+00,  9.1910e-01,  3.8694e+00,  8.7132e+00,  3.0036e+00,\n",
       "         5.8320e+00,  6.6446e+00,  1.2885e+00,  2.5218e+00, -1.3031e+00,\n",
       "         2.1019e+00,  4.0919e+00,  5.4823e+00,  2.6809e+00, -1.0000e+01,\n",
       "         4.5467e+00,  6.7814e+00,  2.6189e+00,  5.5261e+00, -6.0935e+00,\n",
       "         1.2780e-01,  1.0000e+01,  2.0219e+00,  1.2689e+00,  3.3310e+00,\n",
       "         1.4835e+00, -4.8198e+00,  6.2580e-01,  4.8703e+00,  3.1583e+00,\n",
       "         1.6940e+00,  3.7276e+00,  3.9290e-01,  2.4990e-01, -3.2266e+00,\n",
       "         7.1608e+00,  6.3966e+00,  6.6600e-02,  8.7896e+00,  6.3290e-01,\n",
       "         5.2000e-03,  1.6302e+00,  1.9763e+00,  2.4819e+00,  2.8789e+00,\n",
       "        -5.0003e+00, -6.6890e-01, -4.1339e+00, -4.5110e-01,  4.2383e+00,\n",
       "         4.8564e+00,  1.5097e+00,  4.7962e+00,  4.5065e+00,  1.7329e+00,\n",
       "         5.1712e+00,  1.8499e+00,  1.3542e+00,  3.7436e+00, -1.9024e+00,\n",
       "         8.4710e-01,  2.2374e+00,  3.1026e+00,  4.7120e+00,  2.7315e+00,\n",
       "         8.8500e-01, -2.8870e+00, -1.4832e+00,  3.5212e+00, -1.8687e+00,\n",
       "         5.2460e-01,  5.4878e+00, -1.6213e+00,  6.4067e+00, -2.3410e-01]])"
      ]
     },
     "execution_count": 10,
     "metadata": {},
     "output_type": "execute_result"
    }
   ],
   "source": [
    "X_train_T = X_train_augmented.T\n",
    "X_train_T"
   ]
  },
  {
   "cell_type": "code",
   "execution_count": 11,
   "id": "eb1c21c6-2eca-4f48-94fa-27d5a496fae0",
   "metadata": {},
   "outputs": [
    {
     "data": {
      "text/plain": [
       "array([[  80.        ,  161.7329    ],\n",
       "       [ 161.7329    , 1261.82542855]])"
      ]
     },
     "execution_count": 11,
     "metadata": {},
     "output_type": "execute_result"
    }
   ],
   "source": [
    "XTX=X_train_T.dot(X_train_augmented)\n",
    "XTX"
   ]
  },
  {
   "cell_type": "code",
   "execution_count": 12,
   "id": "1308008e-2793-45c1-a02f-ea0cb1065dad",
   "metadata": {},
   "outputs": [
    {
     "data": {
      "text/plain": [
       "array([  78.0349    , 1074.01614145])"
      ]
     },
     "execution_count": 12,
     "metadata": {},
     "output_type": "execute_result"
    }
   ],
   "source": [
    "XTY=X_train_T.dot(y_train)\n",
    "XTY"
   ]
  },
  {
   "cell_type": "code",
   "execution_count": 13,
   "id": "d23dfa1e-9205-4259-b7be-b2a01a7b23f8",
   "metadata": {},
   "outputs": [],
   "source": [
    "XTX_inv = np.linalg.inv(XTX)\n",
    "theta = np.dot(XTX, XTY)"
   ]
  },
  {
   "cell_type": "code",
   "execution_count": 14,
   "id": "c64d146b-70eb-4c2c-9f41-1462fef316ad",
   "metadata": {},
   "outputs": [],
   "source": [
    "bias = theta[0]\n",
    "weights = theta[1:]"
   ]
  },
  {
   "cell_type": "code",
   "execution_count": 15,
   "id": "a42d669b-8987-4f76-b2eb-a67eeadaad96",
   "metadata": {},
   "outputs": [
    {
     "data": {
      "text/plain": [
       "179946.53720351867"
      ]
     },
     "execution_count": 15,
     "metadata": {},
     "output_type": "execute_result"
    }
   ],
   "source": [
    "bias"
   ]
  },
  {
   "cell_type": "code",
   "execution_count": 16,
   "id": "c6bb93d0-417a-4ab4-958a-7c25758804fd",
   "metadata": {},
   "outputs": [
    {
     "data": {
      "text/plain": [
       "array([1367841.68863297])"
      ]
     },
     "execution_count": 16,
     "metadata": {},
     "output_type": "execute_result"
    }
   ],
   "source": [
    "weights"
   ]
  },
  {
   "cell_type": "code",
   "execution_count": 17,
   "id": "8d28e629-4182-4e3b-89d2-febb26c9f64b",
   "metadata": {},
   "outputs": [],
   "source": [
    "predictions=[]\n",
    "for i in X_test:\n",
    "    p=i.dot(weights)\n",
    "    p=p+bias\n",
    "    predictions.append(p)"
   ]
  },
  {
   "cell_type": "code",
   "execution_count": 18,
   "id": "776b77a1-fa86-40ac-8748-33a1dddc5030",
   "metadata": {},
   "outputs": [
    {
     "name": "stdout",
     "output_type": "stream",
     "text": [
      "1.2451 5619305.796221404\n",
      "-2.8304 -1169018.9361263206\n",
      "4.1462 7281917.368754785\n",
      "6.4176 11331686.256290432\n",
      "-10.0 -13498470.349126225\n",
      "3.5048 7965564.644733546\n",
      "-4.4055 -3169760.9740897724\n",
      "2.5218 4674400.757713746\n",
      "2.0253 5936234.715477665\n",
      "3.1638 4302074.250067851\n",
      "-3.0966 -3393129.521843537\n",
      "3.4313 9126725.454214077\n",
      "7.201 10527258.559205381\n",
      "5.6966 9123032.28165477\n",
      "-1.068 1070548.2606724482\n",
      "5.3297 7335947.115455788\n",
      "6.9866 11652855.484781455\n",
      "-4.7406 -7044856.47798699\n",
      "10.0 13858363.423533263\n",
      "6.7727 10172987.56184944\n"
     ]
    }
   ],
   "source": [
    "for a,b in zip(y_test,predictions):\n",
    "    print(a,b)"
   ]
  },
  {
   "cell_type": "code",
   "execution_count": null,
   "id": "0a00d6da-83b3-42bb-9853-6eb3dad12997",
   "metadata": {},
   "outputs": [],
   "source": []
  }
 ],
 "metadata": {
  "kernelspec": {
   "display_name": "Python 3 (ipykernel)",
   "language": "python",
   "name": "python3"
  },
  "language_info": {
   "codemirror_mode": {
    "name": "ipython",
    "version": 3
   },
   "file_extension": ".py",
   "mimetype": "text/x-python",
   "name": "python",
   "nbconvert_exporter": "python",
   "pygments_lexer": "ipython3",
   "version": "3.10.0"
  }
 },
 "nbformat": 4,
 "nbformat_minor": 5
}
