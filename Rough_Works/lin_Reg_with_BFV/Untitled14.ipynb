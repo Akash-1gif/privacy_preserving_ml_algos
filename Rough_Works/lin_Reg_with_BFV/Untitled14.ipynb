{
 "cells": [
  {
   "cell_type": "code",
   "execution_count": 1,
   "id": "a11b14ad-80ab-4f24-849b-7d32e7042353",
   "metadata": {},
   "outputs": [
    {
     "data": {
      "image/png": "[encoded data removed]",
      "text/plain": [
       "<Figure size 576x432 with 1 Axes>"
      ]
     },
     "metadata": {
      "needs_background": "dark"
     },
     "output_type": "display_data"
    },
    {
     "name": "stdout",
     "output_type": "stream",
     "text": [
      "[[[    80]\n",
      "  [  1251]]\n",
      "\n",
      " [[  1251]\n",
      "  [317481]]]\n"
     ]
    }
   ],
   "source": [
    "import numpy as np\n",
    "from sklearn.model_selection import train_test_split\n",
    "from sklearn import datasets\n",
    "import matplotlib.pyplot as plt\n",
    "import tenseal as ts\n",
    "\n",
    "plt.style.use(\"dark_background\")\n",
    "\n",
    "# Data generation and preparation\n",
    "X, y = datasets.make_regression(n_samples=100, n_features=1, noise=20, random_state=1234)\n",
    "X_train, X_test, y_train, y_test = train_test_split(X, y, test_size=0.2, random_state=4)\n",
    "\n",
    "X_train = np.round(X_train, 3)\n",
    "y_train = np.round(y_train, 3)\n",
    "X_test = np.round(X_test, 3)\n",
    "y_test = np.round(y_test, 3)\n",
    "\n",
    "X = np.round(X, 3)\n",
    "y = np.round(y, 3)\n",
    "\n",
    "fig=plt.figure(figsize=(8,6))\n",
    "plt.scatter(X[:,0],y)\n",
    "plt.show()\n",
    "\n",
    "# Scale data for encryption\n",
    "X_train = X_train * 1000\n",
    "y_train = y_train * 1000\n",
    "\n",
    "X_train_augmented = np.hstack((np.ones((X_train.shape[0], 1)), X_train))\n",
    "X_train_T = X_train_augmented.T\n",
    "\n",
    "# TenSEAL context initialization\n",
    "context = ts.context(ts.SCHEME_TYPE.BFV, poly_modulus_degree=8192, plain_modulus=1032193, coeff_mod_bit_sizes=[40, 21, 21, 21, 21, 21, 21, 40])\n",
    "context.generate_galois_keys()\n",
    "context.global_scale = 2**21\n",
    "\n",
    "# Encrypt training data\n",
    "enc_X_train = [ts.bfv_vector(context, col) for col in X_train_T]\n",
    "enc_y_train = ts.bfv_vector(context, y_train)\n",
    "\n",
    "# Homomorphic computation of X^T * X\n",
    "XTX = []\n",
    "for i in enc_X_train:\n",
    "    row_in = []\n",
    "    for j in enc_X_train:\n",
    "        p = i.dot(j)\n",
    "        row_in.append(p)\n",
    "    XTX.append(row_in)\n",
    "\n",
    "# Homomorphic computation of X^T * y\n",
    "XTY = [i.dot(enc_y_train) for i in enc_X_train]\n",
    "\n",
    "# Decrypt X^T * X\n",
    "XTX_dec = []\n",
    "for row in XTX:\n",
    "    row_dec = [elem.decrypt() for elem in row]\n",
    "    XTX_dec.append(row_dec)\n",
    "\n",
    "XTX_dec_1 = np.array(XTX_dec)\n",
    "\n",
    "# Display the decrypted X^T * X\n",
    "print(XTX_dec_1)"
   ]
  },
  {
   "cell_type": "code",
   "execution_count": null,
   "id": "9ce4181f-a803-4bec-922c-0d7cbd2cbd8d",
   "metadata": {},
   "outputs": [],
   "source": [
    "XTY"
   ]
  }
 ],
 "metadata": {
  "kernelspec": {
   "display_name": "Python 3 (ipykernel)",
   "language": "python",
   "name": "python3"
  },
  "language_info": {
   "codemirror_mode": {
    "name": "ipython",
    "version": 3
   },
   "file_extension": ".py",
   "mimetype": "text/x-python",
   "name": "python",
   "nbconvert_exporter": "python",
   "pygments_lexer": "ipython3",
   "version": "3.10.0"
  }
 },
 "nbformat": 4,
 "nbformat_minor": 5
}
