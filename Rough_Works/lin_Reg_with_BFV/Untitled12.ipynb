{
 "cells": [
  {
   "cell_type": "code",
   "execution_count": 1,
   "id": "ee01a475-6670-4db8-bf9c-cb3e7ebca323",
   "metadata": {},
   "outputs": [],
   "source": [
    "import numpy as np\n",
    "from sklearn.model_selection import train_test_split\n",
    "from sklearn import datasets\n",
    "import matplotlib.pyplot as plt\n",
    "plt.style.use(\"dark_background\")"
   ]
  },
  {
   "cell_type": "code",
   "execution_count": 2,
   "id": "8feb606a-a8aa-4e6d-9c98-8325fe7d1f24",
   "metadata": {},
   "outputs": [],
   "source": [
    "X, y = datasets.make_regression(n_samples=100, n_features=1, noise=20, random_state=1234)\n",
    "X_train, X_test, y_train, y_test = train_test_split(X, y, test_size=0.2, random_state=4)"
   ]
  },
  {
   "cell_type": "code",
   "execution_count": 3,
   "id": "ab80b232-dfde-4fb3-8b81-b2d208091263",
   "metadata": {},
   "outputs": [
    {
     "data": {
      "text/plain": [
       "array([[ 0.03614194],\n",
       "       [ 0.98491984],\n",
       "       [ 0.01828919],\n",
       "       [-0.12209157]])"
      ]
     },
     "execution_count": 3,
     "metadata": {},
     "output_type": "execute_result"
    }
   ],
   "source": [
    "X_train[:4]"
   ]
  },
  {
   "cell_type": "code",
   "execution_count": 4,
   "id": "56e7aa48-9b49-4414-8d43-b9c8f694f56a",
   "metadata": {},
   "outputs": [
    {
     "data": {
      "text/plain": [
       "array([ 4.72571035, 37.3033147 ,  9.84617977, -4.74696202])"
      ]
     },
     "execution_count": 4,
     "metadata": {},
     "output_type": "execute_result"
    }
   ],
   "source": [
    "y_train[:4]"
   ]
  },
  {
   "cell_type": "code",
   "execution_count": 5,
   "id": "44926677-3745-46e2-9652-ffb312d448c6",
   "metadata": {},
   "outputs": [],
   "source": [
    "# X_train = np.round(X_train, 2)\n",
    "# y_train = np.round(y_train, 2)\n",
    "# X_test = np.round(X_test, 2)\n",
    "# y_test = np.round(y_test,2)"
   ]
  },
  {
   "cell_type": "code",
   "execution_count": 6,
   "id": "f79d599f-dbc6-4152-a1a1-824990c31a76",
   "metadata": {},
   "outputs": [
    {
     "data": {
      "text/plain": [
       "array([[ 0.03614194],\n",
       "       [ 0.98491984],\n",
       "       [ 0.01828919],\n",
       "       [-0.12209157]])"
      ]
     },
     "execution_count": 6,
     "metadata": {},
     "output_type": "execute_result"
    }
   ],
   "source": [
    "X_train[:4]"
   ]
  },
  {
   "cell_type": "code",
   "execution_count": 7,
   "id": "4979b250-2e22-4dc2-83c1-915754c42820",
   "metadata": {},
   "outputs": [
    {
     "data": {
      "text/plain": [
       "array([ 4.72571035, 37.3033147 ,  9.84617977, -4.74696202])"
      ]
     },
     "execution_count": 7,
     "metadata": {},
     "output_type": "execute_result"
    }
   ],
   "source": [
    "y_train[:4]"
   ]
  },
  {
   "cell_type": "code",
   "execution_count": 8,
   "id": "1f5123ac-ed25-425c-badf-88dd751ab22a",
   "metadata": {},
   "outputs": [
    {
     "data": {
      "image/png": "[encoded data removed]",
      "text/plain": [
       "<Figure size 576x432 with 1 Axes>"
      ]
     },
     "metadata": {
      "needs_background": "dark"
     },
     "output_type": "display_data"
    }
   ],
   "source": [
    "# X = np.round(X, 2)\n",
    "# y = np.round(y, 2)\n",
    "fig=plt.figure(figsize=(8,6))\n",
    "plt.scatter(X[:,0],y)\n",
    "plt.show()"
   ]
  },
  {
   "cell_type": "code",
   "execution_count": 9,
   "id": "1d4bb30b-d909-4ca8-84e9-7957eaf9beb4",
   "metadata": {},
   "outputs": [
    {
     "data": {
      "text/plain": [
       "array([[ 1.00000000e+00,  3.61419367e-02],\n",
       "       [ 1.00000000e+00,  9.84919842e-01],\n",
       "       [ 1.00000000e+00,  1.82891913e-02],\n",
       "       [ 1.00000000e+00, -1.22091575e-01],\n",
       "       [ 1.00000000e+00,  2.15268581e-01],\n",
       "       [ 1.00000000e+00, -1.19097569e+00],\n",
       "       [ 1.00000000e+00, -3.12651896e-01],\n",
       "       [ 1.00000000e+00,  5.65738306e-01],\n",
       "       [ 1.00000000e+00,  2.00784295e+00],\n",
       "       [ 1.00000000e+00,  3.07968855e-01],\n",
       "       [ 1.00000000e+00,  1.15003572e+00],\n",
       "       [ 1.00000000e+00,  1.39198619e+00],\n",
       "       [ 1.00000000e+00, -2.02646325e-01],\n",
       "       [ 1.00000000e+00,  1.64529543e-01],\n",
       "       [ 1.00000000e+00, -9.74236334e-01],\n",
       "       [ 1.00000000e+00,  3.95126867e-02],\n",
       "       [ 1.00000000e+00,  6.31979446e-01],\n",
       "       [ 1.00000000e+00,  1.04593826e+00],\n",
       "       [ 1.00000000e+00,  2.11883387e-01],\n",
       "       [ 1.00000000e+00, -3.56351666e+00],\n",
       "       [ 1.00000000e+00,  7.67368736e-01],\n",
       "       [ 1.00000000e+00,  1.43270697e+00],\n",
       "       [ 1.00000000e+00,  1.93421376e-01],\n",
       "       [ 1.00000000e+00,  1.05896919e+00],\n",
       "       [ 1.00000000e+00, -2.40045363e+00],\n",
       "       [ 1.00000000e+00, -5.48242449e-01],\n",
       "       [ 1.00000000e+00,  2.39096052e+00],\n",
       "       [ 1.00000000e+00,  1.56963721e-02],\n",
       "       [ 1.00000000e+00, -2.08498763e-01],\n",
       "       [ 1.00000000e+00,  4.05453412e-01],\n",
       "       [ 1.00000000e+00, -1.44619508e-01],\n",
       "       [ 1.00000000e+00, -2.02125482e+00],\n",
       "       [ 1.00000000e+00, -3.99964581e-01],\n",
       "       [ 1.00000000e+00,  8.63717292e-01],\n",
       "       [ 1.00000000e+00,  3.54020332e-01],\n",
       "       [ 1.00000000e+00, -8.19470518e-02],\n",
       "       [ 1.00000000e+00,  5.23507968e-01],\n",
       "       [ 1.00000000e+00, -4.69305285e-01],\n",
       "       [ 1.00000000e+00, -5.11881309e-01],\n",
       "       [ 1.00000000e+00, -1.54690555e+00],\n",
       "       [ 1.00000000e+00,  1.54565880e+00],\n",
       "       [ 1.00000000e+00,  1.31815155e+00],\n",
       "       [ 1.00000000e+00, -5.66445930e-01],\n",
       "       [ 1.00000000e+00,  2.03060362e+00],\n",
       "       [ 1.00000000e+00, -3.97840228e-01],\n",
       "       [ 1.00000000e+00, -5.84718211e-01],\n",
       "       [ 1.00000000e+00, -1.00918200e-01],\n",
       "       [ 1.00000000e+00,  2.11836468e-03],\n",
       "       [ 1.00000000e+00,  1.52630552e-01],\n",
       "       [ 1.00000000e+00,  2.70835849e-01],\n",
       "       [ 1.00000000e+00, -2.07497760e+00],\n",
       "       [ 1.00000000e+00, -7.85435212e-01],\n",
       "       [ 1.00000000e+00, -1.81702723e+00],\n",
       "       [ 1.00000000e+00, -7.20588733e-01],\n",
       "       [ 1.00000000e+00,  6.75554085e-01],\n",
       "       [ 1.00000000e+00,  8.59588414e-01],\n",
       "       [ 1.00000000e+00, -1.36794833e-01],\n",
       "       [ 1.00000000e+00,  8.41674713e-01],\n",
       "       [ 1.00000000e+00,  7.55413982e-01],\n",
       "       [ 1.00000000e+00, -7.03448771e-02],\n",
       "       [ 1.00000000e+00,  9.53324128e-01],\n",
       "       [ 1.00000000e+00, -3.55130253e-02],\n",
       "       [ 1.00000000e+00, -1.83108540e-01],\n",
       "       [ 1.00000000e+00,  5.28288145e-01],\n",
       "       [ 1.00000000e+00, -1.15265911e+00],\n",
       "       [ 1.00000000e+00, -3.34077366e-01],\n",
       "       [ 1.00000000e+00,  7.98423130e-02],\n",
       "       [ 1.00000000e+00,  3.37437654e-01],\n",
       "       [ 1.00000000e+00,  8.16593927e-01],\n",
       "       [ 1.00000000e+00,  2.26962542e-01],\n",
       "       [ 1.00000000e+00, -3.22794806e-01],\n",
       "       [ 1.00000000e+00, -1.44581008e+00],\n",
       "       [ 1.00000000e+00, -1.02785056e+00],\n",
       "       [ 1.00000000e+00,  4.62059737e-01],\n",
       "       [ 1.00000000e+00, -1.14263129e+00],\n",
       "       [ 1.00000000e+00, -4.30095691e-01],\n",
       "       [ 1.00000000e+00,  1.04757857e+00],\n",
       "       [ 1.00000000e+00, -1.06898878e+00],\n",
       "       [ 1.00000000e+00,  1.32115819e+00],\n",
       "       [ 1.00000000e+00, -6.55969344e-01]])"
      ]
     },
     "execution_count": 9,
     "metadata": {},
     "output_type": "execute_result"
    }
   ],
   "source": [
    "X_train_augmented = np.hstack((np.ones((X_train.shape[0], 1)), X_train))\n",
    "X_train_augmented"
   ]
  },
  {
   "cell_type": "code",
   "execution_count": 10,
   "id": "f0f8f26d-ea75-4434-8204-5569fe3a0243",
   "metadata": {
    "scrolled": true
   },
   "outputs": [
    {
     "data": {
      "text/plain": [
       "array([[ 1.00000000e+00,  1.00000000e+00,  1.00000000e+00,\n",
       "         1.00000000e+00,  1.00000000e+00,  1.00000000e+00,\n",
       "         1.00000000e+00,  1.00000000e+00,  1.00000000e+00,\n",
       "         1.00000000e+00,  1.00000000e+00,  1.00000000e+00,\n",
       "         1.00000000e+00,  1.00000000e+00,  1.00000000e+00,\n",
       "         1.00000000e+00,  1.00000000e+00,  1.00000000e+00,\n",
       "         1.00000000e+00,  1.00000000e+00,  1.00000000e+00,\n",
       "         1.00000000e+00,  1.00000000e+00,  1.00000000e+00,\n",
       "         1.00000000e+00,  1.00000000e+00,  1.00000000e+00,\n",
       "         1.00000000e+00,  1.00000000e+00,  1.00000000e+00,\n",
       "         1.00000000e+00,  1.00000000e+00,  1.00000000e+00,\n",
       "         1.00000000e+00,  1.00000000e+00,  1.00000000e+00,\n",
       "         1.00000000e+00,  1.00000000e+00,  1.00000000e+00,\n",
       "         1.00000000e+00,  1.00000000e+00,  1.00000000e+00,\n",
       "         1.00000000e+00,  1.00000000e+00,  1.00000000e+00,\n",
       "         1.00000000e+00,  1.00000000e+00,  1.00000000e+00,\n",
       "         1.00000000e+00,  1.00000000e+00,  1.00000000e+00,\n",
       "         1.00000000e+00,  1.00000000e+00,  1.00000000e+00,\n",
       "         1.00000000e+00,  1.00000000e+00,  1.00000000e+00,\n",
       "         1.00000000e+00,  1.00000000e+00,  1.00000000e+00,\n",
       "         1.00000000e+00,  1.00000000e+00,  1.00000000e+00,\n",
       "         1.00000000e+00,  1.00000000e+00,  1.00000000e+00,\n",
       "         1.00000000e+00,  1.00000000e+00,  1.00000000e+00,\n",
       "         1.00000000e+00,  1.00000000e+00,  1.00000000e+00,\n",
       "         1.00000000e+00,  1.00000000e+00,  1.00000000e+00,\n",
       "         1.00000000e+00,  1.00000000e+00,  1.00000000e+00,\n",
       "         1.00000000e+00,  1.00000000e+00],\n",
       "       [ 3.61419367e-02,  9.84919842e-01,  1.82891913e-02,\n",
       "        -1.22091575e-01,  2.15268581e-01, -1.19097569e+00,\n",
       "        -3.12651896e-01,  5.65738306e-01,  2.00784295e+00,\n",
       "         3.07968855e-01,  1.15003572e+00,  1.39198619e+00,\n",
       "        -2.02646325e-01,  1.64529543e-01, -9.74236334e-01,\n",
       "         3.95126867e-02,  6.31979446e-01,  1.04593826e+00,\n",
       "         2.11883387e-01, -3.56351666e+00,  7.67368736e-01,\n",
       "         1.43270697e+00,  1.93421376e-01,  1.05896919e+00,\n",
       "        -2.40045363e+00, -5.48242449e-01,  2.39096052e+00,\n",
       "         1.56963721e-02, -2.08498763e-01,  4.05453412e-01,\n",
       "        -1.44619508e-01, -2.02125482e+00, -3.99964581e-01,\n",
       "         8.63717292e-01,  3.54020332e-01, -8.19470518e-02,\n",
       "         5.23507968e-01, -4.69305285e-01, -5.11881309e-01,\n",
       "        -1.54690555e+00,  1.54565880e+00,  1.31815155e+00,\n",
       "        -5.66445930e-01,  2.03060362e+00, -3.97840228e-01,\n",
       "        -5.84718211e-01, -1.00918200e-01,  2.11836468e-03,\n",
       "         1.52630552e-01,  2.70835849e-01, -2.07497760e+00,\n",
       "        -7.85435212e-01, -1.81702723e+00, -7.20588733e-01,\n",
       "         6.75554085e-01,  8.59588414e-01, -1.36794833e-01,\n",
       "         8.41674713e-01,  7.55413982e-01, -7.03448771e-02,\n",
       "         9.53324128e-01, -3.55130253e-02, -1.83108540e-01,\n",
       "         5.28288145e-01, -1.15265911e+00, -3.34077366e-01,\n",
       "         7.98423130e-02,  3.37437654e-01,  8.16593927e-01,\n",
       "         2.26962542e-01, -3.22794806e-01, -1.44581008e+00,\n",
       "        -1.02785056e+00,  4.62059737e-01, -1.14263129e+00,\n",
       "        -4.30095691e-01,  1.04757857e+00, -1.06898878e+00,\n",
       "         1.32115819e+00, -6.55969344e-01]])"
      ]
     },
     "execution_count": 10,
     "metadata": {},
     "output_type": "execute_result"
    }
   ],
   "source": [
    "X_train_T = X_train_augmented.T\n",
    "X_train_T=X_train_T\n",
    "X_train_T"
   ]
  },
  {
   "cell_type": "code",
   "execution_count": 11,
   "id": "88730699-6263-443a-ab8a-15a1e929594f",
   "metadata": {},
   "outputs": [
    {
     "data": {
      "text/plain": [
       "array([   4.72571035,   37.3033147 ,    9.84617977,   -4.74696202,\n",
       "         46.61433976,  -88.5636594 ,  -23.05085118,   49.30980232,\n",
       "        187.11855381,   52.7868072 ,  100.63781242,  126.59136522,\n",
       "        -34.92302734,   -2.39500665,  -91.54741375,   -1.32075177,\n",
       "         44.66438206,  107.23095944,   45.28549362, -289.12699629,\n",
       "         57.29982392,  132.7901884 ,   41.80672108,   88.76973989,\n",
       "       -218.53325548,  -24.66035565,  241.89951823,  -10.13240956,\n",
       "        -46.42718117,   25.64618465,  -13.50142554, -176.72441073,\n",
       "        -18.66943338,   50.5672884 ,   22.64343207,  -21.09022538,\n",
       "         64.92081242,  -64.87115989,  -31.48631679, -138.96811403,\n",
       "        133.52911687,  122.17927892,  -53.50531413,  171.25986261,\n",
       "        -21.98254439,  -26.36081393,   20.50476935,  -10.68145433,\n",
       "         42.95199809,   24.1455885 , -179.69097653,  -69.72153699,\n",
       "       -147.48591272,  -96.71683373,   37.07750059,   68.80268857,\n",
       "        -18.61172071,   79.62314161,   52.56456985,   28.51154385,\n",
       "        107.68399539,   31.89540984,  -11.76894647,   44.86892697,\n",
       "       -113.47899634,  -46.81999118,    0.28974315,   45.43320652,\n",
       "         60.44072638,  -13.86033522,  -27.30975983, -117.65626086,\n",
       "       -121.49964895,   40.21308758,  -95.50351127,  -80.54746507,\n",
       "         99.41132308,  -71.5256125 ,  115.32489672,  -56.87386852])"
      ]
     },
     "execution_count": 11,
     "metadata": {},
     "output_type": "execute_result"
    }
   ],
   "source": [
    "# y_train=y_train*100\n",
    "y_train"
   ]
  },
  {
   "cell_type": "code",
   "execution_count": 12,
   "id": "8c5a333d-cb1e-40ae-9301-82edaa2669c8",
   "metadata": {},
   "outputs": [],
   "source": [
    "import tenseal as ts\n",
    "context = ts.context(ts.SCHEME_TYPE.BFV, poly_modulus_degree=4096, plain_modulus=1032193)\n",
    "context.generate_galois_keys()\n",
    "context.global_scale = 2**40"
   ]
  },
  {
   "cell_type": "code",
   "execution_count": 13,
   "id": "0131a48b-786f-4899-853b-3ab6acff73fa",
   "metadata": {},
   "outputs": [],
   "source": [
    "enc_X_train=[]\n",
    "for i in X_train_T:\n",
    "    p=ts.bfv_vector(context,i)\n",
    "    enc_X_train.append(p)"
   ]
  },
  {
   "cell_type": "code",
   "execution_count": 14,
   "id": "8c2d19cd-dddc-46fa-a994-bf91478d8c1f",
   "metadata": {},
   "outputs": [],
   "source": [
    "enc_y_train=ts.bfv_vector(context,y_train)"
   ]
  },
  {
   "cell_type": "code",
   "execution_count": 15,
   "id": "fe318781-a422-4e70-b07c-96cdd9866f12",
   "metadata": {},
   "outputs": [],
   "source": [
    "enc_X_1=enc_X_train"
   ]
  },
  {
   "cell_type": "code",
   "execution_count": 16,
   "id": "35d49956-1a1d-41e3-b962-b8a2a6b8ada8",
   "metadata": {},
   "outputs": [],
   "source": [
    "XTX=[]\n",
    "for i in enc_X_train:\n",
    "    row_in=[]\n",
    "    for j in enc_X_1:\n",
    "        p=i.dot(j)\n",
    "        row_in.append(p)\n",
    "    XTX.append(row_in)"
   ]
  },
  {
   "cell_type": "code",
   "execution_count": 17,
   "id": "78d377a6-ee6a-4203-9695-ce75c5390aaa",
   "metadata": {},
   "outputs": [],
   "source": [
    "XTY=[]\n",
    "for i in enc_X_train:\n",
    "    p=i.dot(enc_y_train)\n",
    "    XTY.append(p)"
   ]
  },
  {
   "cell_type": "code",
   "execution_count": 18,
   "id": "19c14e08-dbf2-4297-9460-7c9e33364d68",
   "metadata": {},
   "outputs": [
    {
     "data": {
      "text/plain": [
       "array([[80, -2],\n",
       "       [-2, 50]])"
      ]
     },
     "execution_count": 18,
     "metadata": {},
     "output_type": "execute_result"
    }
   ],
   "source": [
    "XTX_dec=[]\n",
    "for i in XTX:\n",
    "    row_in=[]\n",
    "    for j in i:\n",
    "        p=j.decrypt()\n",
    "        row_in.append(p[0])\n",
    "    XTX_dec.append(row_in)\n",
    "\n",
    "XTX_dec_1 = np.array(XTX_dec)\n",
    "XTX_dec_1"
   ]
  },
  {
   "cell_type": "code",
   "execution_count": null,
   "id": "00d90b9e-0ab2-43b1-af28-2ad8262705b5",
   "metadata": {},
   "outputs": [],
   "source": []
  }
 ],
 "metadata": {
  "kernelspec": {
   "display_name": "Python 3 (ipykernel)",
   "language": "python",
   "name": "python3"
  },
  "language_info": {
   "codemirror_mode": {
    "name": "ipython",
    "version": 3
   },
   "file_extension": ".py",
   "mimetype": "text/x-python",
   "name": "python",
   "nbconvert_exporter": "python",
   "pygments_lexer": "ipython3",
   "version": "3.10.0"
  }
 },
 "nbformat": 4,
 "nbformat_minor": 5
}
