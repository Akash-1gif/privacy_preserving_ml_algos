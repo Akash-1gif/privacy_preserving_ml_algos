{
 "cells": [
  {
   "cell_type": "code",
   "execution_count": 3,
   "id": "2b449aaa-aee6-47f8-a625-c7b02205f6a6",
   "metadata": {},
   "outputs": [
    {
     "name": "stdout",
     "output_type": "stream",
     "text": [
      "T-statistic: -0.004030396498627296\n",
      "P-value: 0.9969772128556964\n"
     ]
    }
   ],
   "source": [
    "import numpy as np\n",
    "from scipy import stats\n",
    "\n",
    "# Sample data\n",
    "# Group A\n",
    "data_a = np.array([0.12249626493318287,0.7054969660353599,0.0017726227355320853])\n",
    "# Group B\n",
    "data_b = np.array([0.1286962, 0.70179211, 0.0029739729756264053])\n",
    "\n",
    "# Perform t-test\n",
    "t_stat, p_value = stats.ttest_ind(data_a, data_b)\n",
    "\n",
    "print(\"T-statistic:\", t_stat)\n",
    "print(\"P-value:\", p_value)\n"
   ]
  },
  {
   "cell_type": "code",
   "execution_count": null,
   "id": "cd0c5f25-bd9e-4d32-a42f-fa6d50387089",
   "metadata": {},
   "outputs": [],
   "source": []
  }
 ],
 "metadata": {
  "kernelspec": {
   "display_name": "Python 3 (ipykernel)",
   "language": "python",
   "name": "python3"
  },
  "language_info": {
   "codemirror_mode": {
    "name": "ipython",
    "version": 3
   },
   "file_extension": ".py",
   "mimetype": "text/x-python",
   "name": "python",
   "nbconvert_exporter": "python",
   "pygments_lexer": "ipython3",
   "version": "3.12.3"
  }
 },
 "nbformat": 4,
 "nbformat_minor": 5
}
