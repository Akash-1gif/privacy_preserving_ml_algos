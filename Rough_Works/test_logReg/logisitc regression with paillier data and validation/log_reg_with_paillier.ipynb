{
 "cells": [
  {
   "cell_type": "code",
   "execution_count": 1,
   "id": "f4aeaf38-fc7f-478b-a40c-0a09f95d0226",
   "metadata": {},
   "outputs": [],
   "source": [
    "import numpy as np\n",
    "import pandas as pd\n",
    "from sklearn.datasets import make_classification\n",
    "from scipy.special import expit\n",
    "from sklearn.model_selection import train_test_split\n",
    "from sklearn.preprocessing import StandardScaler"
   ]
  },
  {
   "cell_type": "code",
   "execution_count": 2,
   "id": "6ab0e784-0734-45ec-b7e5-25079deb9280",
   "metadata": {},
   "outputs": [],
   "source": [
    "# X, y = make_classification(n_samples=1000, n_features=10, n_classes=2, random_state=42)\n",
    "# X_train, X_test, y_train, y_test = train_test_split(X, y, test_size=0.2, random_state=42)\n",
    "\n",
    "X_train=pd.read_csv('X_train_classification.csv')\n",
    "X_train=X_train.to_numpy()\n",
    "X_test=pd.read_csv('X_test_classification.csv')\n",
    "X_test=X_test.to_numpy()\n",
    "y_train=pd.read_csv('y_train_classification.csv')\n",
    "y_train=y_train.to_numpy()\n",
    "y_train=y_train.reshape(-1)\n",
    "y_test=pd.read_csv('y_test_classification.csv')\n",
    "y_test=y_test.to_numpy().reshape(-1)"
   ]
  },
  {
   "cell_type": "code",
   "execution_count": 3,
   "id": "9c9a9ca6-a755-4bf0-8d22-24460713bdc3",
   "metadata": {},
   "outputs": [],
   "source": [
    "from phe import paillier\n",
    "public_key,private_key=paillier.generate_paillier_keypair()"
   ]
  },
  {
   "cell_type": "code",
   "execution_count": 4,
   "id": "529f89c2-4cd1-4eca-b957-8158d4248f48",
   "metadata": {},
   "outputs": [],
   "source": [
    "scaler = StandardScaler()\n",
    "X_train = scaler.fit_transform(X_train)\n",
    "X_test = scaler.transform(X_test)"
   ]
  },
  {
   "cell_type": "code",
   "execution_count": 5,
   "id": "93cf8d57-60ac-4c88-a2f6-0f3964842bc1",
   "metadata": {},
   "outputs": [],
   "source": [
    "def paillier_multiplication_edge(a,b):\n",
    "    a=private_key.decrypt(a)\n",
    "    a=a*b\n",
    "    return a"
   ]
  },
  {
   "cell_type": "code",
   "execution_count": 6,
   "id": "d38d7749-6fc9-4ff2-9f81-3e90f849d9be",
   "metadata": {},
   "outputs": [],
   "source": [
    "def paillier_multiplication_cloud(a,b):\n",
    "    noise1=10\n",
    "    noise2=20\n",
    "    a=a+noise1\n",
    "    sub_mass=(b*noise1)*(-1)\n",
    "    sol=paillier_multiplication_edge(a,b)\n",
    "    sol=sol+sub_mass\n",
    "    return sol"
   ]
  },
  {
   "cell_type": "code",
   "execution_count": 7,
   "id": "56e3b886-a602-470a-a415-d7cc50d11f13",
   "metadata": {},
   "outputs": [],
   "source": [
    "def sigmoid(z):\n",
    "    z=private_key.decrypt(z)\n",
    "    z=expit(z)\n",
    "    z=public_key.encrypt(z)\n",
    "    return z"
   ]
  },
  {
   "cell_type": "code",
   "execution_count": 8,
   "id": "713883a3-177a-4a87-be13-310d5fa393f8",
   "metadata": {},
   "outputs": [],
   "source": [
    "m, n = X_train.shape\n",
    "weights = np.zeros(n)\n",
    "bias = 0\n",
    "learning_rate=0.01"
   ]
  },
  {
   "cell_type": "code",
   "execution_count": 9,
   "id": "a55c4717-a99e-4eed-879d-64c98725c260",
   "metadata": {},
   "outputs": [],
   "source": [
    "enc_X_train=[]\n",
    "for i in X_train:\n",
    "    row_in=[]\n",
    "    for j in i:\n",
    "        p=public_key.encrypt(j)\n",
    "        row_in.append(p)\n",
    "    enc_X_train.append(row_in)"
   ]
  },
  {
   "cell_type": "code",
   "execution_count": 10,
   "id": "fc19a119-1d7b-4952-b942-73584fd47612",
   "metadata": {},
   "outputs": [],
   "source": [
    "enc_y_train=[]\n",
    "for i in y_train:\n",
    "    p=public_key.encrypt(int(i))\n",
    "    enc_y_train.append(p)"
   ]
  },
  {
   "cell_type": "code",
   "execution_count": 11,
   "id": "36843df8-2d35-437a-920a-7bd8f1c27653",
   "metadata": {},
   "outputs": [],
   "source": [
    "def logistic_regression_sgd(X, y, n, learning_rate=0.01, epochs=3):\n",
    "    weights = np.zeros(n)\n",
    "    \n",
    "    weights_enc=[]\n",
    "    for i in weights:\n",
    "        p=public_key.encrypt(i)\n",
    "        weights_enc.append(p)\n",
    "        \n",
    "    bias=0\n",
    "    bias_enc=public_key.encrypt(bias)\n",
    "    \n",
    "    for epoch in range(epochs):\n",
    "        indices = np.random.permutation(m)\n",
    "        for i in indices:\n",
    "            xi=enc_X_train[i]\n",
    "            yi=enc_y_train[i]\n",
    "            \n",
    "            linear_output=0\n",
    "            for i,j in zip(xi,weights_enc):\n",
    "                p=paillier_multiplication_cloud(i,j)\n",
    "                linear_output=linear_output+p\n",
    "            \n",
    "            linear_output=linear_output+bias_enc\n",
    "            y_pred=sigmoid(linear_output)\n",
    "            db=y_pred + (yi * (-1))\n",
    "            dw=[]\n",
    "            for i in xi:\n",
    "                p=paillier_multiplication_cloud(i,db)\n",
    "                dw.append(p)\n",
    "            \n",
    "            for i in range(len(weights_enc)):\n",
    "                p=dw[i]*(-1)*learning_rate\n",
    "                weights_enc[i]=weights_enc[i]+p\n",
    "            \n",
    "            bias_enc=bias_enc+(db*-1)*learning_rate\n",
    "            \n",
    "        \n",
    "\n",
    "    return weights_enc, bias_enc"
   ]
  },
  {
   "cell_type": "code",
   "execution_count": 12,
   "id": "ecda64a8-b433-43fb-a709-7cadbc051cd1",
   "metadata": {},
   "outputs": [],
   "source": [
    "weights_enc, bias_enc = logistic_regression_sgd(enc_X_train,enc_y_train,n)"
   ]
  },
  {
   "cell_type": "code",
   "execution_count": 13,
   "id": "f12b2f43-01be-47b4-8101-1b3b25e87321",
   "metadata": {},
   "outputs": [
    {
     "name": "stdout",
     "output_type": "stream",
     "text": [
      "0.12249626493318287\n",
      "0.7054969660353599\n"
     ]
    }
   ],
   "source": [
    "for i in weights_enc:\n",
    "    print(private_key.decrypt(i))"
   ]
  },
  {
   "cell_type": "code",
   "execution_count": 14,
   "id": "1ae5f958-c858-41ed-a474-d9f4a2b4fde0",
   "metadata": {},
   "outputs": [
    {
     "data": {
      "text/plain": [
       "0.0017726227355320853"
      ]
     },
     "execution_count": 14,
     "metadata": {},
     "output_type": "execute_result"
    }
   ],
   "source": [
    "private_key.decrypt(bias_enc)"
   ]
  },
  {
   "cell_type": "code",
   "execution_count": null,
   "id": "26d6c7cc-2652-4ee8-a0c5-7273cf0c3578",
   "metadata": {},
   "outputs": [],
   "source": []
  }
 ],
 "metadata": {
  "kernelspec": {
   "display_name": "Python 3 (ipykernel)",
   "language": "python",
   "name": "python3"
  },
  "language_info": {
   "codemirror_mode": {
    "name": "ipython",
    "version": 3
   },
   "file_extension": ".py",
   "mimetype": "text/x-python",
   "name": "python",
   "nbconvert_exporter": "python",
   "pygments_lexer": "ipython3",
   "version": "3.12.3"
  }
 },
 "nbformat": 4,
 "nbformat_minor": 5
}
