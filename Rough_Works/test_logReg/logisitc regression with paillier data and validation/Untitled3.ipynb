{
 "cells": [
  {
   "cell_type": "code",
   "execution_count": 1,
   "id": "24836cf1-3f82-4b31-aa17-5acedfabd066",
   "metadata": {},
   "outputs": [],
   "source": [
    "import numpy as np\n",
    "import pandas as pd\n",
    "from sklearn.datasets import make_classification\n",
    "from scipy.special import expit\n",
    "from sklearn.model_selection import train_test_split\n",
    "from sklearn.preprocessing import StandardScaler"
   ]
  },
  {
   "cell_type": "code",
   "execution_count": 2,
   "id": "2955a34b-146b-43c9-b1c5-f699233d5d22",
   "metadata": {},
   "outputs": [],
   "source": [
    "# X, y = make_classification(n_samples=1000, n_features=10, n_classes=2, random_state=42)\n",
    "# X_train, X_test, y_train, y_test = train_test_split(X, y, test_size=0.2, random_state=42)\n",
    "\n",
    "X_train=pd.read_csv('X_train_classification.csv')\n",
    "X_train=X_train.to_numpy()\n",
    "X_test=pd.read_csv('X_test_classification.csv')\n",
    "X_test=X_test.to_numpy()\n",
    "y_train=pd.read_csv('y_train_classification.csv')\n",
    "y_train=y_train.to_numpy()\n",
    "y_train=y_train.reshape(-1)\n",
    "y_test=pd.read_csv('y_test_classification.csv')\n",
    "y_test=y_test.to_numpy().reshape(-1)"
   ]
  },
  {
   "cell_type": "code",
   "execution_count": 3,
   "id": "702bc8ea-15f9-4673-93ec-362a64664c67",
   "metadata": {},
   "outputs": [],
   "source": [
    "scaler = StandardScaler()\n",
    "X_train = scaler.fit_transform(X_train)\n",
    "X_test = scaler.transform(X_test)"
   ]
  },
  {
   "cell_type": "code",
   "execution_count": 4,
   "id": "574d137f-66c4-4fc4-8a3b-f04ceb33abcc",
   "metadata": {},
   "outputs": [],
   "source": [
    "def sigmoid(z):\n",
    "    return expit(z)"
   ]
  },
  {
   "cell_type": "code",
   "execution_count": 5,
   "id": "c1a03ba8-1767-4dc6-a643-e22fbe229729",
   "metadata": {},
   "outputs": [],
   "source": [
    "def logistic_regression_sgd(X, y, learning_rate=0.01, epochs=3):\n",
    "    m, n = X.shape\n",
    "    weights = np.zeros(n)\n",
    "    bias = 0\n",
    "\n",
    "    for epoch in range(epochs):\n",
    "        # Shuffle the data for each epoch to ensure better convergence\n",
    "        indices = np.random.permutation(m)\n",
    "        X = X[indices]\n",
    "        y = y[indices]\n",
    "\n",
    "        for i in range(m):\n",
    "            xi = X[i]\n",
    "            yi = y[i]\n",
    "            linear_output = np.dot(xi, weights) + bias\n",
    "            y_pred = sigmoid(linear_output)\n",
    "\n",
    "            # Gradient calculation\n",
    "            dw = (y_pred - yi) * xi\n",
    "            db = y_pred - yi\n",
    "\n",
    "            # Update weights and bias\n",
    "            weights -= learning_rate * dw\n",
    "            bias -= learning_rate * db\n",
    "\n",
    "\n",
    "    return weights, bias"
   ]
  },
  {
   "cell_type": "code",
   "execution_count": 6,
   "id": "f2085205-3e6b-4a65-ba71-28c8c65b576f",
   "metadata": {},
   "outputs": [],
   "source": [
    "weights_sgd, bias_sgd = logistic_regression_sgd(X_train, y_train)"
   ]
  },
  {
   "cell_type": "code",
   "execution_count": 7,
   "id": "3f7157c1-24be-441e-8858-e933516ef231",
   "metadata": {},
   "outputs": [
    {
     "name": "stdout",
     "output_type": "stream",
     "text": [
      "Weights from SGD: [0.1286962  0.70179211]\n",
      "Bias from SGD: 0.0029739729756264053\n"
     ]
    }
   ],
   "source": [
    "print(\"Weights from SGD:\", weights_sgd)\n",
    "print(\"Bias from SGD:\", bias_sgd)"
   ]
  },
  {
   "cell_type": "code",
   "execution_count": null,
   "id": "5a50db83-ba44-4905-8900-b69432f4fb1c",
   "metadata": {},
   "outputs": [],
   "source": []
  }
 ],
 "metadata": {
  "kernelspec": {
   "display_name": "Python 3 (ipykernel)",
   "language": "python",
   "name": "python3"
  },
  "language_info": {
   "codemirror_mode": {
    "name": "ipython",
    "version": 3
   },
   "file_extension": ".py",
   "mimetype": "text/x-python",
   "name": "python",
   "nbconvert_exporter": "python",
   "pygments_lexer": "ipython3",
   "version": "3.12.3"
  }
 },
 "nbformat": 4,
 "nbformat_minor": 5
}
