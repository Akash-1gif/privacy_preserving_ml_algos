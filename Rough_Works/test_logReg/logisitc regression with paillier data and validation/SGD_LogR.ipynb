{
  "cells": [
    {
      "cell_type": "code",
      "execution_count": 1,
      "id": "281770d7-96aa-4d6b-a32b-7d1cbce64266",
      "metadata": {
        "id": "281770d7-96aa-4d6b-a32b-7d1cbce64266"
      },
      "outputs": [],
      "source": [
        "import numpy as np\n",
        "import pandas as pd\n",
        "from sklearn.datasets import make_classification\n",
        "from scipy.special import expit\n",
        "from sklearn.model_selection import train_test_split\n",
        "from sklearn.preprocessing import StandardScaler"
      ]
    },
    {
      "cell_type": "code",
      "execution_count": 2,
      "id": "ee01a42d-05a0-430b-b3bf-0837dde4914a",
      "metadata": {
        "id": "ee01a42d-05a0-430b-b3bf-0837dde4914a"
      },
      "outputs": [],
      "source": [
        "# X, y = make_classification(n_samples=1000, n_features=10, n_classes=2, random_state=42)\n",
        "# X_train, X_test, y_train, y_test = train_test_split(X, y, test_size=0.2, random_state=42)\n",
        "\n",
        "X_train=pd.read_csv('X_train2.csv')\n",
        "X_train=X_train.to_numpy()\n",
        "X_test=pd.read_csv('X_test2.csv')\n",
        "X_test=X_test.to_numpy()\n",
        "y_train=pd.read_csv('y_train2.csv')\n",
        "y_train=y_train.to_numpy()\n",
        "y_train=y_train.reshape(-1)\n",
        "y_test=pd.read_csv('y_test2.csv')\n",
        "y_test=y_test.to_numpy()"
      ]
    },
    {
      "cell_type": "code",
      "execution_count": 3,
      "id": "9b43f7e9-e100-4706-884e-69294f00f359",
      "metadata": {
        "id": "9b43f7e9-e100-4706-884e-69294f00f359"
      },
      "outputs": [],
      "source": [
        "scaler = StandardScaler()\n",
        "X_train = scaler.fit_transform(X_train)\n",
        "X_test = scaler.transform(X_test)"
      ]
    },
    {
      "cell_type": "code",
      "execution_count": 4,
      "id": "78b8fd93-cef8-402b-9109-507dc8bd250d",
      "metadata": {
        "id": "78b8fd93-cef8-402b-9109-507dc8bd250d"
      },
      "outputs": [],
      "source": [
        "def sigmoid(z):\n",
        "    return expit(z)"
      ]
    },
    {
      "cell_type": "code",
      "execution_count": 5,
      "id": "a39db917-61bd-44af-acbd-f283fefb0a38",
      "metadata": {
        "id": "a39db917-61bd-44af-acbd-f283fefb0a38"
      },
      "outputs": [],
      "source": [
        "# def compute_loss(y_true, y_pred):\n",
        "#     return -np.mean(y_true * np.log(y_pred) + (1 - y_true) * np.log(1 - y_pred))"
      ]
    },
    {
      "cell_type": "code",
      "execution_count": 6,
      "id": "b9953952-491b-4370-bce6-a92d2c2546cc",
      "metadata": {
        "id": "b9953952-491b-4370-bce6-a92d2c2546cc"
      },
      "outputs": [],
      "source": [
        "def logistic_regression_sgd(X, y, learning_rate=0.01, epochs=1000):\n",
        "    m, n = X.shape\n",
        "    weights = np.zeros(n)\n",
        "    bias = 0\n",
        "\n",
        "    for epoch in range(epochs):\n",
        "        # Shuffle the data for each epoch to ensure better convergence\n",
        "        indices = np.random.permutation(m)\n",
        "        X = X[indices]\n",
        "        y = y[indices]\n",
        "\n",
        "        for i in range(m):\n",
        "            xi = X[i]\n",
        "            yi = y[i]\n",
        "            linear_output = np.dot(xi, weights) + bias\n",
        "            y_pred = sigmoid(linear_output)\n",
        "\n",
        "            # Gradient calculation\n",
        "            dw = (y_pred - yi) * xi\n",
        "            db = y_pred - yi\n",
        "\n",
        "            # Update weights and bias\n",
        "            weights -= learning_rate * dw\n",
        "            bias -= learning_rate * db\n",
        "\n",
        "\n",
        "    return weights, bias"
      ]
    },
    {
      "cell_type": "code",
      "execution_count": 7,
      "id": "5be83864-dbff-4f7a-be3c-beac418d09b3",
      "metadata": {
        "id": "5be83864-dbff-4f7a-be3c-beac418d09b3"
      },
      "outputs": [],
      "source": [
        "weights_sgd, bias_sgd = logistic_regression_sgd(X_train, y_train)"
      ]
    },
    {
      "cell_type": "code",
      "execution_count": 8,
      "id": "ae07be5e-c1bd-4cb7-bf10-3e283e22b638",
      "metadata": {
        "id": "ae07be5e-c1bd-4cb7-bf10-3e283e22b638",
        "colab": {
          "base_uri": "https://localhost:8080/"
        },
        "outputId": "f265ba05-f49e-495a-fe55-a28f569014be"
      },
      "outputs": [
        {
          "output_type": "stream",
          "name": "stdout",
          "text": [
            "Weights from SGD: [ 0.06124473  0.29597315  0.0912437  -0.23773    -0.18208579 -0.39226971\n",
            "  0.29533607 -0.00496219]\n",
            "Bias from SGD: -0.7666855621586289\n"
          ]
        }
      ],
      "source": [
        "print(\"Weights from SGD:\", weights_sgd)\n",
        "print(\"Bias from SGD:\", bias_sgd)"
      ]
    },
    {
      "cell_type": "code",
      "execution_count": 9,
      "id": "412452fc-8cdd-48c8-b18d-101af71046f8",
      "metadata": {
        "id": "412452fc-8cdd-48c8-b18d-101af71046f8"
      },
      "outputs": [],
      "source": [
        "from sklearn.linear_model import LogisticRegression"
      ]
    },
    {
      "cell_type": "code",
      "execution_count": 10,
      "id": "3c4bf0e2-3af1-447a-8397-cd71412ab7b1",
      "metadata": {
        "id": "3c4bf0e2-3af1-447a-8397-cd71412ab7b1",
        "colab": {
          "base_uri": "https://localhost:8080/",
          "height": 109
        },
        "outputId": "243aaeb0-8259-4ccf-f184-bf8b957927eb"
      },
      "outputs": [
        {
          "output_type": "stream",
          "name": "stderr",
          "text": [
            "/usr/local/lib/python3.10/dist-packages/sklearn/linear_model/_sag.py:350: ConvergenceWarning: The max_iter was reached which means the coef_ did not converge\n",
            "  warnings.warn(\n"
          ]
        },
        {
          "output_type": "execute_result",
          "data": {
            "text/plain": [
              "LogisticRegression(C=100, max_iter=3, solver='saga')"
            ],
            "text/html": [
              "<style>#sk-container-id-1 {color: black;background-color: white;}#sk-container-id-1 pre{padding: 0;}#sk-container-id-1 div.sk-toggleable {background-color: white;}#sk-container-id-1 label.sk-toggleable__label {cursor: pointer;display: block;width: 100%;margin-bottom: 0;padding: 0.3em;box-sizing: border-box;text-align: center;}#sk-container-id-1 label.sk-toggleable__label-arrow:before {content: \"▸\";float: left;margin-right: 0.25em;color: #696969;}#sk-container-id-1 label.sk-toggleable__label-arrow:hover:before {color: black;}#sk-container-id-1 div.sk-estimator:hover label.sk-toggleable__label-arrow:before {color: black;}#sk-container-id-1 div.sk-toggleable__content {max-height: 0;max-width: 0;overflow: hidden;text-align: left;background-color: #f0f8ff;}#sk-container-id-1 div.sk-toggleable__content pre {margin: 0.2em;color: black;border-radius: 0.25em;background-color: #f0f8ff;}#sk-container-id-1 input.sk-toggleable__control:checked~div.sk-toggleable__content {max-height: 200px;max-width: 100%;overflow: auto;}#sk-container-id-1 input.sk-toggleable__control:checked~label.sk-toggleable__label-arrow:before {content: \"▾\";}#sk-container-id-1 div.sk-estimator input.sk-toggleable__control:checked~label.sk-toggleable__label {background-color: #d4ebff;}#sk-container-id-1 div.sk-label input.sk-toggleable__control:checked~label.sk-toggleable__label {background-color: #d4ebff;}#sk-container-id-1 input.sk-hidden--visually {border: 0;clip: rect(1px 1px 1px 1px);clip: rect(1px, 1px, 1px, 1px);height: 1px;margin: -1px;overflow: hidden;padding: 0;position: absolute;width: 1px;}#sk-container-id-1 div.sk-estimator {font-family: monospace;background-color: #f0f8ff;border: 1px dotted black;border-radius: 0.25em;box-sizing: border-box;margin-bottom: 0.5em;}#sk-container-id-1 div.sk-estimator:hover {background-color: #d4ebff;}#sk-container-id-1 div.sk-parallel-item::after {content: \"\";width: 100%;border-bottom: 1px solid gray;flex-grow: 1;}#sk-container-id-1 div.sk-label:hover label.sk-toggleable__label {background-color: #d4ebff;}#sk-container-id-1 div.sk-serial::before {content: \"\";position: absolute;border-left: 1px solid gray;box-sizing: border-box;top: 0;bottom: 0;left: 50%;z-index: 0;}#sk-container-id-1 div.sk-serial {display: flex;flex-direction: column;align-items: center;background-color: white;padding-right: 0.2em;padding-left: 0.2em;position: relative;}#sk-container-id-1 div.sk-item {position: relative;z-index: 1;}#sk-container-id-1 div.sk-parallel {display: flex;align-items: stretch;justify-content: center;background-color: white;position: relative;}#sk-container-id-1 div.sk-item::before, #sk-container-id-1 div.sk-parallel-item::before {content: \"\";position: absolute;border-left: 1px solid gray;box-sizing: border-box;top: 0;bottom: 0;left: 50%;z-index: -1;}#sk-container-id-1 div.sk-parallel-item {display: flex;flex-direction: column;z-index: 1;position: relative;background-color: white;}#sk-container-id-1 div.sk-parallel-item:first-child::after {align-self: flex-end;width: 50%;}#sk-container-id-1 div.sk-parallel-item:last-child::after {align-self: flex-start;width: 50%;}#sk-container-id-1 div.sk-parallel-item:only-child::after {width: 0;}#sk-container-id-1 div.sk-dashed-wrapped {border: 1px dashed gray;margin: 0 0.4em 0.5em 0.4em;box-sizing: border-box;padding-bottom: 0.4em;background-color: white;}#sk-container-id-1 div.sk-label label {font-family: monospace;font-weight: bold;display: inline-block;line-height: 1.2em;}#sk-container-id-1 div.sk-label-container {text-align: center;}#sk-container-id-1 div.sk-container {/* jupyter's `normalize.less` sets `[hidden] { display: none; }` but bootstrap.min.css set `[hidden] { display: none !important; }` so we also need the `!important` here to be able to override the default hidden behavior on the sphinx rendered scikit-learn.org. See: https://github.com/scikit-learn/scikit-learn/issues/21755 */display: inline-block !important;position: relative;}#sk-container-id-1 div.sk-text-repr-fallback {display: none;}</style><div id=\"sk-container-id-1\" class=\"sk-top-container\"><div class=\"sk-text-repr-fallback\"><pre>LogisticRegression(C=100, max_iter=3, solver=&#x27;saga&#x27;)</pre><b>In a Jupyter environment, please rerun this cell to show the HTML representation or trust the notebook. <br />On GitHub, the HTML representation is unable to render, please try loading this page with nbviewer.org.</b></div><div class=\"sk-container\" hidden><div class=\"sk-item\"><div class=\"sk-estimator sk-toggleable\"><input class=\"sk-toggleable__control sk-hidden--visually\" id=\"sk-estimator-id-1\" type=\"checkbox\" checked><label for=\"sk-estimator-id-1\" class=\"sk-toggleable__label sk-toggleable__label-arrow\">LogisticRegression</label><div class=\"sk-toggleable__content\"><pre>LogisticRegression(C=100, max_iter=3, solver=&#x27;saga&#x27;)</pre></div></div></div></div></div>"
            ]
          },
          "metadata": {},
          "execution_count": 10
        }
      ],
      "source": [
        "model = LogisticRegression(max_iter=3,solver='saga',C=100)\n",
        "model.fit(X_train, y_train)\n",
        "# from sklearn.linear_model import SGDClassifier\n",
        "# model = SGDClassifier(max_iter=3, tol=None, random_state=42)\n",
        "# model.fit(X_train, y_train)"
      ]
    },
    {
      "cell_type": "code",
      "execution_count": 11,
      "id": "6ce74a67-2f46-4280-b468-fba8c62d3834",
      "metadata": {
        "id": "6ce74a67-2f46-4280-b468-fba8c62d3834"
      },
      "outputs": [],
      "source": [
        "weights_sklearn = model.coef_[0]\n",
        "bias_sklearn = model.intercept_[0]"
      ]
    },
    {
      "cell_type": "code",
      "execution_count": 12,
      "id": "8c94b693-1c1b-406c-a964-27d34be4b1ee",
      "metadata": {
        "id": "8c94b693-1c1b-406c-a964-27d34be4b1ee",
        "colab": {
          "base_uri": "https://localhost:8080/"
        },
        "outputId": "4531ff4f-4c68-4afc-cbae-391aa9aab5ef"
      },
      "outputs": [
        {
          "output_type": "stream",
          "name": "stdout",
          "text": [
            "Weights from scikit-learn: [ 0.00642227  0.28929299  0.08623789 -0.30126211 -0.16509253 -0.51692731\n",
            "  0.30299467  0.05224594]\n",
            "Bias from scikit-learn: -0.6253727079372288\n"
          ]
        }
      ],
      "source": [
        "print(\"Weights from scikit-learn:\", weights_sklearn)\n",
        "print(\"Bias from scikit-learn:\", bias_sklearn)"
      ]
    },
    {
      "cell_type": "code",
      "execution_count": 13,
      "id": "89c00a31-1681-40c0-945e-1c5122f09f2a",
      "metadata": {
        "id": "89c00a31-1681-40c0-945e-1c5122f09f2a",
        "colab": {
          "base_uri": "https://localhost:8080/"
        },
        "outputId": "cf73efc9-b47e-4452-b024-1794dd024059"
      },
      "outputs": [
        {
          "output_type": "stream",
          "name": "stdout",
          "text": [
            "\n",
            "Comparison of Weights and Bias:\n",
            "Weights difference: [0.05482246 0.00668016 0.00500581 0.0635321  0.01699326 0.1246576\n",
            " 0.0076586  0.05720813]\n",
            "Bias difference: 0.14131285422140016\n"
          ]
        }
      ],
      "source": [
        "print(\"\\nComparison of Weights and Bias:\")\n",
        "print(\"Weights difference:\", np.abs(weights_sgd - weights_sklearn))\n",
        "print(\"Bias difference:\", np.abs(bias_sgd - bias_sklearn))"
      ]
    },
    {
      "cell_type": "code",
      "source": [
        "def predict(X, weights, bias):\n",
        "    z = np.dot(X, weights) + bias\n",
        "    y_pred = sigmoid(z)\n",
        "    return (y_pred > 0.5).astype(int)"
      ],
      "metadata": {
        "id": "3zsLH6SliDOV"
      },
      "id": "3zsLH6SliDOV",
      "execution_count": 14,
      "outputs": []
    },
    {
      "cell_type": "code",
      "source": [
        "y_pred_sgd = predict(X_test, weights_sgd, bias_sgd)"
      ],
      "metadata": {
        "id": "ZxvVONa2iEkA"
      },
      "id": "ZxvVONa2iEkA",
      "execution_count": 15,
      "outputs": []
    },
    {
      "cell_type": "code",
      "source": [
        "from sklearn.metrics import accuracy_score\n",
        "accuracy = accuracy_score(y_test, y_pred_sgd)\n",
        "print(f'Accuracy: {accuracy}')"
      ],
      "metadata": {
        "id": "YGiL7BLIiJ5q",
        "colab": {
          "base_uri": "https://localhost:8080/"
        },
        "outputId": "f531f9e1-5b2b-42f5-a47a-33ac3497859a"
      },
      "id": "YGiL7BLIiJ5q",
      "execution_count": 16,
      "outputs": [
        {
          "output_type": "stream",
          "name": "stdout",
          "text": [
            "Accuracy: 0.7176470588235294\n"
          ]
        }
      ]
    },
    {
      "cell_type": "code",
      "source": [
        "y_pred_sklearn=model.predict(X_test)\n",
        "accuracy = accuracy_score(y_test, y_pred_sklearn)\n",
        "print(f'Accuracy: {accuracy}')"
      ],
      "metadata": {
        "id": "LfJYiUO9iZxj",
        "colab": {
          "base_uri": "https://localhost:8080/"
        },
        "outputId": "60d02bf9-e9a2-4708-c35f-c0c5977e0b66"
      },
      "id": "LfJYiUO9iZxj",
      "execution_count": 17,
      "outputs": [
        {
          "output_type": "stream",
          "name": "stdout",
          "text": [
            "Accuracy: 0.7235294117647059\n"
          ]
        }
      ]
    }
  ],
  "metadata": {
    "kernelspec": {
      "display_name": "Python 3 (ipykernel)",
      "language": "python",
      "name": "python3"
    },
    "language_info": {
      "codemirror_mode": {
        "name": "ipython",
        "version": 3
      },
      "file_extension": ".py",
      "mimetype": "text/x-python",
      "name": "python",
      "nbconvert_exporter": "python",
      "pygments_lexer": "ipython3",
      "version": "3.12.3"
    },
    "colab": {
      "provenance": []
    }
  },
  "nbformat": 4,
  "nbformat_minor": 5
}