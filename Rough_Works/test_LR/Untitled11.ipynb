{
 "cells": [
  {
   "cell_type": "code",
   "execution_count": 1,
   "id": "506c6b8c-a917-4c92-923e-1cab196256cd",
   "metadata": {},
   "outputs": [],
   "source": [
    "from lightphe import LightPHE\n",
    "cs=LightPHE(algorithm_name=\"Paillier\")"
   ]
  },
  {
   "cell_type": "code",
   "execution_count": 2,
   "id": "961c80b6-4e7a-40ad-8e89-72959bd88073",
   "metadata": {},
   "outputs": [
    {
     "name": "stdout",
     "output_type": "stream",
     "text": [
      "[40, 90, 200, 350, 200, 320]\n",
      "1200\n",
      "15.0\n",
      "0.15\n"
     ]
    }
   ],
   "source": [
    "arr1=[20,30,50,70,25,32]\n",
    "arr2=[2,3,4,5,8,10]\n",
    "lr=0.01\n",
    "var1=1/80\n",
    "ans1=[]\n",
    "for i,j in zip(arr1,arr2):\n",
    "    p=i*j\n",
    "    ans1.append(p)\n",
    "print(ans1)\n",
    "\n",
    "ans1_1=0\n",
    "for i in ans1:\n",
    "    ans1_1+=i\n",
    "print(ans1_1)\n",
    "\n",
    "ans1_1*=var1\n",
    "print(ans1_1)\n",
    "\n",
    "ans1_1*=lr\n",
    "print(ans1_1)"
   ]
  },
  {
   "cell_type": "code",
   "execution_count": 3,
   "id": "18b0b97c-5d74-4d66-bdee-2e4fb3d9af93",
   "metadata": {},
   "outputs": [
    {
     "name": "stdout",
     "output_type": "stream",
     "text": [
      "1200\n",
      "12.0\n",
      "0.15000000000000002\n"
     ]
    }
   ],
   "source": [
    "ans2=0\n",
    "for i,j in zip(arr1,arr2):\n",
    "    p=i*j\n",
    "    ans2+=p\n",
    "\n",
    "print(ans2)\n",
    "ans2*=lr\n",
    "print(ans2)\n",
    "ans2*=var1\n",
    "print(ans2)"
   ]
  },
  {
   "cell_type": "code",
   "execution_count": 4,
   "id": "8b7428df-c2e2-4720-8ac1-2274619083c8",
   "metadata": {},
   "outputs": [
    {
     "data": {
      "text/plain": [
       "[46.0, 84.0, 180.0, -68.0, -50.0]"
      ]
     },
     "execution_count": 4,
     "metadata": {},
     "output_type": "execute_result"
    }
   ],
   "source": [
    "a=[-23,-42,-90,34,25]\n",
    "b=-2\n",
    "\n",
    "a=cs.encrypt(a)\n",
    "a=a*b\n",
    "cs.decrypt(a)"
   ]
  },
  {
   "cell_type": "code",
   "execution_count": 5,
   "id": "58ea88a7-ee2b-4c0b-be77-231797830847",
   "metadata": {},
   "outputs": [],
   "source": [
    "import numpy as np\n",
    "from sklearn.model_selection import train_test_split\n",
    "from sklearn import datasets\n",
    "import matplotlib.pyplot as plt\n",
    "import torch\n",
    "from LinearRegression import LinearRegression\n",
    "plt.style.use(\"dark_background\")"
   ]
  },
  {
   "cell_type": "code",
   "execution_count": 6,
   "id": "071a1685-4971-48d2-ab33-c38ca4059c74",
   "metadata": {},
   "outputs": [],
   "source": [
    "X,y=datasets.make_regression(n_samples=100,n_features=1,noise=20,random_state=1234)\n",
    "X_train,X_test,y_train,y_test=train_test_split(X,y,test_size=0.2,random_state=4)"
   ]
  },
  {
   "cell_type": "code",
   "execution_count": null,
   "id": "893eb6c0-0b28-4830-b11b-cb85835a77eb",
   "metadata": {},
   "outputs": [],
   "source": []
  }
 ],
 "metadata": {
  "kernelspec": {
   "display_name": "Python 3 (ipykernel)",
   "language": "python",
   "name": "python3"
  },
  "language_info": {
   "codemirror_mode": {
    "name": "ipython",
    "version": 3
   },
   "file_extension": ".py",
   "mimetype": "text/x-python",
   "name": "python",
   "nbconvert_exporter": "python",
   "pygments_lexer": "ipython3",
   "version": "3.10.0"
  }
 },
 "nbformat": 4,
 "nbformat_minor": 5
}
