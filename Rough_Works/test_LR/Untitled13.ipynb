{
 "cells": [
  {
   "cell_type": "code",
   "execution_count": 1,
   "id": "084b4cf8-4dd2-41d2-9546-fb8d16eb23d9",
   "metadata": {},
   "outputs": [],
   "source": [
    "import numpy as np\n",
    "from sklearn.model_selection import train_test_split\n",
    "from sklearn import datasets\n",
    "import matplotlib.pyplot as plt\n",
    "plt.style.use(\"dark_background\")"
   ]
  },
  {
   "cell_type": "code",
   "execution_count": 2,
   "id": "e5cc8da5-4331-40d0-a285-17c9b91d065b",
   "metadata": {},
   "outputs": [],
   "source": [
    "X,y=datasets.make_regression(n_samples=100,n_features=1,noise=20,random_state=1234)"
   ]
  },
  {
   "cell_type": "code",
   "execution_count": 3,
   "id": "bf0dfa54-833d-4b9e-9bc5-37a8a32819fe",
   "metadata": {},
   "outputs": [],
   "source": [
    "desired_min=-5\n",
    "desired_max=5"
   ]
  },
  {
   "cell_type": "code",
   "execution_count": 4,
   "id": "e28bb94f-8bc7-4683-9341-0755bce775e4",
   "metadata": {},
   "outputs": [],
   "source": [
    "X_min,X_max=X.min(),X.max()\n",
    "X_scaled=(X-X_min)/(X_max-X_min)  \n",
    "X_normalized=X_scaled*(desired_max-desired_min)+desired_min"
   ]
  },
  {
   "cell_type": "code",
   "execution_count": 5,
   "id": "1095e137-667b-4f44-9ba0-7f683503c8d6",
   "metadata": {},
   "outputs": [],
   "source": [
    "y_min,y_max=y.min(),y.max()\n",
    "y_scaled=(y-y_min)/(y_max-y_min)\n",
    "y_normalized=y_scaled*(desired_max-desired_min)+desired_min"
   ]
  },
  {
   "cell_type": "code",
   "execution_count": 6,
   "id": "4fc03bc7-a206-4ffa-8f7d-f8b2dce1b873",
   "metadata": {},
   "outputs": [],
   "source": [
    "X=X_normalized\n",
    "y=y_normalized"
   ]
  },
  {
   "cell_type": "code",
   "execution_count": 7,
   "id": "49604ab3-529f-4f8b-a070-b04660201b6c",
   "metadata": {},
   "outputs": [],
   "source": [
    "X_train,X_test,y_train,y_test=train_test_split(X,y,test_size=0.2,random_state=4)"
   ]
  },
  {
   "cell_type": "code",
   "execution_count": 8,
   "id": "324f6e90-486f-4898-aa35-6d89c56385dd",
   "metadata": {},
   "outputs": [
    {
     "data": {
      "image/png": "[encoded data removed]",
      "text/plain": [
       "<Figure size 576x432 with 1 Axes>"
      ]
     },
     "metadata": {
      "needs_background": "dark"
     },
     "output_type": "display_data"
    }
   ],
   "source": [
    "fig=plt.figure(figsize=(8,6))\n",
    "plt.scatter(X[:,0],y)\n",
    "plt.show()"
   ]
  },
  {
   "cell_type": "code",
   "execution_count": 9,
   "id": "fb3bd174-1f91-4852-8a7c-a0628833a8b1",
   "metadata": {},
   "outputs": [],
   "source": [
    "import tenseal as ts\n",
    "poly_mod_degree=8192\n",
    "coeff_mod_bit_sizes=[60, 40, 40, 60]\n",
    "context= ts.context(ts.SCHEME_TYPE.CKKS,poly_mod_degree,-1,coeff_mod_bit_sizes)\n",
    "context.global_scale=2**40\n",
    "context.generate_galois_keys()"
   ]
  },
  {
   "cell_type": "code",
   "execution_count": 10,
   "id": "7310b787-638d-4f2f-a413-6411b6046883",
   "metadata": {},
   "outputs": [],
   "source": [
    "enc_X_train=[]\n",
    "for i in X_train:\n",
    "    t=ts.ckks_vector(context,i)\n",
    "    enc_X_train.append(t)"
   ]
  },
  {
   "cell_type": "code",
   "execution_count": 11,
   "id": "fd1bd0cc-b61f-428a-b48b-ffbd00bcc1a6",
   "metadata": {},
   "outputs": [],
   "source": [
    "enc_y_train=[]\n",
    "for i in y_train:\n",
    "    t=ts.ckks_vector(context,[i])\n",
    "    enc_y_train.append(t)"
   ]
  },
  {
   "cell_type": "code",
   "execution_count": 12,
   "id": "e25bb55f-9651-4802-b681-df98e68c38f5",
   "metadata": {},
   "outputs": [
    {
     "data": {
      "text/plain": [
       "(80, 1)"
      ]
     },
     "execution_count": 12,
     "metadata": {},
     "output_type": "execute_result"
    }
   ],
   "source": [
    "n_samples,n_features=X_train.shape\n",
    "n_samples,n_features"
   ]
  },
  {
   "cell_type": "code",
   "execution_count": 13,
   "id": "14fe00da-9a09-43c3-a642-5d57c3a9c31d",
   "metadata": {},
   "outputs": [],
   "source": [
    "weights=list(np.zeros(n_features))\n",
    "weights=ts.ckks_vector(context,weights)"
   ]
  },
  {
   "cell_type": "code",
   "execution_count": 14,
   "id": "3918b70e-2725-4da2-adb4-0ddd04ff4b5f",
   "metadata": {},
   "outputs": [
    {
     "data": {
      "text/plain": [
       "0"
      ]
     },
     "execution_count": 14,
     "metadata": {},
     "output_type": "execute_result"
    }
   ],
   "source": [
    "bias=0\n",
    "bias"
   ]
  },
  {
   "cell_type": "code",
   "execution_count": 15,
   "id": "8d98e195-dae1-47b9-b97e-15d65f828476",
   "metadata": {},
   "outputs": [],
   "source": [
    "lr=0.001\n",
    "n_iters=1000\n",
    "multiplier=(1/n_samples)*lr"
   ]
  },
  {
   "cell_type": "code",
   "execution_count": 16,
   "id": "7f0e4f37-d09b-47c4-a08c-78a9021775bf",
   "metadata": {},
   "outputs": [],
   "source": [
    "pre_y_pred=[]\n",
    "for i in enc_X_train:\n",
    "    p=i.dot(weights)\n",
    "    pre_y_pred.append(p)"
   ]
  },
  {
   "cell_type": "code",
   "execution_count": 17,
   "id": "523c2104-05a3-4bf3-8271-525431a094b2",
   "metadata": {},
   "outputs": [
    {
     "name": "stdout",
     "output_type": "stream",
     "text": [
      "[-2.487480275769296e-09]\n",
      "[-5.113579671937802e-09]\n",
      "[-1.907370195445753e-09]\n",
      "[-1.8711891467363644e-09]\n",
      "[-2.6460770730755498e-09]\n"
     ]
    }
   ],
   "source": [
    "for i in pre_y_pred[:5]:\n",
    "    print(i.decrypt())"
   ]
  },
  {
   "cell_type": "code",
   "execution_count": 18,
   "id": "57540ada-9984-4f19-adc7-2d62479970ee",
   "metadata": {},
   "outputs": [],
   "source": [
    "y_pred=[]\n",
    "for i in pre_y_pred:\n",
    "    p=i+bias\n",
    "    y_pred.append(p)"
   ]
  },
  {
   "cell_type": "code",
   "execution_count": 19,
   "id": "3c40e555-45c0-41e6-82e4-06115f2397e5",
   "metadata": {},
   "outputs": [
    {
     "name": "stdout",
     "output_type": "stream",
     "text": [
      "[-2.487480275769296e-09]\n",
      "[-5.113579671937802e-09]\n",
      "[-1.907370195445753e-09]\n",
      "[-1.8711891467363644e-09]\n",
      "[-2.6460770730755498e-09]\n"
     ]
    }
   ],
   "source": [
    "for i in y_pred[:5]:\n",
    "    print(i.decrypt())"
   ]
  },
  {
   "cell_type": "code",
   "execution_count": 20,
   "id": "fbb2aea4-1823-4a14-94dd-53e2294ee9fb",
   "metadata": {},
   "outputs": [],
   "source": [
    "res=[]\n",
    "for i,j in zip(y_pred,enc_y_train):\n",
    "    p=i-j\n",
    "    res.append(p)"
   ]
  },
  {
   "cell_type": "code",
   "execution_count": 21,
   "id": "3b99a2bb-7eb6-4ef0-b0aa-59979fdf84cf",
   "metadata": {},
   "outputs": [
    {
     "name": "stdout",
     "output_type": "stream",
     "text": [
      "[0.5336729621738602]\n",
      "[1.1471565363420728]\n",
      "[0.6300988358802373]\n",
      "[0.3552887955969231]\n",
      "[1.322496652180225]\n"
     ]
    }
   ],
   "source": [
    "for i in enc_y_train[:5]:\n",
    "    print(i.decrypt())"
   ]
  },
  {
   "cell_type": "code",
   "execution_count": 22,
   "id": "9d9a18d9-9bcd-4e96-983b-044ba7ec8aa2",
   "metadata": {},
   "outputs": [
    {
     "name": "stdout",
     "output_type": "stream",
     "text": [
      "[-0.5336729646613405]\n",
      "[-1.1471565414556528]\n",
      "[-0.6300988377876077]\n",
      "[-0.3552887974681122]\n",
      "[-1.3224966548263024]\n"
     ]
    }
   ],
   "source": [
    "for i in res[:5]:\n",
    "    print(i.decrypt())"
   ]
  },
  {
   "cell_type": "code",
   "execution_count": 23,
   "id": "eef965ec-c296-440b-a49d-ea250ebad48f",
   "metadata": {},
   "outputs": [],
   "source": [
    "res_sum=list(np.zeros(n_features))\n",
    "res_sum=ts.ckks_vector(context,res_sum)"
   ]
  },
  {
   "cell_type": "code",
   "execution_count": 24,
   "id": "f7366093-6653-4af5-9635-a63649726417",
   "metadata": {},
   "outputs": [
    {
     "data": {
      "text/plain": [
       "[7.11079437753229e-10]"
      ]
     },
     "execution_count": 24,
     "metadata": {},
     "output_type": "execute_result"
    }
   ],
   "source": [
    "res_sum.decrypt()"
   ]
  },
  {
   "cell_type": "code",
   "execution_count": 25,
   "id": "073abb7d-252b-49bd-8b5c-343e8e936112",
   "metadata": {},
   "outputs": [],
   "source": [
    "for i in res:\n",
    "    res_sum=res_sum+i"
   ]
  },
  {
   "cell_type": "code",
   "execution_count": 26,
   "id": "cb13514d-7f8f-40fc-8d3b-8df53ca770dc",
   "metadata": {},
   "outputs": [
    {
     "data": {
      "text/plain": [
       "[-39.01742036261992]"
      ]
     },
     "execution_count": 26,
     "metadata": {},
     "output_type": "execute_result"
    }
   ],
   "source": [
    "res_sum.decrypt()"
   ]
  },
  {
   "cell_type": "code",
   "execution_count": 27,
   "id": "e8f5874d-fad0-47a9-942e-609872dc497a",
   "metadata": {},
   "outputs": [
    {
     "data": {
      "text/plain": [
       "[-0.0004877179254392263]"
      ]
     },
     "execution_count": 27,
     "metadata": {},
     "output_type": "execute_result"
    }
   ],
   "source": [
    "db=res_sum*multiplier\n",
    "db.decrypt()"
   ]
  },
  {
   "cell_type": "code",
   "execution_count": 29,
   "id": "a49c539e-c346-42ae-b0b1-4ad40549d82d",
   "metadata": {},
   "outputs": [
    {
     "data": {
      "text/plain": [
       "<tenseal.tensors.ckksvector.CKKSVector at 0x2362d60e680>"
      ]
     },
     "execution_count": 29,
     "metadata": {},
     "output_type": "execute_result"
    }
   ],
   "source": [
    "bias=bias-db\n",
    "bias"
   ]
  },
  {
   "cell_type": "code",
   "execution_count": 30,
   "id": "b7d27015-85b2-4852-b637-d827b0db0084",
   "metadata": {},
   "outputs": [
    {
     "data": {
      "text/plain": [
       "[0.0004877179254392263]"
      ]
     },
     "execution_count": 30,
     "metadata": {},
     "output_type": "execute_result"
    }
   ],
   "source": [
    "bias.decrypt()"
   ]
  },
  {
   "cell_type": "code",
   "execution_count": 31,
   "id": "88a3e3e1-0ff7-47a0-ab2a-90a4de4293c6",
   "metadata": {},
   "outputs": [],
   "source": [
    "hek=[]\n",
    "for i,j in zip(enc_X_train,res):\n",
    "    p=i*j\n",
    "    hek.append(p)"
   ]
  },
  {
   "cell_type": "code",
   "execution_count": 32,
   "id": "59fb76d3-6818-42dd-963a-968cc5b18617",
   "metadata": {},
   "outputs": [],
   "source": [
    "hek=[]\n",
    "for i,j in zip(enc_X_train,res):\n",
    "    p=i*j\n",
    "    hek.append(p)"
   ]
  },
  {
   "cell_type": "code",
   "execution_count": 34,
   "id": "867d23b0-c399-43e1-807f-70952624a903",
   "metadata": {},
   "outputs": [
    {
     "data": {
      "text/plain": [
       "[-5.102926065579559e-10]"
      ]
     },
     "execution_count": 34,
     "metadata": {},
     "output_type": "execute_result"
    }
   ],
   "source": [
    "dem=list(np.zeros(n_features))\n",
    "dem=ts.ckks_vector(context,dem)\n",
    "dem.decrypt()"
   ]
  },
  {
   "cell_type": "code",
   "execution_count": 35,
   "id": "bf61dc23-ad64-497b-a152-e561eebce1aa",
   "metadata": {},
   "outputs": [],
   "source": [
    "for i in hek:\n",
    "    dem=dem+i"
   ]
  },
  {
   "cell_type": "code",
   "execution_count": 36,
   "id": "c0980271-9d63-4a09-961d-a1aa445f7452",
   "metadata": {},
   "outputs": [
    {
     "data": {
      "text/plain": [
       "[-268.5038266220088]"
      ]
     },
     "execution_count": 36,
     "metadata": {},
     "output_type": "execute_result"
    }
   ],
   "source": [
    "dem.decrypt()"
   ]
  }
 ],
 "metadata": {
  "kernelspec": {
   "display_name": "Python 3 (ipykernel)",
   "language": "python",
   "name": "python3"
  },
  "language_info": {
   "codemirror_mode": {
    "name": "ipython",
    "version": 3
   },
   "file_extension": ".py",
   "mimetype": "text/x-python",
   "name": "python",
   "nbconvert_exporter": "python",
   "pygments_lexer": "ipython3",
   "version": "3.10.0"
  }
 },
 "nbformat": 4,
 "nbformat_minor": 5
}
