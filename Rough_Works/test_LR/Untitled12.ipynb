{
 "cells": [
  {
   "cell_type": "code",
   "execution_count": 1,
   "id": "884e6c6c-e93c-44bb-8ad1-99727268c0cb",
   "metadata": {},
   "outputs": [],
   "source": [
    "import numpy as np\n",
    "from sklearn.model_selection import train_test_split\n",
    "from sklearn import datasets\n",
    "import matplotlib.pyplot as plt\n",
    "import torch\n",
    "from LinearRegression import LinearRegression\n",
    "plt.style.use(\"dark_background\")"
   ]
  },
  {
   "cell_type": "code",
   "execution_count": 2,
   "id": "e87bc094-4164-41e5-a3f6-0e59ad70355e",
   "metadata": {},
   "outputs": [],
   "source": [
    "X,y=datasets.make_regression(n_samples=100,n_features=1,noise=20,random_state=1234)\n",
    "X_train,X_test,y_train,y_test=train_test_split(X,y,test_size=0.2,random_state=4)"
   ]
  },
  {
   "cell_type": "code",
   "execution_count": 3,
   "id": "89000039-48f2-4f6b-bdf0-7e722c254649",
   "metadata": {},
   "outputs": [
    {
     "data": {
      "image/png": "[encoded data removed]",
      "text/plain": [
       "<Figure size 576x432 with 1 Axes>"
      ]
     },
     "metadata": {
      "needs_background": "dark"
     },
     "output_type": "display_data"
    }
   ],
   "source": [
    "fig=plt.figure(figsize=(8,6))\n",
    "plt.scatter(X[:,0],y)\n",
    "plt.show()"
   ]
  },
  {
   "cell_type": "code",
   "execution_count": 4,
   "id": "a165ae62-7d99-413b-840e-30280a4169ec",
   "metadata": {},
   "outputs": [],
   "source": [
    "from phe import paillier\n",
    "public_key,private_key=paillier.generate_paillier_keypair()"
   ]
  },
  {
   "cell_type": "code",
   "execution_count": 5,
   "id": "ee03dfe7-3ba2-4eac-b0e3-0653feb880c7",
   "metadata": {},
   "outputs": [],
   "source": [
    "enc_X_train=[]\n",
    "for i in X_train:\n",
    "    row_x=[]\n",
    "    for j in i:\n",
    "        k=public_key.encrypt(j)\n",
    "        row_x.append(k)\n",
    "    enc_X_train.append(row_x)"
   ]
  },
  {
   "cell_type": "code",
   "execution_count": 6,
   "id": "dc4ebc11-c66f-4b21-81b5-a6cb27721fd2",
   "metadata": {},
   "outputs": [],
   "source": [
    "enc_y_train=[]\n",
    "for i in y_train:\n",
    "    p=public_key.encrypt(i)\n",
    "    enc_y_train.append(p)"
   ]
  },
  {
   "cell_type": "code",
   "execution_count": 7,
   "id": "90ef6155-9dff-448d-8294-28b10a4e81c1",
   "metadata": {},
   "outputs": [
    {
     "data": {
      "text/plain": [
       "(80, 1)"
      ]
     },
     "execution_count": 7,
     "metadata": {},
     "output_type": "execute_result"
    }
   ],
   "source": [
    "n_samples,n_attributes=X_train.shape\n",
    "n_samples,n_attributes"
   ]
  },
  {
   "cell_type": "code",
   "execution_count": 8,
   "id": "6f6064fb-dd01-4bda-9470-9ed47dc830bc",
   "metadata": {},
   "outputs": [],
   "source": [
    "var1=1/n_samples\n",
    "bias=0\n",
    "weights=[0]\n",
    "lr=0.01\n",
    "n_iters=1000"
   ]
  },
  {
   "cell_type": "markdown",
   "id": "1e1d398a-c6c7-459d-9776-fc2b2fe30998",
   "metadata": {},
   "source": [
    "### fit function:"
   ]
  },
  {
   "cell_type": "markdown",
   "id": "7343778b-0c26-4fc1-b4f6-de368e651515",
   "metadata": {},
   "source": [
    "#### first iteration"
   ]
  },
  {
   "cell_type": "markdown",
   "id": "d7f6d4fb-aa16-4856-bfab-7a8401384b95",
   "metadata": {},
   "source": [
    "y_pred = np.dot(X, self.weights) + self.bias"
   ]
  },
  {
   "cell_type": "markdown",
   "id": "4f31de87-ea0f-4022-9265-136e83a30a29",
   "metadata": {},
   "source": [
    "calculating np.dot(X,weights)"
   ]
  },
  {
   "cell_type": "code",
   "execution_count": 9,
   "id": "f0d2978f-bf0f-4797-b7f0-b8eda8642373",
   "metadata": {},
   "outputs": [],
   "source": [
    "y_pred=[]\n",
    "for i in enc_X_train:\n",
    "    summation=0\n",
    "    for j,k in zip(i,weights):\n",
    "        p=j*k\n",
    "        summation=summation+p\n",
    "    summation=summation+bias\n",
    "    y_pred.append(summation)"
   ]
  },
  {
   "cell_type": "code",
   "execution_count": 10,
   "id": "acf3c3f5-79ce-471c-8eab-1a9f206d8c4b",
   "metadata": {},
   "outputs": [
    {
     "data": {
      "text/plain": [
       "[<phe.paillier.EncryptedNumber at 0x218f7e86dd0>,\n",
       " <phe.paillier.EncryptedNumber at 0x218f7e86e00>,\n",
       " <phe.paillier.EncryptedNumber at 0x218f7e86710>,\n",
       " <phe.paillier.EncryptedNumber at 0x218f7e86740>,\n",
       " <phe.paillier.EncryptedNumber at 0x218f7e86560>]"
      ]
     },
     "execution_count": 10,
     "metadata": {},
     "output_type": "execute_result"
    }
   ],
   "source": [
    "y_pred[:5]"
   ]
  },
  {
   "cell_type": "code",
   "execution_count": 11,
   "id": "24fc1206-0392-4433-903d-854e557e814d",
   "metadata": {},
   "outputs": [
    {
     "name": "stdout",
     "output_type": "stream",
     "text": [
      "0.0\n",
      "0.0\n",
      "0.0\n",
      "0.0\n",
      "0.0\n"
     ]
    }
   ],
   "source": [
    "for i in y_pred[:5]:\n",
    "    print(private_key.decrypt(i))"
   ]
  },
  {
   "cell_type": "markdown",
   "id": "8059ea6c-013f-4e90-8ab8-af81d7e2b17c",
   "metadata": {},
   "source": [
    "calculating y_pred-enc_y_train:"
   ]
  },
  {
   "cell_type": "code",
   "execution_count": 12,
   "id": "35e54c37-985c-4806-a537-2a6e652eb698",
   "metadata": {},
   "outputs": [
    {
     "data": {
      "text/plain": [
       "array([ 4.72571035, 37.3033147 ,  9.84617977, -4.74696202, 46.61433976])"
      ]
     },
     "execution_count": 12,
     "metadata": {},
     "output_type": "execute_result"
    }
   ],
   "source": [
    "y_train[:5]"
   ]
  },
  {
   "cell_type": "code",
   "execution_count": 13,
   "id": "7d366e9c-fd04-4777-90e9-b6a786468658",
   "metadata": {},
   "outputs": [
    {
     "name": "stdout",
     "output_type": "stream",
     "text": [
      "4.725710345773317\n",
      "37.30331469641108\n",
      "9.846179767820677\n",
      "-4.746962016199478\n",
      "46.61433976388177\n"
     ]
    }
   ],
   "source": [
    "for i in enc_y_train[:5]:\n",
    "    print(private_key.decrypt(i))"
   ]
  },
  {
   "cell_type": "code",
   "execution_count": 14,
   "id": "58b3cb30-4cdd-4be0-b0c8-51a25f77c187",
   "metadata": {},
   "outputs": [],
   "source": [
    "enc_y_train_1=[]\n",
    "for i in enc_y_train:\n",
    "    p=i*(-1)\n",
    "    enc_y_train_1.append(p)"
   ]
  },
  {
   "cell_type": "code",
   "execution_count": 15,
   "id": "41f0202c-6ebd-4f68-a56f-41f42017e92c",
   "metadata": {},
   "outputs": [
    {
     "name": "stdout",
     "output_type": "stream",
     "text": [
      "-4.725710345773317\n",
      "-37.30331469641108\n",
      "-9.846179767820677\n",
      "4.746962016199478\n",
      "-46.61433976388177\n"
     ]
    }
   ],
   "source": [
    "for i in enc_y_train_1[:5]:\n",
    "    print(private_key.decrypt(i))"
   ]
  },
  {
   "cell_type": "markdown",
   "id": "96848241-408c-4a22-ae9e-370ec6f2f23c",
   "metadata": {},
   "source": [
    "res=y_pred-enc_y_train_1"
   ]
  },
  {
   "cell_type": "code",
   "execution_count": 16,
   "id": "ec260fbe-6842-46a7-ab6e-8f0729775e8c",
   "metadata": {},
   "outputs": [],
   "source": [
    "res=[]\n",
    "for i,j in zip(y_pred,enc_y_train_1):\n",
    "    p=i+j\n",
    "    res.append(p)"
   ]
  },
  {
   "cell_type": "code",
   "execution_count": 17,
   "id": "5a016fc3-b47f-4e41-9081-4ba265177dbe",
   "metadata": {},
   "outputs": [
    {
     "name": "stdout",
     "output_type": "stream",
     "text": [
      "-4.725710345773317\n",
      "-37.30331469641108\n",
      "-9.846179767820677\n",
      "4.746962016199478\n",
      "-46.61433976388177\n"
     ]
    }
   ],
   "source": [
    "for i in res[:5]:\n",
    "    print(private_key.decrypt(i))"
   ]
  },
  {
   "cell_type": "markdown",
   "id": "6868bdae-04df-4e0c-aada-8d97c61a3198",
   "metadata": {},
   "source": [
    "#### decrypting res for dot product with X.T"
   ]
  },
  {
   "cell_type": "code",
   "execution_count": 18,
   "id": "a36382ee-bd21-44ff-956c-eea5f195c44e",
   "metadata": {},
   "outputs": [],
   "source": [
    "res_decrypt=[]\n",
    "for i in res:\n",
    "    p=private_key.decrypt(i)\n",
    "    # p=p*10\n",
    "    res_decrypt.append(p)\n",
    "    "
   ]
  },
  {
   "cell_type": "code",
   "execution_count": 19,
   "id": "337ce982-d4f5-4048-9d4a-31ead98766f5",
   "metadata": {},
   "outputs": [
    {
     "data": {
      "text/plain": [
       "[-4.725710345773317,\n",
       " -37.30331469641108,\n",
       " -9.846179767820677,\n",
       " 4.746962016199478,\n",
       " -46.61433976388177]"
      ]
     },
     "execution_count": 19,
     "metadata": {},
     "output_type": "execute_result"
    }
   ],
   "source": [
    "res_decrypt[:5]"
   ]
  },
  {
   "cell_type": "code",
   "execution_count": 20,
   "id": "add263ee-43fb-4be1-ab4a-f43e6a69ffc5",
   "metadata": {},
   "outputs": [],
   "source": [
    "wei=[]\n",
    "for i,j in zip(enc_X_train,res_decrypt):\n",
    "    row_x=[]\n",
    "    for k in i:\n",
    "        p=k*j\n",
    "        row_x.append(p)\n",
    "    wei.append(row_x)"
   ]
  },
  {
   "cell_type": "code",
   "execution_count": 21,
   "id": "942c6414-cf35-4cb8-857a-5b851620cf05",
   "metadata": {},
   "outputs": [
    {
     "name": "stdout",
     "output_type": "stream",
     "text": [
      "[<phe.paillier.EncryptedNumber object at 0x00000218F7E9ED40>]\n",
      "[<phe.paillier.EncryptedNumber object at 0x00000218F7E9EB00>]\n",
      "[<phe.paillier.EncryptedNumber object at 0x00000218F7EB5270>]\n",
      "[<phe.paillier.EncryptedNumber object at 0x00000218F7EB5240>]\n",
      "[<phe.paillier.EncryptedNumber object at 0x00000218F7EB5210>]\n"
     ]
    }
   ],
   "source": [
    "for i in wei[:5]:\n",
    "    print(i)"
   ]
  },
  {
   "cell_type": "markdown",
   "id": "dca3f984-eb4c-461a-ab46-42bd18c2129a",
   "metadata": {},
   "source": [
    "#### calculating weights:"
   ]
  },
  {
   "cell_type": "code",
   "execution_count": 22,
   "id": "a6cf2ff9-5326-4248-b880-d2c44c893b79",
   "metadata": {},
   "outputs": [],
   "source": [
    "ww_a1=0\n",
    "for i in wei:\n",
    "    for j in i:\n",
    "        ww_a1=ww_a1+j"
   ]
  },
  {
   "cell_type": "code",
   "execution_count": 23,
   "id": "bfa1c6a1-f5c6-4464-bda0-14e982caa402",
   "metadata": {},
   "outputs": [
    {
     "data": {
      "text/plain": [
       "0.0125"
      ]
     },
     "execution_count": 23,
     "metadata": {},
     "output_type": "execute_result"
    }
   ],
   "source": [
    "var1"
   ]
  },
  {
   "cell_type": "code",
   "execution_count": 24,
   "id": "751c19ba-9dc0-4707-a50a-3eb98cbe5c04",
   "metadata": {},
   "outputs": [],
   "source": [
    "dw=var1*ww_a1"
   ]
  },
  {
   "cell_type": "code",
   "execution_count": 25,
   "id": "fb81a8ee-f728-41c1-a67f-6a080a74ce31",
   "metadata": {},
   "outputs": [
    {
     "data": {
      "text/plain": [
       "-90.57266136571002"
      ]
     },
     "execution_count": 25,
     "metadata": {},
     "output_type": "execute_result"
    }
   ],
   "source": [
    "private_key.decrypt(dw)"
   ]
  },
  {
   "cell_type": "code",
   "execution_count": 26,
   "id": "a25b13c4-e95a-4d26-a8c2-a0165bab282f",
   "metadata": {},
   "outputs": [
    {
     "data": {
      "text/plain": [
       "-0.9057266136571002"
      ]
     },
     "execution_count": 26,
     "metadata": {},
     "output_type": "execute_result"
    }
   ],
   "source": [
    "dw=dw*lr\n",
    "private_key.decrypt(dw)"
   ]
  },
  {
   "cell_type": "code",
   "execution_count": 27,
   "id": "14a02834-ae20-4243-bcf9-5d2796f0a9f8",
   "metadata": {},
   "outputs": [
    {
     "name": "stdout",
     "output_type": "stream",
     "text": [
      "0.9057266136571002\n"
     ]
    }
   ],
   "source": [
    "dw=dw*(-1)\n",
    "print(private_key.decrypt(dw))"
   ]
  },
  {
   "cell_type": "code",
   "execution_count": 28,
   "id": "be514454-94d0-46ee-84cf-6839445454fa",
   "metadata": {},
   "outputs": [
    {
     "name": "stdout",
     "output_type": "stream",
     "text": [
      "0.9057266136571002\n"
     ]
    }
   ],
   "source": [
    "weights=weights[0]+dw\n",
    "print(private_key.decrypt(weights))"
   ]
  },
  {
   "cell_type": "markdown",
   "id": "a620593a-3e66-4acd-aef0-67bac5f2ac55",
   "metadata": {},
   "source": [
    "#### calculating bias:"
   ]
  },
  {
   "cell_type": "code",
   "execution_count": 29,
   "id": "0bbc5dfd-bb50-4073-82dd-9ef7b15ac184",
   "metadata": {},
   "outputs": [
    {
     "data": {
      "text/plain": [
       "[<phe.paillier.EncryptedNumber at 0x218f7e9f0a0>,\n",
       " <phe.paillier.EncryptedNumber at 0x218f7e9f040>,\n",
       " <phe.paillier.EncryptedNumber at 0x218f7e9efe0>,\n",
       " <phe.paillier.EncryptedNumber at 0x218f7e9ef20>,\n",
       " <phe.paillier.EncryptedNumber at 0x218f7e9e890>,\n",
       " <phe.paillier.EncryptedNumber at 0x218f7e9ca90>,\n",
       " <phe.paillier.EncryptedNumber at 0x218f7e9cc70>,\n",
       " <phe.paillier.EncryptedNumber at 0x218f7e9ccd0>,\n",
       " <phe.paillier.EncryptedNumber at 0x218f7e9c970>,\n",
       " <phe.paillier.EncryptedNumber at 0x218f7e9ea70>,\n",
       " <phe.paillier.EncryptedNumber at 0x218f7e9e800>,\n",
       " <phe.paillier.EncryptedNumber at 0x218f7e9ca60>,\n",
       " <phe.paillier.EncryptedNumber at 0x218f7e9ea10>,\n",
       " <phe.paillier.EncryptedNumber at 0x218f7e9cdc0>,\n",
       " <phe.paillier.EncryptedNumber at 0x218f7e9ee00>,\n",
       " <phe.paillier.EncryptedNumber at 0x218f7e86680>,\n",
       " <phe.paillier.EncryptedNumber at 0x218f7e86cb0>,\n",
       " <phe.paillier.EncryptedNumber at 0x218f7e86c80>,\n",
       " <phe.paillier.EncryptedNumber at 0x218f7e86200>,\n",
       " <phe.paillier.EncryptedNumber at 0x218f7e861d0>,\n",
       " <phe.paillier.EncryptedNumber at 0x218f7e86350>,\n",
       " <phe.paillier.EncryptedNumber at 0x218f7e9f5b0>,\n",
       " <phe.paillier.EncryptedNumber at 0x218f7e9ee90>,\n",
       " <phe.paillier.EncryptedNumber at 0x218f7e9f250>,\n",
       " <phe.paillier.EncryptedNumber at 0x218f7e9ec80>,\n",
       " <phe.paillier.EncryptedNumber at 0x218f7e9eaa0>,\n",
       " <phe.paillier.EncryptedNumber at 0x218f7e9f670>,\n",
       " <phe.paillier.EncryptedNumber at 0x218f7e9f6d0>,\n",
       " <phe.paillier.EncryptedNumber at 0x218f7e9f730>,\n",
       " <phe.paillier.EncryptedNumber at 0x218f7e9f790>,\n",
       " <phe.paillier.EncryptedNumber at 0x218f7e9f7f0>,\n",
       " <phe.paillier.EncryptedNumber at 0x218f7e9f850>,\n",
       " <phe.paillier.EncryptedNumber at 0x218f7e9f8b0>,\n",
       " <phe.paillier.EncryptedNumber at 0x218f7e9f910>,\n",
       " <phe.paillier.EncryptedNumber at 0x218f7e9f970>,\n",
       " <phe.paillier.EncryptedNumber at 0x218f7e9f9d0>,\n",
       " <phe.paillier.EncryptedNumber at 0x218f7e9fa30>,\n",
       " <phe.paillier.EncryptedNumber at 0x218f7e9fa90>,\n",
       " <phe.paillier.EncryptedNumber at 0x218f7e9faf0>,\n",
       " <phe.paillier.EncryptedNumber at 0x218f7e9fb50>,\n",
       " <phe.paillier.EncryptedNumber at 0x218f7e9fbb0>,\n",
       " <phe.paillier.EncryptedNumber at 0x218f7e9fc10>,\n",
       " <phe.paillier.EncryptedNumber at 0x218f7e9fc70>,\n",
       " <phe.paillier.EncryptedNumber at 0x218f7e9fcd0>,\n",
       " <phe.paillier.EncryptedNumber at 0x218f7e9fd30>,\n",
       " <phe.paillier.EncryptedNumber at 0x218f7e9fd90>,\n",
       " <phe.paillier.EncryptedNumber at 0x218f7e9fdf0>,\n",
       " <phe.paillier.EncryptedNumber at 0x218f7e9fe50>,\n",
       " <phe.paillier.EncryptedNumber at 0x218f7e9feb0>,\n",
       " <phe.paillier.EncryptedNumber at 0x218f7e9ff10>,\n",
       " <phe.paillier.EncryptedNumber at 0x218f7e9ff70>,\n",
       " <phe.paillier.EncryptedNumber at 0x218f7e9ffd0>,\n",
       " <phe.paillier.EncryptedNumber at 0x218f7e9e950>,\n",
       " <phe.paillier.EncryptedNumber at 0x218f7eb40d0>,\n",
       " <phe.paillier.EncryptedNumber at 0x218f7eb4130>,\n",
       " <phe.paillier.EncryptedNumber at 0x218f7eb4190>,\n",
       " <phe.paillier.EncryptedNumber at 0x218f7eb41f0>,\n",
       " <phe.paillier.EncryptedNumber at 0x218f7eb4250>,\n",
       " <phe.paillier.EncryptedNumber at 0x218f7eb42b0>,\n",
       " <phe.paillier.EncryptedNumber at 0x218f7eb4310>,\n",
       " <phe.paillier.EncryptedNumber at 0x218f7eb4370>,\n",
       " <phe.paillier.EncryptedNumber at 0x218f7eb43d0>,\n",
       " <phe.paillier.EncryptedNumber at 0x218f7eb4430>,\n",
       " <phe.paillier.EncryptedNumber at 0x218f7eb4490>,\n",
       " <phe.paillier.EncryptedNumber at 0x218f7eb44f0>,\n",
       " <phe.paillier.EncryptedNumber at 0x218f7eb4550>,\n",
       " <phe.paillier.EncryptedNumber at 0x218f7eb40a0>,\n",
       " <phe.paillier.EncryptedNumber at 0x218f7eb4610>,\n",
       " <phe.paillier.EncryptedNumber at 0x218f7eb4670>,\n",
       " <phe.paillier.EncryptedNumber at 0x218f7eb46d0>,\n",
       " <phe.paillier.EncryptedNumber at 0x218f7eb4730>,\n",
       " <phe.paillier.EncryptedNumber at 0x218f7eb4790>,\n",
       " <phe.paillier.EncryptedNumber at 0x218f7eb47f0>,\n",
       " <phe.paillier.EncryptedNumber at 0x218f7eb4850>,\n",
       " <phe.paillier.EncryptedNumber at 0x218f7eb48b0>,\n",
       " <phe.paillier.EncryptedNumber at 0x218f7eb4910>,\n",
       " <phe.paillier.EncryptedNumber at 0x218f7eb4970>,\n",
       " <phe.paillier.EncryptedNumber at 0x218f7eb49d0>,\n",
       " <phe.paillier.EncryptedNumber at 0x218f7eb4a30>,\n",
       " <phe.paillier.EncryptedNumber at 0x218f7eb4a90>]"
      ]
     },
     "execution_count": 29,
     "metadata": {},
     "output_type": "execute_result"
    }
   ],
   "source": [
    "res"
   ]
  },
  {
   "cell_type": "code",
   "execution_count": 30,
   "id": "30147ff6-32c8-4085-aaf3-1cd12454e0e5",
   "metadata": {},
   "outputs": [
    {
     "data": {
      "text/plain": [
       "[-4.725710345773317,\n",
       " -37.30331469641108,\n",
       " -9.846179767820677,\n",
       " 4.746962016199478,\n",
       " -46.61433976388177,\n",
       " 88.56365940060468,\n",
       " 23.05085118234159,\n",
       " -49.30980231741608,\n",
       " -187.11855380929865,\n",
       " -52.786807197281334,\n",
       " -100.63781242289222,\n",
       " -126.59136521598948,\n",
       " 34.92302733961396,\n",
       " 2.3950066527444704,\n",
       " 91.54741374809039,\n",
       " 1.3207517658702046,\n",
       " -44.66438206379091,\n",
       " -107.23095943601416,\n",
       " -45.285493623148426,\n",
       " 289.1269962905116,\n",
       " -57.29982391705095,\n",
       " -132.790188401824,\n",
       " -41.806721080528945,\n",
       " -88.76973988610217,\n",
       " 218.53325548357012,\n",
       " 24.660355647314475,\n",
       " -241.89951822710918,\n",
       " 10.132409561543517,\n",
       " 46.42718116813931,\n",
       " -25.646184647964404,\n",
       " 13.501425542707931,\n",
       " 176.72441073222996,\n",
       " 18.669433380972933,\n",
       " -50.56728840294356,\n",
       " -22.64343207088921,\n",
       " 21.090225378595488,\n",
       " -64.92081241674168,\n",
       " 64.87115988689979,\n",
       " 31.486316788104272,\n",
       " 138.96811402551222,\n",
       " -133.52911686728046,\n",
       " -122.17927891731159,\n",
       " 53.50531413143085,\n",
       " -171.2598626058323,\n",
       " 21.98254438776072,\n",
       " 26.36081393261335,\n",
       " -20.504769345829203,\n",
       " 10.681454326561779,\n",
       " -42.95199809259179,\n",
       " -24.1455885049068,\n",
       " 179.69097653274295,\n",
       " 69.72153699180274,\n",
       " 147.48591272416064,\n",
       " 96.7168337331375,\n",
       " -37.07750058525012,\n",
       " -68.80268857040079,\n",
       " 18.611720710089322,\n",
       " -79.62314161486329,\n",
       " -52.56456985278298,\n",
       " -28.511543845182256,\n",
       " -107.6839953885957,\n",
       " -31.89540983546969,\n",
       " 11.768946469584339,\n",
       " -44.868926971323205,\n",
       " 113.47899634216733,\n",
       " 46.819991179330636,\n",
       " -0.28974315387212,\n",
       " -45.43320651645545,\n",
       " -60.4407263771895,\n",
       " 13.860335218768924,\n",
       " 27.309759829128613,\n",
       " 117.65626086314577,\n",
       " 121.4996489461392,\n",
       " -40.21308757698961,\n",
       " 95.50351126563974,\n",
       " 80.54746506660268,\n",
       " -99.41132307656083,\n",
       " 71.52561249780315,\n",
       " -115.32489672261411,\n",
       " 56.87386851689219]"
      ]
     },
     "execution_count": 30,
     "metadata": {},
     "output_type": "execute_result"
    }
   ],
   "source": [
    "res_decrypt"
   ]
  },
  {
   "cell_type": "code",
   "execution_count": 31,
   "id": "9b07b2a3-e2a3-48f1-9b6c-08a80acadbee",
   "metadata": {},
   "outputs": [],
   "source": [
    "sum=0\n",
    "for i in res:\n",
    "    sum=sum+i"
   ]
  },
  {
   "cell_type": "code",
   "execution_count": 32,
   "id": "c4d6f870-271a-42fd-807d-0c0e03a459e6",
   "metadata": {},
   "outputs": [
    {
     "data": {
      "text/plain": [
       "<phe.paillier.EncryptedNumber at 0x218f7eb7730>"
      ]
     },
     "execution_count": 32,
     "metadata": {},
     "output_type": "execute_result"
    }
   ],
   "source": [
    "sum"
   ]
  },
  {
   "cell_type": "code",
   "execution_count": 33,
   "id": "1cb43d98-4772-4177-bd4e-b75cc2fa3459",
   "metadata": {},
   "outputs": [
    {
     "data": {
      "text/plain": [
       "<phe.paillier.EncryptedNumber at 0x218f7eb7a30>"
      ]
     },
     "execution_count": 33,
     "metadata": {},
     "output_type": "execute_result"
    }
   ],
   "source": [
    "db_x=sum*(var1*(-1))\n",
    "db_x"
   ]
  },
  {
   "cell_type": "code",
   "execution_count": 34,
   "id": "8a6e9b0d-7d45-4671-8184-917b46c757d8",
   "metadata": {},
   "outputs": [],
   "source": [
    "db=db_x*lr"
   ]
  },
  {
   "cell_type": "code",
   "execution_count": 35,
   "id": "73390ca1-bd0d-4dd0-9d67-9fbf4165df29",
   "metadata": {},
   "outputs": [
    {
     "name": "stdout",
     "output_type": "stream",
     "text": [
      "0.022853668059388148\n"
     ]
    }
   ],
   "source": [
    "bias=bias+db\n",
    "print(private_key.decrypt(bias))"
   ]
  }
 ],
 "metadata": {
  "kernelspec": {
   "display_name": "Python 3 (ipykernel)",
   "language": "python",
   "name": "python3"
  },
  "language_info": {
   "codemirror_mode": {
    "name": "ipython",
    "version": 3
   },
   "file_extension": ".py",
   "mimetype": "text/x-python",
   "name": "python",
   "nbconvert_exporter": "python",
   "pygments_lexer": "ipython3",
   "version": "3.10.0"
  }
 },
 "nbformat": 4,
 "nbformat_minor": 5
}
