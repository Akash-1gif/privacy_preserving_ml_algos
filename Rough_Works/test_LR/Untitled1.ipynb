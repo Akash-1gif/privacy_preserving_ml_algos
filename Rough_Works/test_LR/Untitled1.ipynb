{
 "cells": [
  {
   "cell_type": "code",
   "execution_count": 1,
   "id": "a2745c2e-540b-435a-812c-995b8767c0f6",
   "metadata": {},
   "outputs": [],
   "source": [
    "import numpy as np\n",
    "from sklearn.model_selection import train_test_split\n",
    "from sklearn import datasets\n",
    "import matplotlib.pyplot as plt\n",
    "import torch\n",
    "from LinearRegression import LinearRegression\n",
    "plt.style.use(\"dark_background\")"
   ]
  },
  {
   "cell_type": "code",
   "execution_count": 2,
   "id": "9b16c40b-817b-4653-8d1b-49b67061400a",
   "metadata": {},
   "outputs": [],
   "source": [
    "X,y=datasets.make_regression(n_samples=100,n_features=1,noise=20,random_state=1234)\n",
    "X_train,X_test,y_train,y_test=train_test_split(X,y,test_size=0.2,random_state=4)"
   ]
  },
  {
   "cell_type": "code",
   "execution_count": 3,
   "id": "68b0b977-4f70-4721-a2b5-b4375a479d6b",
   "metadata": {},
   "outputs": [
    {
     "data": {
      "image/png": "[encoded data removed]",
      "text/plain": [
       "<Figure size 576x432 with 1 Axes>"
      ]
     },
     "metadata": {
      "needs_background": "dark"
     },
     "output_type": "display_data"
    }
   ],
   "source": [
    "fig=plt.figure(figsize=(8,6))\n",
    "plt.scatter(X[:,0],y)\n",
    "plt.show()"
   ]
  },
  {
   "cell_type": "code",
   "execution_count": 4,
   "id": "543cad62-9ed0-4f57-a113-8a6786a4bab1",
   "metadata": {},
   "outputs": [],
   "source": [
    "lr=0.01\n",
    "n_iters=1000"
   ]
  },
  {
   "cell_type": "code",
   "execution_count": 5,
   "id": "47f12c22-2b2e-423a-97f7-f18f5e64ede4",
   "metadata": {},
   "outputs": [
    {
     "name": "stdout",
     "output_type": "stream",
     "text": [
      "80 1\n"
     ]
    }
   ],
   "source": [
    "n_samples,n_features=X_train.shape\n",
    "print(n_samples,n_features)"
   ]
  },
  {
   "cell_type": "markdown",
   "id": "5135068e-98de-46c5-adb0-658d80fb1f45",
   "metadata": {},
   "source": [
    "### fit function:"
   ]
  },
  {
   "cell_type": "code",
   "execution_count": 6,
   "id": "08e3d6cf-bcb2-47b7-a500-fa03c5cdb7e8",
   "metadata": {},
   "outputs": [
    {
     "data": {
      "text/plain": [
       "array([0.])"
      ]
     },
     "execution_count": 6,
     "metadata": {},
     "output_type": "execute_result"
    }
   ],
   "source": [
    "weights=np.zeros(n_features)\n",
    "weights"
   ]
  },
  {
   "cell_type": "code",
   "execution_count": 7,
   "id": "6376fdb5-0d7b-4f13-a354-b2a267052588",
   "metadata": {},
   "outputs": [],
   "source": [
    "bias=0"
   ]
  },
  {
   "cell_type": "markdown",
   "id": "53124f62-f69b-4549-afb4-32f24b6d2b2a",
   "metadata": {},
   "source": [
    "#### first iteration for establishing bias and weights values:"
   ]
  },
  {
   "cell_type": "markdown",
   "id": "d9b6a32e-9594-4fb5-9c48-de731279db66",
   "metadata": {},
   "source": [
    "##### y_pred = np.dot(X, self.weights) + self.bias"
   ]
  },
  {
   "cell_type": "markdown",
   "id": "af69f7de-51fc-4ec9-b101-df0e8d7ce20e",
   "metadata": {},
   "source": [
    "calculating np.dot(X,self.weights):"
   ]
  },
  {
   "cell_type": "code",
   "execution_count": 8,
   "id": "74f45420-9efb-4897-b227-0e6203b76282",
   "metadata": {},
   "outputs": [
    {
     "data": {
      "text/plain": [
       "[0.0,\n",
       " 0.0,\n",
       " 0.0,\n",
       " -0.0,\n",
       " 0.0,\n",
       " -0.0,\n",
       " -0.0,\n",
       " 0.0,\n",
       " 0.0,\n",
       " 0.0,\n",
       " 0.0,\n",
       " 0.0,\n",
       " -0.0,\n",
       " 0.0,\n",
       " -0.0,\n",
       " 0.0,\n",
       " 0.0,\n",
       " 0.0,\n",
       " 0.0,\n",
       " -0.0,\n",
       " 0.0,\n",
       " 0.0,\n",
       " 0.0,\n",
       " 0.0,\n",
       " -0.0,\n",
       " -0.0,\n",
       " 0.0,\n",
       " 0.0,\n",
       " -0.0,\n",
       " 0.0,\n",
       " -0.0,\n",
       " -0.0,\n",
       " -0.0,\n",
       " 0.0,\n",
       " 0.0,\n",
       " -0.0,\n",
       " 0.0,\n",
       " -0.0,\n",
       " -0.0,\n",
       " -0.0,\n",
       " 0.0,\n",
       " 0.0,\n",
       " -0.0,\n",
       " 0.0,\n",
       " -0.0,\n",
       " -0.0,\n",
       " -0.0,\n",
       " 0.0,\n",
       " 0.0,\n",
       " 0.0,\n",
       " -0.0,\n",
       " -0.0,\n",
       " -0.0,\n",
       " -0.0,\n",
       " 0.0,\n",
       " 0.0,\n",
       " -0.0,\n",
       " 0.0,\n",
       " 0.0,\n",
       " -0.0,\n",
       " 0.0,\n",
       " -0.0,\n",
       " -0.0,\n",
       " 0.0,\n",
       " -0.0,\n",
       " -0.0,\n",
       " 0.0,\n",
       " 0.0,\n",
       " 0.0,\n",
       " 0.0,\n",
       " -0.0,\n",
       " -0.0,\n",
       " -0.0,\n",
       " 0.0,\n",
       " -0.0,\n",
       " -0.0,\n",
       " 0.0,\n",
       " -0.0,\n",
       " 0.0,\n",
       " -0.0]"
      ]
     },
     "execution_count": 8,
     "metadata": {},
     "output_type": "execute_result"
    }
   ],
   "source": [
    "a=[]\n",
    "for i in X_train:\n",
    "    t=np.dot(i,weights)\n",
    "    a.append(t)\n",
    "\n",
    "a"
   ]
  },
  {
   "cell_type": "code",
   "execution_count": 9,
   "id": "b58aaca6-e19d-4ac4-82fd-5c993cfd9bf8",
   "metadata": {},
   "outputs": [
    {
     "data": {
      "text/plain": [
       "(list, 80)"
      ]
     },
     "execution_count": 9,
     "metadata": {},
     "output_type": "execute_result"
    }
   ],
   "source": [
    "type(a),len(a)"
   ]
  },
  {
   "cell_type": "code",
   "execution_count": 10,
   "id": "620a560b-ec86-41db-b1b0-f7d88052ce8b",
   "metadata": {},
   "outputs": [
    {
     "data": {
      "text/plain": [
       "array([ 0.,  0.,  0., -0.,  0., -0., -0.,  0.,  0.,  0.,  0.,  0., -0.,\n",
       "        0., -0.,  0.,  0.,  0.,  0., -0.,  0.,  0.,  0.,  0., -0., -0.,\n",
       "        0.,  0., -0.,  0., -0., -0., -0.,  0.,  0., -0.,  0., -0., -0.,\n",
       "       -0.,  0.,  0., -0.,  0., -0., -0., -0.,  0.,  0.,  0., -0., -0.,\n",
       "       -0., -0.,  0.,  0., -0.,  0.,  0., -0.,  0., -0., -0.,  0., -0.,\n",
       "       -0.,  0.,  0.,  0.,  0., -0., -0., -0.,  0., -0., -0.,  0., -0.,\n",
       "        0., -0.])"
      ]
     },
     "execution_count": 10,
     "metadata": {},
     "output_type": "execute_result"
    }
   ],
   "source": [
    "a=np.array(a)\n",
    "a"
   ]
  },
  {
   "cell_type": "code",
   "execution_count": 11,
   "id": "7d9820af-3f56-430a-ba08-49cfa9857dbd",
   "metadata": {},
   "outputs": [],
   "source": [
    "y_pred=a+bias"
   ]
  },
  {
   "cell_type": "code",
   "execution_count": 12,
   "id": "eeb19977-6b7c-45da-99f5-84c0b5b754e1",
   "metadata": {},
   "outputs": [
    {
     "data": {
      "text/plain": [
       "array([0., 0., 0., 0., 0., 0., 0., 0., 0., 0., 0., 0., 0., 0., 0., 0., 0.,\n",
       "       0., 0., 0., 0., 0., 0., 0., 0., 0., 0., 0., 0., 0., 0., 0., 0., 0.,\n",
       "       0., 0., 0., 0., 0., 0., 0., 0., 0., 0., 0., 0., 0., 0., 0., 0., 0.,\n",
       "       0., 0., 0., 0., 0., 0., 0., 0., 0., 0., 0., 0., 0., 0., 0., 0., 0.,\n",
       "       0., 0., 0., 0., 0., 0., 0., 0., 0., 0., 0., 0.])"
      ]
     },
     "execution_count": 12,
     "metadata": {},
     "output_type": "execute_result"
    }
   ],
   "source": [
    "y_pred"
   ]
  },
  {
   "cell_type": "code",
   "execution_count": 13,
   "id": "54efe4d5-f3cf-43ca-995b-d23e6e5af751",
   "metadata": {},
   "outputs": [
    {
     "data": {
      "text/plain": [
       "0.0125"
      ]
     },
     "execution_count": 13,
     "metadata": {},
     "output_type": "execute_result"
    }
   ],
   "source": [
    "var1=1/n_samples\n",
    "var1"
   ]
  },
  {
   "cell_type": "markdown",
   "id": "2a404f74-37a0-4653-a5e8-f73df65ec0fa",
   "metadata": {},
   "source": [
    "calculating dw = (1/n_samples) * np.dot(X.T, (y_pred-y))"
   ]
  },
  {
   "cell_type": "code",
   "execution_count": 14,
   "id": "0fb37154-8d1d-4e55-8a23-cc3b31a8c1ec",
   "metadata": {},
   "outputs": [
    {
     "data": {
      "text/plain": [
       "array([[ 3.61419367e-02,  9.84919842e-01,  1.82891913e-02,\n",
       "        -1.22091575e-01,  2.15268581e-01, -1.19097569e+00,\n",
       "        -3.12651896e-01,  5.65738306e-01,  2.00784295e+00,\n",
       "         3.07968855e-01,  1.15003572e+00,  1.39198619e+00,\n",
       "        -2.02646325e-01,  1.64529543e-01, -9.74236334e-01,\n",
       "         3.95126867e-02,  6.31979446e-01,  1.04593826e+00,\n",
       "         2.11883387e-01, -3.56351666e+00,  7.67368736e-01,\n",
       "         1.43270697e+00,  1.93421376e-01,  1.05896919e+00,\n",
       "        -2.40045363e+00, -5.48242449e-01,  2.39096052e+00,\n",
       "         1.56963721e-02, -2.08498763e-01,  4.05453412e-01,\n",
       "        -1.44619508e-01, -2.02125482e+00, -3.99964581e-01,\n",
       "         8.63717292e-01,  3.54020332e-01, -8.19470518e-02,\n",
       "         5.23507968e-01, -4.69305285e-01, -5.11881309e-01,\n",
       "        -1.54690555e+00,  1.54565880e+00,  1.31815155e+00,\n",
       "        -5.66445930e-01,  2.03060362e+00, -3.97840228e-01,\n",
       "        -5.84718211e-01, -1.00918200e-01,  2.11836468e-03,\n",
       "         1.52630552e-01,  2.70835849e-01, -2.07497760e+00,\n",
       "        -7.85435212e-01, -1.81702723e+00, -7.20588733e-01,\n",
       "         6.75554085e-01,  8.59588414e-01, -1.36794833e-01,\n",
       "         8.41674713e-01,  7.55413982e-01, -7.03448771e-02,\n",
       "         9.53324128e-01, -3.55130253e-02, -1.83108540e-01,\n",
       "         5.28288145e-01, -1.15265911e+00, -3.34077366e-01,\n",
       "         7.98423130e-02,  3.37437654e-01,  8.16593927e-01,\n",
       "         2.26962542e-01, -3.22794806e-01, -1.44581008e+00,\n",
       "        -1.02785056e+00,  4.62059737e-01, -1.14263129e+00,\n",
       "        -4.30095691e-01,  1.04757857e+00, -1.06898878e+00,\n",
       "         1.32115819e+00, -6.55969344e-01]])"
      ]
     },
     "execution_count": 14,
     "metadata": {},
     "output_type": "execute_result"
    }
   ],
   "source": [
    "X_train_t=X_train.T\n",
    "X_train_t"
   ]
  },
  {
   "cell_type": "code",
   "execution_count": 15,
   "id": "826a4859-b28a-427d-aef8-6a141048058e",
   "metadata": {},
   "outputs": [
    {
     "data": {
      "text/plain": [
       "array([   4.72571035,   37.3033147 ,    9.84617977,   -4.74696202,\n",
       "         46.61433976,  -88.5636594 ,  -23.05085118,   49.30980232,\n",
       "        187.11855381,   52.7868072 ,  100.63781242,  126.59136522,\n",
       "        -34.92302734,   -2.39500665,  -91.54741375,   -1.32075177,\n",
       "         44.66438206,  107.23095944,   45.28549362, -289.12699629,\n",
       "         57.29982392,  132.7901884 ,   41.80672108,   88.76973989,\n",
       "       -218.53325548,  -24.66035565,  241.89951823,  -10.13240956,\n",
       "        -46.42718117,   25.64618465,  -13.50142554, -176.72441073,\n",
       "        -18.66943338,   50.5672884 ,   22.64343207,  -21.09022538,\n",
       "         64.92081242,  -64.87115989,  -31.48631679, -138.96811403,\n",
       "        133.52911687,  122.17927892,  -53.50531413,  171.25986261,\n",
       "        -21.98254439,  -26.36081393,   20.50476935,  -10.68145433,\n",
       "         42.95199809,   24.1455885 , -179.69097653,  -69.72153699,\n",
       "       -147.48591272,  -96.71683373,   37.07750059,   68.80268857,\n",
       "        -18.61172071,   79.62314161,   52.56456985,   28.51154385,\n",
       "        107.68399539,   31.89540984,  -11.76894647,   44.86892697,\n",
       "       -113.47899634,  -46.81999118,    0.28974315,   45.43320652,\n",
       "         60.44072638,  -13.86033522,  -27.30975983, -117.65626086,\n",
       "       -121.49964895,   40.21308758,  -95.50351127,  -80.54746507,\n",
       "         99.41132308,  -71.5256125 ,  115.32489672,  -56.87386852])"
      ]
     },
     "execution_count": 15,
     "metadata": {},
     "output_type": "execute_result"
    }
   ],
   "source": [
    "y_train"
   ]
  },
  {
   "cell_type": "code",
   "execution_count": 16,
   "id": "7dcbccd0-8d95-4ea7-9230-921f62d2335f",
   "metadata": {},
   "outputs": [
    {
     "data": {
      "text/plain": [
       "array([  -4.72571035,  -37.3033147 ,   -9.84617977,    4.74696202,\n",
       "        -46.61433976,   88.5636594 ,   23.05085118,  -49.30980232,\n",
       "       -187.11855381,  -52.7868072 , -100.63781242, -126.59136522,\n",
       "         34.92302734,    2.39500665,   91.54741375,    1.32075177,\n",
       "        -44.66438206, -107.23095944,  -45.28549362,  289.12699629,\n",
       "        -57.29982392, -132.7901884 ,  -41.80672108,  -88.76973989,\n",
       "        218.53325548,   24.66035565, -241.89951823,   10.13240956,\n",
       "         46.42718117,  -25.64618465,   13.50142554,  176.72441073,\n",
       "         18.66943338,  -50.5672884 ,  -22.64343207,   21.09022538,\n",
       "        -64.92081242,   64.87115989,   31.48631679,  138.96811403,\n",
       "       -133.52911687, -122.17927892,   53.50531413, -171.25986261,\n",
       "         21.98254439,   26.36081393,  -20.50476935,   10.68145433,\n",
       "        -42.95199809,  -24.1455885 ,  179.69097653,   69.72153699,\n",
       "        147.48591272,   96.71683373,  -37.07750059,  -68.80268857,\n",
       "         18.61172071,  -79.62314161,  -52.56456985,  -28.51154385,\n",
       "       -107.68399539,  -31.89540984,   11.76894647,  -44.86892697,\n",
       "        113.47899634,   46.81999118,   -0.28974315,  -45.43320652,\n",
       "        -60.44072638,   13.86033522,   27.30975983,  117.65626086,\n",
       "        121.49964895,  -40.21308758,   95.50351127,   80.54746507,\n",
       "        -99.41132308,   71.5256125 , -115.32489672,   56.87386852])"
      ]
     },
     "execution_count": 16,
     "metadata": {},
     "output_type": "execute_result"
    }
   ],
   "source": [
    "r=y_pred-y_train\n",
    "r"
   ]
  },
  {
   "cell_type": "code",
   "execution_count": 17,
   "id": "9063b918-6f63-43db-8ede-8fee7ecf65d1",
   "metadata": {},
   "outputs": [
    {
     "data": {
      "text/plain": [
       "array([-7245.81290926])"
      ]
     },
     "execution_count": 17,
     "metadata": {},
     "output_type": "execute_result"
    }
   ],
   "source": [
    "p=[]\n",
    "for i in X_train_t:\n",
    "    t=np.dot(i,r)\n",
    "    p.append(t)\n",
    "\n",
    "p=np.array(p)\n",
    "p"
   ]
  },
  {
   "cell_type": "code",
   "execution_count": 18,
   "id": "d0648276-00c4-435a-9b05-5358a7ae54f7",
   "metadata": {},
   "outputs": [
    {
     "data": {
      "text/plain": [
       "array([-90.57266137])"
      ]
     },
     "execution_count": 18,
     "metadata": {},
     "output_type": "execute_result"
    }
   ],
   "source": [
    "dw=var1*p\n",
    "dw"
   ]
  },
  {
   "cell_type": "markdown",
   "id": "558c3f48-57b1-4eb5-b2c8-550ebd887c39",
   "metadata": {},
   "source": [
    "calculating db = (1/n_samples) * np.sum(y_pred-y):"
   ]
  },
  {
   "cell_type": "code",
   "execution_count": 19,
   "id": "9542de55-a01f-4a68-b231-8ab02fef276c",
   "metadata": {},
   "outputs": [
    {
     "data": {
      "text/plain": [
       "array([  -4.72571035,  -37.3033147 ,   -9.84617977,    4.74696202,\n",
       "        -46.61433976,   88.5636594 ,   23.05085118,  -49.30980232,\n",
       "       -187.11855381,  -52.7868072 , -100.63781242, -126.59136522,\n",
       "         34.92302734,    2.39500665,   91.54741375,    1.32075177,\n",
       "        -44.66438206, -107.23095944,  -45.28549362,  289.12699629,\n",
       "        -57.29982392, -132.7901884 ,  -41.80672108,  -88.76973989,\n",
       "        218.53325548,   24.66035565, -241.89951823,   10.13240956,\n",
       "         46.42718117,  -25.64618465,   13.50142554,  176.72441073,\n",
       "         18.66943338,  -50.5672884 ,  -22.64343207,   21.09022538,\n",
       "        -64.92081242,   64.87115989,   31.48631679,  138.96811403,\n",
       "       -133.52911687, -122.17927892,   53.50531413, -171.25986261,\n",
       "         21.98254439,   26.36081393,  -20.50476935,   10.68145433,\n",
       "        -42.95199809,  -24.1455885 ,  179.69097653,   69.72153699,\n",
       "        147.48591272,   96.71683373,  -37.07750059,  -68.80268857,\n",
       "         18.61172071,  -79.62314161,  -52.56456985,  -28.51154385,\n",
       "       -107.68399539,  -31.89540984,   11.76894647,  -44.86892697,\n",
       "        113.47899634,   46.81999118,   -0.28974315,  -45.43320652,\n",
       "        -60.44072638,   13.86033522,   27.30975983,  117.65626086,\n",
       "        121.49964895,  -40.21308758,   95.50351127,   80.54746507,\n",
       "        -99.41132308,   71.5256125 , -115.32489672,   56.87386852])"
      ]
     },
     "execution_count": 19,
     "metadata": {},
     "output_type": "execute_result"
    }
   ],
   "source": [
    "r"
   ]
  },
  {
   "cell_type": "code",
   "execution_count": 20,
   "id": "cb8ec3f1-d3e8-46b6-acfa-f1e2573339cc",
   "metadata": {},
   "outputs": [
    {
     "data": {
      "text/plain": [
       "(80,)"
      ]
     },
     "execution_count": 20,
     "metadata": {},
     "output_type": "execute_result"
    }
   ],
   "source": [
    "r.shape"
   ]
  },
  {
   "cell_type": "code",
   "execution_count": 21,
   "id": "da095148-3730-42a4-b314-24f33f2b310b",
   "metadata": {},
   "outputs": [
    {
     "data": {
      "text/plain": [
       "-182.8293444751052"
      ]
     },
     "execution_count": 21,
     "metadata": {},
     "output_type": "execute_result"
    }
   ],
   "source": [
    "d=0\n",
    "for m in r:\n",
    "    d+=m\n",
    "\n",
    "d"
   ]
  },
  {
   "cell_type": "code",
   "execution_count": 22,
   "id": "62c397f3-f381-467d-9785-4269d0cc75d3",
   "metadata": {},
   "outputs": [],
   "source": [
    "db=var1*d"
   ]
  },
  {
   "cell_type": "code",
   "execution_count": 23,
   "id": "35ad1895-fe5d-4da8-83af-6da58658ed2f",
   "metadata": {},
   "outputs": [
    {
     "data": {
      "text/plain": [
       "array([0.])"
      ]
     },
     "execution_count": 23,
     "metadata": {},
     "output_type": "execute_result"
    }
   ],
   "source": [
    "weights"
   ]
  },
  {
   "cell_type": "markdown",
   "id": "13432ebb-349a-47aa-88dd-85c5625f34a6",
   "metadata": {},
   "source": [
    "updating weights, self.weights = self.weights - self.lr * dw:"
   ]
  },
  {
   "cell_type": "code",
   "execution_count": 24,
   "id": "f82aba34-bd0f-40af-a57e-c8bf0375653a",
   "metadata": {
    "scrolled": true
   },
   "outputs": [
    {
     "data": {
      "text/plain": [
       "array([-90.57266137])"
      ]
     },
     "execution_count": 24,
     "metadata": {},
     "output_type": "execute_result"
    }
   ],
   "source": [
    "dw"
   ]
  },
  {
   "cell_type": "code",
   "execution_count": 25,
   "id": "c29a222b-06bc-480f-bc26-35b27cfaa2c5",
   "metadata": {},
   "outputs": [
    {
     "data": {
      "text/plain": [
       "array([-0.90572661])"
      ]
     },
     "execution_count": 25,
     "metadata": {},
     "output_type": "execute_result"
    }
   ],
   "source": [
    "dw=dw*lr\n",
    "dw"
   ]
  },
  {
   "cell_type": "code",
   "execution_count": 26,
   "id": "cc85b6ad-c2ac-45db-91e9-125e9d33757b",
   "metadata": {},
   "outputs": [
    {
     "data": {
      "text/plain": [
       "array([0.])"
      ]
     },
     "execution_count": 26,
     "metadata": {},
     "output_type": "execute_result"
    }
   ],
   "source": [
    "weights"
   ]
  },
  {
   "cell_type": "code",
   "execution_count": 27,
   "id": "ec9ee705-615a-46c7-bb2f-1979e67ba89e",
   "metadata": {},
   "outputs": [],
   "source": [
    "weights=weights-dw"
   ]
  },
  {
   "cell_type": "code",
   "execution_count": 28,
   "id": "b2b7a2bd-bc53-4fc9-9f92-ee77cb5bb06f",
   "metadata": {},
   "outputs": [
    {
     "data": {
      "text/plain": [
       "array([0.90572661])"
      ]
     },
     "execution_count": 28,
     "metadata": {},
     "output_type": "execute_result"
    }
   ],
   "source": [
    "weights"
   ]
  },
  {
   "cell_type": "markdown",
   "id": "acca5e2f-457d-41f9-ab5c-5fbbf113da0b",
   "metadata": {},
   "source": [
    "updating bias: self.bias = self.bias - self.lr * db:"
   ]
  },
  {
   "cell_type": "code",
   "execution_count": 29,
   "id": "fcbcc7a1-71c3-493d-ae95-486a6f6ff7f5",
   "metadata": {},
   "outputs": [
    {
     "data": {
      "text/plain": [
       "-2.285366805938815"
      ]
     },
     "execution_count": 29,
     "metadata": {},
     "output_type": "execute_result"
    }
   ],
   "source": [
    "db"
   ]
  },
  {
   "cell_type": "code",
   "execution_count": 30,
   "id": "1ba78f9c-f03a-4c22-aab3-d0c5f1c69782",
   "metadata": {},
   "outputs": [
    {
     "data": {
      "text/plain": [
       "-0.02285366805938815"
      ]
     },
     "execution_count": 30,
     "metadata": {},
     "output_type": "execute_result"
    }
   ],
   "source": [
    "db=db*lr\n",
    "db"
   ]
  },
  {
   "cell_type": "code",
   "execution_count": 31,
   "id": "c0d1f5e2-68db-48dd-b5d9-76cff46fd0a4",
   "metadata": {},
   "outputs": [
    {
     "data": {
      "text/plain": [
       "0.02285366805938815"
      ]
     },
     "execution_count": 31,
     "metadata": {},
     "output_type": "execute_result"
    }
   ],
   "source": [
    "bias=bias-db\n",
    "bias"
   ]
  },
  {
   "cell_type": "code",
   "execution_count": 32,
   "id": "8d633519-4708-4c4d-88cd-e168411e6392",
   "metadata": {},
   "outputs": [
    {
     "data": {
      "text/plain": [
       "(0.02285366805938815, array([0.90572661]))"
      ]
     },
     "execution_count": 32,
     "metadata": {},
     "output_type": "execute_result"
    }
   ],
   "source": [
    "bias, weights"
   ]
  }
 ],
 "metadata": {
  "kernelspec": {
   "display_name": "Python 3 (ipykernel)",
   "language": "python",
   "name": "python3"
  },
  "language_info": {
   "codemirror_mode": {
    "name": "ipython",
    "version": 3
   },
   "file_extension": ".py",
   "mimetype": "text/x-python",
   "name": "python",
   "nbconvert_exporter": "python",
   "pygments_lexer": "ipython3",
   "version": "3.10.0"
  }
 },
 "nbformat": 4,
 "nbformat_minor": 5
}
