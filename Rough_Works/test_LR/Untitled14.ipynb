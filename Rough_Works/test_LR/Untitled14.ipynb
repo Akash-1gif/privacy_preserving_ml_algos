{
 "cells": [
  {
   "cell_type": "code",
   "execution_count": 1,
   "id": "06b65838-223a-4ba4-9965-aec2f4c49c97",
   "metadata": {},
   "outputs": [],
   "source": [
    "import numpy as np\n",
    "from sklearn.model_selection import train_test_split\n",
    "from sklearn import datasets\n",
    "import matplotlib.pyplot as plt\n",
    "plt.style.use(\"dark_background\")"
   ]
  },
  {
   "cell_type": "code",
   "execution_count": 2,
   "id": "29baf7e8-f180-4caa-9ab1-2f56d6071f17",
   "metadata": {},
   "outputs": [],
   "source": [
    "X,y=datasets.make_regression(n_samples=100,n_features=1,noise=20,random_state=1234)\n",
    "X_train,X_test,y_train,y_test=train_test_split(X,y,test_size=0.2,random_state=4)"
   ]
  },
  {
   "cell_type": "code",
   "execution_count": 3,
   "id": "e89fdafd-d76a-4400-b71d-daaa0eec5954",
   "metadata": {},
   "outputs": [
    {
     "data": {
      "image/png": "[encoded data removed]",
      "text/plain": [
       "<Figure size 576x432 with 1 Axes>"
      ]
     },
     "metadata": {
      "needs_background": "dark"
     },
     "output_type": "display_data"
    }
   ],
   "source": [
    "fig=plt.figure(figsize=(8,6))\n",
    "plt.scatter(X[:,0],y)\n",
    "plt.show()"
   ]
  },
  {
   "cell_type": "code",
   "execution_count": 4,
   "id": "b34e27e3-a743-493a-a0aa-cc3d58bd7770",
   "metadata": {},
   "outputs": [],
   "source": [
    "from phe import paillier\n",
    "public_key,private_key=paillier.generate_paillier_keypair()"
   ]
  },
  {
   "cell_type": "code",
   "execution_count": 5,
   "id": "4ce00b0b-19fc-4589-b521-3ea7edd64238",
   "metadata": {},
   "outputs": [],
   "source": [
    "enc_X_train=[]\n",
    "for i in X_train:\n",
    "    row_x=[]\n",
    "    for j in i:\n",
    "        k=public_key.encrypt(j)\n",
    "        row_x.append(k)\n",
    "    enc_X_train.append(row_x)"
   ]
  },
  {
   "cell_type": "code",
   "execution_count": 6,
   "id": "3d9c1757-85a3-432e-a359-53c7d5da5b45",
   "metadata": {},
   "outputs": [],
   "source": [
    "enc_y_train=[]\n",
    "for i in y_train:\n",
    "    p=public_key.encrypt(i)\n",
    "    enc_y_train.append(p)"
   ]
  },
  {
   "cell_type": "code",
   "execution_count": 7,
   "id": "4e89b603-45e0-4fe9-b16c-1665ce96fd30",
   "metadata": {},
   "outputs": [
    {
     "data": {
      "text/plain": [
       "(80, 1)"
      ]
     },
     "execution_count": 7,
     "metadata": {},
     "output_type": "execute_result"
    }
   ],
   "source": [
    "n_samples,n_attributes=X_train.shape\n",
    "n_samples,n_attributes"
   ]
  },
  {
   "cell_type": "code",
   "execution_count": 8,
   "id": "cde22d98-02ec-4064-a6d7-5c6789202dfd",
   "metadata": {},
   "outputs": [],
   "source": [
    "var1=1/n_samples\n",
    "bias=0\n",
    "weights=list(np.zeros(n_attributes))\n",
    "lr=0.01\n",
    "n_iters=1000"
   ]
  },
  {
   "cell_type": "code",
   "execution_count": 9,
   "id": "699aa876-f540-4a5f-9dd9-f9e201b95e0c",
   "metadata": {},
   "outputs": [
    {
     "data": {
      "text/plain": [
       "[0.0]"
      ]
     },
     "execution_count": 9,
     "metadata": {},
     "output_type": "execute_result"
    }
   ],
   "source": [
    "weights"
   ]
  },
  {
   "cell_type": "code",
   "execution_count": 10,
   "id": "99466789-05e5-47e8-a88e-db9f5f874679",
   "metadata": {},
   "outputs": [],
   "source": [
    "for i in range(len(weights)):\n",
    "    weights[i]=public_key.encrypt(weights[i])"
   ]
  },
  {
   "cell_type": "code",
   "execution_count": 11,
   "id": "9f102fad-657c-40cf-845a-669b635dd97e",
   "metadata": {},
   "outputs": [
    {
     "data": {
      "text/plain": [
       "[<phe.paillier.EncryptedNumber at 0x2106c359e70>]"
      ]
     },
     "execution_count": 11,
     "metadata": {},
     "output_type": "execute_result"
    }
   ],
   "source": [
    "weights"
   ]
  },
  {
   "cell_type": "markdown",
   "id": "7a22558a-4afa-4b8e-9379-1232c7342a12",
   "metadata": {},
   "source": [
    "### Client Side Code:"
   ]
  },
  {
   "cell_type": "code",
   "execution_count": 12,
   "id": "63bb4448-debc-4c0f-9f90-7bd4a7bc4bd0",
   "metadata": {},
   "outputs": [],
   "source": [
    "noise=10"
   ]
  },
  {
   "cell_type": "code",
   "execution_count": 13,
   "id": "9ca7d043-38a7-49e6-bda0-09d257159c9d",
   "metadata": {},
   "outputs": [
    {
     "data": {
      "text/plain": [
       "-0.000125"
      ]
     },
     "execution_count": 13,
     "metadata": {},
     "output_type": "execute_result"
    }
   ],
   "source": [
    "var1=var1*lr*-1\n",
    "var1"
   ]
  },
  {
   "cell_type": "code",
   "execution_count": 14,
   "id": "35bfc463-3cdc-49bf-a9f6-129303613f3d",
   "metadata": {},
   "outputs": [],
   "source": [
    "def decrypt_initial_weights(weig):\n",
    "    for i in range(len(weig)):\n",
    "        weig[i]=private_key.decrypt(weig[i])\n",
    "        weig[i]=weig[i]*noise\n",
    "\n",
    "    return weig"
   ]
  },
  {
   "cell_type": "code",
   "execution_count": 15,
   "id": "c0d9a8bf-bdad-4cb0-88c0-907176d78da6",
   "metadata": {},
   "outputs": [],
   "source": [
    "def encrypt_prod_res(p_res):\n",
    "    p_res=p_res*(1/noise)\n",
    "    return p_res"
   ]
  },
  {
   "cell_type": "markdown",
   "id": "3b0a87bc-8211-4aa3-bd52-37a012695661",
   "metadata": {},
   "source": [
    "### Server Side Code:"
   ]
  },
  {
   "cell_type": "code",
   "execution_count": 16,
   "id": "b569cb8f-87e7-4cbc-8095-737bab543cc5",
   "metadata": {},
   "outputs": [
    {
     "data": {
      "text/plain": [
       "[0.0]"
      ]
     },
     "execution_count": 16,
     "metadata": {},
     "output_type": "execute_result"
    }
   ],
   "source": [
    "weights1=decrypt_initial_weights(weights)\n",
    "weights1"
   ]
  },
  {
   "cell_type": "code",
   "execution_count": 17,
   "id": "1ea60453-7081-4096-9fef-bdcaf2844299",
   "metadata": {},
   "outputs": [],
   "source": [
    "y_pred_1=[]\n",
    "for i in enc_X_train:\n",
    "    summation=0\n",
    "    for j,k in zip(i,weights1):\n",
    "        p=j*k\n",
    "        p=encrypt_prod_res(p)\n",
    "        summation=summation+p\n",
    "    y_pred_1.append(summation)"
   ]
  },
  {
   "cell_type": "code",
   "execution_count": 18,
   "id": "16a57fe3-41db-4c3f-804f-34346c11954d",
   "metadata": {},
   "outputs": [
    {
     "data": {
      "text/plain": [
       "[<phe.paillier.EncryptedNumber at 0x2106c35b820>,\n",
       " <phe.paillier.EncryptedNumber at 0x2106c35ad70>,\n",
       " <phe.paillier.EncryptedNumber at 0x2106c35ab60>,\n",
       " <phe.paillier.EncryptedNumber at 0x2106c35ae00>,\n",
       " <phe.paillier.EncryptedNumber at 0x2106c35a9e0>,\n",
       " <phe.paillier.EncryptedNumber at 0x2106c359ff0>,\n",
       " <phe.paillier.EncryptedNumber at 0x2106c35a2c0>,\n",
       " <phe.paillier.EncryptedNumber at 0x2106c35a890>,\n",
       " <phe.paillier.EncryptedNumber at 0x2106c35aef0>,\n",
       " <phe.paillier.EncryptedNumber at 0x2106c35b790>,\n",
       " <phe.paillier.EncryptedNumber at 0x2106c35a5c0>,\n",
       " <phe.paillier.EncryptedNumber at 0x2106c35a740>,\n",
       " <phe.paillier.EncryptedNumber at 0x2106c35b490>,\n",
       " <phe.paillier.EncryptedNumber at 0x2106c35b910>,\n",
       " <phe.paillier.EncryptedNumber at 0x2106c35b970>,\n",
       " <phe.paillier.EncryptedNumber at 0x2106c35a980>,\n",
       " <phe.paillier.EncryptedNumber at 0x2106c35ba30>,\n",
       " <phe.paillier.EncryptedNumber at 0x2106c35b8e0>,\n",
       " <phe.paillier.EncryptedNumber at 0x2106c35baf0>,\n",
       " <phe.paillier.EncryptedNumber at 0x2106c35b9a0>,\n",
       " <phe.paillier.EncryptedNumber at 0x2106c35bbb0>,\n",
       " <phe.paillier.EncryptedNumber at 0x2106c35ba60>,\n",
       " <phe.paillier.EncryptedNumber at 0x2106c35bc70>,\n",
       " <phe.paillier.EncryptedNumber at 0x2106c35bb20>,\n",
       " <phe.paillier.EncryptedNumber at 0x2106c35bc10>,\n",
       " <phe.paillier.EncryptedNumber at 0x2106c35bd90>,\n",
       " <phe.paillier.EncryptedNumber at 0x2106c35bc40>,\n",
       " <phe.paillier.EncryptedNumber at 0x2106c35bd30>,\n",
       " <phe.paillier.EncryptedNumber at 0x2106c35beb0>,\n",
       " <phe.paillier.EncryptedNumber at 0x2106c35bf10>,\n",
       " <phe.paillier.EncryptedNumber at 0x2106c35bf70>,\n",
       " <phe.paillier.EncryptedNumber at 0x2106c35bdc0>,\n",
       " <phe.paillier.EncryptedNumber at 0x2106c35be20>,\n",
       " <phe.paillier.EncryptedNumber at 0x2106c374040>,\n",
       " <phe.paillier.EncryptedNumber at 0x2106c3740a0>,\n",
       " <phe.paillier.EncryptedNumber at 0x2106c374100>,\n",
       " <phe.paillier.EncryptedNumber at 0x2106c374160>,\n",
       " <phe.paillier.EncryptedNumber at 0x2106c3741c0>,\n",
       " <phe.paillier.EncryptedNumber at 0x2106c374220>,\n",
       " <phe.paillier.EncryptedNumber at 0x2106c374280>,\n",
       " <phe.paillier.EncryptedNumber at 0x2106c3742e0>,\n",
       " <phe.paillier.EncryptedNumber at 0x2106c374340>,\n",
       " <phe.paillier.EncryptedNumber at 0x2106c3743a0>,\n",
       " <phe.paillier.EncryptedNumber at 0x2106c374400>,\n",
       " <phe.paillier.EncryptedNumber at 0x2106c374460>,\n",
       " <phe.paillier.EncryptedNumber at 0x2106c3744c0>,\n",
       " <phe.paillier.EncryptedNumber at 0x2106c374520>,\n",
       " <phe.paillier.EncryptedNumber at 0x2106c374580>,\n",
       " <phe.paillier.EncryptedNumber at 0x2106c3745e0>,\n",
       " <phe.paillier.EncryptedNumber at 0x2106c374640>,\n",
       " <phe.paillier.EncryptedNumber at 0x2106c3746a0>,\n",
       " <phe.paillier.EncryptedNumber at 0x2106c374700>,\n",
       " <phe.paillier.EncryptedNumber at 0x2106c374760>,\n",
       " <phe.paillier.EncryptedNumber at 0x2106c3747c0>,\n",
       " <phe.paillier.EncryptedNumber at 0x2106c374820>,\n",
       " <phe.paillier.EncryptedNumber at 0x2106c374880>,\n",
       " <phe.paillier.EncryptedNumber at 0x2106c3748e0>,\n",
       " <phe.paillier.EncryptedNumber at 0x2106c374940>,\n",
       " <phe.paillier.EncryptedNumber at 0x2106c3749a0>,\n",
       " <phe.paillier.EncryptedNumber at 0x2106c374a00>,\n",
       " <phe.paillier.EncryptedNumber at 0x2106c374a60>,\n",
       " <phe.paillier.EncryptedNumber at 0x2106c3747f0>,\n",
       " <phe.paillier.EncryptedNumber at 0x2106c374b20>,\n",
       " <phe.paillier.EncryptedNumber at 0x2106c374b80>,\n",
       " <phe.paillier.EncryptedNumber at 0x2106c374be0>,\n",
       " <phe.paillier.EncryptedNumber at 0x2106c374c40>,\n",
       " <phe.paillier.EncryptedNumber at 0x2106c374ca0>,\n",
       " <phe.paillier.EncryptedNumber at 0x2106c374d00>,\n",
       " <phe.paillier.EncryptedNumber at 0x2106c374d60>,\n",
       " <phe.paillier.EncryptedNumber at 0x2106c374dc0>,\n",
       " <phe.paillier.EncryptedNumber at 0x2106c374e20>,\n",
       " <phe.paillier.EncryptedNumber at 0x2106c374e80>,\n",
       " <phe.paillier.EncryptedNumber at 0x2106c374ee0>,\n",
       " <phe.paillier.EncryptedNumber at 0x2106c374f40>,\n",
       " <phe.paillier.EncryptedNumber at 0x2106c374fa0>,\n",
       " <phe.paillier.EncryptedNumber at 0x2106c375000>,\n",
       " <phe.paillier.EncryptedNumber at 0x2106c375060>,\n",
       " <phe.paillier.EncryptedNumber at 0x2106c3750c0>,\n",
       " <phe.paillier.EncryptedNumber at 0x2106c375120>,\n",
       " <phe.paillier.EncryptedNumber at 0x2106c375180>]"
      ]
     },
     "execution_count": 18,
     "metadata": {},
     "output_type": "execute_result"
    }
   ],
   "source": [
    "y_pred_1"
   ]
  },
  {
   "cell_type": "code",
   "execution_count": 19,
   "id": "8dd33614-35a1-4cc7-ac21-8113b1a379cf",
   "metadata": {},
   "outputs": [],
   "source": [
    "y_pred=[]\n",
    "for i in y_pred_1:\n",
    "    p=i+bias\n",
    "    y_pred.append(p)"
   ]
  },
  {
   "cell_type": "code",
   "execution_count": 20,
   "id": "2fa50493-5b55-41cf-be79-6a81bbd54678",
   "metadata": {},
   "outputs": [
    {
     "data": {
      "text/plain": [
       "[<phe.paillier.EncryptedNumber at 0x2106c35ac20>,\n",
       " <phe.paillier.EncryptedNumber at 0x2106c35b310>,\n",
       " <phe.paillier.EncryptedNumber at 0x2106c35b2e0>,\n",
       " <phe.paillier.EncryptedNumber at 0x2106c35b670>,\n",
       " <phe.paillier.EncryptedNumber at 0x2106c35ace0>]"
      ]
     },
     "execution_count": 20,
     "metadata": {},
     "output_type": "execute_result"
    }
   ],
   "source": [
    "y_pred[:5]"
   ]
  },
  {
   "cell_type": "code",
   "execution_count": 21,
   "id": "6ae3db78-f26b-43ed-b585-412c83334bc2",
   "metadata": {},
   "outputs": [],
   "source": [
    "res=[]\n",
    "for i,j in zip(y_pred,enc_y_train):\n",
    "    q=j*(-1)\n",
    "    p=i+q\n",
    "    res.append(p)"
   ]
  },
  {
   "cell_type": "code",
   "execution_count": 22,
   "id": "77c53859-38d0-4b5d-aa1b-dbd29bf69479",
   "metadata": {},
   "outputs": [
    {
     "name": "stdout",
     "output_type": "stream",
     "text": [
      "-4.725710345773317\n",
      "-37.30331469641108\n",
      "-9.846179767820677\n",
      "4.746962016199478\n",
      "-46.61433976388177\n"
     ]
    }
   ],
   "source": [
    "for i in res[:5]:\n",
    "    print(private_key.decrypt(i))"
   ]
  },
  {
   "cell_type": "code",
   "execution_count": 23,
   "id": "e908a689-2a3d-4a2b-96e8-4f04cd0b92ee",
   "metadata": {},
   "outputs": [
    {
     "data": {
      "text/plain": [
       "array([ 4.72571035, 37.3033147 ,  9.84617977, -4.74696202, 46.61433976])"
      ]
     },
     "execution_count": 23,
     "metadata": {},
     "output_type": "execute_result"
    }
   ],
   "source": [
    "y_train[:5]"
   ]
  },
  {
   "cell_type": "markdown",
   "id": "f6e097c7-f409-489c-bf4d-f0f1f7145777",
   "metadata": {},
   "source": [
    "#### calculating bias:"
   ]
  },
  {
   "cell_type": "code",
   "execution_count": 24,
   "id": "957ce736-c270-459a-9497-214cc8c9fab5",
   "metadata": {},
   "outputs": [
    {
     "data": {
      "text/plain": [
       "<phe.paillier.EncryptedNumber at 0x21029de5f90>"
      ]
     },
     "execution_count": 24,
     "metadata": {},
     "output_type": "execute_result"
    }
   ],
   "source": [
    "db=0\n",
    "for i in res:\n",
    "    db=db+i\n",
    "\n",
    "db=db*var1\n",
    "bias=bias+db\n",
    "bias"
   ]
  },
  {
   "cell_type": "code",
   "execution_count": 25,
   "id": "4667e4cb-7ced-4f4a-a2f2-f72b8a2216b8",
   "metadata": {},
   "outputs": [
    {
     "data": {
      "text/plain": [
       "0.022853668059388148"
      ]
     },
     "execution_count": 25,
     "metadata": {},
     "output_type": "execute_result"
    }
   ],
   "source": [
    "private_key.decrypt(bias)"
   ]
  },
  {
   "cell_type": "markdown",
   "id": "603631f1-0ea7-42a1-9655-c1c66fb552e5",
   "metadata": {},
   "source": [
    "#### calculating weights:"
   ]
  },
  {
   "cell_type": "code",
   "execution_count": 26,
   "id": "45e9b760-a357-44c1-b738-ccd8a0547e1a",
   "metadata": {},
   "outputs": [
    {
     "data": {
      "text/plain": [
       "[-47.257103457733166,\n",
       " -373.03314696411076,\n",
       " -98.46179767820678,\n",
       " 47.46962016199478,\n",
       " -466.14339763881776]"
      ]
     },
     "execution_count": 26,
     "metadata": {},
     "output_type": "execute_result"
    }
   ],
   "source": [
    "res2=decrypt_initial_weights(res)\n",
    "res2[:5]"
   ]
  },
  {
   "cell_type": "code",
   "execution_count": 27,
   "id": "f335775e-4f29-4a69-ba30-cda795f4b924",
   "metadata": {},
   "outputs": [],
   "source": [
    "wei=[]\n",
    "for i,j in zip(enc_X_train,res2):\n",
    "    row_x=[]\n",
    "    for k in i:\n",
    "        p=k*j\n",
    "        p=encrypt_prod_res(p)\n",
    "        row_x.append(p)\n",
    "    wei.append(row_x)"
   ]
  },
  {
   "cell_type": "code",
   "execution_count": 28,
   "id": "073ef565-84ef-4c55-a63d-422397b087a1",
   "metadata": {},
   "outputs": [],
   "source": [
    "ww_a1=list(np.zeros(n_attributes))\n",
    "for i in range(n_attributes):\n",
    "    for j in wei:\n",
    "        ww_a1[i]=ww_a1[i]+j[i]"
   ]
  },
  {
   "cell_type": "code",
   "execution_count": 30,
   "id": "aa741931-1cf2-4b09-9012-6233b0f0fea8",
   "metadata": {},
   "outputs": [],
   "source": [
    "for i in range(n_attributes):\n",
    "    ww_a1[i]=ww_a1[i]*var1"
   ]
  },
  {
   "cell_type": "code",
   "execution_count": 31,
   "id": "d48a58e4-eca5-445e-95aa-157209fc3e04",
   "metadata": {},
   "outputs": [],
   "source": [
    "for i in range(n_attributes):\n",
    "    weights[i]=weights[i]+ww_a1[i]"
   ]
  },
  {
   "cell_type": "code",
   "execution_count": 32,
   "id": "19023765-c081-4743-a06c-5ce84928db23",
   "metadata": {},
   "outputs": [
    {
     "name": "stdout",
     "output_type": "stream",
     "text": [
      "0.9057266136571002\n"
     ]
    }
   ],
   "source": [
    "for i in weights:\n",
    "    print(private_key.decrypt(i))"
   ]
  },
  {
   "cell_type": "code",
   "execution_count": null,
   "id": "db612a7d-0d58-47b9-bedd-c6bfd4d7d713",
   "metadata": {},
   "outputs": [],
   "source": []
  }
 ],
 "metadata": {
  "kernelspec": {
   "display_name": "Python 3 (ipykernel)",
   "language": "python",
   "name": "python3"
  },
  "language_info": {
   "codemirror_mode": {
    "name": "ipython",
    "version": 3
   },
   "file_extension": ".py",
   "mimetype": "text/x-python",
   "name": "python",
   "nbconvert_exporter": "python",
   "pygments_lexer": "ipython3",
   "version": "3.10.0"
  }
 },
 "nbformat": 4,
 "nbformat_minor": 5
}
