{
 "cells": [
  {
   "cell_type": "code",
   "execution_count": 1,
   "id": "b310c43c-9965-493f-9596-4c9720e65d85",
   "metadata": {},
   "outputs": [],
   "source": [
    "import numpy as np\n",
    "from sklearn.model_selection import train_test_split\n",
    "from sklearn import datasets\n",
    "import matplotlib.pyplot as plt\n",
    "import torch\n",
    "from LinearRegression import LinearRegression\n",
    "plt.style.use(\"dark_background\")"
   ]
  },
  {
   "cell_type": "code",
   "execution_count": 2,
   "id": "d641f72d-a701-464a-ac99-dfaf89d4b830",
   "metadata": {},
   "outputs": [],
   "source": [
    "X,y=datasets.make_regression(n_samples=100,n_features=1,noise=20,random_state=1234)\n",
    "X_train,X_test,y_train,y_test=train_test_split(X,y,test_size=0.2,random_state=4)"
   ]
  },
  {
   "cell_type": "code",
   "execution_count": 3,
   "id": "3cf745f3-cc57-4ebe-9e70-d1ef242f1732",
   "metadata": {},
   "outputs": [
    {
     "data": {
      "image/png": "[encoded data removed]",
      "text/plain": [
       "<Figure size 576x432 with 1 Axes>"
      ]
     },
     "metadata": {
      "needs_background": "dark"
     },
     "output_type": "display_data"
    }
   ],
   "source": [
    "fig=plt.figure(figsize=(8,6))\n",
    "plt.scatter(X[:,0],y)\n",
    "plt.show()"
   ]
  },
  {
   "cell_type": "code",
   "execution_count": 4,
   "id": "e1a886de-2a27-4820-9855-6b7ae517eb2f",
   "metadata": {},
   "outputs": [],
   "source": [
    "lr=0.04\n",
    "n_iters=250"
   ]
  },
  {
   "cell_type": "code",
   "execution_count": 5,
   "id": "af50240c-9805-47f5-8934-487d2c62a84e",
   "metadata": {},
   "outputs": [
    {
     "name": "stdout",
     "output_type": "stream",
     "text": [
      "80 1\n"
     ]
    }
   ],
   "source": [
    "n_samples,n_features=X_train.shape\n",
    "print(n_samples,n_features)"
   ]
  },
  {
   "cell_type": "code",
   "execution_count": 6,
   "id": "9d4b61a4-a101-4465-a36c-99e66ed2d060",
   "metadata": {},
   "outputs": [
    {
     "data": {
      "text/plain": [
       "array([0.])"
      ]
     },
     "execution_count": 6,
     "metadata": {},
     "output_type": "execute_result"
    }
   ],
   "source": [
    "weights=np.zeros(n_features)\n",
    "weights"
   ]
  },
  {
   "cell_type": "code",
   "execution_count": 7,
   "id": "17462f03-72a0-4361-b989-6985ab0c4bc6",
   "metadata": {},
   "outputs": [],
   "source": [
    "bias=0\n",
    "X_train_t=X_train.T\n",
    "var1=1/n_samples"
   ]
  },
  {
   "cell_type": "code",
   "execution_count": 8,
   "id": "82bd195d-2e0b-4e5d-b2b6-c5b382cd281c",
   "metadata": {},
   "outputs": [
    {
     "name": "stdout",
     "output_type": "stream",
     "text": [
      "[3.62290645] 0\n",
      "[7.09561421] 1\n",
      "[10.42435153] 2\n",
      "[13.6150884] 3\n",
      "[16.67354715] 4\n",
      "[19.6052128] 5\n",
      "[22.4153429] 6\n",
      "[25.10897692] 7\n",
      "[27.69094534] 8\n",
      "[30.16587829] 9\n",
      "[32.53821389] 10\n",
      "[34.8122062] 11\n",
      "[36.99193284] 12\n",
      "[39.08130233] 13\n",
      "[41.08406111] 14\n",
      "[43.00380022] 15\n",
      "[44.84396182] 16\n",
      "[46.60784529] 17\n",
      "[48.29861319] 18\n",
      "[49.91929694] 19\n",
      "[51.47280224] 20\n",
      "[52.96191429] 21\n",
      "[54.3893028] 22\n",
      "[55.75752677] 23\n",
      "[57.06903908] 24\n",
      "[58.32619091] 25\n",
      "[59.53123591] 26\n",
      "[60.68633432] 27\n",
      "[61.79355678] 28\n",
      "[62.85488806] 29\n",
      "[63.87223065] 30\n",
      "[64.84740813] 31\n",
      "[65.7821685] 32\n",
      "[66.67818726] 33\n",
      "[67.53707041] 34\n",
      "[68.36035741] 35\n",
      "[69.14952386] 36\n",
      "[69.90598417] 37\n",
      "[70.63109413] 38\n",
      "[71.32615329] 39\n",
      "[71.99240734] 40\n",
      "[72.63105031] 41\n",
      "[73.24322672] 42\n",
      "[73.83003365] 43\n",
      "[74.39252268] 44\n",
      "[74.93170181] 45\n",
      "[75.44853723] 46\n",
      "[75.94395508] 47\n",
      "[76.41884311] 48\n",
      "[76.87405225] 49\n",
      "[77.31039818] 50\n",
      "[77.72866272] 51\n",
      "[78.12959532] 52\n",
      "[78.51391434] 53\n",
      "[78.88230835] 54\n",
      "[79.23543741] 55\n",
      "[79.57393417] 56\n",
      "[79.89840508] 57\n",
      "[80.20943146] 58\n",
      "[80.50757051] 59\n",
      "[80.79335634] 60\n",
      "[81.06730091] 61\n",
      "[81.32989497] 62\n",
      "[81.58160893] 63\n",
      "[81.82289369] 64\n",
      "[82.05418146] 65\n",
      "[82.27588654] 66\n",
      "[82.48840605] 67\n",
      "[82.69212064] 68\n",
      "[82.88739522] 69\n",
      "[83.07457952] 70\n",
      "[83.25400882] 71\n",
      "[83.42600448] 72\n",
      "[83.59087454] 73\n",
      "[83.74891429] 74\n",
      "[83.90040674] 75\n",
      "[84.04562323] 76\n",
      "[84.18482379] 77\n",
      "[84.31825773] 78\n",
      "[84.44616398] 79\n",
      "[84.56877159] 80\n",
      "[84.68630013] 81\n",
      "[84.79896003] 82\n",
      "[84.90695304] 83\n",
      "[85.01047253] 84\n",
      "[85.10970385] 85\n",
      "[85.20482468] 86\n",
      "[85.29600533] 87\n",
      "[85.38340905] 88\n",
      "[85.46719233] 89\n",
      "[85.54750518] 90\n",
      "[85.62449137] 91\n",
      "[85.69828875] 92\n",
      "[85.76902941] 93\n",
      "[85.83684001] 94\n",
      "[85.90184193] 95\n",
      "[85.96415155] 96\n",
      "[86.02388039] 97\n",
      "[86.08113538] 98\n",
      "[86.13601901] 99\n",
      "[86.1886295] 100\n",
      "[86.23906105] 101\n",
      "[86.28740391] 102\n",
      "[86.3337446] 103\n",
      "[86.37816608] 104\n",
      "[86.42074785] 105\n",
      "[86.46156611] 106\n",
      "[86.50069392] 107\n",
      "[86.53820131] 108\n",
      "[86.5741554] 109\n",
      "[86.60862053] 110\n",
      "[86.64165839] 111\n",
      "[86.67332808] 112\n",
      "[86.7036863] 113\n",
      "[86.73278735] 114\n",
      "[86.76068331] 115\n",
      "[86.7874241] 116\n",
      "[86.81305757] 117\n",
      "[86.83762958] 118\n",
      "[86.8611841] 119\n",
      "[86.88376327] 120\n",
      "[86.90540748] 121\n",
      "[86.92615547] 122\n",
      "[86.94604435] 123\n",
      "[86.96510971] 124\n",
      "[86.98338565] 125\n",
      "[87.00090486] 126\n",
      "[87.01769869] 127\n",
      "[87.03379719] 128\n",
      "[87.04922914] 129\n",
      "[87.06402215] 130\n",
      "[87.07820268] 131\n",
      "[87.09179611] 132\n",
      "[87.10482674] 133\n",
      "[87.11731787] 134\n",
      "[87.12929186] 135\n",
      "[87.14077012] 136\n",
      "[87.15177317] 137\n",
      "[87.1623207] 138\n",
      "[87.17243156] 139\n",
      "[87.18212385] 140\n",
      "[87.19141489] 141\n",
      "[87.20032131] 142\n",
      "[87.20885902] 143\n",
      "[87.21704329] 144\n",
      "[87.22488876] 145\n",
      "[87.23240947] 146\n",
      "[87.23961884] 147\n",
      "[87.24652979] 148\n",
      "[87.25315466] 149\n",
      "[87.25950529] 150\n",
      "[87.26559306] 151\n",
      "[87.27142883] 152\n",
      "[87.27702304] 153\n",
      "[87.28238569] 154\n",
      "[87.28752638] 155\n",
      "[87.29245428] 156\n",
      "[87.29717822] 157\n",
      "[87.30170663] 158\n",
      "[87.30604761] 159\n",
      "[87.31020891] 160\n",
      "[87.31419799] 161\n",
      "[87.31802197] 162\n",
      "[87.32168768] 163\n",
      "[87.32520167] 164\n",
      "[87.32857023] 165\n",
      "[87.33179938] 166\n",
      "[87.33489489] 167\n",
      "[87.33786229] 168\n",
      "[87.34070688] 169\n",
      "[87.34343375] 170\n",
      "[87.34604777] 171\n",
      "[87.34855362] 172\n",
      "[87.35095576] 173\n",
      "[87.3532585] 174\n",
      "[87.35546595] 175\n",
      "[87.35758205] 176\n",
      "[87.35961058] 177\n",
      "[87.36155517] 178\n",
      "[87.36341929] 179\n",
      "[87.36520628] 180\n",
      "[87.36691932] 181\n",
      "[87.36856148] 182\n",
      "[87.37013569] 183\n",
      "[87.37164477] 184\n",
      "[87.3730914] 185\n",
      "[87.37447818] 186\n",
      "[87.37580757] 187\n",
      "[87.37708196] 188\n",
      "[87.37830363] 189\n",
      "[87.37947475] 190\n",
      "[87.38059741] 191\n",
      "[87.38167363] 192\n",
      "[87.38270532] 193\n",
      "[87.38369432] 194\n",
      "[87.38464241] 195\n",
      "[87.38555127] 196\n",
      "[87.38642254] 197\n",
      "[87.38725776] 198\n",
      "[87.38805842] 199\n",
      "[87.38882597] 200\n",
      "[87.38956176] 201\n",
      "[87.39026711] 202\n",
      "[87.39094328] 203\n",
      "[87.39159149] 204\n",
      "[87.39221287] 205\n",
      "[87.39280856] 206\n",
      "[87.3933796] 207\n",
      "[87.39392702] 208\n",
      "[87.3944518] 209\n",
      "[87.39495487] 210\n",
      "[87.39543713] 211\n",
      "[87.39589944] 212\n",
      "[87.39634263] 213\n",
      "[87.39676749] 214\n",
      "[87.39717478] 215\n",
      "[87.39756522] 216\n",
      "[87.39793951] 217\n",
      "[87.39829832] 218\n",
      "[87.39864229] 219\n",
      "[87.39897203] 220\n",
      "[87.39928814] 221\n",
      "[87.39959117] 222\n",
      "[87.39988167] 223\n",
      "[87.40016016] 224\n",
      "[87.40042713] 225\n",
      "[87.40068306] 226\n",
      "[87.4009284] 227\n",
      "[87.4011636] 228\n",
      "[87.40138907] 229\n",
      "[87.40160522] 230\n",
      "[87.40181242] 231\n",
      "[87.40201106] 232\n",
      "[87.40220149] 233\n",
      "[87.40238404] 234\n",
      "[87.40255904] 235\n",
      "[87.40272681] 236\n",
      "[87.40288764] 237\n",
      "[87.40304182] 238\n",
      "[87.40318962] 239\n",
      "[87.40333132] 240\n",
      "[87.40346715] 241\n",
      "[87.40359737] 242\n",
      "[87.4037222] 243\n",
      "[87.40384187] 244\n",
      "[87.4039566] 245\n",
      "[87.40406658] 246\n",
      "[87.40417201] 247\n",
      "[87.40427308] 248\n",
      "[87.40436998] 249\n"
     ]
    }
   ],
   "source": [
    "for _ in range(n_iters):  \n",
    "    a=[]     \n",
    "    for i in X_train:    # np.dot(X, self.weights)\n",
    "        t=np.dot(i,weights)\n",
    "        a.append(t)\n",
    "\n",
    "    a=np.array(a)\n",
    "\n",
    "    y_pred=a+bias  # y_pred=np.dot(X, self.weights) + bias \n",
    "\n",
    "    r=y_pred-y_train\n",
    "\n",
    "    p=[]\n",
    "    for i in X_train_t:\n",
    "        t=np.dot(i,r)\n",
    "        p.append(t)\n",
    "    \n",
    "    p=np.array(p)\n",
    "    dw=var1*p\n",
    "    d=0\n",
    "    for m in r:\n",
    "        d+=m\n",
    "\n",
    "    db=var1*d\n",
    "\n",
    "    dw=dw*lr\n",
    "    weights=weights-dw\n",
    "    print(weights,_)\n",
    "\n",
    "    db=db*lr\n",
    "    bias=bias-db"
   ]
  },
  {
   "cell_type": "code",
   "execution_count": 9,
   "id": "717e88db-641b-4356-bf79-81ac492f655a",
   "metadata": {},
   "outputs": [
    {
     "data": {
      "text/plain": [
       "0.9205348721565981"
      ]
     },
     "execution_count": 9,
     "metadata": {},
     "output_type": "execute_result"
    }
   ],
   "source": [
    "bias"
   ]
  },
  {
   "cell_type": "code",
   "execution_count": 10,
   "id": "c57ef59c-e810-4b5e-87f8-ed3e6f3ede4a",
   "metadata": {},
   "outputs": [
    {
     "data": {
      "text/plain": [
       "array([87.40436998])"
      ]
     },
     "execution_count": 10,
     "metadata": {},
     "output_type": "execute_result"
    }
   ],
   "source": [
    "weights"
   ]
  },
  {
   "cell_type": "markdown",
   "id": "f8c7dbfe-1d3b-4d7d-b604-56f1d4bfc436",
   "metadata": {},
   "source": [
    "#### testing:"
   ]
  },
  {
   "cell_type": "markdown",
   "id": "991a58ca-2c17-467d-b130-2ddb49509011",
   "metadata": {},
   "source": [
    "predictions=X_test*weights+bias"
   ]
  },
  {
   "cell_type": "code",
   "execution_count": 11,
   "id": "32647d66-b25a-4ad5-a10c-f0f1c6d500a7",
   "metadata": {},
   "outputs": [
    {
     "data": {
      "text/plain": [
       "array([[ 0.2477922 ],\n",
       "       [-0.6365235 ],\n",
       "       [ 0.46439233],\n",
       "       [ 0.99194602],\n",
       "       [-2.24268495],\n",
       "       [ 0.55343891],\n",
       "       [-0.89715678],\n",
       "       [ 0.12471295],\n",
       "       [ 0.28909194],\n",
       "       [ 0.07619959],\n",
       "       [-0.92625431],\n",
       "       [ 0.70472062],\n",
       "       [ 0.88716294],\n",
       "       [ 0.70422823],\n",
       "       [-0.34476601],\n",
       "       [ 0.47143516],\n",
       "       [ 1.03380073],\n",
       "       [-1.40197328],\n",
       "       [ 1.32110562],\n",
       "       [ 0.84100879]])"
      ]
     },
     "execution_count": 11,
     "metadata": {},
     "output_type": "execute_result"
    }
   ],
   "source": [
    "X_test"
   ]
  },
  {
   "cell_type": "code",
   "execution_count": 12,
   "id": "c465e990-3342-4d62-ab1d-354b5b71690c",
   "metadata": {},
   "outputs": [
    {
     "data": {
      "text/plain": [
       "numpy.ndarray"
      ]
     },
     "execution_count": 12,
     "metadata": {},
     "output_type": "execute_result"
    }
   ],
   "source": [
    "type(X_test)"
   ]
  },
  {
   "cell_type": "code",
   "execution_count": 13,
   "id": "e608744c-0bf9-4081-a2b1-e96eb8e213d9",
   "metadata": {},
   "outputs": [
    {
     "data": {
      "text/plain": [
       "array([[  22.57865598],\n",
       "       [ -54.71440101],\n",
       "       [  41.51045347],\n",
       "       [  87.62095201],\n",
       "       [-195.09993061],\n",
       "       [  49.29351421],\n",
       "       [ -77.49488864],\n",
       "       [  11.82099202],\n",
       "       [  26.18843384],\n",
       "       [   7.58071184],\n",
       "       [ -80.03813984],\n",
       "       [  62.51619705],\n",
       "       [  78.46245274],\n",
       "       [  62.47315924],\n",
       "       [ -29.21352139],\n",
       "       [  42.12602834],\n",
       "       [  91.27923659],\n",
       "       [-121.61805653],\n",
       "       [ 116.39093887],\n",
       "       [  74.42837874]])"
      ]
     },
     "execution_count": 13,
     "metadata": {},
     "output_type": "execute_result"
    }
   ],
   "source": [
    "predictions=(X_test*weights)+bias\n",
    "predictions"
   ]
  },
  {
   "cell_type": "code",
   "execution_count": 14,
   "id": "e1ef8740-a732-4610-964e-5ef6e527d891",
   "metadata": {},
   "outputs": [
    {
     "data": {
      "text/plain": [
       "array([  -6.40043974,  -75.83288846,   43.02438483,   81.72162478,\n",
       "       -197.98015036,   32.09705138, -102.66748012,   15.35071413,\n",
       "          6.89232312,   26.28851288,  -80.36899984,   30.84591703,\n",
       "         95.0686297 ,   69.43879729,  -45.80868283,   63.1880408 ,\n",
       "         91.41603362, -108.37740214,  142.7546496 ,   87.77205622])"
      ]
     },
     "execution_count": 14,
     "metadata": {},
     "output_type": "execute_result"
    }
   ],
   "source": [
    "y_test"
   ]
  },
  {
   "cell_type": "code",
   "execution_count": 15,
   "id": "10665d6d-625c-409b-8b3e-74feda6b5b79",
   "metadata": {},
   "outputs": [
    {
     "name": "stdout",
     "output_type": "stream",
     "text": [
      "-6.400439740897028 [22.57865598]\n",
      "-75.83288846408419 [-54.71440101]\n",
      "43.02438482670904 [41.51045347]\n",
      "81.72162477765585 [87.62095201]\n",
      "-197.9801503584435 [-195.09993061]\n",
      "32.09705138165424 [49.29351421]\n",
      "-102.66748011552487 [-77.49488864]\n",
      "15.35071412820563 [11.82099202]\n",
      "6.892323119468568 [26.18843384]\n",
      "26.28851287900197 [7.58071184]\n",
      "-80.36899984455164 [-80.03813984]\n",
      "30.84591703151775 [62.51619705]\n",
      "95.06862969774186 [78.46245274]\n",
      "69.43879729019481 [62.47315924]\n",
      "-45.80868282540775 [-29.21352139]\n",
      "63.18804079600157 [42.12602834]\n",
      "91.41603362148403 [91.27923659]\n",
      "-108.37740214379002 [-121.61805653]\n",
      "142.75464960351508 [116.39093887]\n",
      "87.77205622112535 [74.42837874]\n"
     ]
    }
   ],
   "source": [
    "for a,b in zip(y_test,predictions):\n",
    "    print(a,b)"
   ]
  },
  {
   "cell_type": "code",
   "execution_count": 16,
   "id": "44939d68-159d-4536-b6a1-3136075d2163",
   "metadata": {},
   "outputs": [
    {
     "data": {
      "text/plain": [
       "numpy.ndarray"
      ]
     },
     "execution_count": 16,
     "metadata": {},
     "output_type": "execute_result"
    }
   ],
   "source": [
    "type(predictions)"
   ]
  },
  {
   "cell_type": "code",
   "execution_count": 17,
   "id": "8de9f923-5ed6-498c-b7e5-c8bfca4928b1",
   "metadata": {},
   "outputs": [
    {
     "data": {
      "text/plain": [
       "numpy.ndarray"
      ]
     },
     "execution_count": 17,
     "metadata": {},
     "output_type": "execute_result"
    }
   ],
   "source": [
    "type(y_test)"
   ]
  },
  {
   "cell_type": "code",
   "execution_count": 18,
   "id": "b7d11d3b-3d5f-46ae-ba34-6bb7450726a9",
   "metadata": {},
   "outputs": [
    {
     "data": {
      "text/plain": [
       "(20, 1)"
      ]
     },
     "execution_count": 18,
     "metadata": {},
     "output_type": "execute_result"
    }
   ],
   "source": [
    "predictions.shape"
   ]
  },
  {
   "cell_type": "code",
   "execution_count": 19,
   "id": "da03207d-7192-4be6-b8ee-602e0a7f59be",
   "metadata": {},
   "outputs": [
    {
     "data": {
      "text/plain": [
       "(20,)"
      ]
     },
     "execution_count": 19,
     "metadata": {},
     "output_type": "execute_result"
    }
   ],
   "source": [
    "y_test.shape"
   ]
  },
  {
   "cell_type": "code",
   "execution_count": 20,
   "id": "6e4bbab9-bbdb-4f96-a866-9ee59f71b49f",
   "metadata": {},
   "outputs": [
    {
     "data": {
      "text/plain": [
       "(20,)"
      ]
     },
     "execution_count": 20,
     "metadata": {},
     "output_type": "execute_result"
    }
   ],
   "source": [
    "predictions=predictions.reshape(20,)\n",
    "predictions.shape"
   ]
  },
  {
   "cell_type": "code",
   "execution_count": 21,
   "id": "7e3f85e0-a82e-4b4e-8984-8ffdbf420e7c",
   "metadata": {},
   "outputs": [
    {
     "name": "stdout",
     "output_type": "stream",
     "text": [
      "-6.400439740897028 22.578655976995798\n",
      "-75.83288846408419 -54.71440100854176\n",
      "43.02438482670904 41.510453466513596\n",
      "81.72162477765585 87.62095200862157\n",
      "-197.9801503584435 -195.09993061076926\n",
      "32.09705138165424 49.29351420643339\n",
      "-102.66748011552487 -77.49488864456802\n",
      "15.35071412820563 11.82099202454149\n",
      "6.892323119468568 26.18843383964762\n",
      "26.28851287900197 7.58071183976261\n",
      "-80.36899984455164 -80.03813984268375\n",
      "30.84591703151775 62.51619705210523\n",
      "95.06862969774186 78.4624527388546\n",
      "69.43879729019481 62.473159240411086\n",
      "-45.80868282540775 -29.213521394090336\n",
      "63.18804079600157 42.12602834434536\n",
      "91.41603362148403 91.2792365854449\n",
      "-108.37740214379002 -121.61805652542103\n",
      "142.75464960351508 116.39093886861922\n",
      "87.77205622112535 74.42837874029584\n"
     ]
    }
   ],
   "source": [
    "for a,b in zip(y_test,predictions):\n",
    "    print(a,b)"
   ]
  },
  {
   "cell_type": "code",
   "execution_count": 22,
   "id": "c500649c-4e50-4304-a875-19b0836cf882",
   "metadata": {},
   "outputs": [
    {
     "name": "stdout",
     "output_type": "stream",
     "text": [
      "304.5084127953214\n"
     ]
    }
   ],
   "source": [
    "def mse(y_test, predictions):\n",
    "    return np.mean((y_test-predictions)**2)\n",
    "\n",
    "mse = mse(y_test, predictions)\n",
    "print(mse)"
   ]
  },
  {
   "cell_type": "code",
   "execution_count": 23,
   "id": "21449de1-2933-4df4-a446-1dbad6faef9d",
   "metadata": {},
   "outputs": [
    {
     "data": {
      "image/png": "[encoded data removed]",
      "text/plain": [
       "<Figure size 432x288 with 1 Axes>"
      ]
     },
     "metadata": {
      "needs_background": "dark"
     },
     "output_type": "display_data"
    }
   ],
   "source": [
    "X_test_1=X_test.reshape(20,)\n",
    "X_train_1=X_train.reshape(80,)\n",
    "plt.plot(X_test_1, predictions, color='red', linewidth=2, label='Prediction')\n",
    "plt.scatter(X_test_1, y_test, color='green')\n",
    "plt.show()"
   ]
  }
 ],
 "metadata": {
  "kernelspec": {
   "display_name": "Python 3 (ipykernel)",
   "language": "python",
   "name": "python3"
  },
  "language_info": {
   "codemirror_mode": {
    "name": "ipython",
    "version": 3
   },
   "file_extension": ".py",
   "mimetype": "text/x-python",
   "name": "python",
   "nbconvert_exporter": "python",
   "pygments_lexer": "ipython3",
   "version": "3.10.0"
  }
 },
 "nbformat": 4,
 "nbformat_minor": 5
}
