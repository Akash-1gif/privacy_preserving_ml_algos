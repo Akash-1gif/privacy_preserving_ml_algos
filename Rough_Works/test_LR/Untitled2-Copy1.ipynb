{
 "cells": [
  {
   "cell_type": "code",
   "execution_count": 1,
   "id": "b310c43c-9965-493f-9596-4c9720e65d85",
   "metadata": {},
   "outputs": [],
   "source": [
    "import numpy as np\n",
    "from sklearn.model_selection import train_test_split\n",
    "from sklearn import datasets\n",
    "import matplotlib.pyplot as plt\n",
    "import torch\n",
    "from LinearRegression import LinearRegression\n",
    "plt.style.use(\"dark_background\")"
   ]
  },
  {
   "cell_type": "code",
   "execution_count": 2,
   "id": "d641f72d-a701-464a-ac99-dfaf89d4b830",
   "metadata": {},
   "outputs": [],
   "source": [
    "X,y=datasets.make_regression(n_samples=100,n_features=1,noise=20,random_state=1234)\n",
    "X_train,X_test,y_train,y_test=train_test_split(X,y,test_size=0.2,random_state=4)"
   ]
  },
  {
   "cell_type": "code",
   "execution_count": 3,
   "id": "3cf745f3-cc57-4ebe-9e70-d1ef242f1732",
   "metadata": {},
   "outputs": [
    {
     "data": {
      "image/png": "[encoded data removed]",
      "text/plain": [
       "<Figure size 576x432 with 1 Axes>"
      ]
     },
     "metadata": {
      "needs_background": "dark"
     },
     "output_type": "display_data"
    }
   ],
   "source": [
    "fig=plt.figure(figsize=(8,6))\n",
    "plt.scatter(X[:,0],y)\n",
    "plt.show()"
   ]
  },
  {
   "cell_type": "code",
   "execution_count": 4,
   "id": "e1a886de-2a27-4820-9855-6b7ae517eb2f",
   "metadata": {},
   "outputs": [],
   "source": [
    "lr=0.02\n",
    "n_iters=500"
   ]
  },
  {
   "cell_type": "code",
   "execution_count": 5,
   "id": "af50240c-9805-47f5-8934-487d2c62a84e",
   "metadata": {},
   "outputs": [
    {
     "name": "stdout",
     "output_type": "stream",
     "text": [
      "80 1\n"
     ]
    }
   ],
   "source": [
    "n_samples,n_features=X_train.shape\n",
    "print(n_samples,n_features)"
   ]
  },
  {
   "cell_type": "code",
   "execution_count": 6,
   "id": "9d4b61a4-a101-4465-a36c-99e66ed2d060",
   "metadata": {},
   "outputs": [
    {
     "data": {
      "text/plain": [
       "array([0.])"
      ]
     },
     "execution_count": 6,
     "metadata": {},
     "output_type": "execute_result"
    }
   ],
   "source": [
    "weights=np.zeros(n_features)\n",
    "weights"
   ]
  },
  {
   "cell_type": "code",
   "execution_count": 7,
   "id": "17462f03-72a0-4361-b989-6985ab0c4bc6",
   "metadata": {},
   "outputs": [],
   "source": [
    "bias=0\n",
    "X_train_t=X_train.T\n",
    "var1=1/n_samples"
   ]
  },
  {
   "cell_type": "code",
   "execution_count": 8,
   "id": "82bd195d-2e0b-4e5d-b2b6-c5b382cd281c",
   "metadata": {},
   "outputs": [
    {
     "name": "stdout",
     "output_type": "stream",
     "text": [
      "[1.81145323] 0\n",
      "[3.58535678] 1\n",
      "[5.32248919] 2\n",
      "[7.02361285] 3\n",
      "[8.68947434] 4\n",
      "[10.32080475] 5\n",
      "[11.91832003] 6\n",
      "[13.48272126] 7\n",
      "[15.01469499] 8\n",
      "[16.51491354] 9\n",
      "[17.98403527] 10\n",
      "[19.42270492] 11\n",
      "[20.83155382] 12\n",
      "[22.21120024] 13\n",
      "[23.56224961] 14\n",
      "[24.88529481] 15\n",
      "[26.18091644] 16\n",
      "[27.44968303] 17\n",
      "[28.69215136] 18\n",
      "[29.90886663] 19\n",
      "[31.10036274] 20\n",
      "[32.26716255] 21\n",
      "[33.40977804] 22\n",
      "[34.52871058] 23\n",
      "[35.62445118] 24\n",
      "[36.69748061] 25\n",
      "[37.74826972] 26\n",
      "[38.77727957] 27\n",
      "[39.78496168] 28\n",
      "[40.77175818] 29\n",
      "[41.73810205] 30\n",
      "[42.6844173] 31\n",
      "[43.61111913] 32\n",
      "[44.51861413] 33\n",
      "[45.40730049] 34\n",
      "[46.27756811] 35\n",
      "[47.12979881] 36\n",
      "[47.96436651] 37\n",
      "[48.78163736] 38\n",
      "[49.58196993] 39\n",
      "[50.36571534] 40\n",
      "[51.13321746] 41\n",
      "[51.88481299] 42\n",
      "[52.62083168] 43\n",
      "[53.34159643] 44\n",
      "[54.04742345] 45\n",
      "[54.73862238] 46\n",
      "[55.41549646] 47\n",
      "[56.07834262] 48\n",
      "[56.72745167] 49\n",
      "[57.36310834] 50\n",
      "[57.98559151] 51\n",
      "[58.59517423] 52\n",
      "[59.19212392] 53\n",
      "[59.77670245] 54\n",
      "[60.34916625] 55\n",
      "[60.90976644] 56\n",
      "[61.45874894] 57\n",
      "[61.99635456] 58\n",
      "[62.52281911] 59\n",
      "[63.03837355] 60\n",
      "[63.543244] 61\n",
      "[64.03765194] 62\n",
      "[64.52181421] 63\n",
      "[64.9959432] 64\n",
      "[65.46024686] 65\n",
      "[65.91492886] 66\n",
      "[66.36018862] 67\n",
      "[66.79622145] 68\n",
      "[67.22321859] 69\n",
      "[67.64136732] 70\n",
      "[68.05085105] 71\n",
      "[68.45184938] 72\n",
      "[68.84453818] 73\n",
      "[69.22908969] 74\n",
      "[69.60567255] 75\n",
      "[69.97445194] 76\n",
      "[70.3355896] 77\n",
      "[70.6892439] 78\n",
      "[71.03556995] 79\n",
      "[71.37471964] 80\n",
      "[71.70684171] 81\n",
      "[72.0320818] 82\n",
      "[72.35058257] 83\n",
      "[72.66248367] 84\n",
      "[72.9679219] 85\n",
      "[73.26703121] 86\n",
      "[73.55994275] 87\n",
      "[73.846785] 88\n",
      "[74.12768372] 89\n",
      "[74.40276211] 90\n",
      "[74.6721408] 91\n",
      "[74.9359379] 92\n",
      "[75.19426909] 93\n",
      "[75.44724766] 94\n",
      "[75.69498454] 95\n",
      "[75.93758836] 96\n",
      "[76.17516551] 97\n",
      "[76.40782014] 98\n",
      "[76.63565429] 99\n",
      "[76.85876785] 100\n",
      "[77.07725865] 101\n",
      "[77.2912225] 102\n",
      "[77.50075322] 103\n",
      "[77.70594266] 104\n",
      "[77.90688081] 105\n",
      "[78.10365576] 106\n",
      "[78.29635379] 107\n",
      "[78.48505938] 108\n",
      "[78.66985529] 109\n",
      "[78.85082252] 110\n",
      "[79.02804041] 111\n",
      "[79.20158668] 112\n",
      "[79.3715374] 113\n",
      "[79.53796708] 114\n",
      "[79.70094869] 115\n",
      "[79.86055369] 116\n",
      "[80.01685204] 117\n",
      "[80.16991227] 118\n",
      "[80.31980148] 119\n",
      "[80.46658538] 120\n",
      "[80.61032831] 121\n",
      "[80.7510933] 122\n",
      "[80.88894206] 123\n",
      "[81.023935] 124\n",
      "[81.15613132] 125\n",
      "[81.28558896] 126\n",
      "[81.41236467] 127\n",
      "[81.53651402] 128\n",
      "[81.65809145] 129\n",
      "[81.77715023] 130\n",
      "[81.89374256] 131\n",
      "[82.00791955] 132\n",
      "[82.11973125] 133\n",
      "[82.22922666] 134\n",
      "[82.33645378] 135\n",
      "[82.44145962] 136\n",
      "[82.5442902] 137\n",
      "[82.64499059] 138\n",
      "[82.74360493] 139\n",
      "[82.84017644] 140\n",
      "[82.93474745] 141\n",
      "[83.02735942] 142\n",
      "[83.11805293] 143\n",
      "[83.20686773] 144\n",
      "[83.29384276] 145\n",
      "[83.37901612] 146\n",
      "[83.46242516] 147\n",
      "[83.54410642] 148\n",
      "[83.6240957] 149\n",
      "[83.70242806] 150\n",
      "[83.77913784] 151\n",
      "[83.85425865] 152\n",
      "[83.9278234] 153\n",
      "[83.99986435] 154\n",
      "[84.07041306] 155\n",
      "[84.13950045] 156\n",
      "[84.2071568] 157\n",
      "[84.27341175] 158\n",
      "[84.33829434] 159\n",
      "[84.40183301] 160\n",
      "[84.46405559] 161\n",
      "[84.52498935] 162\n",
      "[84.584661] 163\n",
      "[84.64309669] 164\n",
      "[84.70032201] 165\n",
      "[84.75636205] 166\n",
      "[84.81124136] 167\n",
      "[84.864984] 168\n",
      "[84.9176135] 169\n",
      "[84.96915293] 170\n",
      "[85.01962487] 171\n",
      "[85.06905144] 172\n",
      "[85.11745429] 173\n",
      "[85.16485464] 174\n",
      "[85.21127325] 175\n",
      "[85.25673046] 176\n",
      "[85.30124619] 177\n",
      "[85.34483994] 178\n",
      "[85.38753081] 179\n",
      "[85.42933751] 180\n",
      "[85.47027834] 181\n",
      "[85.51037126] 182\n",
      "[85.54963382] 183\n",
      "[85.58808323] 184\n",
      "[85.62573633] 185\n",
      "[85.66260962] 186\n",
      "[85.69871925] 187\n",
      "[85.73408104] 188\n",
      "[85.76871048] 189\n",
      "[85.80262275] 190\n",
      "[85.83583269] 191\n",
      "[85.86835487] 192\n",
      "[85.90020352] 193\n",
      "[85.9313926] 194\n",
      "[85.96193577] 195\n",
      "[85.9918464] 196\n",
      "[86.02113762] 197\n",
      "[86.04982223] 198\n",
      "[86.07791282] 199\n",
      "[86.10542167] 200\n",
      "[86.13236086] 201\n",
      "[86.15874216] 202\n",
      "[86.18457715] 203\n",
      "[86.20987713] 204\n",
      "[86.23465319] 205\n",
      "[86.25891618] 206\n",
      "[86.28267673] 207\n",
      "[86.30594524] 208\n",
      "[86.32873191] 209\n",
      "[86.35104672] 210\n",
      "[86.37289944] 211\n",
      "[86.39429964] 212\n",
      "[86.41525669] 213\n",
      "[86.43577978] 214\n",
      "[86.45587789] 215\n",
      "[86.47555983] 216\n",
      "[86.49483421] 217\n",
      "[86.51370947] 218\n",
      "[86.53219389] 219\n",
      "[86.55029556] 220\n",
      "[86.5680224] 221\n",
      "[86.58538218] 222\n",
      "[86.6023825] 223\n",
      "[86.61903081] 224\n",
      "[86.63533439] 225\n",
      "[86.65130039] 226\n",
      "[86.6669358] 227\n",
      "[86.68224746] 228\n",
      "[86.69724209] 229\n",
      "[86.71192624] 230\n",
      "[86.72630634] 231\n",
      "[86.7403887] 232\n",
      "[86.75417949] 233\n",
      "[86.76768473] 234\n",
      "[86.78091034] 235\n",
      "[86.79386212] 236\n",
      "[86.80654573] 237\n",
      "[86.81896673] 238\n",
      "[86.83113056] 239\n",
      "[86.84304254] 240\n",
      "[86.85470789] 241\n",
      "[86.86613172] 242\n",
      "[86.87731903] 243\n",
      "[86.88827471] 244\n",
      "[86.89900357] 245\n",
      "[86.9095103] 246\n",
      "[86.9197995] 247\n",
      "[86.92987568] 248\n",
      "[86.93974324] 249\n",
      "[86.94940651] 250\n",
      "[86.95886972] 251\n",
      "[86.96813701] 252\n",
      "[86.97721244] 253\n",
      "[86.98609999] 254\n",
      "[86.99480353] 255\n",
      "[87.00332689] 256\n",
      "[87.01167379] 257\n",
      "[87.01984789] 258\n",
      "[87.02785276] 259\n",
      "[87.03569192] 260\n",
      "[87.04336879] 261\n",
      "[87.05088673] 262\n",
      "[87.05824904] 263\n",
      "[87.06545893] 264\n",
      "[87.07251956] 265\n",
      "[87.07943403] 266\n",
      "[87.08620536] 267\n",
      "[87.09283651] 268\n",
      "[87.09933039] 269\n",
      "[87.10568984] 270\n",
      "[87.11191765] 271\n",
      "[87.11801653] 272\n",
      "[87.12398915] 273\n",
      "[87.12983815] 274\n",
      "[87.13556606] 275\n",
      "[87.1411754] 276\n",
      "[87.14666863] 277\n",
      "[87.15204815] 278\n",
      "[87.15731631] 279\n",
      "[87.16247542] 280\n",
      "[87.16752773] 281\n",
      "[87.17247547] 282\n",
      "[87.17732078] 283\n",
      "[87.18206581] 284\n",
      "[87.18671261] 285\n",
      "[87.19126322] 286\n",
      "[87.19571965] 287\n",
      "[87.20008383] 288\n",
      "[87.20435767] 289\n",
      "[87.20854305] 290\n",
      "[87.2126418] 291\n",
      "[87.21665571] 292\n",
      "[87.22058654] 293\n",
      "[87.22443601] 294\n",
      "[87.2282058] 295\n",
      "[87.23189756] 296\n",
      "[87.23551291] 297\n",
      "[87.23905343] 298\n",
      "[87.24252066] 299\n",
      "[87.24591614] 300\n",
      "[87.24924133] 301\n",
      "[87.25249771] 302\n",
      "[87.25568668] 303\n",
      "[87.25880965] 304\n",
      "[87.26186799] 305\n",
      "[87.26486302] 306\n",
      "[87.26779607] 307\n",
      "[87.27066842] 308\n",
      "[87.27348131] 309\n",
      "[87.27623599] 310\n",
      "[87.27893366] 311\n",
      "[87.2815755] 312\n",
      "[87.28416265] 313\n",
      "[87.28669627] 314\n",
      "[87.28917745] 315\n",
      "[87.29160728] 316\n",
      "[87.29398682] 317\n",
      "[87.29631712] 318\n",
      "[87.29859919] 319\n",
      "[87.30083403] 320\n",
      "[87.30302262] 321\n",
      "[87.30516592] 322\n",
      "[87.30726486] 323\n",
      "[87.30932037] 324\n",
      "[87.31133334] 325\n",
      "[87.31330464] 326\n",
      "[87.31523516] 327\n",
      "[87.31712572] 328\n",
      "[87.31897716] 329\n",
      "[87.32079029] 330\n",
      "[87.32256589] 331\n",
      "[87.32430475] 332\n",
      "[87.32600763] 333\n",
      "[87.32767526] 334\n",
      "[87.32930839] 335\n",
      "[87.33090773] 336\n",
      "[87.33247396] 337\n",
      "[87.33400779] 338\n",
      "[87.33550988] 339\n",
      "[87.33698088] 340\n",
      "[87.33842145] 341\n",
      "[87.3398322] 342\n",
      "[87.34121377] 343\n",
      "[87.34256674] 344\n",
      "[87.34389172] 345\n",
      "[87.34518929] 346\n",
      "[87.34646] 347\n",
      "[87.34770442] 348\n",
      "[87.34892309] 349\n",
      "[87.35011654] 350\n",
      "[87.3512853] 351\n",
      "[87.35242988] 352\n",
      "[87.35355077] 353\n",
      "[87.35464847] 354\n",
      "[87.35572346] 355\n",
      "[87.35677621] 356\n",
      "[87.35780717] 357\n",
      "[87.3588168] 358\n",
      "[87.35980554] 359\n",
      "[87.36077382] 360\n",
      "[87.36172207] 361\n",
      "[87.3626507] 362\n",
      "[87.36356012] 363\n",
      "[87.36445072] 364\n",
      "[87.36532289] 365\n",
      "[87.36617702] 366\n",
      "[87.36701348] 367\n",
      "[87.36783263] 368\n",
      "[87.36863483] 369\n",
      "[87.36942044] 370\n",
      "[87.37018979] 371\n",
      "[87.37094323] 372\n",
      "[87.37168108] 373\n",
      "[87.37240366] 374\n",
      "[87.37311129] 375\n",
      "[87.37380428] 376\n",
      "[87.37448294] 377\n",
      "[87.37514756] 378\n",
      "[87.37579842] 379\n",
      "[87.37643582] 380\n",
      "[87.37706004] 381\n",
      "[87.37767134] 382\n",
      "[87.37826999] 383\n",
      "[87.37885626] 384\n",
      "[87.3794304] 385\n",
      "[87.37999267] 386\n",
      "[87.3805433] 387\n",
      "[87.38108254] 388\n",
      "[87.38161062] 389\n",
      "[87.38212778] 390\n",
      "[87.38263425] 391\n",
      "[87.38313023] 392\n",
      "[87.38361596] 393\n",
      "[87.38409164] 394\n",
      "[87.38455747] 395\n",
      "[87.38501367] 396\n",
      "[87.38546044] 397\n",
      "[87.38589796] 398\n",
      "[87.38632643] 399\n",
      "[87.38674604] 400\n",
      "[87.38715697] 401\n",
      "[87.3875594] 402\n",
      "[87.3879535] 403\n",
      "[87.38833945] 404\n",
      "[87.38871742] 405\n",
      "[87.38908757] 406\n",
      "[87.38945007] 407\n",
      "[87.38980506] 408\n",
      "[87.39015272] 409\n",
      "[87.39049318] 410\n",
      "[87.3908266] 411\n",
      "[87.39115312] 412\n",
      "[87.39147289] 413\n",
      "[87.39178605] 414\n",
      "[87.39209272] 415\n",
      "[87.39239306] 416\n",
      "[87.39268718] 417\n",
      "[87.39297522] 418\n",
      "[87.3932573] 419\n",
      "[87.39353355] 420\n",
      "[87.39380408] 421\n",
      "[87.39406902] 422\n",
      "[87.39432848] 423\n",
      "[87.39458257] 424\n",
      "[87.39483141] 425\n",
      "[87.3950751] 426\n",
      "[87.39531375] 427\n",
      "[87.39554747] 428\n",
      "[87.39577635] 429\n",
      "[87.39600049] 430\n",
      "[87.39622001] 431\n",
      "[87.39643498] 432\n",
      "[87.3966455] 433\n",
      "[87.39685168] 434\n",
      "[87.39705358] 435\n",
      "[87.39725132] 436\n",
      "[87.39744496] 437\n",
      "[87.3976346] 438\n",
      "[87.39782031] 439\n",
      "[87.39800219] 440\n",
      "[87.3981803] 441\n",
      "[87.39835473] 442\n",
      "[87.39852556] 443\n",
      "[87.39869285] 444\n",
      "[87.39885668] 445\n",
      "[87.39901712] 446\n",
      "[87.39917425] 447\n",
      "[87.39932813] 448\n",
      "[87.39947882] 449\n",
      "[87.3996264] 450\n",
      "[87.39977092] 451\n",
      "[87.39991246] 452\n",
      "[87.40005107] 453\n",
      "[87.40018682] 454\n",
      "[87.40031975] 455\n",
      "[87.40044994] 456\n",
      "[87.40057744] 457\n",
      "[87.4007023] 458\n",
      "[87.40082457] 459\n",
      "[87.40094432] 460\n",
      "[87.4010616] 461\n",
      "[87.40117645] 462\n",
      "[87.40128892] 463\n",
      "[87.40139907] 464\n",
      "[87.40150694] 465\n",
      "[87.40161258] 466\n",
      "[87.40171603] 467\n",
      "[87.40181735] 468\n",
      "[87.40191657] 469\n",
      "[87.40201374] 470\n",
      "[87.4021089] 471\n",
      "[87.40220209] 472\n",
      "[87.40229336] 473\n",
      "[87.40238274] 474\n",
      "[87.40247027] 475\n",
      "[87.40255599] 476\n",
      "[87.40263994] 477\n",
      "[87.40272215] 478\n",
      "[87.40280267] 479\n",
      "[87.40288152] 480\n",
      "[87.40295874] 481\n",
      "[87.40303436] 482\n",
      "[87.40310842] 483\n",
      "[87.40318094] 484\n",
      "[87.40325197] 485\n",
      "[87.40332153] 486\n",
      "[87.40338965] 487\n",
      "[87.40345637] 488\n",
      "[87.4035217] 489\n",
      "[87.40358568] 490\n",
      "[87.40364834] 491\n",
      "[87.40370971] 492\n",
      "[87.4037698] 493\n",
      "[87.40382866] 494\n",
      "[87.40388629] 495\n",
      "[87.40394274] 496\n",
      "[87.40399802] 497\n",
      "[87.40405215] 498\n",
      "[87.40410517] 499\n"
     ]
    }
   ],
   "source": [
    "for _ in range(n_iters):  \n",
    "    a=[]     \n",
    "    for i in X_train:    # np.dot(X, self.weights)\n",
    "        t=np.dot(i,weights)\n",
    "        a.append(t)\n",
    "\n",
    "    a=np.array(a)\n",
    "\n",
    "    y_pred=a+bias  # y_pred=np.dot(X, self.weights) + bias \n",
    "\n",
    "    r=y_pred-y_train\n",
    "\n",
    "    p=[]\n",
    "    for i in X_train_t:\n",
    "        t=np.dot(i,r)\n",
    "        p.append(t)\n",
    "    \n",
    "    p=np.array(p)\n",
    "    dw=var1*p\n",
    "    d=0\n",
    "    for m in r:\n",
    "        d+=m\n",
    "\n",
    "    db=var1*d\n",
    "\n",
    "    dw=dw*lr\n",
    "    weights=weights-dw\n",
    "    print(weights,_)\n",
    "\n",
    "    db=db*lr\n",
    "    bias=bias-db"
   ]
  },
  {
   "cell_type": "code",
   "execution_count": 9,
   "id": "717e88db-641b-4356-bf79-81ac492f655a",
   "metadata": {},
   "outputs": [
    {
     "data": {
      "text/plain": [
       "0.9205709799140805"
      ]
     },
     "execution_count": 9,
     "metadata": {},
     "output_type": "execute_result"
    }
   ],
   "source": [
    "bias"
   ]
  },
  {
   "cell_type": "code",
   "execution_count": 10,
   "id": "c57ef59c-e810-4b5e-87f8-ed3e6f3ede4a",
   "metadata": {},
   "outputs": [
    {
     "data": {
      "text/plain": [
       "array([87.40410517])"
      ]
     },
     "execution_count": 10,
     "metadata": {},
     "output_type": "execute_result"
    }
   ],
   "source": [
    "weights"
   ]
  },
  {
   "cell_type": "markdown",
   "id": "f8c7dbfe-1d3b-4d7d-b604-56f1d4bfc436",
   "metadata": {},
   "source": [
    "#### testing:"
   ]
  },
  {
   "cell_type": "markdown",
   "id": "991a58ca-2c17-467d-b130-2ddb49509011",
   "metadata": {},
   "source": [
    "predictions=X_test*weights+bias"
   ]
  },
  {
   "cell_type": "code",
   "execution_count": 11,
   "id": "32647d66-b25a-4ad5-a10c-f0f1c6d500a7",
   "metadata": {},
   "outputs": [
    {
     "data": {
      "text/plain": [
       "array([[ 0.2477922 ],\n",
       "       [-0.6365235 ],\n",
       "       [ 0.46439233],\n",
       "       [ 0.99194602],\n",
       "       [-2.24268495],\n",
       "       [ 0.55343891],\n",
       "       [-0.89715678],\n",
       "       [ 0.12471295],\n",
       "       [ 0.28909194],\n",
       "       [ 0.07619959],\n",
       "       [-0.92625431],\n",
       "       [ 0.70472062],\n",
       "       [ 0.88716294],\n",
       "       [ 0.70422823],\n",
       "       [-0.34476601],\n",
       "       [ 0.47143516],\n",
       "       [ 1.03380073],\n",
       "       [-1.40197328],\n",
       "       [ 1.32110562],\n",
       "       [ 0.84100879]])"
      ]
     },
     "execution_count": 11,
     "metadata": {},
     "output_type": "execute_result"
    }
   ],
   "source": [
    "X_test"
   ]
  },
  {
   "cell_type": "code",
   "execution_count": 12,
   "id": "c465e990-3342-4d62-ab1d-354b5b71690c",
   "metadata": {},
   "outputs": [
    {
     "data": {
      "text/plain": [
       "numpy.ndarray"
      ]
     },
     "execution_count": 12,
     "metadata": {},
     "output_type": "execute_result"
    }
   ],
   "source": [
    "type(X_test)"
   ]
  },
  {
   "cell_type": "code",
   "execution_count": 13,
   "id": "e608744c-0bf9-4081-a2b1-e96eb8e213d9",
   "metadata": {},
   "outputs": [
    {
     "data": {
      "text/plain": [
       "array([[  22.57862647],\n",
       "       [ -54.71419634],\n",
       "       [  41.5103666 ],\n",
       "       [  87.62072544],\n",
       "       [-195.09930062],\n",
       "       [  49.29340376],\n",
       "       [ -77.49461496],\n",
       "       [  11.82099511],\n",
       "       [  26.18839339],\n",
       "       [   7.58072777],\n",
       "       [ -80.03785846],\n",
       "       [  62.51604654],\n",
       "       [  78.46225392],\n",
       "       [  62.47300886],\n",
       "       [ -29.21339399],\n",
       "       [  42.12593961],\n",
       "       [  91.27899893],\n",
       "       [-121.61764916],\n",
       "       [ 116.39062514],\n",
       "       [  74.42819214]])"
      ]
     },
     "execution_count": 13,
     "metadata": {},
     "output_type": "execute_result"
    }
   ],
   "source": [
    "predictions=(X_test*weights)+bias\n",
    "predictions"
   ]
  },
  {
   "cell_type": "code",
   "execution_count": 14,
   "id": "e1ef8740-a732-4610-964e-5ef6e527d891",
   "metadata": {},
   "outputs": [
    {
     "data": {
      "text/plain": [
       "array([  -6.40043974,  -75.83288846,   43.02438483,   81.72162478,\n",
       "       -197.98015036,   32.09705138, -102.66748012,   15.35071413,\n",
       "          6.89232312,   26.28851288,  -80.36899984,   30.84591703,\n",
       "         95.0686297 ,   69.43879729,  -45.80868283,   63.1880408 ,\n",
       "         91.41603362, -108.37740214,  142.7546496 ,   87.77205622])"
      ]
     },
     "execution_count": 14,
     "metadata": {},
     "output_type": "execute_result"
    }
   ],
   "source": [
    "y_test"
   ]
  },
  {
   "cell_type": "code",
   "execution_count": 15,
   "id": "10665d6d-625c-409b-8b3e-74feda6b5b79",
   "metadata": {},
   "outputs": [
    {
     "name": "stdout",
     "output_type": "stream",
     "text": [
      "-6.400439740897028 [22.57862647]\n",
      "-75.83288846408419 [-54.71419634]\n",
      "43.02438482670904 [41.5103666]\n",
      "81.72162477765585 [87.62072544]\n",
      "-197.9801503584435 [-195.09930062]\n",
      "32.09705138165424 [49.29340376]\n",
      "-102.66748011552487 [-77.49461496]\n",
      "15.35071412820563 [11.82099511]\n",
      "6.892323119468568 [26.18839339]\n",
      "26.28851287900197 [7.58072777]\n",
      "-80.36899984455164 [-80.03785846]\n",
      "30.84591703151775 [62.51604654]\n",
      "95.06862969774186 [78.46225392]\n",
      "69.43879729019481 [62.47300886]\n",
      "-45.80868282540775 [-29.21339399]\n",
      "63.18804079600157 [42.12593961]\n",
      "91.41603362148403 [91.27899893]\n",
      "-108.37740214379002 [-121.61764916]\n",
      "142.75464960351508 [116.39062514]\n",
      "87.77205622112535 [74.42819214]\n"
     ]
    }
   ],
   "source": [
    "for a,b in zip(y_test,predictions):\n",
    "    print(a,b)"
   ]
  },
  {
   "cell_type": "code",
   "execution_count": 16,
   "id": "44939d68-159d-4536-b6a1-3136075d2163",
   "metadata": {},
   "outputs": [
    {
     "data": {
      "text/plain": [
       "numpy.ndarray"
      ]
     },
     "execution_count": 16,
     "metadata": {},
     "output_type": "execute_result"
    }
   ],
   "source": [
    "type(predictions)"
   ]
  },
  {
   "cell_type": "code",
   "execution_count": 17,
   "id": "8de9f923-5ed6-498c-b7e5-c8bfca4928b1",
   "metadata": {},
   "outputs": [
    {
     "data": {
      "text/plain": [
       "numpy.ndarray"
      ]
     },
     "execution_count": 17,
     "metadata": {},
     "output_type": "execute_result"
    }
   ],
   "source": [
    "type(y_test)"
   ]
  },
  {
   "cell_type": "code",
   "execution_count": 18,
   "id": "b7d11d3b-3d5f-46ae-ba34-6bb7450726a9",
   "metadata": {},
   "outputs": [
    {
     "data": {
      "text/plain": [
       "(20, 1)"
      ]
     },
     "execution_count": 18,
     "metadata": {},
     "output_type": "execute_result"
    }
   ],
   "source": [
    "predictions.shape"
   ]
  },
  {
   "cell_type": "code",
   "execution_count": 19,
   "id": "da03207d-7192-4be6-b8ee-602e0a7f59be",
   "metadata": {},
   "outputs": [
    {
     "data": {
      "text/plain": [
       "(20,)"
      ]
     },
     "execution_count": 19,
     "metadata": {},
     "output_type": "execute_result"
    }
   ],
   "source": [
    "y_test.shape"
   ]
  },
  {
   "cell_type": "code",
   "execution_count": 20,
   "id": "6e4bbab9-bbdb-4f96-a866-9ee59f71b49f",
   "metadata": {},
   "outputs": [
    {
     "data": {
      "text/plain": [
       "(20,)"
      ]
     },
     "execution_count": 20,
     "metadata": {},
     "output_type": "execute_result"
    }
   ],
   "source": [
    "predictions=predictions.reshape(20,)\n",
    "predictions.shape"
   ]
  },
  {
   "cell_type": "code",
   "execution_count": 21,
   "id": "7e3f85e0-a82e-4b4e-8984-8ffdbf420e7c",
   "metadata": {},
   "outputs": [
    {
     "name": "stdout",
     "output_type": "stream",
     "text": [
      "-6.400439740897028 22.578626467334388\n",
      "-75.83288846408419 -54.7141963441087\n",
      "43.02438482670904 41.510366599351954\n",
      "81.72162477765585 87.62072544088832\n",
      "-197.9801503584435 -195.0993006215327\n",
      "32.09705138165424 49.29340375900112\n",
      "-102.66748011552487 -77.49461496229206\n",
      "15.35071412820563 11.820995107279874\n",
      "6.892323119468568 26.18839339347399\n",
      "26.28851287900197 7.58072776924055\n",
      "-80.36899984455164 -80.03785845514201\n",
      "30.84591703151775 62.51604654402711\n",
      "95.06862969774186 78.46225391854598\n",
      "69.43879729019481 62.47300886272426\n",
      "-45.80868282540775 -29.2133939894478\n",
      "63.18804079600157 42.125939612181924\n",
      "91.41603362148403 91.27899893423907\n",
      "-108.37740214379002 -121.61764916357167\n",
      "142.75464960351508 116.39062513670999\n",
      "87.77205622112535 74.42819214198572\n"
     ]
    }
   ],
   "source": [
    "for a,b in zip(y_test,predictions):\n",
    "    print(a,b)"
   ]
  },
  {
   "cell_type": "code",
   "execution_count": 22,
   "id": "c500649c-4e50-4304-a875-19b0836cf882",
   "metadata": {},
   "outputs": [
    {
     "name": "stdout",
     "output_type": "stream",
     "text": [
      "304.5101164211082\n"
     ]
    }
   ],
   "source": [
    "def mse(y_test, predictions):\n",
    "    return np.mean((y_test-predictions)**2)\n",
    "\n",
    "mse = mse(y_test, predictions)\n",
    "print(mse)"
   ]
  },
  {
   "cell_type": "code",
   "execution_count": 23,
   "id": "21449de1-2933-4df4-a446-1dbad6faef9d",
   "metadata": {},
   "outputs": [
    {
     "data": {
      "image/png": "[encoded data removed]",
      "text/plain": [
       "<Figure size 432x288 with 1 Axes>"
      ]
     },
     "metadata": {
      "needs_background": "dark"
     },
     "output_type": "display_data"
    }
   ],
   "source": [
    "X_test_1=X_test.reshape(20,)\n",
    "X_train_1=X_train.reshape(80,)\n",
    "plt.plot(X_test_1, predictions, color='red', linewidth=2, label='Prediction')\n",
    "plt.scatter(X_test_1, y_test, color='green')\n",
    "plt.show()"
   ]
  }
 ],
 "metadata": {
  "kernelspec": {
   "display_name": "Python 3 (ipykernel)",
   "language": "python",
   "name": "python3"
  },
  "language_info": {
   "codemirror_mode": {
    "name": "ipython",
    "version": 3
   },
   "file_extension": ".py",
   "mimetype": "text/x-python",
   "name": "python",
   "nbconvert_exporter": "python",
   "pygments_lexer": "ipython3",
   "version": "3.10.0"
  }
 },
 "nbformat": 4,
 "nbformat_minor": 5
}
