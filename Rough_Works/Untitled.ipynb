{
 "cells": [
  {
   "cell_type": "code",
   "execution_count": 1,
   "id": "49afe88b-8d7d-48c6-947f-23153478c337",
   "metadata": {},
   "outputs": [],
   "source": [
    "import numpy as np\n",
    "from sklearn.model_selection import train_test_split\n",
    "from sklearn import datasets\n",
    "import matplotlib.pyplot as plt\n",
    "from LinearRegression import LinearRegression\n",
    "plt.style.use(\"dark_background\")"
   ]
  },
  {
   "cell_type": "code",
   "execution_count": 2,
   "id": "54ec8eab-84df-44a5-a39e-8941002ccfce",
   "metadata": {},
   "outputs": [],
   "source": [
    "X,y=datasets.make_regression(n_samples=100,n_features=3,noise=20,random_state=1234)\n",
    "X_train,X_test,y_train,y_test=train_test_split(X,y,test_size=0.2,random_state=4)"
   ]
  },
  {
   "cell_type": "code",
   "execution_count": 3,
   "id": "59b37d53-7b8c-4899-9051-e232ba57d9ad",
   "metadata": {},
   "outputs": [],
   "source": [
    "# fig=plt.figure(figsize=(8,6))\n",
    "# plt.scatter(X[:,0],y)\n",
    "# plt.show()"
   ]
  },
  {
   "cell_type": "code",
   "execution_count": 4,
   "id": "b7cf900d-fa49-4e92-a9ac-c136b73c7437",
   "metadata": {},
   "outputs": [],
   "source": [
    "reg=LinearRegression()\n",
    "reg.fit(X_train,y_train)\n",
    "predictions=reg.predict(X_test)"
   ]
  },
  {
   "cell_type": "code",
   "execution_count": 5,
   "id": "19884a98-d613-4711-8690-189232b0c229",
   "metadata": {},
   "outputs": [],
   "source": [
    "def mse(y_test,predictions):\n",
    "    return np.mean((y_test-predictions)**2)"
   ]
  },
  {
   "cell_type": "code",
   "execution_count": 6,
   "id": "16740bde-48ad-4663-8f06-7cac26b25f06",
   "metadata": {},
   "outputs": [],
   "source": [
    "mse=mse(y_test,predictions)"
   ]
  },
  {
   "cell_type": "code",
   "execution_count": 7,
   "id": "60ac75bc-2dd9-4272-96c3-4a43c271c3b1",
   "metadata": {},
   "outputs": [
    {
     "data": {
      "text/plain": [
       "539.13010842975"
      ]
     },
     "execution_count": 7,
     "metadata": {},
     "output_type": "execute_result"
    }
   ],
   "source": [
    "mse"
   ]
  },
  {
   "cell_type": "code",
   "execution_count": 8,
   "id": "e6cfab05-94be-4c3e-aef7-9e31cbbb1867",
   "metadata": {},
   "outputs": [],
   "source": [
    "# y_pred_line=reg.predict(X)\n",
    "# cmap=plt.get_cmap('viridis')\n",
    "# fig=plt.figure(figsize=(8,6))\n",
    "# m1=plt.scatter(X_train,y_train,color=cmap(0.9),s=10)\n",
    "# m2=plt.scatter(X_test,y_test,color=cmap(0.5),s=10)\n",
    "# plt.plot(X,y_pred_line,color='green',linewidth=2,label='Prediction')\n",
    "# plt.show()"
   ]
  },
  {
   "cell_type": "code",
   "execution_count": 9,
   "id": "5ca50c6c-c974-4e79-96af-3f9cb582b1ae",
   "metadata": {},
   "outputs": [
    {
     "data": {
      "text/plain": [
       "array([ 16.46871006, -23.34184689,  20.366697  ,  23.45479726,\n",
       "       -20.14089859,  16.11110354,   3.73668588,  39.93606927,\n",
       "         1.81422638, -36.26249489, -18.29856742,   7.7176157 ,\n",
       "        44.00615915,  30.42098898,  24.18485042,  34.46630486,\n",
       "        -7.01459089,  -3.42247589, -16.31170165,  -7.28531748])"
      ]
     },
     "execution_count": 9,
     "metadata": {},
     "output_type": "execute_result"
    }
   ],
   "source": [
    "y_test-predictions"
   ]
  },
  {
   "cell_type": "code",
   "execution_count": null,
   "id": "08f9f8d5-d622-481a-9824-a39a3d11a556",
   "metadata": {},
   "outputs": [],
   "source": []
  }
 ],
 "metadata": {
  "kernelspec": {
   "display_name": "Python 3 (ipykernel)",
   "language": "python",
   "name": "python3"
  },
  "language_info": {
   "codemirror_mode": {
    "name": "ipython",
    "version": 3
   },
   "file_extension": ".py",
   "mimetype": "text/x-python",
   "name": "python",
   "nbconvert_exporter": "python",
   "pygments_lexer": "ipython3",
   "version": "3.10.0"
  }
 },
 "nbformat": 4,
 "nbformat_minor": 5
}
