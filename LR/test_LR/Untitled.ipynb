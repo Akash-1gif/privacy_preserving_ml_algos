{
 "cells": [
  {
   "cell_type": "code",
   "execution_count": 1,
   "id": "c8caf889-d91f-47ac-b175-2d212c746c66",
   "metadata": {},
   "outputs": [],
   "source": [
    "import numpy as np\n",
    "from sklearn.model_selection import train_test_split\n",
    "from sklearn import datasets\n",
    "import matplotlib.pyplot as plt\n",
    "import torch\n",
    "from LinearRegression import LinearRegression\n",
    "plt.style.use(\"dark_background\")"
   ]
  },
  {
   "cell_type": "code",
   "execution_count": 2,
   "id": "a2d0f1f7-da9b-4ea2-8e75-8d27ee846d9b",
   "metadata": {},
   "outputs": [],
   "source": [
    "X,y=datasets.make_regression(n_samples=100,n_features=1,noise=20,random_state=1234)\n",
    "X_train,X_test,y_train,y_test=train_test_split(X,y,test_size=0.2,random_state=4)"
   ]
  },
  {
   "cell_type": "code",
   "execution_count": 3,
   "id": "811c28b0-9ff0-4299-bfcb-ae8b63754177",
   "metadata": {},
   "outputs": [
    {
     "data": {
      "image/png": "[encoded data removed]",
      "text/plain": [
       "<Figure size 576x432 with 1 Axes>"
      ]
     },
     "metadata": {
      "needs_background": "dark"
     },
     "output_type": "display_data"
    }
   ],
   "source": [
    "fig=plt.figure(figsize=(8,6))\n",
    "plt.scatter(X[:,0],y)\n",
    "plt.show()"
   ]
  },
  {
   "cell_type": "code",
   "execution_count": 4,
   "id": "66a22e81-6e27-4f47-8a6d-46a466fd0b90",
   "metadata": {},
   "outputs": [
    {
     "data": {
      "text/plain": [
       "torch.Tensor"
      ]
     },
     "execution_count": 4,
     "metadata": {},
     "output_type": "execute_result"
    }
   ],
   "source": [
    "X_train_t=torch.from_numpy(X_train)\n",
    "type(X_train_t)"
   ]
  },
  {
   "cell_type": "code",
   "execution_count": 5,
   "id": "8cd2145f-1aa0-4e18-b443-b3cd38cdf19f",
   "metadata": {},
   "outputs": [
    {
     "data": {
      "text/plain": [
       "torch.Tensor"
      ]
     },
     "execution_count": 5,
     "metadata": {},
     "output_type": "execute_result"
    }
   ],
   "source": [
    "X_test_t=torch.from_numpy(X_test)\n",
    "type(X_test_t)"
   ]
  },
  {
   "cell_type": "code",
   "execution_count": 6,
   "id": "bb9036ad-b176-489f-9b88-6495e27dd0e6",
   "metadata": {},
   "outputs": [
    {
     "data": {
      "text/plain": [
       "torch.Tensor"
      ]
     },
     "execution_count": 6,
     "metadata": {},
     "output_type": "execute_result"
    }
   ],
   "source": [
    "y_train_t=torch.from_numpy(y_train)\n",
    "type(y_train_t)"
   ]
  },
  {
   "cell_type": "code",
   "execution_count": 7,
   "id": "6ede7406-2f1b-4d83-a794-e44b14319d4b",
   "metadata": {},
   "outputs": [
    {
     "data": {
      "text/plain": [
       "torch.Tensor"
      ]
     },
     "execution_count": 7,
     "metadata": {},
     "output_type": "execute_result"
    }
   ],
   "source": [
    "y_test_t=torch.from_numpy(y_test)\n",
    "type(y_test_t)"
   ]
  },
  {
   "cell_type": "code",
   "execution_count": 8,
   "id": "31110401-f4c9-4165-92f3-15c53aa32c25",
   "metadata": {},
   "outputs": [
    {
     "data": {
      "text/plain": [
       "torch.Tensor"
      ]
     },
     "execution_count": 8,
     "metadata": {},
     "output_type": "execute_result"
    }
   ],
   "source": [
    "X_train_T_t=torch.from_numpy(X_train.T)\n",
    "type(X_train_T_t)"
   ]
  },
  {
   "cell_type": "code",
   "execution_count": 9,
   "id": "2ce34765-f946-4a9f-8325-a26926581059",
   "metadata": {},
   "outputs": [],
   "source": [
    "lr=0.01\n",
    "n_iters=1000"
   ]
  },
  {
   "cell_type": "markdown",
   "id": "894404e3-59c3-4d85-8333-6686d5e01bda",
   "metadata": {},
   "source": [
    "### fit function:"
   ]
  },
  {
   "cell_type": "code",
   "execution_count": 10,
   "id": "cd52f99b-350f-4fc2-bfe4-337a65913295",
   "metadata": {},
   "outputs": [
    {
     "name": "stdout",
     "output_type": "stream",
     "text": [
      "80 1\n"
     ]
    }
   ],
   "source": [
    "n_samples,n_features=X_train_t.shape\n",
    "print(n_samples,n_features)"
   ]
  },
  {
   "cell_type": "code",
   "execution_count": 11,
   "id": "fb560b9c-a80c-4bbd-ab54-505c54a1ef25",
   "metadata": {},
   "outputs": [
    {
     "data": {
      "text/plain": [
       "tensor([0.], dtype=torch.float64)"
      ]
     },
     "execution_count": 11,
     "metadata": {},
     "output_type": "execute_result"
    }
   ],
   "source": [
    "weights=np.zeros(n_features)\n",
    "weights=torch.from_numpy(weights)\n",
    "weights"
   ]
  },
  {
   "cell_type": "code",
   "execution_count": 12,
   "id": "cb462e4a-3dc6-4d0d-947f-4a4227987744",
   "metadata": {},
   "outputs": [],
   "source": [
    "bias=0\n",
    "var1=1/n_samples"
   ]
  },
  {
   "cell_type": "code",
   "execution_count": 13,
   "id": "88bbd7dc-971d-4755-ac49-0c30c2e3ce30",
   "metadata": {},
   "outputs": [],
   "source": [
    "for _ in range(n_iters):  \n",
    "    a=[]     \n",
    "    for i in X_train_t:    # np.dot(X, self.weights)\n",
    "        t=np.dot(i,weights)\n",
    "        a.append(t)\n",
    "\n",
    "    a=torch.tensor(a)\n",
    "\n",
    "    y_pred_t=a+bias  # y_pred=np.dot(X, self.weights) + bias \n",
    "\n",
    "    r=y_pred_t-y_train_t\n",
    "\n",
    "    p=[]\n",
    "    for i in X_train_T_t:\n",
    "        t=np.dot(i,r)\n",
    "        p.append(t)\n",
    "    \n",
    "    p=torch.tensor(p)\n",
    "    dw=var1*p\n",
    "    d=0\n",
    "    for m in r:\n",
    "        d+=m\n",
    "\n",
    "    db=var1*d\n",
    "\n",
    "    dw=dw*lr\n",
    "    weights=weights-dw\n",
    "\n",
    "    db=db*lr\n",
    "    bias=bias-db"
   ]
  },
  {
   "cell_type": "code",
   "execution_count": 14,
   "id": "a77c785b-ddbe-4714-b175-c49be797ff48",
   "metadata": {},
   "outputs": [
    {
     "data": {
      "text/plain": [
       "tensor(0.9206, dtype=torch.float64)"
      ]
     },
     "execution_count": 14,
     "metadata": {},
     "output_type": "execute_result"
    }
   ],
   "source": [
    "bias"
   ]
  },
  {
   "cell_type": "code",
   "execution_count": 15,
   "id": "44c8f354-1814-4a92-b1d8-35b2ecd5889b",
   "metadata": {},
   "outputs": [
    {
     "data": {
      "text/plain": [
       "tensor([87.4040], dtype=torch.float64)"
      ]
     },
     "execution_count": 15,
     "metadata": {},
     "output_type": "execute_result"
    }
   ],
   "source": [
    "weights"
   ]
  },
  {
   "cell_type": "code",
   "execution_count": 17,
   "id": "2802e6b5-407e-46b1-a219-f01100d3f534",
   "metadata": {},
   "outputs": [
    {
     "data": {
      "text/plain": [
       "tensor([[  22.5786],\n",
       "        [ -54.7141],\n",
       "        [  41.5103],\n",
       "        [  87.6206],\n",
       "        [-195.0990],\n",
       "        [  49.2933],\n",
       "        [ -77.4945],\n",
       "        [  11.8210],\n",
       "        [  26.1884],\n",
       "        [   7.5807],\n",
       "        [ -80.0377],\n",
       "        [  62.5160],\n",
       "        [  78.4621],\n",
       "        [  62.4729],\n",
       "        [ -29.2133],\n",
       "        [  42.1259],\n",
       "        [  91.2789],\n",
       "        [-121.6174],\n",
       "        [ 116.3905],\n",
       "        [  74.4281]], dtype=torch.float64)"
      ]
     },
     "execution_count": 17,
     "metadata": {},
     "output_type": "execute_result"
    }
   ],
   "source": [
    "predictions=(X_test_t*weights)+bias\n",
    "predictions"
   ]
  },
  {
   "cell_type": "code",
   "execution_count": 19,
   "id": "28e02c25-dc8e-4632-a73a-8139178b3a3c",
   "metadata": {},
   "outputs": [
    {
     "data": {
      "text/plain": [
       "tensor([  -6.4004,  -75.8329,   43.0244,   81.7216, -197.9802,   32.0971,\n",
       "        -102.6675,   15.3507,    6.8923,   26.2885,  -80.3690,   30.8459,\n",
       "          95.0686,   69.4388,  -45.8087,   63.1880,   91.4160, -108.3774,\n",
       "         142.7546,   87.7721], dtype=torch.float64)"
      ]
     },
     "execution_count": 19,
     "metadata": {},
     "output_type": "execute_result"
    }
   ],
   "source": [
    "y_test_t"
   ]
  },
  {
   "cell_type": "code",
   "execution_count": null,
   "id": "40ee0c9c-3702-4ad2-b3c9-82d0504dc385",
   "metadata": {},
   "outputs": [],
   "source": []
  }
 ],
 "metadata": {
  "kernelspec": {
   "display_name": "Python 3 (ipykernel)",
   "language": "python",
   "name": "python3"
  },
  "language_info": {
   "codemirror_mode": {
    "name": "ipython",
    "version": 3
   },
   "file_extension": ".py",
   "mimetype": "text/x-python",
   "name": "python",
   "nbconvert_exporter": "python",
   "pygments_lexer": "ipython3",
   "version": "3.10.0"
  }
 },
 "nbformat": 4,
 "nbformat_minor": 5
}
