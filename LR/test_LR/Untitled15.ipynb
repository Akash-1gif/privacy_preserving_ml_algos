{
 "cells": [
  {
   "cell_type": "code",
   "execution_count": 1,
   "id": "bbdb586e-559b-4fe7-957e-efea13d7b34e",
   "metadata": {},
   "outputs": [],
   "source": [
    "import numpy as np\n",
    "from sklearn.model_selection import train_test_split\n",
    "from sklearn import datasets\n",
    "import matplotlib.pyplot as plt\n",
    "plt.style.use(\"dark_background\")"
   ]
  },
  {
   "cell_type": "code",
   "execution_count": 2,
   "id": "c661669b-c727-4657-b328-ba42f57f901a",
   "metadata": {},
   "outputs": [],
   "source": [
    "X,y=datasets.make_regression(n_samples=100,n_features=1,noise=20,random_state=1234)\n",
    "X_train,X_test,y_train,y_test=train_test_split(X,y,test_size=0.2,random_state=4)"
   ]
  },
  {
   "cell_type": "code",
   "execution_count": 3,
   "id": "c73e79f8-6837-45ff-bc84-6dcd79e0070f",
   "metadata": {},
   "outputs": [
    {
     "data": {
      "image/png": "[encoded data removed]",
      "text/plain": [
       "<Figure size 576x432 with 1 Axes>"
      ]
     },
     "metadata": {
      "needs_background": "dark"
     },
     "output_type": "display_data"
    }
   ],
   "source": [
    "fig=plt.figure(figsize=(8,6))\n",
    "plt.scatter(X[:,0],y)\n",
    "plt.show()"
   ]
  },
  {
   "cell_type": "code",
   "execution_count": 4,
   "id": "f6b9f62a-5967-4ebc-bce0-b44a6be433b5",
   "metadata": {},
   "outputs": [],
   "source": [
    "from phe import paillier\n",
    "public_key,private_key=paillier.generate_paillier_keypair()"
   ]
  },
  {
   "cell_type": "code",
   "execution_count": 5,
   "id": "a4e01268-47bb-4898-b04f-08cc80199483",
   "metadata": {},
   "outputs": [],
   "source": [
    "enc_X_train=[]\n",
    "for i in X_train:\n",
    "    row_x=[]\n",
    "    for j in i:\n",
    "        k=public_key.encrypt(j)\n",
    "        row_x.append(k)\n",
    "    enc_X_train.append(row_x)"
   ]
  },
  {
   "cell_type": "code",
   "execution_count": 6,
   "id": "520d1272-1734-49eb-9e0c-1aeed26031ff",
   "metadata": {},
   "outputs": [],
   "source": [
    "enc_y_train=[]\n",
    "for i in y_train:\n",
    "    p=public_key.encrypt(i)\n",
    "    enc_y_train.append(p)"
   ]
  },
  {
   "cell_type": "code",
   "execution_count": 7,
   "id": "1771eaaf-9cfd-4a74-b057-e71e3fa6fd5b",
   "metadata": {},
   "outputs": [
    {
     "data": {
      "text/plain": [
       "(80, 1)"
      ]
     },
     "execution_count": 7,
     "metadata": {},
     "output_type": "execute_result"
    }
   ],
   "source": [
    "n_samples,n_attributes=X_train.shape\n",
    "n_samples,n_attributes"
   ]
  },
  {
   "cell_type": "code",
   "execution_count": 8,
   "id": "a9d566b9-6037-4b72-892c-891699e6e4ac",
   "metadata": {},
   "outputs": [],
   "source": [
    "var1=1/n_samples\n",
    "bias=0\n",
    "weights=list(np.zeros(n_attributes))\n",
    "lr=0.01\n",
    "n_iters=1000"
   ]
  },
  {
   "cell_type": "code",
   "execution_count": 9,
   "id": "0d710fcb-df1a-4f50-90c4-fcd688c3f49f",
   "metadata": {},
   "outputs": [
    {
     "data": {
      "text/plain": [
       "[0.0]"
      ]
     },
     "execution_count": 9,
     "metadata": {},
     "output_type": "execute_result"
    }
   ],
   "source": [
    "weights"
   ]
  },
  {
   "cell_type": "code",
   "execution_count": 10,
   "id": "a48517c7-d6c6-415a-9ea6-cb588549f729",
   "metadata": {},
   "outputs": [],
   "source": [
    "for i in range(len(weights)):\n",
    "    weights[i]=public_key.encrypt(weights[i])"
   ]
  },
  {
   "cell_type": "code",
   "execution_count": 11,
   "id": "4f03dc66-6e0f-40a4-a7a2-f0087f52bad0",
   "metadata": {},
   "outputs": [
    {
     "data": {
      "text/plain": [
       "[<phe.paillier.EncryptedNumber at 0x277846ea230>]"
      ]
     },
     "execution_count": 11,
     "metadata": {},
     "output_type": "execute_result"
    }
   ],
   "source": [
    "weights"
   ]
  },
  {
   "cell_type": "markdown",
   "id": "50c44608-79cd-4fbe-8118-d058005d5112",
   "metadata": {},
   "source": [
    "### Client Side Code:"
   ]
  },
  {
   "cell_type": "code",
   "execution_count": 12,
   "id": "d239e807-a872-4d8f-bc21-0f9c998a82ad",
   "metadata": {},
   "outputs": [],
   "source": [
    "noise=10"
   ]
  },
  {
   "cell_type": "code",
   "execution_count": 13,
   "id": "43c93429-fba5-47b2-8e56-0eae9af86867",
   "metadata": {},
   "outputs": [
    {
     "data": {
      "text/plain": [
       "-0.000125"
      ]
     },
     "execution_count": 13,
     "metadata": {},
     "output_type": "execute_result"
    }
   ],
   "source": [
    "var1=var1*lr*-1\n",
    "var1"
   ]
  },
  {
   "cell_type": "code",
   "execution_count": 14,
   "id": "89f7349f-a997-4b4d-8ba9-86495c9033fb",
   "metadata": {},
   "outputs": [],
   "source": [
    "def decrypt_initial_weights(weig):\n",
    "    for i in range(len(weig)):\n",
    "        weig[i]=private_key.decrypt(weig[i])\n",
    "        weig[i]=round(weig[i]*noise,5)\n",
    "\n",
    "    return weig"
   ]
  },
  {
   "cell_type": "code",
   "execution_count": 15,
   "id": "ba00e0c0-51f6-4029-974a-b43ed0c02ecb",
   "metadata": {},
   "outputs": [],
   "source": [
    "def encrypt_prod_res(p_res):\n",
    "    p_res=p_res*(1/noise)\n",
    "    return p_res"
   ]
  },
  {
   "cell_type": "markdown",
   "id": "15d9e2e0-e15d-4030-883d-42ce8f8312e5",
   "metadata": {},
   "source": [
    "### Server Side Code:"
   ]
  },
  {
   "cell_type": "code",
   "execution_count": 16,
   "id": "978b39c6-7b39-4dee-8736-2c05a8546621",
   "metadata": {},
   "outputs": [
    {
     "name": "stdout",
     "output_type": "stream",
     "text": [
      "running at 0 iteration\n",
      "running at 1 iteration\n",
      "running at 2 iteration\n",
      "running at 3 iteration\n",
      "running at 4 iteration\n",
      "running at 5 iteration\n",
      "running at 6 iteration\n",
      "running at 7 iteration\n",
      "running at 8 iteration\n",
      "running at 9 iteration\n",
      "running at 10 iteration\n",
      "running at 11 iteration\n",
      "running at 12 iteration\n",
      "running at 13 iteration\n",
      "running at 14 iteration\n",
      "running at 15 iteration\n",
      "running at 16 iteration\n",
      "running at 17 iteration\n",
      "running at 18 iteration\n",
      "running at 19 iteration\n",
      "running at 20 iteration\n",
      "running at 21 iteration\n",
      "running at 22 iteration\n",
      "running at 23 iteration\n",
      "running at 24 iteration\n",
      "running at 25 iteration\n",
      "running at 26 iteration\n",
      "running at 27 iteration\n",
      "running at 28 iteration\n",
      "running at 29 iteration\n",
      "running at 30 iteration\n",
      "running at 31 iteration\n",
      "running at 32 iteration\n",
      "running at 33 iteration\n",
      "running at 34 iteration\n",
      "running at 35 iteration\n",
      "running at 36 iteration\n",
      "running at 37 iteration\n",
      "running at 38 iteration\n",
      "running at 39 iteration\n",
      "running at 40 iteration\n",
      "running at 41 iteration\n"
     ]
    },
    {
     "ename": "OverflowError",
     "evalue": "Overflow detected in decrypted number",
     "output_type": "error",
     "traceback": [
      "\u001b[1;31m---------------------------------------------------------------------------\u001b[0m",
      "\u001b[1;31mOverflowError\u001b[0m                             Traceback (most recent call last)",
      "Input \u001b[1;32mIn [16]\u001b[0m, in \u001b[0;36m<cell line: 1>\u001b[1;34m()\u001b[0m\n\u001b[0;32m     30\u001b[0m bias\u001b[38;5;241m=\u001b[39mbias\u001b[38;5;241m+\u001b[39mdb\n\u001b[0;32m     32\u001b[0m \u001b[38;5;66;03m# calculating weights:\u001b[39;00m\n\u001b[1;32m---> 33\u001b[0m res2\u001b[38;5;241m=\u001b[39m\u001b[43mdecrypt_initial_weights\u001b[49m\u001b[43m(\u001b[49m\u001b[43mres\u001b[49m\u001b[43m)\u001b[49m\n\u001b[0;32m     34\u001b[0m wei\u001b[38;5;241m=\u001b[39m[]\n\u001b[0;32m     35\u001b[0m \u001b[38;5;28;01mfor\u001b[39;00m i,j \u001b[38;5;129;01min\u001b[39;00m \u001b[38;5;28mzip\u001b[39m(enc_X_train,res2):\n",
      "Input \u001b[1;32mIn [14]\u001b[0m, in \u001b[0;36mdecrypt_initial_weights\u001b[1;34m(weig)\u001b[0m\n\u001b[0;32m      1\u001b[0m \u001b[38;5;28;01mdef\u001b[39;00m \u001b[38;5;21mdecrypt_initial_weights\u001b[39m(weig):\n\u001b[0;32m      2\u001b[0m     \u001b[38;5;28;01mfor\u001b[39;00m i \u001b[38;5;129;01min\u001b[39;00m \u001b[38;5;28mrange\u001b[39m(\u001b[38;5;28mlen\u001b[39m(weig)):\n\u001b[1;32m----> 3\u001b[0m         weig[i]\u001b[38;5;241m=\u001b[39m\u001b[43mprivate_key\u001b[49m\u001b[38;5;241;43m.\u001b[39;49m\u001b[43mdecrypt\u001b[49m\u001b[43m(\u001b[49m\u001b[43mweig\u001b[49m\u001b[43m[\u001b[49m\u001b[43mi\u001b[49m\u001b[43m]\u001b[49m\u001b[43m)\u001b[49m\n\u001b[0;32m      4\u001b[0m         weig[i]\u001b[38;5;241m=\u001b[39m\u001b[38;5;28mround\u001b[39m(weig[i]\u001b[38;5;241m*\u001b[39mnoise,\u001b[38;5;241m5\u001b[39m)\n\u001b[0;32m      6\u001b[0m     \u001b[38;5;28;01mreturn\u001b[39;00m weig\n",
      "File \u001b[1;32m~\\AppData\\Local\\Programs\\Python\\Python310\\lib\\site-packages\\phe\\paillier.py:291\u001b[0m, in \u001b[0;36mPaillierPrivateKey.decrypt\u001b[1;34m(self, encrypted_number)\u001b[0m\n\u001b[0;32m    269\u001b[0m \u001b[38;5;124;03m\"\"\"Return the decrypted & decoded plaintext of *encrypted_number*.\u001b[39;00m\n\u001b[0;32m    270\u001b[0m \n\u001b[0;32m    271\u001b[0m \u001b[38;5;124;03mUses the default :class:`EncodedNumber`, if using an alternative encoding\u001b[39;00m\n\u001b[1;32m   (...)\u001b[0m\n\u001b[0;32m    288\u001b[0m \u001b[38;5;124;03m    different key.\u001b[39;00m\n\u001b[0;32m    289\u001b[0m \u001b[38;5;124;03m\"\"\"\u001b[39;00m\n\u001b[0;32m    290\u001b[0m encoded \u001b[38;5;241m=\u001b[39m \u001b[38;5;28mself\u001b[39m\u001b[38;5;241m.\u001b[39mdecrypt_encoded(encrypted_number)\n\u001b[1;32m--> 291\u001b[0m \u001b[38;5;28;01mreturn\u001b[39;00m \u001b[43mencoded\u001b[49m\u001b[38;5;241;43m.\u001b[39;49m\u001b[43mdecode\u001b[49m\u001b[43m(\u001b[49m\u001b[43m)\u001b[49m\n",
      "File \u001b[1;32m~\\AppData\\Local\\Programs\\Python\\Python310\\lib\\site-packages\\phe\\encoding.py:221\u001b[0m, in \u001b[0;36mEncodedNumber.decode\u001b[1;34m(self)\u001b[0m\n\u001b[0;32m    219\u001b[0m     mantissa \u001b[38;5;241m=\u001b[39m \u001b[38;5;28mself\u001b[39m\u001b[38;5;241m.\u001b[39mencoding \u001b[38;5;241m-\u001b[39m \u001b[38;5;28mself\u001b[39m\u001b[38;5;241m.\u001b[39mpublic_key\u001b[38;5;241m.\u001b[39mn\n\u001b[0;32m    220\u001b[0m \u001b[38;5;28;01melse\u001b[39;00m:\n\u001b[1;32m--> 221\u001b[0m     \u001b[38;5;28;01mraise\u001b[39;00m \u001b[38;5;167;01mOverflowError\u001b[39;00m(\u001b[38;5;124m'\u001b[39m\u001b[38;5;124mOverflow detected in decrypted number\u001b[39m\u001b[38;5;124m'\u001b[39m)\n\u001b[0;32m    223\u001b[0m \u001b[38;5;28;01mif\u001b[39;00m \u001b[38;5;28mself\u001b[39m\u001b[38;5;241m.\u001b[39mexponent \u001b[38;5;241m>\u001b[39m\u001b[38;5;241m=\u001b[39m \u001b[38;5;241m0\u001b[39m:\n\u001b[0;32m    224\u001b[0m     \u001b[38;5;66;03m# Integer multiplication. This is exact.\u001b[39;00m\n\u001b[0;32m    225\u001b[0m     \u001b[38;5;28;01mreturn\u001b[39;00m mantissa \u001b[38;5;241m*\u001b[39m \u001b[38;5;28mself\u001b[39m\u001b[38;5;241m.\u001b[39mBASE \u001b[38;5;241m*\u001b[39m\u001b[38;5;241m*\u001b[39m \u001b[38;5;28mself\u001b[39m\u001b[38;5;241m.\u001b[39mexponent\n",
      "\u001b[1;31mOverflowError\u001b[0m: Overflow detected in decrypted number"
     ]
    }
   ],
   "source": [
    "for _ in range(n_iters):\n",
    "    print(f\"running at {_} iteration\")\n",
    "    weights1=decrypt_initial_weights(weights)\n",
    "    y_pred_1=[]\n",
    "    for i in enc_X_train:\n",
    "        summation=0\n",
    "        for j,k in zip(i,weights1):\n",
    "            p=j*k\n",
    "            p=encrypt_prod_res(p)\n",
    "            summation=summation+p\n",
    "        y_pred_1.append(summation)\n",
    "\n",
    "    y_pred=[]\n",
    "    for i in y_pred_1:\n",
    "        p=i+bias\n",
    "        y_pred.append(p)\n",
    "\n",
    "    res=[]\n",
    "    for i,j in zip(y_pred,enc_y_train):\n",
    "        q=j*(-1)\n",
    "        p=i+q\n",
    "        res.append(p)\n",
    "\n",
    "    # calculating bias:\n",
    "    db=0\n",
    "    for i in res:\n",
    "        db=db+i\n",
    "\n",
    "    db=db*var1\n",
    "    bias=bias+db\n",
    "\n",
    "    # calculating weights:\n",
    "    res2=decrypt_initial_weights(res)\n",
    "    wei=[]\n",
    "    for i,j in zip(enc_X_train,res2):\n",
    "        row_x=[]\n",
    "        for k in i:\n",
    "            p=k*j\n",
    "            p=encrypt_prod_res(p)\n",
    "            row_x.append(p)\n",
    "        wei.append(row_x)\n",
    "\n",
    "    ww_a1=list(np.zeros(n_attributes))\n",
    "    for i in range(n_attributes):\n",
    "        for j in wei:\n",
    "            ww_a1[i]=ww_a1[i]+j[i]\n",
    "    \n",
    "    for i in range(n_attributes):\n",
    "        ww_a1[i]=ww_a1[i]*var1\n",
    "\n",
    "    for i in range(n_attributes):\n",
    "        weights[i]=weights[i]+ww_a1[i]"
   ]
  },
  {
   "cell_type": "code",
   "execution_count": null,
   "id": "3469738c-9d47-4144-bf92-948019f6b949",
   "metadata": {},
   "outputs": [],
   "source": [
    "private_key.decrypt(bias)"
   ]
  },
  {
   "cell_type": "code",
   "execution_count": null,
   "id": "f8e7baae-c494-4f2d-9d34-a2790becc473",
   "metadata": {},
   "outputs": [],
   "source": [
    "for i in weights:\n",
    "    print(private_key.decrypt(i))"
   ]
  }
 ],
 "metadata": {
  "kernelspec": {
   "display_name": "Python 3 (ipykernel)",
   "language": "python",
   "name": "python3"
  },
  "language_info": {
   "codemirror_mode": {
    "name": "ipython",
    "version": 3
   },
   "file_extension": ".py",
   "mimetype": "text/x-python",
   "name": "python",
   "nbconvert_exporter": "python",
   "pygments_lexer": "ipython3",
   "version": "3.10.0"
  }
 },
 "nbformat": 4,
 "nbformat_minor": 5
}
