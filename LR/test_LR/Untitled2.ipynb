{
 "cells": [
  {
   "cell_type": "code",
   "execution_count": 1,
   "id": "b310c43c-9965-493f-9596-4c9720e65d85",
   "metadata": {},
   "outputs": [],
   "source": [
    "import numpy as np\n",
    "from sklearn.model_selection import train_test_split\n",
    "from sklearn import datasets\n",
    "import matplotlib.pyplot as plt\n",
    "import torch\n",
    "from LinearRegression import LinearRegression\n",
    "plt.style.use(\"dark_background\")"
   ]
  },
  {
   "cell_type": "code",
   "execution_count": 2,
   "id": "d641f72d-a701-464a-ac99-dfaf89d4b830",
   "metadata": {},
   "outputs": [],
   "source": [
    "X,y=datasets.make_regression(n_samples=100,n_features=1,noise=20,random_state=1234)\n",
    "X_train,X_test,y_train,y_test=train_test_split(X,y,test_size=0.2,random_state=4)"
   ]
  },
  {
   "cell_type": "code",
   "execution_count": 3,
   "id": "3cf745f3-cc57-4ebe-9e70-d1ef242f1732",
   "metadata": {},
   "outputs": [
    {
     "data": {
      "image/png": "[encoded data removed]",
      "text/plain": [
       "<Figure size 576x432 with 1 Axes>"
      ]
     },
     "metadata": {
      "needs_background": "dark"
     },
     "output_type": "display_data"
    }
   ],
   "source": [
    "fig=plt.figure(figsize=(8,6))\n",
    "plt.scatter(X[:,0],y)\n",
    "plt.show()"
   ]
  },
  {
   "cell_type": "code",
   "execution_count": 4,
   "id": "e1a886de-2a27-4820-9855-6b7ae517eb2f",
   "metadata": {},
   "outputs": [],
   "source": [
    "lr=0.01\n",
    "n_iters=1000"
   ]
  },
  {
   "cell_type": "code",
   "execution_count": 5,
   "id": "af50240c-9805-47f5-8934-487d2c62a84e",
   "metadata": {},
   "outputs": [
    {
     "name": "stdout",
     "output_type": "stream",
     "text": [
      "80 1\n"
     ]
    }
   ],
   "source": [
    "n_samples,n_features=X_train.shape\n",
    "print(n_samples,n_features)"
   ]
  },
  {
   "cell_type": "code",
   "execution_count": 6,
   "id": "9d4b61a4-a101-4465-a36c-99e66ed2d060",
   "metadata": {},
   "outputs": [
    {
     "data": {
      "text/plain": [
       "array([0.])"
      ]
     },
     "execution_count": 6,
     "metadata": {},
     "output_type": "execute_result"
    }
   ],
   "source": [
    "weights=np.zeros(n_features)\n",
    "weights"
   ]
  },
  {
   "cell_type": "code",
   "execution_count": 7,
   "id": "17462f03-72a0-4361-b989-6985ab0c4bc6",
   "metadata": {},
   "outputs": [],
   "source": [
    "bias=0\n",
    "X_train_t=X_train.T\n",
    "var1=1/n_samples"
   ]
  },
  {
   "cell_type": "code",
   "execution_count": 8,
   "id": "82bd195d-2e0b-4e5d-b2b6-c5b382cd281c",
   "metadata": {},
   "outputs": [],
   "source": [
    "for _ in range(n_iters):  \n",
    "    a=[]     \n",
    "    for i in X_train:    # np.dot(X, self.weights)\n",
    "        t=np.dot(i,weights)\n",
    "        a.append(t)\n",
    "\n",
    "    a=np.array(a)\n",
    "\n",
    "    y_pred=a+bias  # y_pred=np.dot(X, self.weights) + bias \n",
    "\n",
    "    r=y_pred-y_train\n",
    "\n",
    "    p=[]\n",
    "    for i in X_train_t:\n",
    "        t=np.dot(i,r)\n",
    "        p.append(t)\n",
    "    \n",
    "    p=np.array(p)\n",
    "    dw=var1*p\n",
    "    d=0\n",
    "    for m in r:\n",
    "        d+=m\n",
    "\n",
    "    db=var1*d\n",
    "\n",
    "    dw=dw*lr\n",
    "    weights=weights-dw\n",
    "\n",
    "    db=db*lr\n",
    "    bias=bias-db"
   ]
  },
  {
   "cell_type": "code",
   "execution_count": 9,
   "id": "717e88db-641b-4356-bf79-81ac492f655a",
   "metadata": {},
   "outputs": [
    {
     "data": {
      "text/plain": [
       "0.9205897852264802"
      ]
     },
     "execution_count": 9,
     "metadata": {},
     "output_type": "execute_result"
    }
   ],
   "source": [
    "bias"
   ]
  },
  {
   "cell_type": "code",
   "execution_count": 10,
   "id": "c57ef59c-e810-4b5e-87f8-ed3e6f3ede4a",
   "metadata": {},
   "outputs": [
    {
     "data": {
      "text/plain": [
       "array([87.40396437])"
      ]
     },
     "execution_count": 10,
     "metadata": {},
     "output_type": "execute_result"
    }
   ],
   "source": [
    "weights"
   ]
  },
  {
   "cell_type": "markdown",
   "id": "f8c7dbfe-1d3b-4d7d-b604-56f1d4bfc436",
   "metadata": {},
   "source": [
    "#### testing:"
   ]
  },
  {
   "cell_type": "markdown",
   "id": "991a58ca-2c17-467d-b130-2ddb49509011",
   "metadata": {},
   "source": [
    "predictions=X_test*weights+bias"
   ]
  },
  {
   "cell_type": "code",
   "execution_count": 11,
   "id": "32647d66-b25a-4ad5-a10c-f0f1c6d500a7",
   "metadata": {},
   "outputs": [
    {
     "data": {
      "text/plain": [
       "array([[ 0.2477922 ],\n",
       "       [-0.6365235 ],\n",
       "       [ 0.46439233],\n",
       "       [ 0.99194602],\n",
       "       [-2.24268495],\n",
       "       [ 0.55343891],\n",
       "       [-0.89715678],\n",
       "       [ 0.12471295],\n",
       "       [ 0.28909194],\n",
       "       [ 0.07619959],\n",
       "       [-0.92625431],\n",
       "       [ 0.70472062],\n",
       "       [ 0.88716294],\n",
       "       [ 0.70422823],\n",
       "       [-0.34476601],\n",
       "       [ 0.47143516],\n",
       "       [ 1.03380073],\n",
       "       [-1.40197328],\n",
       "       [ 1.32110562],\n",
       "       [ 0.84100879]])"
      ]
     },
     "execution_count": 11,
     "metadata": {},
     "output_type": "execute_result"
    }
   ],
   "source": [
    "X_test"
   ]
  },
  {
   "cell_type": "code",
   "execution_count": 12,
   "id": "c465e990-3342-4d62-ab1d-354b5b71690c",
   "metadata": {},
   "outputs": [
    {
     "data": {
      "text/plain": [
       "numpy.ndarray"
      ]
     },
     "execution_count": 12,
     "metadata": {},
     "output_type": "execute_result"
    }
   ],
   "source": [
    "type(X_test)"
   ]
  },
  {
   "cell_type": "code",
   "execution_count": 13,
   "id": "e608744c-0bf9-4081-a2b1-e96eb8e213d9",
   "metadata": {},
   "outputs": [
    {
     "data": {
      "text/plain": [
       "array([[  22.57861038],\n",
       "       [ -54.71408792],\n",
       "       [  41.51032002],\n",
       "       [  87.62060458],\n",
       "       [-195.09896604],\n",
       "       [  49.29334464],\n",
       "       [ -77.49446984],\n",
       "       [  11.82099635],\n",
       "       [  26.18837149],\n",
       "       [   7.58073585],\n",
       "       [ -80.03770923],\n",
       "       [  62.51596612],\n",
       "       [  78.46214781],\n",
       "       [  62.47292851],\n",
       "       [ -29.21332664],\n",
       "       [  42.12589204],\n",
       "       [  91.27887218],\n",
       "       [-121.61743296],\n",
       "       [ 116.39045793],\n",
       "       [  74.42809253]])"
      ]
     },
     "execution_count": 13,
     "metadata": {},
     "output_type": "execute_result"
    }
   ],
   "source": [
    "predictions=(X_test*weights)+bias\n",
    "predictions"
   ]
  },
  {
   "cell_type": "code",
   "execution_count": 14,
   "id": "e1ef8740-a732-4610-964e-5ef6e527d891",
   "metadata": {},
   "outputs": [
    {
     "data": {
      "text/plain": [
       "array([  -6.40043974,  -75.83288846,   43.02438483,   81.72162478,\n",
       "       -197.98015036,   32.09705138, -102.66748012,   15.35071413,\n",
       "          6.89232312,   26.28851288,  -80.36899984,   30.84591703,\n",
       "         95.0686297 ,   69.43879729,  -45.80868283,   63.1880408 ,\n",
       "         91.41603362, -108.37740214,  142.7546496 ,   87.77205622])"
      ]
     },
     "execution_count": 14,
     "metadata": {},
     "output_type": "execute_result"
    }
   ],
   "source": [
    "y_test"
   ]
  },
  {
   "cell_type": "code",
   "execution_count": 16,
   "id": "10665d6d-625c-409b-8b3e-74feda6b5b79",
   "metadata": {},
   "outputs": [
    {
     "name": "stdout",
     "output_type": "stream",
     "text": [
      "-6.400439740897028 [22.57861038]\n",
      "-75.83288846408419 [-54.71408792]\n",
      "43.02438482670904 [41.51032002]\n",
      "81.72162477765585 [87.62060458]\n",
      "-197.9801503584435 [-195.09896604]\n",
      "32.09705138165424 [49.29334464]\n",
      "-102.66748011552487 [-77.49446984]\n",
      "15.35071412820563 [11.82099635]\n",
      "6.892323119468568 [26.18837149]\n",
      "26.28851287900197 [7.58073585]\n",
      "-80.36899984455164 [-80.03770923]\n",
      "30.84591703151775 [62.51596612]\n",
      "95.06862969774186 [78.46214781]\n",
      "69.43879729019481 [62.47292851]\n",
      "-45.80868282540775 [-29.21332664]\n",
      "63.18804079600157 [42.12589204]\n",
      "91.41603362148403 [91.27887218]\n",
      "-108.37740214379002 [-121.61743296]\n",
      "142.75464960351508 [116.39045793]\n",
      "87.77205622112535 [74.42809253]\n"
     ]
    }
   ],
   "source": [
    "for a,b in zip(y_test,predictions):\n",
    "    print(a,b)"
   ]
  },
  {
   "cell_type": "code",
   "execution_count": 17,
   "id": "44939d68-159d-4536-b6a1-3136075d2163",
   "metadata": {},
   "outputs": [
    {
     "data": {
      "text/plain": [
       "numpy.ndarray"
      ]
     },
     "execution_count": 17,
     "metadata": {},
     "output_type": "execute_result"
    }
   ],
   "source": [
    "type(predictions)"
   ]
  },
  {
   "cell_type": "code",
   "execution_count": 18,
   "id": "8de9f923-5ed6-498c-b7e5-c8bfca4928b1",
   "metadata": {},
   "outputs": [
    {
     "data": {
      "text/plain": [
       "numpy.ndarray"
      ]
     },
     "execution_count": 18,
     "metadata": {},
     "output_type": "execute_result"
    }
   ],
   "source": [
    "type(y_test)"
   ]
  },
  {
   "cell_type": "code",
   "execution_count": 19,
   "id": "b7d11d3b-3d5f-46ae-ba34-6bb7450726a9",
   "metadata": {},
   "outputs": [
    {
     "data": {
      "text/plain": [
       "(20, 1)"
      ]
     },
     "execution_count": 19,
     "metadata": {},
     "output_type": "execute_result"
    }
   ],
   "source": [
    "predictions.shape"
   ]
  },
  {
   "cell_type": "code",
   "execution_count": 20,
   "id": "da03207d-7192-4be6-b8ee-602e0a7f59be",
   "metadata": {},
   "outputs": [
    {
     "data": {
      "text/plain": [
       "(20,)"
      ]
     },
     "execution_count": 20,
     "metadata": {},
     "output_type": "execute_result"
    }
   ],
   "source": [
    "y_test.shape"
   ]
  },
  {
   "cell_type": "code",
   "execution_count": 22,
   "id": "6e4bbab9-bbdb-4f96-a866-9ee59f71b49f",
   "metadata": {},
   "outputs": [
    {
     "data": {
      "text/plain": [
       "(20,)"
      ]
     },
     "execution_count": 22,
     "metadata": {},
     "output_type": "execute_result"
    }
   ],
   "source": [
    "predictions=predictions.reshape(20,)\n",
    "predictions.shape"
   ]
  },
  {
   "cell_type": "code",
   "execution_count": 23,
   "id": "7e3f85e0-a82e-4b4e-8984-8ffdbf420e7c",
   "metadata": {},
   "outputs": [
    {
     "name": "stdout",
     "output_type": "stream",
     "text": [
      "-6.400439740897028 22.578610383087046\n",
      "-75.83288846408419 -54.71408791521309\n",
      "43.02438482670904 41.51032001744158\n",
      "81.72162477765585 87.6206045785274\n",
      "-197.9801503584435 -195.0989660423955\n",
      "32.09705138165424 49.293344639181235\n",
      "-102.66748011552487 -77.49446983579095\n",
      "15.35071412820563 11.820996352798\n",
      "6.892323119468568 26.18837149415341\n",
      "26.28851287900197 7.580735845522437\n",
      "-80.36899984455164 -80.0377092316597\n",
      "30.84591703151775 62.515966123486784\n",
      "95.06862969774186 78.4621478098198\n",
      "69.43879729019481 62.47292851151451\n",
      "-45.80868282540775 -29.213326640498988\n",
      "63.18804079600157 42.12589203862798\n",
      "91.41603362148403 91.27887217866436\n",
      "-108.37740214379002 -121.61743295805617\n",
      "142.75464960351508 116.39045792812308\n",
      "87.77205622112535 74.42809253184106\n"
     ]
    }
   ],
   "source": [
    "for a,b in zip(y_test,predictions):\n",
    "    print(a,b)"
   ]
  },
  {
   "cell_type": "code",
   "execution_count": 24,
   "id": "c500649c-4e50-4304-a875-19b0836cf882",
   "metadata": {},
   "outputs": [
    {
     "name": "stdout",
     "output_type": "stream",
     "text": [
      "304.51102042892\n"
     ]
    }
   ],
   "source": [
    "def mse(y_test, predictions):\n",
    "    return np.mean((y_test-predictions)**2)\n",
    "\n",
    "mse = mse(y_test, predictions)\n",
    "print(mse)"
   ]
  },
  {
   "cell_type": "code",
   "execution_count": 30,
   "id": "21449de1-2933-4df4-a446-1dbad6faef9d",
   "metadata": {},
   "outputs": [
    {
     "data": {
      "image/png": "[encoded data removed]",
      "text/plain": [
       "<Figure size 432x288 with 1 Axes>"
      ]
     },
     "metadata": {
      "needs_background": "dark"
     },
     "output_type": "display_data"
    }
   ],
   "source": [
    "X_test_1=X_test.reshape(20,)\n",
    "X_train_1=X_train.reshape(80,)\n",
    "plt.plot(X_test_1, predictions, color='red', linewidth=2, label='Prediction')\n",
    "plt.scatter(X_test_1, y_test, color='green')\n",
    "plt.show()"
   ]
  },
  {
   "cell_type": "code",
   "execution_count": null,
   "id": "135eb69b-ceb4-4232-893b-0a2082907693",
   "metadata": {},
   "outputs": [],
   "source": []
  }
 ],
 "metadata": {
  "kernelspec": {
   "display_name": "Python 3 (ipykernel)",
   "language": "python",
   "name": "python3"
  },
  "language_info": {
   "codemirror_mode": {
    "name": "ipython",
    "version": 3
   },
   "file_extension": ".py",
   "mimetype": "text/x-python",
   "name": "python",
   "nbconvert_exporter": "python",
   "pygments_lexer": "ipython3",
   "version": "3.10.0"
  }
 },
 "nbformat": 4,
 "nbformat_minor": 5
}
