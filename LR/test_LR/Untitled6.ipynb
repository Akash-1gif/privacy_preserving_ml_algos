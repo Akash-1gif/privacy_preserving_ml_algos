{
 "cells": [
  {
   "cell_type": "code",
   "execution_count": 1,
   "id": "c827a936-d73c-483c-ba80-d0b43803836f",
   "metadata": {},
   "outputs": [],
   "source": [
    "import numpy as np\n",
    "from sklearn.model_selection import train_test_split\n",
    "from sklearn import datasets\n",
    "import matplotlib.pyplot as plt\n",
    "import torch\n",
    "from LinearRegression import LinearRegression\n",
    "plt.style.use(\"dark_background\")"
   ]
  },
  {
   "cell_type": "code",
   "execution_count": 2,
   "id": "078f519c-ef29-4113-89a2-61c1549c4d98",
   "metadata": {},
   "outputs": [],
   "source": [
    "X,y=datasets.make_regression(n_samples=100,n_features=1,noise=20,random_state=1234)\n",
    "X_train,X_test,y_train,y_test=train_test_split(X,y,test_size=0.2,random_state=4)"
   ]
  },
  {
   "cell_type": "code",
   "execution_count": 3,
   "id": "2612ea93-047e-4ae4-951c-f3317b249d43",
   "metadata": {},
   "outputs": [
    {
     "data": {
      "image/png": "[encoded data removed]",
      "text/plain": [
       "<Figure size 576x432 with 1 Axes>"
      ]
     },
     "metadata": {
      "needs_background": "dark"
     },
     "output_type": "display_data"
    }
   ],
   "source": [
    "fig=plt.figure(figsize=(8,6))\n",
    "plt.scatter(X[:,0],y)\n",
    "plt.show()"
   ]
  },
  {
   "cell_type": "code",
   "execution_count": 4,
   "id": "d14c326d-e074-41ac-8f77-aeed6c45c14b",
   "metadata": {},
   "outputs": [
    {
     "data": {
      "text/plain": [
       "array([[ 3.61419367e-02],\n",
       "       [ 9.84919842e-01],\n",
       "       [ 1.82891913e-02],\n",
       "       [-1.22091575e-01],\n",
       "       [ 2.15268581e-01],\n",
       "       [-1.19097569e+00],\n",
       "       [-3.12651896e-01],\n",
       "       [ 5.65738306e-01],\n",
       "       [ 2.00784295e+00],\n",
       "       [ 3.07968855e-01],\n",
       "       [ 1.15003572e+00],\n",
       "       [ 1.39198619e+00],\n",
       "       [-2.02646325e-01],\n",
       "       [ 1.64529543e-01],\n",
       "       [-9.74236334e-01],\n",
       "       [ 3.95126867e-02],\n",
       "       [ 6.31979446e-01],\n",
       "       [ 1.04593826e+00],\n",
       "       [ 2.11883387e-01],\n",
       "       [-3.56351666e+00],\n",
       "       [ 7.67368736e-01],\n",
       "       [ 1.43270697e+00],\n",
       "       [ 1.93421376e-01],\n",
       "       [ 1.05896919e+00],\n",
       "       [-2.40045363e+00],\n",
       "       [-5.48242449e-01],\n",
       "       [ 2.39096052e+00],\n",
       "       [ 1.56963721e-02],\n",
       "       [-2.08498763e-01],\n",
       "       [ 4.05453412e-01],\n",
       "       [-1.44619508e-01],\n",
       "       [-2.02125482e+00],\n",
       "       [-3.99964581e-01],\n",
       "       [ 8.63717292e-01],\n",
       "       [ 3.54020332e-01],\n",
       "       [-8.19470518e-02],\n",
       "       [ 5.23507968e-01],\n",
       "       [-4.69305285e-01],\n",
       "       [-5.11881309e-01],\n",
       "       [-1.54690555e+00],\n",
       "       [ 1.54565880e+00],\n",
       "       [ 1.31815155e+00],\n",
       "       [-5.66445930e-01],\n",
       "       [ 2.03060362e+00],\n",
       "       [-3.97840228e-01],\n",
       "       [-5.84718211e-01],\n",
       "       [-1.00918200e-01],\n",
       "       [ 2.11836468e-03],\n",
       "       [ 1.52630552e-01],\n",
       "       [ 2.70835849e-01],\n",
       "       [-2.07497760e+00],\n",
       "       [-7.85435212e-01],\n",
       "       [-1.81702723e+00],\n",
       "       [-7.20588733e-01],\n",
       "       [ 6.75554085e-01],\n",
       "       [ 8.59588414e-01],\n",
       "       [-1.36794833e-01],\n",
       "       [ 8.41674713e-01],\n",
       "       [ 7.55413982e-01],\n",
       "       [-7.03448771e-02],\n",
       "       [ 9.53324128e-01],\n",
       "       [-3.55130253e-02],\n",
       "       [-1.83108540e-01],\n",
       "       [ 5.28288145e-01],\n",
       "       [-1.15265911e+00],\n",
       "       [-3.34077366e-01],\n",
       "       [ 7.98423130e-02],\n",
       "       [ 3.37437654e-01],\n",
       "       [ 8.16593927e-01],\n",
       "       [ 2.26962542e-01],\n",
       "       [-3.22794806e-01],\n",
       "       [-1.44581008e+00],\n",
       "       [-1.02785056e+00],\n",
       "       [ 4.62059737e-01],\n",
       "       [-1.14263129e+00],\n",
       "       [-4.30095691e-01],\n",
       "       [ 1.04757857e+00],\n",
       "       [-1.06898878e+00],\n",
       "       [ 1.32115819e+00],\n",
       "       [-6.55969344e-01]])"
      ]
     },
     "execution_count": 4,
     "metadata": {},
     "output_type": "execute_result"
    }
   ],
   "source": [
    "X_train"
   ]
  },
  {
   "cell_type": "code",
   "execution_count": 5,
   "id": "bec48435-bfa9-42fb-969a-1611cca30a68",
   "metadata": {},
   "outputs": [
    {
     "data": {
      "text/plain": [
       "((80, 1), (80,))"
      ]
     },
     "execution_count": 5,
     "metadata": {},
     "output_type": "execute_result"
    }
   ],
   "source": [
    "X_train.shape,y_train.shape"
   ]
  },
  {
   "cell_type": "markdown",
   "id": "57a88645-37cf-4c25-9d32-4d41138449b1",
   "metadata": {},
   "source": [
    "### Fit function:"
   ]
  },
  {
   "cell_type": "code",
   "execution_count": 6,
   "id": "0710a57e-8bbc-47ea-a96a-5cdbc5830d5d",
   "metadata": {},
   "outputs": [
    {
     "name": "stdout",
     "output_type": "stream",
     "text": [
      "80 1\n"
     ]
    }
   ],
   "source": [
    "n_samples,n_features=X_train.shape\n",
    "print(n_samples,n_features)"
   ]
  },
  {
   "cell_type": "code",
   "execution_count": 7,
   "id": "8d331221-15c9-44c9-a63f-7b69fa63b684",
   "metadata": {},
   "outputs": [
    {
     "data": {
      "text/plain": [
       "array([ 3.61419367e-02,  9.84919842e-01,  1.82891913e-02, -1.22091575e-01,\n",
       "        2.15268581e-01, -1.19097569e+00, -3.12651896e-01,  5.65738306e-01,\n",
       "        2.00784295e+00,  3.07968855e-01,  1.15003572e+00,  1.39198619e+00,\n",
       "       -2.02646325e-01,  1.64529543e-01, -9.74236334e-01,  3.95126867e-02,\n",
       "        6.31979446e-01,  1.04593826e+00,  2.11883387e-01, -3.56351666e+00,\n",
       "        7.67368736e-01,  1.43270697e+00,  1.93421376e-01,  1.05896919e+00,\n",
       "       -2.40045363e+00, -5.48242449e-01,  2.39096052e+00,  1.56963721e-02,\n",
       "       -2.08498763e-01,  4.05453412e-01, -1.44619508e-01, -2.02125482e+00,\n",
       "       -3.99964581e-01,  8.63717292e-01,  3.54020332e-01, -8.19470518e-02,\n",
       "        5.23507968e-01, -4.69305285e-01, -5.11881309e-01, -1.54690555e+00,\n",
       "        1.54565880e+00,  1.31815155e+00, -5.66445930e-01,  2.03060362e+00,\n",
       "       -3.97840228e-01, -5.84718211e-01, -1.00918200e-01,  2.11836468e-03,\n",
       "        1.52630552e-01,  2.70835849e-01, -2.07497760e+00, -7.85435212e-01,\n",
       "       -1.81702723e+00, -7.20588733e-01,  6.75554085e-01,  8.59588414e-01,\n",
       "       -1.36794833e-01,  8.41674713e-01,  7.55413982e-01, -7.03448771e-02,\n",
       "        9.53324128e-01, -3.55130253e-02, -1.83108540e-01,  5.28288145e-01,\n",
       "       -1.15265911e+00, -3.34077366e-01,  7.98423130e-02,  3.37437654e-01,\n",
       "        8.16593927e-01,  2.26962542e-01, -3.22794806e-01, -1.44581008e+00,\n",
       "       -1.02785056e+00,  4.62059737e-01, -1.14263129e+00, -4.30095691e-01,\n",
       "        1.04757857e+00, -1.06898878e+00,  1.32115819e+00, -6.55969344e-01])"
      ]
     },
     "execution_count": 7,
     "metadata": {},
     "output_type": "execute_result"
    }
   ],
   "source": [
    "X_train_cols=X_train.reshape(80,)\n",
    "X_train_cols"
   ]
  },
  {
   "cell_type": "code",
   "execution_count": 8,
   "id": "8df460b9-b1e4-4570-b3ef-97e82ae98aee",
   "metadata": {},
   "outputs": [],
   "source": [
    "X_train_rows=X_train"
   ]
  },
  {
   "cell_type": "code",
   "execution_count": 9,
   "id": "be60d8e6-fca1-4950-8ab3-c7b0d101bd0a",
   "metadata": {},
   "outputs": [],
   "source": [
    "bias=0\n",
    "var1=1/n_samples\n",
    "n_iters=1000\n",
    "lr=0.01\n",
    "# weights as scalars:\n",
    "w_a1=0\n",
    "weights=[w_a1]\n",
    "weights=np.array(weights)"
   ]
  },
  {
   "cell_type": "markdown",
   "id": "3383a0c2-afcc-4843-8e84-c02f75cac5f8",
   "metadata": {},
   "source": [
    "#### First iteration of establishing bias and weight values:"
   ]
  },
  {
   "cell_type": "markdown",
   "id": "eea3a5e2-ab75-4ddb-85ed-1ac0c4b90cf9",
   "metadata": {},
   "source": [
    "##### y_pred = np.dot(X, self.weights) + self.bias"
   ]
  },
  {
   "cell_type": "markdown",
   "id": "c7af9d6d-1dbf-4ae3-86b4-66a72801267c",
   "metadata": {},
   "source": [
    "calculating np.dot(X,self.weights):"
   ]
  },
  {
   "cell_type": "code",
   "execution_count": 10,
   "id": "004a0303-085e-4d7e-8ada-f2d3c5f07942",
   "metadata": {},
   "outputs": [
    {
     "data": {
      "text/plain": [
       "array([ 0.,  0.,  0., -0.,  0., -0., -0.,  0.,  0.,  0.,  0.,  0., -0.,\n",
       "        0., -0.,  0.,  0.,  0.,  0., -0.,  0.,  0.,  0.,  0., -0., -0.,\n",
       "        0.,  0., -0.,  0., -0., -0., -0.,  0.,  0., -0.,  0., -0., -0.,\n",
       "       -0.,  0.,  0., -0.,  0., -0., -0., -0.,  0.,  0.,  0., -0., -0.,\n",
       "       -0., -0.,  0.,  0., -0.,  0.,  0., -0.,  0., -0., -0.,  0., -0.,\n",
       "       -0.,  0.,  0.,  0.,  0., -0., -0., -0.,  0., -0., -0.,  0., -0.,\n",
       "        0., -0.])"
      ]
     },
     "execution_count": 10,
     "metadata": {},
     "output_type": "execute_result"
    }
   ],
   "source": [
    "dot_prod=X_train_cols*w_a1\n",
    "dot_prod"
   ]
  },
  {
   "cell_type": "code",
   "execution_count": 11,
   "id": "9b842942-5907-4483-a423-348e2e65609a",
   "metadata": {},
   "outputs": [
    {
     "data": {
      "text/plain": [
       "array([0, 0, 0, 0, 0, 0, 0, 0, 0, 0, 0, 0, 0, 0, 0, 0, 0, 0, 0, 0, 0, 0,\n",
       "       0, 0, 0, 0, 0, 0, 0, 0, 0, 0, 0, 0, 0, 0, 0, 0, 0, 0, 0, 0, 0, 0,\n",
       "       0, 0, 0, 0, 0, 0, 0, 0, 0, 0, 0, 0, 0, 0, 0, 0, 0, 0, 0, 0, 0, 0,\n",
       "       0, 0, 0, 0, 0, 0, 0, 0, 0, 0, 0, 0, 0, 0])"
      ]
     },
     "execution_count": 11,
     "metadata": {},
     "output_type": "execute_result"
    }
   ],
   "source": [
    "bias_counts=[bias]*n_samples\n",
    "bias_counts=np.array(bias_counts)\n",
    "bias_counts"
   ]
  },
  {
   "cell_type": "code",
   "execution_count": 12,
   "id": "1e4e4e14-b655-4ce0-b1e8-b0654c3d14fc",
   "metadata": {},
   "outputs": [
    {
     "data": {
      "text/plain": [
       "array([0., 0., 0., 0., 0., 0., 0., 0., 0., 0., 0., 0., 0., 0., 0., 0., 0.,\n",
       "       0., 0., 0., 0., 0., 0., 0., 0., 0., 0., 0., 0., 0., 0., 0., 0., 0.,\n",
       "       0., 0., 0., 0., 0., 0., 0., 0., 0., 0., 0., 0., 0., 0., 0., 0., 0.,\n",
       "       0., 0., 0., 0., 0., 0., 0., 0., 0., 0., 0., 0., 0., 0., 0., 0., 0.,\n",
       "       0., 0., 0., 0., 0., 0., 0., 0., 0., 0., 0., 0.])"
      ]
     },
     "execution_count": 12,
     "metadata": {},
     "output_type": "execute_result"
    }
   ],
   "source": [
    "y_pred=dot_prod+bias_counts\n",
    "y_pred"
   ]
  },
  {
   "cell_type": "markdown",
   "id": "7f8c951e-a7b7-4733-b69d-680030d43956",
   "metadata": {},
   "source": [
    "res=y_pred-y_train"
   ]
  },
  {
   "cell_type": "code",
   "execution_count": 13,
   "id": "16fea5da-8697-4d8f-806a-81a58ab62d42",
   "metadata": {},
   "outputs": [
    {
     "data": {
      "text/plain": [
       "array([  -4.72571035,  -37.3033147 ,   -9.84617977,    4.74696202,\n",
       "        -46.61433976,   88.5636594 ,   23.05085118,  -49.30980232,\n",
       "       -187.11855381,  -52.7868072 , -100.63781242, -126.59136522,\n",
       "         34.92302734,    2.39500665,   91.54741375,    1.32075177,\n",
       "        -44.66438206, -107.23095944,  -45.28549362,  289.12699629,\n",
       "        -57.29982392, -132.7901884 ,  -41.80672108,  -88.76973989,\n",
       "        218.53325548,   24.66035565, -241.89951823,   10.13240956,\n",
       "         46.42718117,  -25.64618465,   13.50142554,  176.72441073,\n",
       "         18.66943338,  -50.5672884 ,  -22.64343207,   21.09022538,\n",
       "        -64.92081242,   64.87115989,   31.48631679,  138.96811403,\n",
       "       -133.52911687, -122.17927892,   53.50531413, -171.25986261,\n",
       "         21.98254439,   26.36081393,  -20.50476935,   10.68145433,\n",
       "        -42.95199809,  -24.1455885 ,  179.69097653,   69.72153699,\n",
       "        147.48591272,   96.71683373,  -37.07750059,  -68.80268857,\n",
       "         18.61172071,  -79.62314161,  -52.56456985,  -28.51154385,\n",
       "       -107.68399539,  -31.89540984,   11.76894647,  -44.86892697,\n",
       "        113.47899634,   46.81999118,   -0.28974315,  -45.43320652,\n",
       "        -60.44072638,   13.86033522,   27.30975983,  117.65626086,\n",
       "        121.49964895,  -40.21308758,   95.50351127,   80.54746507,\n",
       "        -99.41132308,   71.5256125 , -115.32489672,   56.87386852])"
      ]
     },
     "execution_count": 13,
     "metadata": {},
     "output_type": "execute_result"
    }
   ],
   "source": [
    "int_var=y_train*(-1)\n",
    "int_var"
   ]
  },
  {
   "cell_type": "code",
   "execution_count": 14,
   "id": "33e45c33-c4ba-428f-8dd5-84c099171629",
   "metadata": {},
   "outputs": [
    {
     "data": {
      "text/plain": [
       "array([  -4.72571035,  -37.3033147 ,   -9.84617977,    4.74696202,\n",
       "        -46.61433976,   88.5636594 ,   23.05085118,  -49.30980232,\n",
       "       -187.11855381,  -52.7868072 , -100.63781242, -126.59136522,\n",
       "         34.92302734,    2.39500665,   91.54741375,    1.32075177,\n",
       "        -44.66438206, -107.23095944,  -45.28549362,  289.12699629,\n",
       "        -57.29982392, -132.7901884 ,  -41.80672108,  -88.76973989,\n",
       "        218.53325548,   24.66035565, -241.89951823,   10.13240956,\n",
       "         46.42718117,  -25.64618465,   13.50142554,  176.72441073,\n",
       "         18.66943338,  -50.5672884 ,  -22.64343207,   21.09022538,\n",
       "        -64.92081242,   64.87115989,   31.48631679,  138.96811403,\n",
       "       -133.52911687, -122.17927892,   53.50531413, -171.25986261,\n",
       "         21.98254439,   26.36081393,  -20.50476935,   10.68145433,\n",
       "        -42.95199809,  -24.1455885 ,  179.69097653,   69.72153699,\n",
       "        147.48591272,   96.71683373,  -37.07750059,  -68.80268857,\n",
       "         18.61172071,  -79.62314161,  -52.56456985,  -28.51154385,\n",
       "       -107.68399539,  -31.89540984,   11.76894647,  -44.86892697,\n",
       "        113.47899634,   46.81999118,   -0.28974315,  -45.43320652,\n",
       "        -60.44072638,   13.86033522,   27.30975983,  117.65626086,\n",
       "        121.49964895,  -40.21308758,   95.50351127,   80.54746507,\n",
       "        -99.41132308,   71.5256125 , -115.32489672,   56.87386852])"
      ]
     },
     "execution_count": 14,
     "metadata": {},
     "output_type": "execute_result"
    }
   ],
   "source": [
    "res=y_pred+int_var\n",
    "res"
   ]
  },
  {
   "cell_type": "code",
   "execution_count": 15,
   "id": "cc6d7cb7-dacc-4dc6-bea3-9b4bdcc76b4f",
   "metadata": {},
   "outputs": [
    {
     "data": {
      "text/plain": [
       "-182.82934447510522"
      ]
     },
     "execution_count": 15,
     "metadata": {},
     "output_type": "execute_result"
    }
   ],
   "source": [
    "res_sum=res.sum()\n",
    "res_sum"
   ]
  },
  {
   "cell_type": "markdown",
   "id": "0e8c30bd-b29d-4f6f-9c8c-59868e85e737",
   "metadata": {},
   "source": [
    "calculating np.dot(X_train_cols,res)"
   ]
  },
  {
   "cell_type": "code",
   "execution_count": 16,
   "id": "132d4580-10c4-47e8-9b7a-47312e3068b4",
   "metadata": {},
   "outputs": [
    {
     "data": {
      "text/plain": [
       "(80,)"
      ]
     },
     "execution_count": 16,
     "metadata": {},
     "output_type": "execute_result"
    }
   ],
   "source": [
    "X_train_cols.shape"
   ]
  },
  {
   "cell_type": "code",
   "execution_count": 17,
   "id": "30d09b2b-f1f3-40a4-b6f4-dbbdac15afa2",
   "metadata": {},
   "outputs": [
    {
     "data": {
      "text/plain": [
       "(80, 1)"
      ]
     },
     "execution_count": 17,
     "metadata": {},
     "output_type": "execute_result"
    }
   ],
   "source": [
    "X_train_rows.shape"
   ]
  },
  {
   "cell_type": "code",
   "execution_count": 18,
   "id": "354159b4-346b-42ed-9e01-af4d0582f2fc",
   "metadata": {},
   "outputs": [],
   "source": [
    "p=[]\n",
    "for i,j in zip(X_train,res):\n",
    "    k=i*j\n",
    "    p.append(k)"
   ]
  },
  {
   "cell_type": "code",
   "execution_count": 19,
   "id": "d2bb5dde-3d40-4e21-aacf-77985bd47ed9",
   "metadata": {},
   "outputs": [
    {
     "data": {
      "text/plain": [
       "[array([-0.17079632]),\n",
       " array([-36.74077481]),\n",
       " array([-0.18007867]),\n",
       " array([-0.57956407]),\n",
       " array([-10.03460277]),\n",
       " array([-105.47716578]),\n",
       " array([-7.20689233]),\n",
       " array([-27.89644404]),\n",
       " array([-375.70466923]),\n",
       " array([-16.25669258]),\n",
       " array([-115.73707954]),\n",
       " array([-176.21343259]),\n",
       " array([-7.07702314]),\n",
       " array([0.39404935]),\n",
       " array([-89.18881674]),\n",
       " array([0.05218645]),\n",
       " array([-28.22697142]),\n",
       " array([-112.15696266]),\n",
       " array([-9.59524376]),\n",
       " array([-1030.30886832]),\n",
       " array([-43.97009344]),\n",
       " array([-190.24942826]),\n",
       " array([-8.08631354]),\n",
       " array([-94.00441933]),\n",
       " array([-524.57894723]),\n",
       " array([-13.51985378]),\n",
       " array([-578.37219679]),\n",
       " array([0.15904207]),\n",
       " array([-9.68000985]),\n",
       " array([-10.39833306]),\n",
       " array([-1.95256952]),\n",
       " array([-357.20506704]),\n",
       " array([-7.46711209]),\n",
       " array([-43.67584139]),\n",
       " array([-8.01623534]),\n",
       " array([-1.72828179]),\n",
       " array([-33.98656258]),\n",
       " array([-30.44437816]),\n",
       " array([-16.11725706]),\n",
       " array([-214.97054731]),\n",
       " array([-206.39045516]),\n",
       " array([-161.05080639]),\n",
       " array([-30.30786745]),\n",
       " array([-347.76089711]),\n",
       " array([-8.74554048]),\n",
       " array([-15.41364797]),\n",
       " array([2.06930441]),\n",
       " array([0.02262722]),\n",
       " array([-6.55578719]),\n",
       " array([-6.53949096]),\n",
       " array([-372.85475135]),\n",
       " array([-54.76175017]),\n",
       " array([-267.98591896]),\n",
       " array([-69.69306071]),\n",
       " array([-25.04785699]),\n",
       " array([-59.14199393]),\n",
       " array([-2.54598723]),\n",
       " array([-67.01678487]),\n",
       " array([-39.70801105]),\n",
       " array([2.00564105]),\n",
       " array([-102.65775102]),\n",
       " array([1.1327025]),\n",
       " array([-2.15499461]),\n",
       " array([-23.70372221]),\n",
       " array([-130.80259884]),\n",
       " array([-15.64149932]),\n",
       " array([-0.02313376]),\n",
       " array([-15.3308746]),\n",
       " array([-49.35553008]),\n",
       " array([3.14577691]),\n",
       " array([-8.81544862]),\n",
       " array([-170.10860758]),\n",
       " array([-124.88348205]),\n",
       " array([-18.58084868]),\n",
       " array([-109.12530018]),\n",
       " array([-34.64311764]),\n",
       " array([-104.14117196]),\n",
       " array([-76.46007749]),\n",
       " array([-152.36243206]),\n",
       " array([-37.30751423])]"
      ]
     },
     "execution_count": 19,
     "metadata": {},
     "output_type": "execute_result"
    }
   ],
   "source": [
    "p"
   ]
  },
  {
   "cell_type": "code",
   "execution_count": 20,
   "id": "ea039cdd-08c2-45f4-82fc-d0496d687bec",
   "metadata": {},
   "outputs": [
    {
     "data": {
      "text/plain": [
       "numpy.ndarray"
      ]
     },
     "execution_count": 20,
     "metadata": {},
     "output_type": "execute_result"
    }
   ],
   "source": [
    "type(p[0])"
   ]
  },
  {
   "cell_type": "code",
   "execution_count": 21,
   "id": "01bd03fb-dfa6-4f9b-81a1-6c1535071822",
   "metadata": {},
   "outputs": [
    {
     "data": {
      "text/plain": [
       "array([-7245.81290926])"
      ]
     },
     "execution_count": 21,
     "metadata": {},
     "output_type": "execute_result"
    }
   ],
   "source": [
    "summation=np.array([0])\n",
    "for m in p:\n",
    "    summation=summation+m\n",
    "\n",
    "summation"
   ]
  },
  {
   "cell_type": "markdown",
   "id": "2aeb0017-2030-40ba-a97d-b79450482da5",
   "metadata": {},
   "source": [
    "calculating weights:"
   ]
  },
  {
   "cell_type": "code",
   "execution_count": 22,
   "id": "0a1f0a90-02cd-4465-8f7d-684fe39a0e74",
   "metadata": {},
   "outputs": [
    {
     "data": {
      "text/plain": [
       "array([-90.57266137])"
      ]
     },
     "execution_count": 22,
     "metadata": {},
     "output_type": "execute_result"
    }
   ],
   "source": [
    "dw=var1*summation\n",
    "dw"
   ]
  },
  {
   "cell_type": "code",
   "execution_count": 23,
   "id": "7f09a51b-16f5-431d-8300-a1f17ceee22f",
   "metadata": {},
   "outputs": [],
   "source": [
    "dw=dw*lr"
   ]
  },
  {
   "cell_type": "code",
   "execution_count": 24,
   "id": "677ce7ac-f40a-47f3-8fff-f344b3cc5e12",
   "metadata": {},
   "outputs": [
    {
     "data": {
      "text/plain": [
       "array([0.90572661])"
      ]
     },
     "execution_count": 24,
     "metadata": {},
     "output_type": "execute_result"
    }
   ],
   "source": [
    "weights=weights+(dw*(-1))\n",
    "weights"
   ]
  },
  {
   "cell_type": "markdown",
   "id": "a884c91e-b914-406e-9fbd-7357d78fc986",
   "metadata": {},
   "source": [
    "calculating bias:"
   ]
  },
  {
   "cell_type": "code",
   "execution_count": 26,
   "id": "a64d4f57-b274-434f-9507-419bb8f6eef4",
   "metadata": {},
   "outputs": [
    {
     "data": {
      "text/plain": [
       "0.022853668059388155"
      ]
     },
     "execution_count": 26,
     "metadata": {},
     "output_type": "execute_result"
    }
   ],
   "source": [
    "db=res_sum*var1*lr\n",
    "bias=bias+(-1*db)\n",
    "bias"
   ]
  },
  {
   "cell_type": "code",
   "execution_count": 27,
   "id": "deea2f23-5eef-4ca4-8c22-fda2b6734d44",
   "metadata": {},
   "outputs": [
    {
     "data": {
      "text/plain": [
       "(0.022853668059388155, array([0.90572661]))"
      ]
     },
     "execution_count": 27,
     "metadata": {},
     "output_type": "execute_result"
    }
   ],
   "source": [
    "bias,weights"
   ]
  }
 ],
 "metadata": {
  "kernelspec": {
   "display_name": "Python 3 (ipykernel)",
   "language": "python",
   "name": "python3"
  },
  "language_info": {
   "codemirror_mode": {
    "name": "ipython",
    "version": 3
   },
   "file_extension": ".py",
   "mimetype": "text/x-python",
   "name": "python",
   "nbconvert_exporter": "python",
   "pygments_lexer": "ipython3",
   "version": "3.10.0"
  }
 },
 "nbformat": 4,
 "nbformat_minor": 5
}
