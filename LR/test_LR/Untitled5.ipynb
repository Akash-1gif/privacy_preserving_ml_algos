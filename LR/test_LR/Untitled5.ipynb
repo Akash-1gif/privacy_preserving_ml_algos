{
 "cells": [
  {
   "cell_type": "code",
   "execution_count": 1,
   "id": "027d2944-d044-4f0a-8659-19821c284b70",
   "metadata": {},
   "outputs": [],
   "source": [
    "import numpy as np\n",
    "from sklearn.model_selection import train_test_split\n",
    "from sklearn import datasets\n",
    "import matplotlib.pyplot as plt\n",
    "import torch\n",
    "from LinearRegression import LinearRegression\n",
    "plt.style.use(\"dark_background\")"
   ]
  },
  {
   "cell_type": "code",
   "execution_count": 2,
   "id": "4493c979-0251-4448-aad8-919c31a148d2",
   "metadata": {},
   "outputs": [],
   "source": [
    "X,y=datasets.make_regression(n_samples=100,n_features=1,noise=20,random_state=1234)\n",
    "X_train,X_test,y_train,y_test=train_test_split(X,y,test_size=0.2,random_state=4)"
   ]
  },
  {
   "cell_type": "code",
   "execution_count": 3,
   "id": "93be81a4-4f6c-4fc7-9588-05cc44734a1a",
   "metadata": {},
   "outputs": [
    {
     "data": {
      "image/png": "[encoded data removed]",
      "text/plain": [
       "<Figure size 576x432 with 1 Axes>"
      ]
     },
     "metadata": {
      "needs_background": "dark"
     },
     "output_type": "display_data"
    }
   ],
   "source": [
    "fig=plt.figure(figsize=(8,6))\n",
    "plt.scatter(X[:,0],y)\n",
    "plt.show()"
   ]
  },
  {
   "cell_type": "code",
   "execution_count": 4,
   "id": "0130239e-0804-403e-8f9d-6e65ab850a71",
   "metadata": {},
   "outputs": [],
   "source": [
    "import tenseal as ts\n",
    "\n",
    "context=ts.context(\n",
    "        ts.SCHEME_TYPE.CKKS,\n",
    "        poly_modulus_degree=8192,\n",
    "        coeff_mod_bit_sizes=[60, 40, 40, 60]\n",
    "    )\n",
    "context.generate_galois_keys()\n",
    "context.global_scale=2**40"
   ]
  },
  {
   "cell_type": "code",
   "execution_count": 5,
   "id": "a51714ab-15ed-4bf5-891d-e4a45f2b6f19",
   "metadata": {},
   "outputs": [],
   "source": [
    "enc_X_train=[]\n",
    "for i in X_train:\n",
    "    t=ts.ckks_vector(context,i)\n",
    "    enc_X_train.append(t)"
   ]
  },
  {
   "cell_type": "code",
   "execution_count": 6,
   "id": "f493e297-6f6b-4643-bc66-591b81561624",
   "metadata": {},
   "outputs": [],
   "source": [
    "enc_X_test=[]\n",
    "for i in X_test:\n",
    "    t=ts.ckks_vector(context,i)\n",
    "    enc_X_test.append(t)"
   ]
  },
  {
   "cell_type": "code",
   "execution_count": 7,
   "id": "991a0b3b-697b-42e8-b101-ea6972bc996f",
   "metadata": {},
   "outputs": [],
   "source": [
    "enc_y_train=ts.ckks_vector(context,y_train)"
   ]
  },
  {
   "cell_type": "code",
   "execution_count": 8,
   "id": "8f37c5b9-f400-41df-afa0-68fb0daad2cd",
   "metadata": {},
   "outputs": [],
   "source": [
    "enc_y_test=ts.ckks_vector(context,y_test)"
   ]
  },
  {
   "cell_type": "code",
   "execution_count": 9,
   "id": "41e915c6-cd6d-440f-acd5-36da72a489f7",
   "metadata": {},
   "outputs": [],
   "source": [
    "X_train_t=X_train.T"
   ]
  },
  {
   "cell_type": "code",
   "execution_count": 10,
   "id": "b9199690-7ba2-4116-9b7b-7f389765fc0c",
   "metadata": {},
   "outputs": [],
   "source": [
    "enc_X_train_t=[]\n",
    "for i in X_train_t:\n",
    "    t=ts.ckks_vector(context,i)\n",
    "    enc_X_train_t.append(t)"
   ]
  },
  {
   "cell_type": "code",
   "execution_count": 11,
   "id": "bf8a8cba-4a5a-4198-84a7-0b6663133a2d",
   "metadata": {},
   "outputs": [
    {
     "name": "stdout",
     "output_type": "stream",
     "text": [
      "80 1\n"
     ]
    }
   ],
   "source": [
    "n_samples,n_features=X_train.shape\n",
    "print(n_samples,n_features)"
   ]
  },
  {
   "cell_type": "markdown",
   "id": "06c2e4c4-cf0b-4cfd-84ee-8d59a98aee57",
   "metadata": {},
   "source": [
    "### fit function:"
   ]
  },
  {
   "cell_type": "code",
   "execution_count": 12,
   "id": "0454359a-109e-4042-808b-730003f53693",
   "metadata": {},
   "outputs": [
    {
     "data": {
      "text/plain": [
       "array([0.])"
      ]
     },
     "execution_count": 12,
     "metadata": {},
     "output_type": "execute_result"
    }
   ],
   "source": [
    "weights=np.zeros(n_features)\n",
    "weights"
   ]
  },
  {
   "cell_type": "code",
   "execution_count": 13,
   "id": "33211663-d4bc-42c2-89fd-effa25787d3e",
   "metadata": {},
   "outputs": [],
   "source": [
    "bias=0\n",
    "var1=1/n_samples\n",
    "n_iters=1000\n",
    "lr=0.01"
   ]
  },
  {
   "cell_type": "markdown",
   "id": "7cbbb59c-4ba6-4a02-9ee8-7f06f010a309",
   "metadata": {},
   "source": [
    "### Functions Utilized by edge computing service:"
   ]
  },
  {
   "cell_type": "markdown",
   "id": "9fe33176-6637-4fa0-a5ae-8e93dd99a63e",
   "metadata": {},
   "source": [
    "#### subtraction of y_pred and enc_y_train:"
   ]
  },
  {
   "cell_type": "code",
   "execution_count": 14,
   "id": "fdd38496-c3fb-4732-a20a-929f036e0825",
   "metadata": {},
   "outputs": [],
   "source": [
    "def subtraction_of_y_pred_and_y_actual_and_its_sum(y_pred,enc_y_train):\n",
    "    y_train_1=enc_y_train.decrypt()\n",
    "    y_train_1=np.array(y_train_1)\n",
    "    y_pred_unenc=[]\n",
    "    for i in y_pred:\n",
    "        y=i.decrypt()\n",
    "        y_pred_unenc.append(y[0])\n",
    "\n",
    "    y_pred_unenc=np.array(y_pred_unenc)\n",
    "    res=y_pred_unenc-y_train_1\n",
    "\n",
    "    res_sum=res.sum()\n",
    "    return res,res_sum"
   ]
  },
  {
   "cell_type": "code",
   "execution_count": 15,
   "id": "be950cad-d957-4022-9401-4337ea676ae8",
   "metadata": {},
   "outputs": [],
   "source": [
    "def decrypting_1d_vector(enc_vec):\n",
    "    \n",
    "    # enc_vec=enc_vec.decrypt()\n",
    "    # enc_vec=np.array(enc_vec)\n",
    "    # return enc_vec\n",
    "    new_enc=[]\n",
    "    for i in enc_vec:\n",
    "        t=i.decrypt()\n",
    "        new_enc.append(t[0])\n",
    "\n",
    "    return new_enc"
   ]
  },
  {
   "cell_type": "markdown",
   "id": "c1348af9-055d-4928-9283-07e15e716d30",
   "metadata": {},
   "source": [
    "### Code and functions that are to be carried out in cloud environment:"
   ]
  },
  {
   "cell_type": "code",
   "execution_count": 16,
   "id": "63894003-cfa7-4403-9dc3-7d64ce1320fd",
   "metadata": {},
   "outputs": [
    {
     "name": "stdout",
     "output_type": "stream",
     "text": [
      "0 iteration running\n",
      "10 iteration running\n",
      "20 iteration running\n",
      "30 iteration running\n",
      "40 iteration running\n",
      "50 iteration running\n",
      "60 iteration running\n",
      "70 iteration running\n",
      "80 iteration running\n",
      "90 iteration running\n",
      "100 iteration running\n",
      "110 iteration running\n",
      "120 iteration running\n",
      "130 iteration running\n",
      "140 iteration running\n",
      "150 iteration running\n",
      "160 iteration running\n",
      "170 iteration running\n",
      "180 iteration running\n",
      "190 iteration running\n",
      "200 iteration running\n",
      "210 iteration running\n",
      "220 iteration running\n",
      "230 iteration running\n",
      "240 iteration running\n",
      "250 iteration running\n",
      "260 iteration running\n",
      "270 iteration running\n",
      "280 iteration running\n",
      "290 iteration running\n",
      "300 iteration running\n",
      "310 iteration running\n",
      "320 iteration running\n",
      "330 iteration running\n",
      "340 iteration running\n",
      "350 iteration running\n",
      "360 iteration running\n",
      "370 iteration running\n",
      "380 iteration running\n",
      "390 iteration running\n",
      "400 iteration running\n",
      "410 iteration running\n",
      "420 iteration running\n",
      "430 iteration running\n",
      "440 iteration running\n",
      "450 iteration running\n",
      "460 iteration running\n",
      "470 iteration running\n",
      "480 iteration running\n",
      "490 iteration running\n",
      "500 iteration running\n",
      "510 iteration running\n",
      "520 iteration running\n",
      "530 iteration running\n",
      "540 iteration running\n",
      "550 iteration running\n",
      "560 iteration running\n",
      "570 iteration running\n",
      "580 iteration running\n",
      "590 iteration running\n",
      "600 iteration running\n",
      "610 iteration running\n",
      "620 iteration running\n",
      "630 iteration running\n",
      "640 iteration running\n",
      "650 iteration running\n",
      "660 iteration running\n",
      "670 iteration running\n",
      "680 iteration running\n",
      "690 iteration running\n",
      "700 iteration running\n",
      "710 iteration running\n",
      "720 iteration running\n",
      "730 iteration running\n",
      "740 iteration running\n",
      "750 iteration running\n",
      "760 iteration running\n",
      "770 iteration running\n",
      "780 iteration running\n",
      "790 iteration running\n",
      "800 iteration running\n",
      "810 iteration running\n",
      "820 iteration running\n",
      "830 iteration running\n",
      "840 iteration running\n",
      "850 iteration running\n",
      "860 iteration running\n",
      "870 iteration running\n",
      "880 iteration running\n",
      "890 iteration running\n",
      "900 iteration running\n",
      "910 iteration running\n",
      "920 iteration running\n",
      "930 iteration running\n",
      "940 iteration running\n",
      "950 iteration running\n",
      "960 iteration running\n",
      "970 iteration running\n",
      "980 iteration running\n",
      "990 iteration running\n"
     ]
    }
   ],
   "source": [
    "for s in range(n_iters):\n",
    "    if s%10==0:\n",
    "        print(f'{s} iteration running')\n",
    "        \n",
    "    y_pred=[]\n",
    "    for i in enc_X_train:\n",
    "        t=i.dot(weights)\n",
    "        t=t+bias\n",
    "        y_pred.append(t)\n",
    "\n",
    "    res,res_sum=subtraction_of_y_pred_and_y_actual_and_its_sum(y_pred,enc_y_train)\n",
    "\n",
    "    # updating bias:\n",
    "    db=res_sum*var1\n",
    "    db=db*lr\n",
    "\n",
    "    bias=bias-db\n",
    "\n",
    "    # updating weights:\n",
    "    dw=[]\n",
    "    for i in enc_X_train_t:\n",
    "        t=i.dot(res)\n",
    "        dw.append(t)\n",
    "\n",
    "    dw=decrypting_1d_vector(dw)\n",
    "\n",
    "    for i in range(len(dw)):\n",
    "        dw[i]=dw[i]*var1\n",
    "\n",
    "    for i in range(len(dw)):\n",
    "        dw[i]=dw[i]*lr\n",
    "\n",
    "    for i in range(len(dw)):\n",
    "        weights[i]=weights[i]-dw[i]"
   ]
  },
  {
   "cell_type": "code",
   "execution_count": 17,
   "id": "e53a366c-e652-447b-b46e-f92801e40ce0",
   "metadata": {},
   "outputs": [
    {
     "data": {
      "text/plain": [
       "array([87.40395265])"
      ]
     },
     "execution_count": 17,
     "metadata": {},
     "output_type": "execute_result"
    }
   ],
   "source": [
    "weights"
   ]
  },
  {
   "cell_type": "code",
   "execution_count": 18,
   "id": "5e9240db-dea2-4ae6-9baa-321a2e14fb4f",
   "metadata": {},
   "outputs": [
    {
     "data": {
      "text/plain": [
       "0.9205897748769849"
      ]
     },
     "execution_count": 18,
     "metadata": {},
     "output_type": "execute_result"
    }
   ],
   "source": [
    "bias"
   ]
  },
  {
   "cell_type": "markdown",
   "id": "ba341d60-df74-45ee-9461-f7cfd5b8be22",
   "metadata": {},
   "source": [
    "### testing with encrypted data:"
   ]
  },
  {
   "cell_type": "markdown",
   "id": "36446291-6f41-41d1-bc4f-821fc75a9882",
   "metadata": {},
   "source": [
    "predictions=enc_X_test*weights+bias"
   ]
  },
  {
   "cell_type": "code",
   "execution_count": 19,
   "id": "0a515cde-f125-4c26-aaaa-14cd9a14def6",
   "metadata": {},
   "outputs": [],
   "source": [
    "predictions=[]\n",
    "for i in X_test:\n",
    "    t=i.dot(weights)\n",
    "    t=t+bias\n",
    "    predictions.append(t)"
   ]
  },
  {
   "cell_type": "code",
   "execution_count": 20,
   "id": "5ceb5136-9c7d-4496-948c-aa89b179a230",
   "metadata": {},
   "outputs": [
    {
     "name": "stdout",
     "output_type": "stream",
     "text": [
      "22.57860746943084\n",
      "-54.71408046760804\n",
      "41.51031456594682\n",
      "87.62059294584458\n",
      "-195.09893977587956\n"
     ]
    }
   ],
   "source": [
    "for i in predictions[:5]:\n",
    "    print(i)"
   ]
  },
  {
   "cell_type": "code",
   "execution_count": 21,
   "id": "4f09d904-da88-4607-a0cd-2ba48a642714",
   "metadata": {},
   "outputs": [],
   "source": [
    "enc_predictions=[]\n",
    "for i in enc_X_test:\n",
    "    t=i.dot(weights)\n",
    "    t=t+bias\n",
    "    enc_predictions.append(t)"
   ]
  },
  {
   "cell_type": "code",
   "execution_count": 22,
   "id": "4ad143b0-cf70-423a-95be-4ed8549e4e33",
   "metadata": {},
   "outputs": [
    {
     "name": "stdout",
     "output_type": "stream",
     "text": [
      "<tenseal.tensors.ckksvector.CKKSVector object at 0x0000021B0D1D6650>\n",
      "<tenseal.tensors.ckksvector.CKKSVector object at 0x0000021B0D1D5FC0>\n",
      "<tenseal.tensors.ckksvector.CKKSVector object at 0x0000021B0D1D5FF0>\n",
      "<tenseal.tensors.ckksvector.CKKSVector object at 0x0000021B0D1D6020>\n",
      "<tenseal.tensors.ckksvector.CKKSVector object at 0x0000021B0D1D6A40>\n"
     ]
    }
   ],
   "source": [
    "for i in enc_predictions[:5]:\n",
    "    print(i)"
   ]
  },
  {
   "cell_type": "markdown",
   "id": "1e9eb7ac-5fd8-4610-8aa3-915e1920dc48",
   "metadata": {},
   "source": [
    "#### decrypting obtained values:"
   ]
  },
  {
   "cell_type": "code",
   "execution_count": 23,
   "id": "4dd1a43c-c670-4bd3-a190-3211f925ef8b",
   "metadata": {},
   "outputs": [],
   "source": [
    "enc_predictions=decrypting_1d_vector(enc_predictions)"
   ]
  },
  {
   "cell_type": "code",
   "execution_count": 24,
   "id": "96c910c6-1ed9-4999-a955-7cae2f00ad64",
   "metadata": {},
   "outputs": [
    {
     "name": "stdout",
     "output_type": "stream",
     "text": [
      "-6.400439740897028 22.57861023415664\n",
      "-75.83288846408419 -54.7140879505215\n",
      "43.02438482670904 41.51031984271316\n",
      "81.72162477765585 87.62060459881226\n",
      "-197.9801503584435 -195.09896609411265\n",
      "32.09705138165424 49.29334460527997\n",
      "-102.66748011552487 -77.49446982406823\n",
      "15.35071412820563 11.820996333622222\n",
      "6.892323119468568 26.188371517108642\n",
      "26.28851287900197 7.580735769057359\n",
      "-80.36899984455164 -80.03770925266403\n",
      "30.84591703151775 62.51596600606065\n",
      "95.06862969774186 78.46214777048617\n",
      "69.43879729019481 62.472928584480655\n",
      "-45.80868282540775 -29.213326584769234\n",
      "63.18804079600157 42.12589198696365\n",
      "91.41603362148403 91.27887212575084\n",
      "-108.37740214379002 -121.61743300569694\n",
      "142.75464960351508 116.39045781413283\n",
      "87.77205622112535 74.42809257753116\n"
     ]
    }
   ],
   "source": [
    "for a,b in zip(y_test,enc_predictions):\n",
    "    print(a,b)"
   ]
  },
  {
   "cell_type": "code",
   "execution_count": 25,
   "id": "5a15ebf3-fbc5-4e34-affb-c1604b36cbf9",
   "metadata": {},
   "outputs": [
    {
     "name": "stdout",
     "output_type": "stream",
     "text": [
      "304.5110881477928\n"
     ]
    }
   ],
   "source": [
    "def mse(y_test, enc_predictions):\n",
    "    return np.mean((y_test-predictions)**2)\n",
    "\n",
    "mse = mse(y_test, predictions)\n",
    "print(mse)"
   ]
  },
  {
   "cell_type": "code",
   "execution_count": 26,
   "id": "8dd50608-8f82-4157-9d00-13a70d59272a",
   "metadata": {},
   "outputs": [
    {
     "data": {
      "image/png": "[encoded data removed]",
      "text/plain": [
       "<Figure size 432x288 with 1 Axes>"
      ]
     },
     "metadata": {
      "needs_background": "dark"
     },
     "output_type": "display_data"
    }
   ],
   "source": [
    "plt.scatter(X_test,y_test,color='green',label='actual data')\n",
    "plt.plot(X_test,enc_predictions,color='red',linewidth=2,label='Prediction')\n",
    "plt.legend()\n",
    "plt.show()"
   ]
  }
 ],
 "metadata": {
  "kernelspec": {
   "display_name": "Python 3 (ipykernel)",
   "language": "python",
   "name": "python3"
  },
  "language_info": {
   "codemirror_mode": {
    "name": "ipython",
    "version": 3
   },
   "file_extension": ".py",
   "mimetype": "text/x-python",
   "name": "python",
   "nbconvert_exporter": "python",
   "pygments_lexer": "ipython3",
   "version": "3.10.0"
  }
 },
 "nbformat": 4,
 "nbformat_minor": 5
}
