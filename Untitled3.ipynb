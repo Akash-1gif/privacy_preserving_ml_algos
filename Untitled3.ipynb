{
 "cells": [
  {
   "cell_type": "code",
   "execution_count": 1,
   "id": "gZtk8vEOjdkO",
   "metadata": {
    "colab": {
     "base_uri": "https://localhost:8080/"
    },
    "id": "gZtk8vEOjdkO",
    "outputId": "e8411d68-1a73-4c3d-836d-f37db810d533"
   },
   "outputs": [
    {
     "name": "stdout",
     "output_type": "stream",
     "text": [
      "Requirement already satisfied: tenseal in c:\\users\\mypc\\appdata\\local\\programs\\python\\python310\\lib\\site-packages (0.3.14)\n"
     ]
    }
   ],
   "source": [
    "!pip install tenseal"
   ]
  },
  {
   "cell_type": "code",
   "execution_count": 2,
   "id": "c454fd96-f523-4d51-9982-639659289ab3",
   "metadata": {
    "id": "c454fd96-f523-4d51-9982-639659289ab3"
   },
   "outputs": [],
   "source": [
    "import numpy as np\n",
    "from sklearn.model_selection import train_test_split\n",
    "from sklearn import datasets\n",
    "import matplotlib.pyplot as plt\n",
    "import torch\n",
    "plt.style.use(\"dark_background\")"
   ]
  },
  {
   "cell_type": "code",
   "execution_count": 3,
   "id": "78a3b598-b368-458e-90c0-d3a6a35e6189",
   "metadata": {
    "id": "78a3b598-b368-458e-90c0-d3a6a35e6189"
   },
   "outputs": [],
   "source": [
    "X,y=datasets.make_regression(n_samples=100,n_features=1,noise=20,random_state=1234)\n",
    "X_train,X_test,y_train,y_test=train_test_split(X,y,test_size=0.2,random_state=4)"
   ]
  },
  {
   "cell_type": "code",
   "execution_count": 4,
   "id": "a7387702-1013-46f3-a2cc-5b80cc5b16c2",
   "metadata": {
    "colab": {
     "base_uri": "https://localhost:8080/",
     "height": 522
    },
    "id": "a7387702-1013-46f3-a2cc-5b80cc5b16c2",
    "outputId": "987b6d78-2b1b-4583-f805-ad4e7d612051"
   },
   "outputs": [
    {
     "data": {
      "image/png": "[encoded data removed]",
      "text/plain": [
       "<Figure size 576x432 with 1 Axes>"
      ]
     },
     "metadata": {
      "needs_background": "dark"
     },
     "output_type": "display_data"
    }
   ],
   "source": [
    "fig=plt.figure(figsize=(8,6))\n",
    "plt.scatter(X[:,0],y)\n",
    "plt.show()"
   ]
  },
  {
   "cell_type": "code",
   "execution_count": null,
   "id": "mjPVT8TZjcPa",
   "metadata": {
    "id": "mjPVT8TZjcPa"
   },
   "outputs": [],
   "source": []
  },
  {
   "cell_type": "code",
   "execution_count": 5,
   "id": "65dd226e-2c2d-45bb-b3e1-80fa7d2a2194",
   "metadata": {
    "id": "65dd226e-2c2d-45bb-b3e1-80fa7d2a2194"
   },
   "outputs": [],
   "source": [
    "import tenseal as ts\n",
    "\n",
    "context=ts.context(\n",
    "        ts.SCHEME_TYPE.CKKS,\n",
    "        poly_modulus_degree=8192,\n",
    "        coeff_mod_bit_sizes=[60,40,40,60]\n",
    "    )\n",
    "context.generate_galois_keys()\n",
    "context.global_scale=2**40"
   ]
  },
  {
   "cell_type": "code",
   "execution_count": 6,
   "id": "9064297e-7edf-4407-9b0b-061c6006b151",
   "metadata": {
    "colab": {
     "base_uri": "https://localhost:8080/"
    },
    "id": "9064297e-7edf-4407-9b0b-061c6006b151",
    "outputId": "d98b4bc0-008c-4d5d-ede1-a5c1e0ea81bb"
   },
   "outputs": [
    {
     "data": {
      "text/plain": [
       "(80, 1)"
      ]
     },
     "execution_count": 6,
     "metadata": {},
     "output_type": "execute_result"
    }
   ],
   "source": [
    "X_train_T=X_train.T\n",
    "len(X_train),len(X_train_T)"
   ]
  },
  {
   "cell_type": "markdown",
   "id": "ce4f1117-50c2-4851-abae-dd1435b477e8",
   "metadata": {
    "id": "ce4f1117-50c2-4851-abae-dd1435b477e8"
   },
   "source": [
    "#### Encrypting data:"
   ]
  },
  {
   "cell_type": "code",
   "execution_count": 7,
   "id": "270bb174-72e8-4f7f-8a8c-c312d03a76f6",
   "metadata": {
    "id": "270bb174-72e8-4f7f-8a8c-c312d03a76f6"
   },
   "outputs": [],
   "source": [
    "enc_X_train=[]\n",
    "for i in X_train:\n",
    "    t=ts.ckks_vector(context,i)\n",
    "    enc_X_train.append(t)"
   ]
  },
  {
   "cell_type": "code",
   "execution_count": 8,
   "id": "f24c9081-b394-4979-aa57-9005683fc58f",
   "metadata": {
    "id": "f24c9081-b394-4979-aa57-9005683fc58f"
   },
   "outputs": [],
   "source": [
    "enc_X_train_T=[]\n",
    "for i in X_train_T:\n",
    "    t=ts.ckks_vector(context,i)\n",
    "    enc_X_train_T.append(t)"
   ]
  },
  {
   "cell_type": "code",
   "execution_count": 9,
   "id": "630595fd-a41b-401f-b3ca-bce4da83c2b8",
   "metadata": {
    "colab": {
     "base_uri": "https://localhost:8080/"
    },
    "id": "630595fd-a41b-401f-b3ca-bce4da83c2b8",
    "outputId": "55bde632-b3c0-4780-c230-31d7916ce467"
   },
   "outputs": [
    {
     "data": {
      "text/plain": [
       "(80, 1)"
      ]
     },
     "execution_count": 9,
     "metadata": {},
     "output_type": "execute_result"
    }
   ],
   "source": [
    "len(enc_X_train),len(enc_X_train_T)"
   ]
  },
  {
   "cell_type": "code",
   "execution_count": 10,
   "id": "c7f06117-0cef-4b82-99b6-906f496b33cd",
   "metadata": {
    "id": "c7f06117-0cef-4b82-99b6-906f496b33cd"
   },
   "outputs": [],
   "source": [
    "enc_y_train=[]\n",
    "for i in y_train:\n",
    "    t=ts.ckks_vector(context,[i])\n",
    "    enc_y_train.append(t)"
   ]
  },
  {
   "cell_type": "code",
   "execution_count": 11,
   "id": "2bf40d9b-e2ad-4841-8228-38ad8bc3d667",
   "metadata": {
    "colab": {
     "base_uri": "https://localhost:8080/"
    },
    "id": "2bf40d9b-e2ad-4841-8228-38ad8bc3d667",
    "outputId": "94b56969-9771-4109-d01e-07332ef92907"
   },
   "outputs": [
    {
     "data": {
      "text/plain": [
       "(80, 1)"
      ]
     },
     "execution_count": 11,
     "metadata": {},
     "output_type": "execute_result"
    }
   ],
   "source": [
    "n_samples,n_features=X_train.shape\n",
    "n_samples,n_features"
   ]
  },
  {
   "cell_type": "code",
   "execution_count": 12,
   "id": "e23f285b-dff4-47ef-8cc5-865cd0800421",
   "metadata": {
    "id": "e23f285b-dff4-47ef-8cc5-865cd0800421"
   },
   "outputs": [],
   "source": [
    "weights=list(np.zeros(n_features))\n",
    "weights=ts.ckks_vector(context,weights)"
   ]
  },
  {
   "cell_type": "code",
   "execution_count": 13,
   "id": "410a20b6-4c27-4e24-8ed0-b8e974b8c57e",
   "metadata": {
    "colab": {
     "base_uri": "https://localhost:8080/"
    },
    "id": "410a20b6-4c27-4e24-8ed0-b8e974b8c57e",
    "outputId": "29faa85f-8c72-4ca5-9de9-11c9183196aa"
   },
   "outputs": [
    {
     "data": {
      "text/plain": [
       "0"
      ]
     },
     "execution_count": 13,
     "metadata": {},
     "output_type": "execute_result"
    }
   ],
   "source": [
    "bias=0\n",
    "bias"
   ]
  },
  {
   "cell_type": "code",
   "execution_count": 14,
   "id": "c389e571-11ff-44c9-9846-b6d8acdeb1f0",
   "metadata": {
    "id": "c389e571-11ff-44c9-9846-b6d8acdeb1f0"
   },
   "outputs": [],
   "source": [
    "lr=0.01\n",
    "n_iters=1000\n",
    "multiplier=(1/n_samples)*lr"
   ]
  },
  {
   "cell_type": "markdown",
   "id": "5368fb4f-8a19-4b5a-af2c-15f236d1241c",
   "metadata": {
    "id": "5368fb4f-8a19-4b5a-af2c-15f236d1241c"
   },
   "source": [
    "### Client Side Code:"
   ]
  },
  {
   "cell_type": "code",
   "execution_count": 15,
   "id": "63b117d9-2fc7-4f03-96bc-53de3aee1417",
   "metadata": {
    "id": "63b117d9-2fc7-4f03-96bc-53de3aee1417"
   },
   "outputs": [],
   "source": [
    "def converter(l):\n",
    "    ue_l=[]\n",
    "    for i in l:\n",
    "        p=i.decrypt()\n",
    "        ue_l.append(round(p[0],5))\n",
    "    # print(ue_l)\n",
    "    ue_l=ts.ckks_vector(context,ue_l)\n",
    "    return ue_l"
   ]
  },
  {
   "cell_type": "code",
   "execution_count": 16,
   "id": "784aa3af-203d-4df7-a60b-021bacc89960",
   "metadata": {
    "id": "784aa3af-203d-4df7-a60b-021bacc89960"
   },
   "outputs": [],
   "source": [
    "def converter2(l):\n",
    "    ue_l=[]\n",
    "    for i in l:\n",
    "        p=i.decrypt()\n",
    "        ue_l.append(round(p[0],5))\n",
    "    # print(ue_l)\n",
    "    ue_l=ts.ckks_vector(context,ue_l)\n",
    "    return ue_l"
   ]
  },
  {
   "cell_type": "code",
   "execution_count": 17,
   "id": "Xhb8JkKzkMs2",
   "metadata": {
    "id": "Xhb8JkKzkMs2"
   },
   "outputs": [],
   "source": [
    "def converter3(l):\n",
    "    p=l.decrypt()\n",
    "    p=round(p[0],5)\n",
    "    p=ts.ckks_vector(context,[p])\n",
    "    return p"
   ]
  },
  {
   "cell_type": "markdown",
   "id": "05b782dd-f8eb-487d-ab24-df636ece3df1",
   "metadata": {
    "id": "05b782dd-f8eb-487d-ab24-df636ece3df1"
   },
   "source": [
    "### Server Side Code:"
   ]
  },
  {
   "cell_type": "code",
   "execution_count": 18,
   "id": "a8b296d4-cc14-447f-8da2-92a54fb29862",
   "metadata": {
    "colab": {
     "base_uri": "https://localhost:8080/"
    },
    "id": "a8b296d4-cc14-447f-8da2-92a54fb29862",
    "outputId": "7a534cb5-7ec2-4cbb-dce5-b63911fc89db"
   },
   "outputs": [
    {
     "name": "stdout",
     "output_type": "stream",
     "text": [
      "0 iteration running\n",
      "1 iteration running\n",
      "2 iteration running\n",
      "3 iteration running\n",
      "4 iteration running\n",
      "5 iteration running\n",
      "6 iteration running\n",
      "7 iteration running\n",
      "8 iteration running\n",
      "9 iteration running\n",
      "10 iteration running\n",
      "11 iteration running\n",
      "12 iteration running\n",
      "13 iteration running\n",
      "14 iteration running\n",
      "15 iteration running\n",
      "16 iteration running\n",
      "17 iteration running\n",
      "18 iteration running\n",
      "19 iteration running\n",
      "20 iteration running\n",
      "21 iteration running\n",
      "22 iteration running\n",
      "23 iteration running\n",
      "24 iteration running\n",
      "25 iteration running\n",
      "26 iteration running\n",
      "27 iteration running\n",
      "28 iteration running\n",
      "29 iteration running\n",
      "30 iteration running\n",
      "31 iteration running\n",
      "32 iteration running\n",
      "33 iteration running\n",
      "34 iteration running\n",
      "35 iteration running\n",
      "36 iteration running\n",
      "37 iteration running\n",
      "38 iteration running\n",
      "39 iteration running\n",
      "40 iteration running\n",
      "41 iteration running\n",
      "42 iteration running\n",
      "43 iteration running\n",
      "44 iteration running\n",
      "45 iteration running\n",
      "46 iteration running\n",
      "47 iteration running\n",
      "48 iteration running\n",
      "49 iteration running\n",
      "50 iteration running\n",
      "51 iteration running\n",
      "52 iteration running\n",
      "53 iteration running\n",
      "54 iteration running\n",
      "55 iteration running\n",
      "56 iteration running\n",
      "57 iteration running\n",
      "58 iteration running\n",
      "59 iteration running\n",
      "60 iteration running\n",
      "61 iteration running\n",
      "62 iteration running\n",
      "63 iteration running\n",
      "64 iteration running\n",
      "65 iteration running\n",
      "66 iteration running\n",
      "67 iteration running\n",
      "68 iteration running\n",
      "69 iteration running\n",
      "70 iteration running\n",
      "71 iteration running\n",
      "72 iteration running\n",
      "73 iteration running\n",
      "74 iteration running\n",
      "75 iteration running\n",
      "76 iteration running\n",
      "77 iteration running\n",
      "78 iteration running\n",
      "79 iteration running\n",
      "80 iteration running\n",
      "81 iteration running\n",
      "82 iteration running\n",
      "83 iteration running\n",
      "84 iteration running\n",
      "85 iteration running\n",
      "86 iteration running\n",
      "87 iteration running\n",
      "88 iteration running\n",
      "89 iteration running\n",
      "90 iteration running\n",
      "91 iteration running\n",
      "92 iteration running\n",
      "93 iteration running\n",
      "94 iteration running\n",
      "95 iteration running\n",
      "96 iteration running\n",
      "97 iteration running\n",
      "98 iteration running\n",
      "99 iteration running\n",
      "100 iteration running\n",
      "101 iteration running\n",
      "102 iteration running\n",
      "103 iteration running\n",
      "104 iteration running\n",
      "105 iteration running\n",
      "106 iteration running\n",
      "107 iteration running\n",
      "108 iteration running\n",
      "109 iteration running\n",
      "110 iteration running\n",
      "111 iteration running\n",
      "112 iteration running\n",
      "113 iteration running\n",
      "114 iteration running\n",
      "115 iteration running\n",
      "116 iteration running\n",
      "117 iteration running\n",
      "118 iteration running\n",
      "119 iteration running\n",
      "120 iteration running\n",
      "121 iteration running\n",
      "122 iteration running\n",
      "123 iteration running\n",
      "124 iteration running\n",
      "125 iteration running\n",
      "126 iteration running\n",
      "127 iteration running\n",
      "128 iteration running\n",
      "129 iteration running\n",
      "130 iteration running\n",
      "131 iteration running\n",
      "132 iteration running\n",
      "133 iteration running\n",
      "134 iteration running\n",
      "135 iteration running\n",
      "136 iteration running\n",
      "137 iteration running\n",
      "138 iteration running\n",
      "139 iteration running\n",
      "140 iteration running\n",
      "141 iteration running\n",
      "142 iteration running\n",
      "143 iteration running\n",
      "144 iteration running\n",
      "145 iteration running\n",
      "146 iteration running\n",
      "147 iteration running\n",
      "148 iteration running\n",
      "149 iteration running\n",
      "150 iteration running\n",
      "151 iteration running\n",
      "152 iteration running\n",
      "153 iteration running\n",
      "154 iteration running\n",
      "155 iteration running\n",
      "156 iteration running\n",
      "157 iteration running\n",
      "158 iteration running\n",
      "159 iteration running\n",
      "160 iteration running\n",
      "161 iteration running\n",
      "162 iteration running\n",
      "163 iteration running\n",
      "164 iteration running\n",
      "165 iteration running\n",
      "166 iteration running\n",
      "167 iteration running\n",
      "168 iteration running\n",
      "169 iteration running\n",
      "170 iteration running\n",
      "171 iteration running\n",
      "172 iteration running\n",
      "173 iteration running\n",
      "174 iteration running\n",
      "175 iteration running\n",
      "176 iteration running\n",
      "177 iteration running\n",
      "178 iteration running\n",
      "179 iteration running\n",
      "180 iteration running\n",
      "181 iteration running\n",
      "182 iteration running\n",
      "183 iteration running\n",
      "184 iteration running\n",
      "185 iteration running\n",
      "186 iteration running\n",
      "187 iteration running\n",
      "188 iteration running\n",
      "189 iteration running\n",
      "190 iteration running\n",
      "191 iteration running\n",
      "192 iteration running\n",
      "193 iteration running\n",
      "194 iteration running\n",
      "195 iteration running\n",
      "196 iteration running\n",
      "197 iteration running\n",
      "198 iteration running\n",
      "199 iteration running\n",
      "200 iteration running\n",
      "201 iteration running\n",
      "202 iteration running\n",
      "203 iteration running\n",
      "204 iteration running\n",
      "205 iteration running\n",
      "206 iteration running\n",
      "207 iteration running\n",
      "208 iteration running\n",
      "209 iteration running\n",
      "210 iteration running\n",
      "211 iteration running\n",
      "212 iteration running\n",
      "213 iteration running\n",
      "214 iteration running\n",
      "215 iteration running\n",
      "216 iteration running\n",
      "217 iteration running\n",
      "218 iteration running\n",
      "219 iteration running\n",
      "220 iteration running\n",
      "221 iteration running\n",
      "222 iteration running\n",
      "223 iteration running\n",
      "224 iteration running\n",
      "225 iteration running\n",
      "226 iteration running\n",
      "227 iteration running\n",
      "228 iteration running\n",
      "229 iteration running\n",
      "230 iteration running\n",
      "231 iteration running\n",
      "232 iteration running\n",
      "233 iteration running\n",
      "234 iteration running\n",
      "235 iteration running\n",
      "236 iteration running\n",
      "237 iteration running\n",
      "238 iteration running\n",
      "239 iteration running\n",
      "240 iteration running\n",
      "241 iteration running\n",
      "242 iteration running\n",
      "243 iteration running\n",
      "244 iteration running\n",
      "245 iteration running\n",
      "246 iteration running\n",
      "247 iteration running\n",
      "248 iteration running\n",
      "249 iteration running\n",
      "250 iteration running\n",
      "251 iteration running\n",
      "252 iteration running\n",
      "253 iteration running\n",
      "254 iteration running\n",
      "255 iteration running\n",
      "256 iteration running\n",
      "257 iteration running\n",
      "258 iteration running\n",
      "259 iteration running\n",
      "260 iteration running\n",
      "261 iteration running\n",
      "262 iteration running\n",
      "263 iteration running\n",
      "264 iteration running\n",
      "265 iteration running\n",
      "266 iteration running\n",
      "267 iteration running\n",
      "268 iteration running\n",
      "269 iteration running\n",
      "270 iteration running\n",
      "271 iteration running\n",
      "272 iteration running\n",
      "273 iteration running\n",
      "274 iteration running\n",
      "275 iteration running\n",
      "276 iteration running\n",
      "277 iteration running\n",
      "278 iteration running\n",
      "279 iteration running\n",
      "280 iteration running\n",
      "281 iteration running\n",
      "282 iteration running\n",
      "283 iteration running\n",
      "284 iteration running\n",
      "285 iteration running\n",
      "286 iteration running\n",
      "287 iteration running\n",
      "288 iteration running\n",
      "289 iteration running\n",
      "290 iteration running\n",
      "291 iteration running\n",
      "292 iteration running\n",
      "293 iteration running\n",
      "294 iteration running\n",
      "295 iteration running\n",
      "296 iteration running\n",
      "297 iteration running\n",
      "298 iteration running\n",
      "299 iteration running\n",
      "300 iteration running\n",
      "301 iteration running\n",
      "302 iteration running\n",
      "303 iteration running\n",
      "304 iteration running\n",
      "305 iteration running\n",
      "306 iteration running\n",
      "307 iteration running\n",
      "308 iteration running\n",
      "309 iteration running\n",
      "310 iteration running\n",
      "311 iteration running\n",
      "312 iteration running\n",
      "313 iteration running\n",
      "314 iteration running\n",
      "315 iteration running\n",
      "316 iteration running\n",
      "317 iteration running\n",
      "318 iteration running\n",
      "319 iteration running\n",
      "320 iteration running\n",
      "321 iteration running\n",
      "322 iteration running\n",
      "323 iteration running\n",
      "324 iteration running\n",
      "325 iteration running\n",
      "326 iteration running\n",
      "327 iteration running\n",
      "328 iteration running\n",
      "329 iteration running\n",
      "330 iteration running\n",
      "331 iteration running\n",
      "332 iteration running\n",
      "333 iteration running\n",
      "334 iteration running\n",
      "335 iteration running\n",
      "336 iteration running\n",
      "337 iteration running\n",
      "338 iteration running\n",
      "339 iteration running\n",
      "340 iteration running\n",
      "341 iteration running\n",
      "342 iteration running\n",
      "343 iteration running\n",
      "344 iteration running\n",
      "345 iteration running\n",
      "346 iteration running\n",
      "347 iteration running\n",
      "348 iteration running\n",
      "349 iteration running\n",
      "350 iteration running\n",
      "351 iteration running\n",
      "352 iteration running\n",
      "353 iteration running\n",
      "354 iteration running\n",
      "355 iteration running\n",
      "356 iteration running\n",
      "357 iteration running\n",
      "358 iteration running\n",
      "359 iteration running\n",
      "360 iteration running\n",
      "361 iteration running\n",
      "362 iteration running\n",
      "363 iteration running\n",
      "364 iteration running\n",
      "365 iteration running\n",
      "366 iteration running\n",
      "367 iteration running\n",
      "368 iteration running\n",
      "369 iteration running\n",
      "370 iteration running\n",
      "371 iteration running\n",
      "372 iteration running\n",
      "373 iteration running\n",
      "374 iteration running\n",
      "375 iteration running\n",
      "376 iteration running\n",
      "377 iteration running\n",
      "378 iteration running\n",
      "379 iteration running\n",
      "380 iteration running\n",
      "381 iteration running\n",
      "382 iteration running\n",
      "383 iteration running\n",
      "384 iteration running\n",
      "385 iteration running\n",
      "386 iteration running\n",
      "387 iteration running\n",
      "388 iteration running\n",
      "389 iteration running\n",
      "390 iteration running\n",
      "391 iteration running\n",
      "392 iteration running\n",
      "393 iteration running\n",
      "394 iteration running\n",
      "395 iteration running\n",
      "396 iteration running\n",
      "397 iteration running\n",
      "398 iteration running\n",
      "399 iteration running\n",
      "400 iteration running\n",
      "401 iteration running\n",
      "402 iteration running\n",
      "403 iteration running\n",
      "404 iteration running\n",
      "405 iteration running\n",
      "406 iteration running\n",
      "407 iteration running\n",
      "408 iteration running\n",
      "409 iteration running\n",
      "410 iteration running\n",
      "411 iteration running\n",
      "412 iteration running\n",
      "413 iteration running\n",
      "414 iteration running\n",
      "415 iteration running\n",
      "416 iteration running\n",
      "417 iteration running\n",
      "418 iteration running\n",
      "419 iteration running\n",
      "420 iteration running\n",
      "421 iteration running\n",
      "422 iteration running\n",
      "423 iteration running\n",
      "424 iteration running\n",
      "425 iteration running\n",
      "426 iteration running\n",
      "427 iteration running\n",
      "428 iteration running\n",
      "429 iteration running\n",
      "430 iteration running\n",
      "431 iteration running\n",
      "432 iteration running\n",
      "433 iteration running\n",
      "434 iteration running\n",
      "435 iteration running\n",
      "436 iteration running\n",
      "437 iteration running\n",
      "438 iteration running\n",
      "439 iteration running\n",
      "440 iteration running\n",
      "441 iteration running\n",
      "442 iteration running\n",
      "443 iteration running\n",
      "444 iteration running\n",
      "445 iteration running\n",
      "446 iteration running\n",
      "447 iteration running\n",
      "448 iteration running\n",
      "449 iteration running\n",
      "450 iteration running\n",
      "451 iteration running\n",
      "452 iteration running\n",
      "453 iteration running\n",
      "454 iteration running\n",
      "455 iteration running\n",
      "456 iteration running\n",
      "457 iteration running\n",
      "458 iteration running\n",
      "459 iteration running\n",
      "460 iteration running\n",
      "461 iteration running\n",
      "462 iteration running\n",
      "463 iteration running\n",
      "464 iteration running\n",
      "465 iteration running\n",
      "466 iteration running\n",
      "467 iteration running\n",
      "468 iteration running\n",
      "469 iteration running\n",
      "470 iteration running\n",
      "471 iteration running\n",
      "472 iteration running\n",
      "473 iteration running\n",
      "474 iteration running\n",
      "475 iteration running\n",
      "476 iteration running\n",
      "477 iteration running\n",
      "478 iteration running\n",
      "479 iteration running\n",
      "480 iteration running\n",
      "481 iteration running\n",
      "482 iteration running\n",
      "483 iteration running\n",
      "484 iteration running\n",
      "485 iteration running\n",
      "486 iteration running\n",
      "487 iteration running\n",
      "488 iteration running\n",
      "489 iteration running\n",
      "490 iteration running\n",
      "491 iteration running\n",
      "492 iteration running\n",
      "493 iteration running\n",
      "494 iteration running\n",
      "495 iteration running\n",
      "496 iteration running\n",
      "497 iteration running\n",
      "498 iteration running\n",
      "499 iteration running\n",
      "500 iteration running\n",
      "501 iteration running\n",
      "502 iteration running\n",
      "503 iteration running\n",
      "504 iteration running\n",
      "505 iteration running\n",
      "506 iteration running\n",
      "507 iteration running\n",
      "508 iteration running\n",
      "509 iteration running\n",
      "510 iteration running\n",
      "511 iteration running\n",
      "512 iteration running\n",
      "513 iteration running\n",
      "514 iteration running\n",
      "515 iteration running\n",
      "516 iteration running\n",
      "517 iteration running\n",
      "518 iteration running\n",
      "519 iteration running\n",
      "520 iteration running\n",
      "521 iteration running\n",
      "522 iteration running\n",
      "523 iteration running\n",
      "524 iteration running\n",
      "525 iteration running\n",
      "526 iteration running\n",
      "527 iteration running\n",
      "528 iteration running\n",
      "529 iteration running\n",
      "530 iteration running\n",
      "531 iteration running\n",
      "532 iteration running\n",
      "533 iteration running\n",
      "534 iteration running\n",
      "535 iteration running\n",
      "536 iteration running\n",
      "537 iteration running\n",
      "538 iteration running\n",
      "539 iteration running\n",
      "540 iteration running\n",
      "541 iteration running\n",
      "542 iteration running\n",
      "543 iteration running\n",
      "544 iteration running\n",
      "545 iteration running\n",
      "546 iteration running\n",
      "547 iteration running\n",
      "548 iteration running\n",
      "549 iteration running\n",
      "550 iteration running\n",
      "551 iteration running\n",
      "552 iteration running\n",
      "553 iteration running\n",
      "554 iteration running\n",
      "555 iteration running\n",
      "556 iteration running\n",
      "557 iteration running\n",
      "558 iteration running\n",
      "559 iteration running\n",
      "560 iteration running\n",
      "561 iteration running\n",
      "562 iteration running\n",
      "563 iteration running\n",
      "564 iteration running\n",
      "565 iteration running\n",
      "566 iteration running\n",
      "567 iteration running\n",
      "568 iteration running\n",
      "569 iteration running\n",
      "570 iteration running\n",
      "571 iteration running\n",
      "572 iteration running\n",
      "573 iteration running\n",
      "574 iteration running\n",
      "575 iteration running\n",
      "576 iteration running\n",
      "577 iteration running\n",
      "578 iteration running\n",
      "579 iteration running\n",
      "580 iteration running\n",
      "581 iteration running\n",
      "582 iteration running\n",
      "583 iteration running\n",
      "584 iteration running\n",
      "585 iteration running\n",
      "586 iteration running\n",
      "587 iteration running\n",
      "588 iteration running\n",
      "589 iteration running\n",
      "590 iteration running\n",
      "591 iteration running\n",
      "592 iteration running\n",
      "593 iteration running\n",
      "594 iteration running\n",
      "595 iteration running\n",
      "596 iteration running\n",
      "597 iteration running\n",
      "598 iteration running\n",
      "599 iteration running\n",
      "600 iteration running\n",
      "601 iteration running\n",
      "602 iteration running\n",
      "603 iteration running\n",
      "604 iteration running\n",
      "605 iteration running\n",
      "606 iteration running\n",
      "607 iteration running\n",
      "608 iteration running\n",
      "609 iteration running\n",
      "610 iteration running\n",
      "611 iteration running\n",
      "612 iteration running\n",
      "613 iteration running\n",
      "614 iteration running\n",
      "615 iteration running\n",
      "616 iteration running\n",
      "617 iteration running\n",
      "618 iteration running\n",
      "619 iteration running\n",
      "620 iteration running\n",
      "621 iteration running\n",
      "622 iteration running\n",
      "623 iteration running\n",
      "624 iteration running\n",
      "625 iteration running\n",
      "626 iteration running\n",
      "627 iteration running\n",
      "628 iteration running\n",
      "629 iteration running\n",
      "630 iteration running\n",
      "631 iteration running\n",
      "632 iteration running\n",
      "633 iteration running\n",
      "634 iteration running\n",
      "635 iteration running\n",
      "636 iteration running\n",
      "637 iteration running\n",
      "638 iteration running\n",
      "639 iteration running\n",
      "640 iteration running\n",
      "641 iteration running\n",
      "642 iteration running\n",
      "643 iteration running\n",
      "644 iteration running\n",
      "645 iteration running\n",
      "646 iteration running\n",
      "647 iteration running\n",
      "648 iteration running\n",
      "649 iteration running\n",
      "650 iteration running\n",
      "651 iteration running\n",
      "652 iteration running\n",
      "653 iteration running\n",
      "654 iteration running\n",
      "655 iteration running\n",
      "656 iteration running\n",
      "657 iteration running\n",
      "658 iteration running\n",
      "659 iteration running\n",
      "660 iteration running\n",
      "661 iteration running\n",
      "662 iteration running\n",
      "663 iteration running\n",
      "664 iteration running\n",
      "665 iteration running\n",
      "666 iteration running\n",
      "667 iteration running\n",
      "668 iteration running\n",
      "669 iteration running\n",
      "670 iteration running\n",
      "671 iteration running\n",
      "672 iteration running\n",
      "673 iteration running\n",
      "674 iteration running\n",
      "675 iteration running\n",
      "676 iteration running\n",
      "677 iteration running\n",
      "678 iteration running\n",
      "679 iteration running\n",
      "680 iteration running\n",
      "681 iteration running\n",
      "682 iteration running\n",
      "683 iteration running\n",
      "684 iteration running\n",
      "685 iteration running\n",
      "686 iteration running\n",
      "687 iteration running\n",
      "688 iteration running\n",
      "689 iteration running\n",
      "690 iteration running\n",
      "691 iteration running\n",
      "692 iteration running\n",
      "693 iteration running\n",
      "694 iteration running\n",
      "695 iteration running\n",
      "696 iteration running\n",
      "697 iteration running\n",
      "698 iteration running\n",
      "699 iteration running\n",
      "700 iteration running\n",
      "701 iteration running\n",
      "702 iteration running\n",
      "703 iteration running\n",
      "704 iteration running\n",
      "705 iteration running\n",
      "706 iteration running\n",
      "707 iteration running\n",
      "708 iteration running\n",
      "709 iteration running\n",
      "710 iteration running\n",
      "711 iteration running\n",
      "712 iteration running\n",
      "713 iteration running\n",
      "714 iteration running\n",
      "715 iteration running\n",
      "716 iteration running\n",
      "717 iteration running\n",
      "718 iteration running\n",
      "719 iteration running\n",
      "720 iteration running\n",
      "721 iteration running\n",
      "722 iteration running\n",
      "723 iteration running\n",
      "724 iteration running\n",
      "725 iteration running\n",
      "726 iteration running\n",
      "727 iteration running\n",
      "728 iteration running\n",
      "729 iteration running\n",
      "730 iteration running\n",
      "731 iteration running\n",
      "732 iteration running\n",
      "733 iteration running\n",
      "734 iteration running\n",
      "735 iteration running\n",
      "736 iteration running\n",
      "737 iteration running\n",
      "738 iteration running\n",
      "739 iteration running\n",
      "740 iteration running\n",
      "741 iteration running\n",
      "742 iteration running\n",
      "743 iteration running\n",
      "744 iteration running\n",
      "745 iteration running\n",
      "746 iteration running\n",
      "747 iteration running\n",
      "748 iteration running\n",
      "749 iteration running\n",
      "750 iteration running\n",
      "751 iteration running\n",
      "752 iteration running\n",
      "753 iteration running\n",
      "754 iteration running\n",
      "755 iteration running\n",
      "756 iteration running\n",
      "757 iteration running\n",
      "758 iteration running\n",
      "759 iteration running\n",
      "760 iteration running\n",
      "761 iteration running\n",
      "762 iteration running\n",
      "763 iteration running\n",
      "764 iteration running\n",
      "765 iteration running\n",
      "766 iteration running\n",
      "767 iteration running\n",
      "768 iteration running\n",
      "769 iteration running\n",
      "770 iteration running\n",
      "771 iteration running\n",
      "772 iteration running\n",
      "773 iteration running\n",
      "774 iteration running\n",
      "775 iteration running\n",
      "776 iteration running\n",
      "777 iteration running\n",
      "778 iteration running\n",
      "779 iteration running\n",
      "780 iteration running\n",
      "781 iteration running\n",
      "782 iteration running\n",
      "783 iteration running\n",
      "784 iteration running\n",
      "785 iteration running\n",
      "786 iteration running\n",
      "787 iteration running\n",
      "788 iteration running\n",
      "789 iteration running\n",
      "790 iteration running\n",
      "791 iteration running\n",
      "792 iteration running\n",
      "793 iteration running\n",
      "794 iteration running\n",
      "795 iteration running\n",
      "796 iteration running\n",
      "797 iteration running\n",
      "798 iteration running\n",
      "799 iteration running\n",
      "800 iteration running\n",
      "801 iteration running\n",
      "802 iteration running\n",
      "803 iteration running\n",
      "804 iteration running\n",
      "805 iteration running\n",
      "806 iteration running\n",
      "807 iteration running\n",
      "808 iteration running\n",
      "809 iteration running\n",
      "810 iteration running\n",
      "811 iteration running\n",
      "812 iteration running\n",
      "813 iteration running\n",
      "814 iteration running\n",
      "815 iteration running\n",
      "816 iteration running\n",
      "817 iteration running\n",
      "818 iteration running\n",
      "819 iteration running\n",
      "820 iteration running\n",
      "821 iteration running\n",
      "822 iteration running\n",
      "823 iteration running\n",
      "824 iteration running\n",
      "825 iteration running\n",
      "826 iteration running\n",
      "827 iteration running\n",
      "828 iteration running\n",
      "829 iteration running\n",
      "830 iteration running\n",
      "831 iteration running\n",
      "832 iteration running\n",
      "833 iteration running\n",
      "834 iteration running\n",
      "835 iteration running\n",
      "836 iteration running\n",
      "837 iteration running\n",
      "838 iteration running\n",
      "839 iteration running\n",
      "840 iteration running\n",
      "841 iteration running\n",
      "842 iteration running\n",
      "843 iteration running\n",
      "844 iteration running\n",
      "845 iteration running\n",
      "846 iteration running\n",
      "847 iteration running\n",
      "848 iteration running\n",
      "849 iteration running\n",
      "850 iteration running\n",
      "851 iteration running\n",
      "852 iteration running\n",
      "853 iteration running\n",
      "854 iteration running\n",
      "855 iteration running\n",
      "856 iteration running\n",
      "857 iteration running\n",
      "858 iteration running\n",
      "859 iteration running\n",
      "860 iteration running\n",
      "861 iteration running\n",
      "862 iteration running\n",
      "863 iteration running\n",
      "864 iteration running\n",
      "865 iteration running\n",
      "866 iteration running\n",
      "867 iteration running\n",
      "868 iteration running\n",
      "869 iteration running\n",
      "870 iteration running\n",
      "871 iteration running\n",
      "872 iteration running\n",
      "873 iteration running\n",
      "874 iteration running\n",
      "875 iteration running\n",
      "876 iteration running\n",
      "877 iteration running\n",
      "878 iteration running\n",
      "879 iteration running\n",
      "880 iteration running\n",
      "881 iteration running\n",
      "882 iteration running\n",
      "883 iteration running\n",
      "884 iteration running\n",
      "885 iteration running\n",
      "886 iteration running\n",
      "887 iteration running\n",
      "888 iteration running\n",
      "889 iteration running\n",
      "890 iteration running\n",
      "891 iteration running\n",
      "892 iteration running\n",
      "893 iteration running\n",
      "894 iteration running\n",
      "895 iteration running\n",
      "896 iteration running\n",
      "897 iteration running\n",
      "898 iteration running\n",
      "899 iteration running\n",
      "900 iteration running\n",
      "901 iteration running\n",
      "902 iteration running\n",
      "903 iteration running\n",
      "904 iteration running\n",
      "905 iteration running\n",
      "906 iteration running\n",
      "907 iteration running\n",
      "908 iteration running\n",
      "909 iteration running\n",
      "910 iteration running\n",
      "911 iteration running\n",
      "912 iteration running\n",
      "913 iteration running\n",
      "914 iteration running\n",
      "915 iteration running\n",
      "916 iteration running\n",
      "917 iteration running\n",
      "918 iteration running\n",
      "919 iteration running\n",
      "920 iteration running\n",
      "921 iteration running\n",
      "922 iteration running\n",
      "923 iteration running\n",
      "924 iteration running\n",
      "925 iteration running\n",
      "926 iteration running\n",
      "927 iteration running\n",
      "928 iteration running\n",
      "929 iteration running\n",
      "930 iteration running\n",
      "931 iteration running\n",
      "932 iteration running\n",
      "933 iteration running\n",
      "934 iteration running\n",
      "935 iteration running\n",
      "936 iteration running\n",
      "937 iteration running\n",
      "938 iteration running\n",
      "939 iteration running\n",
      "940 iteration running\n",
      "941 iteration running\n",
      "942 iteration running\n",
      "943 iteration running\n",
      "944 iteration running\n",
      "945 iteration running\n",
      "946 iteration running\n",
      "947 iteration running\n",
      "948 iteration running\n",
      "949 iteration running\n",
      "950 iteration running\n",
      "951 iteration running\n",
      "952 iteration running\n",
      "953 iteration running\n",
      "954 iteration running\n",
      "955 iteration running\n",
      "956 iteration running\n",
      "957 iteration running\n",
      "958 iteration running\n",
      "959 iteration running\n",
      "960 iteration running\n",
      "961 iteration running\n",
      "962 iteration running\n",
      "963 iteration running\n",
      "964 iteration running\n",
      "965 iteration running\n",
      "966 iteration running\n",
      "967 iteration running\n",
      "968 iteration running\n",
      "969 iteration running\n",
      "970 iteration running\n",
      "971 iteration running\n",
      "972 iteration running\n",
      "973 iteration running\n",
      "974 iteration running\n",
      "975 iteration running\n",
      "976 iteration running\n",
      "977 iteration running\n",
      "978 iteration running\n",
      "979 iteration running\n",
      "980 iteration running\n",
      "981 iteration running\n",
      "982 iteration running\n",
      "983 iteration running\n",
      "984 iteration running\n",
      "985 iteration running\n",
      "986 iteration running\n",
      "987 iteration running\n",
      "988 iteration running\n",
      "989 iteration running\n",
      "990 iteration running\n",
      "991 iteration running\n",
      "992 iteration running\n",
      "993 iteration running\n",
      "994 iteration running\n",
      "995 iteration running\n",
      "996 iteration running\n",
      "997 iteration running\n",
      "998 iteration running\n",
      "999 iteration running\n"
     ]
    }
   ],
   "source": [
    "for _ in range(n_iters):\n",
    "    print(f\"{_} iteration running\")\n",
    "\n",
    "    pre_y_pred=[]\n",
    "    for i in enc_X_train:\n",
    "        p=i.dot(weights)\n",
    "        pre_y_pred.append(p)\n",
    "\n",
    "    y_pred=[]\n",
    "    for i in pre_y_pred:\n",
    "        p=i+bias\n",
    "        y_pred.append(p)\n",
    "\n",
    "    res=[]\n",
    "    for i,j in zip(y_pred,enc_y_train):\n",
    "        p=i-j\n",
    "        res.append(p)\n",
    "\n",
    "    res_sum=[0]\n",
    "    res_sum=ts.ckks_vector(context,res_sum)\n",
    "\n",
    "    for i in res:\n",
    "        res_sum=res_sum+i\n",
    "\n",
    "    res_sum=converter3(res_sum)\n",
    "    db=res_sum*multiplier\n",
    "    bias=bias-db\n",
    "\n",
    "    # random_num=10\n",
    "    # for i in range(n_samples):\n",
    "    #     res[i]=res[i]*random_num\n",
    "\n",
    "    res_lin=converter(res)\n",
    "    # res_lin=res_lin*(1/random_num)\n",
    "\n",
    "    pre_dw=[]\n",
    "    for i in enc_X_train_T:\n",
    "        p=i.dot(res_lin)\n",
    "        pre_dw.append(p)\n",
    "\n",
    "    dw=[]\n",
    "\n",
    "    pre_dw=converter2(pre_dw)\n",
    "    dw=pre_dw*multiplier\n",
    "    weights=weights-dw"
   ]
  },
  {
   "cell_type": "code",
   "execution_count": 19,
   "id": "e6fa490a-d358-4a2d-a8ec-51055fcbc764",
   "metadata": {
    "colab": {
     "base_uri": "https://localhost:8080/"
    },
    "id": "e6fa490a-d358-4a2d-a8ec-51055fcbc764",
    "outputId": "bca691df-ea98-4aab-e792-e46b69f845e3"
   },
   "outputs": [
    {
     "data": {
      "text/plain": [
       "[87.40390574540895]"
      ]
     },
     "execution_count": 19,
     "metadata": {},
     "output_type": "execute_result"
    }
   ],
   "source": [
    "weights.decrypt()"
   ]
  },
  {
   "cell_type": "code",
   "execution_count": 20,
   "id": "mLZfnDG_yxWR",
   "metadata": {
    "colab": {
     "base_uri": "https://localhost:8080/"
    },
    "id": "mLZfnDG_yxWR",
    "outputId": "e91e21c1-2e15-4839-9577-09a309dd8995"
   },
   "outputs": [
    {
     "data": {
      "text/plain": [
       "[0.9205897592776452]"
      ]
     },
     "execution_count": 20,
     "metadata": {},
     "output_type": "execute_result"
    }
   ],
   "source": [
    "bias.decrypt()"
   ]
  },
  {
   "cell_type": "markdown",
   "id": "GAW8RtFAzNbO",
   "metadata": {
    "id": "GAW8RtFAzNbO"
   },
   "source": [
    "Testing data\n"
   ]
  },
  {
   "cell_type": "code",
   "execution_count": 21,
   "id": "Rp8DH-G5zqu-",
   "metadata": {
    "colab": {
     "base_uri": "https://localhost:8080/"
    },
    "id": "Rp8DH-G5zqu-",
    "outputId": "bf77fc1a-c804-42a4-ae0f-66264eaf2b2f"
   },
   "outputs": [
    {
     "data": {
      "text/plain": [
       "[87.40390574540895]"
      ]
     },
     "execution_count": 21,
     "metadata": {},
     "output_type": "execute_result"
    }
   ],
   "source": [
    "weights_une=weights.decrypt()\n",
    "weights_une"
   ]
  },
  {
   "cell_type": "code",
   "execution_count": 22,
   "id": "JiYQaIfS0Jm4",
   "metadata": {
    "colab": {
     "base_uri": "https://localhost:8080/"
    },
    "id": "JiYQaIfS0Jm4",
    "outputId": "9c004706-4f44-436d-cfd9-238289c5db0b"
   },
   "outputs": [
    {
     "data": {
      "text/plain": [
       "[0.9205897592776452]"
      ]
     },
     "execution_count": 22,
     "metadata": {},
     "output_type": "execute_result"
    }
   ],
   "source": [
    "bias_une=bias.decrypt()\n",
    "bias_une"
   ]
  },
  {
   "cell_type": "code",
   "execution_count": 23,
   "id": "qXr_0TNk0a5z",
   "metadata": {
    "id": "qXr_0TNk0a5z"
   },
   "outputs": [],
   "source": [
    "predictions=[]\n",
    "for i in X_test:\n",
    "    t=i.dot(weights_une)\n",
    "    t=t+bias_une\n",
    "    predictions.append(t)"
   ]
  },
  {
   "cell_type": "code",
   "execution_count": 24,
   "id": "6Xdanm2f0xtL",
   "metadata": {
    "colab": {
     "base_uri": "https://localhost:8080/"
    },
    "id": "6Xdanm2f0xtL",
    "outputId": "cecc77fd-0b79-43c8-ce75-840e9303025f"
   },
   "outputs": [
    {
     "name": "stdout",
     "output_type": "stream",
     "text": [
      "[22.57859583]\n",
      "[-54.71405063]\n",
      "[41.51029277]\n",
      "[87.6205464]\n",
      "[-195.09883459]\n"
     ]
    }
   ],
   "source": [
    "for i in predictions[:5]:\n",
    "    print(i)"
   ]
  },
  {
   "cell_type": "code",
   "execution_count": 25,
   "id": "1mHtwaUd069U",
   "metadata": {
    "id": "1mHtwaUd069U"
   },
   "outputs": [],
   "source": [
    "enc_X_test=[]\n",
    "for i in X_test:\n",
    "    t=ts.ckks_vector(context,i)\n",
    "    enc_X_test.append(t)"
   ]
  },
  {
   "cell_type": "code",
   "execution_count": 26,
   "id": "4tugTaLi2OtP",
   "metadata": {
    "id": "4tugTaLi2OtP"
   },
   "outputs": [],
   "source": [
    "enc_predictions=[]\n",
    "for i in enc_X_test:\n",
    "    t=i.dot(weights_une)\n",
    "    t=t+bias_une\n",
    "    enc_predictions.append(t)"
   ]
  },
  {
   "cell_type": "code",
   "execution_count": 27,
   "id": "o9Oedeig2amB",
   "metadata": {
    "colab": {
     "base_uri": "https://localhost:8080/"
    },
    "id": "o9Oedeig2amB",
    "outputId": "98eb52a5-ca49-4681-a430-911f3f6463db"
   },
   "outputs": [
    {
     "name": "stdout",
     "output_type": "stream",
     "text": [
      "[22.57859888727007]\n",
      "[-54.71405830931177]\n",
      "[41.510298041972966]\n",
      "[87.62055801318043]\n",
      "[-195.098860806257]\n"
     ]
    }
   ],
   "source": [
    "for i in enc_predictions[:5]:\n",
    "    print(i.decrypt())"
   ]
  },
  {
   "cell_type": "code",
   "execution_count": 28,
   "id": "0SpB5dlu2j_a",
   "metadata": {
    "id": "0SpB5dlu2j_a"
   },
   "outputs": [],
   "source": [
    "dec_pred=[]\n",
    "for i in enc_predictions:\n",
    "    p=i.decrypt()\n",
    "    dec_pred.append(p[0])"
   ]
  },
  {
   "cell_type": "code",
   "execution_count": 29,
   "id": "FCVeG6-j21q3",
   "metadata": {
    "colab": {
     "base_uri": "https://localhost:8080/"
    },
    "id": "FCVeG6-j21q3",
    "outputId": "71a74dcf-a662-4cc9-d571-04c908198519"
   },
   "outputs": [
    {
     "name": "stdout",
     "output_type": "stream",
     "text": [
      "-6.400439740897028 22.57859888727007\n",
      "-75.83288846408419 -54.71405830931177\n",
      "43.02438482670904 41.510298041972966\n",
      "81.72162477765585 87.62055801318043\n",
      "-197.9801503584435 -195.098860806257\n",
      "32.09705138165424 49.29331860929412\n",
      "-102.66748011552487 -77.4944279070153\n",
      "15.35071412820563 11.82099083353718\n",
      "6.892323119468568 26.18835794172341\n",
      "26.28851287900197 7.5807320165955865\n",
      "-80.36899984455164 -80.03766586802061\n",
      "30.84591703151775 62.51593286270625\n",
      "95.06862969774186 78.46210615350125\n",
      "69.43879729019481 62.47289539258429\n",
      "-45.80868282540775 -29.213310254744343\n",
      "63.18804079600157 42.125869622707114\n",
      "91.41603362148403 91.27882357811637\n",
      "-108.37740214379002 -121.61736708900031\n",
      "142.75464960351508 116.39039611110667\n",
      "87.77205622112535 74.42805322220828\n"
     ]
    }
   ],
   "source": [
    "for a,b in zip(y_test,dec_pred,predictions):\n",
    "    print(a,b)"
   ]
  },
  {
   "cell_type": "code",
   "execution_count": 30,
   "id": "cCNAZdK129LQ",
   "metadata": {
    "colab": {
     "base_uri": "https://localhost:8080/",
     "height": 430
    },
    "id": "cCNAZdK129LQ",
    "outputId": "2ae3628e-f2ad-472b-c246-8d67c3a73aee",
    "scrolled": true
   },
   "outputs": [
    {
     "data": {
      "image/png": "[encoded data removed]",
      "text/plain": [
       "<Figure size 432x288 with 1 Axes>"
      ]
     },
     "metadata": {
      "needs_background": "dark"
     },
     "output_type": "display_data"
    }
   ],
   "source": [
    "plt.scatter(X_test,y_test,color='green',label='actual data')\n",
    "plt.plot(X_test,dec_pred,color='red',linewidth=2,label='Prediction')\n",
    "plt.legend()\n",
    "plt.show()"
   ]
  },
  {
   "cell_type": "code",
   "execution_count": 32,
   "id": "7956cccd-ed0e-4c64-8a08-ee4d9e7cdf36",
   "metadata": {},
   "outputs": [
    {
     "name": "stdout",
     "output_type": "stream",
     "text": [
      "13173.290580015528\n"
     ]
    }
   ],
   "source": [
    "def mse(y_test, enc_predictions):\n",
    "    return np.mean((y_test-predictions)**2)\n",
    "\n",
    "mse = mse(y_test,np.array(dec_pred))\n",
    "print(mse)"
   ]
  },
  {
   "cell_type": "code",
   "execution_count": 36,
   "id": "bfe00786-d410-4b1c-b62f-693c95b150e9",
   "metadata": {},
   "outputs": [
    {
     "name": "stdout",
     "output_type": "stream",
     "text": [
      "[22.57859583] 22.57859888727007 -6.400439740897028\n",
      "[-54.71405063] -54.71405830931177 -75.83288846408419\n",
      "[41.51029277] 41.510298041972966 43.02438482670904\n",
      "[87.6205464] 87.62055801318043 81.72162477765585\n",
      "[-195.09883459] -195.098860806257 -197.9801503584435\n",
      "[49.29331217] 49.29331860929412 32.09705138165424\n",
      "[-77.49441727] -77.4944279070153 -102.66748011552487\n",
      "[11.82098902] 11.82099083353718 15.35071412820563\n",
      "[26.18835452] 26.18835794172341 6.892323119468568\n",
      "[7.58073135] 7.5807320165955865 26.28851287900197\n",
      "[-80.03765496] -80.03766586802061 -80.36899984455164\n",
      "[62.51592478] 62.51593286270625 30.84591703151775\n",
      "[78.46209577] 78.46210615350125 95.06862969774186\n",
      "[62.4728872] 62.47289539258429 69.43879729019481\n",
      "[-29.21330645] -29.213310254744343 -45.80868282540775\n",
      "[42.12586438] 42.125869622707114 63.18804079600157\n",
      "[91.27881155] 91.27882357811637 91.41603362148403\n",
      "[-121.61735079] -121.61736708900031 -108.37740214379002\n",
      "[116.39038045] 116.39039611110667 142.75464960351508\n",
      "[74.4280432] 74.42805322220828 87.77205622112535\n"
     ]
    }
   ],
   "source": [
    "for i,j,k in zip(predictions,dec_pred,y_test):\n",
    "    print(i,j,k)"
   ]
  },
  {
   "cell_type": "code",
   "execution_count": null,
   "id": "af7adda8-2716-4af3-aada-fa212b3aec32",
   "metadata": {},
   "outputs": [],
   "source": []
  }
 ],
 "metadata": {
  "colab": {
   "provenance": []
  },
  "kernelspec": {
   "display_name": "Python 3 (ipykernel)",
   "language": "python",
   "name": "python3"
  },
  "language_info": {
   "codemirror_mode": {
    "name": "ipython",
    "version": 3
   },
   "file_extension": ".py",
   "mimetype": "text/x-python",
   "name": "python",
   "nbconvert_exporter": "python",
   "pygments_lexer": "ipython3",
   "version": "3.10.0"
  }
 },
 "nbformat": 4,
 "nbformat_minor": 5
}
