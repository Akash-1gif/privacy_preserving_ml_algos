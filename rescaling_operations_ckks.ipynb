{
  "nbformat": 4,
  "nbformat_minor": 0,
  "metadata": {
    "colab": {
      "provenance": []
    },
    "kernelspec": {
      "name": "python3",
      "display_name": "Python 3"
    },
    "language_info": {
      "name": "python"
    }
  },
  "cells": [
    {
      "cell_type": "code",
      "execution_count": 1,
      "metadata": {
        "colab": {
          "base_uri": "https://localhost:8080/"
        },
        "id": "0GmelVf6_qhQ",
        "outputId": "83848b4e-cd13-4158-ecb6-358834aaf80d"
      },
      "outputs": [
        {
          "output_type": "stream",
          "name": "stdout",
          "text": [
            "Requirement already satisfied: tenseal in /usr/local/lib/python3.10/dist-packages (0.3.14)\n"
          ]
        }
      ],
      "source": [
        "!pip install tenseal"
      ]
    },
    {
      "cell_type": "code",
      "source": [
        "import tenseal as ts\n",
        "context=ts.context(\n",
        "    ts.SCHEME_TYPE.CKKS,\n",
        "    poly_modulus_degree=8192,\n",
        "    coeff_mod_bit_sizes=[60,40,40,60]\n",
        ")\n",
        "\n",
        "context.generate_galois_keys()\n",
        "context.global_scale=2**40"
      ],
      "metadata": {
        "id": "4pBlEZZxAK0o"
      },
      "execution_count": 2,
      "outputs": []
    },
    {
      "cell_type": "code",
      "source": [
        "def re_scale(p):\n",
        "  pp=p.decrypt()\n",
        "  pp=round(pp[0],6)\n",
        "  pp=ts.ckks_vector(context,[pp])\n",
        "  return pp"
      ],
      "metadata": {
        "id": "PNstBbYzARSP"
      },
      "execution_count": 3,
      "outputs": []
    },
    {
      "cell_type": "code",
      "source": [
        "def pre_re_scale(q):\n",
        "  random_num=12.345\n",
        "  w=q+random_num\n",
        "  s=re_scale(w)\n",
        "  s=s-random_num\n",
        "  return s"
      ],
      "metadata": {
        "id": "5nQRQakmBc5U"
      },
      "execution_count": 4,
      "outputs": []
    },
    {
      "cell_type": "code",
      "source": [
        "numb=14\n",
        "numb_enc=ts.ckks_vector(context,[numb])\n",
        "t=re_scale(numb_enc)\n",
        "t.decrypt()"
      ],
      "metadata": {
        "colab": {
          "base_uri": "https://localhost:8080/"
        },
        "id": "RZoKlV0hBtnT",
        "outputId": "e6619e29-c5c7-424a-c0f4-69c89e61cc2d"
      },
      "execution_count": 5,
      "outputs": [
        {
          "output_type": "execute_result",
          "data": {
            "text/plain": [
              "[13.99999999700044]"
            ]
          },
          "metadata": {},
          "execution_count": 5
        }
      ]
    },
    {
      "cell_type": "code",
      "source": [
        "u=pre_re_scale(numb_enc)\n",
        "u.decrypt()"
      ],
      "metadata": {
        "colab": {
          "base_uri": "https://localhost:8080/"
        },
        "id": "jf_xRYeXDNCr",
        "outputId": "fdedbce1-f423-4d04-b80f-d5139806e1cf"
      },
      "execution_count": 6,
      "outputs": [
        {
          "output_type": "execute_result",
          "data": {
            "text/plain": [
              "[13.999999999910784]"
            ]
          },
          "metadata": {},
          "execution_count": 6
        }
      ]
    },
    {
      "cell_type": "code",
      "source": [
        "def re_scale_vec(enc_vec):\n",
        "  dec_vec=enc_vec.decrypt()\n",
        "  re_enc=[]\n",
        "  for i in dec_vec:\n",
        "    p=round(i,6)\n",
        "    re_enc.append(p)\n",
        "  re_enc=ts.ckks_vector(context,re_enc)\n",
        "  return re_enc"
      ],
      "metadata": {
        "id": "aln6QBrEDXb6"
      },
      "execution_count": 7,
      "outputs": []
    },
    {
      "cell_type": "code",
      "source": [
        "import numpy as np\n",
        "def pre_re_scale_vec(enc_vec,size):\n",
        "  random_array=np.random.rand(size)\n",
        "  enc_vec=enc_vec+random_array\n",
        "  enc_vec=re_scale_vec(enc_vec)\n",
        "  enc_vec=enc_vec-random_array\n",
        "  return enc_vec"
      ],
      "metadata": {
        "id": "Qtsv3fyBD_gk"
      },
      "execution_count": 8,
      "outputs": []
    },
    {
      "cell_type": "code",
      "source": [
        "t=[1,2,3,4,5]\n",
        "size=5"
      ],
      "metadata": {
        "id": "WFUc3h-PF7TY"
      },
      "execution_count": 9,
      "outputs": []
    },
    {
      "cell_type": "code",
      "source": [
        "t_enc=ts.ckks_vector(context,t)\n",
        "t_enc"
      ],
      "metadata": {
        "colab": {
          "base_uri": "https://localhost:8080/"
        },
        "id": "LNoFQan6F-4a",
        "outputId": "9f9f55a4-61d5-4923-c372-13d6a984222b"
      },
      "execution_count": 10,
      "outputs": [
        {
          "output_type": "execute_result",
          "data": {
            "text/plain": [
              "<tenseal.tensors.ckksvector.CKKSVector at 0x7a777e63ece0>"
            ]
          },
          "metadata": {},
          "execution_count": 10
        }
      ]
    },
    {
      "cell_type": "code",
      "source": [
        "re_enc_t1=re_scale_vec(t_enc)\n",
        "re_enc_t1.decrypt()"
      ],
      "metadata": {
        "colab": {
          "base_uri": "https://localhost:8080/"
        },
        "id": "aLGvu1YNGE2e",
        "outputId": "06214b03-e5f3-4c06-ee8f-592f9af84ec6"
      },
      "execution_count": 11,
      "outputs": [
        {
          "output_type": "execute_result",
          "data": {
            "text/plain": [
              "[0.9999999997406288,\n",
              " 1.9999999995412037,\n",
              " 2.9999999998096465,\n",
              " 3.99999999633531,\n",
              " 5.000000000035617]"
            ]
          },
          "metadata": {},
          "execution_count": 11
        }
      ]
    },
    {
      "cell_type": "code",
      "source": [
        "re_enc_t2=pre_re_scale_vec(t_enc,size)\n",
        "re_enc_t2.decrypt()"
      ],
      "metadata": {
        "colab": {
          "base_uri": "https://localhost:8080/"
        },
        "id": "larzJQl5GNOp",
        "outputId": "f66dab68-f0c8-4aee-f3e4-b2a89ed5ef48"
      },
      "execution_count": 13,
      "outputs": [
        {
          "output_type": "execute_result",
          "data": {
            "text/plain": [
              "[1.0000002624536055,\n",
              " 1.9999997234537568,\n",
              " 2.9999997149357185,\n",
              " 3.9999999874004355,\n",
              " 5.000000266756208]"
            ]
          },
          "metadata": {},
          "execution_count": 13
        }
      ]
    },
    {
      "cell_type": "code",
      "source": [],
      "metadata": {
        "id": "5gzHFXy5GWN7"
      },
      "execution_count": null,
      "outputs": []
    }
  ]
}