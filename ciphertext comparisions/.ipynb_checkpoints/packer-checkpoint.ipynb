{
 "cells": [
  {
   "cell_type": "code",
   "execution_count": 1,
   "id": "50597c3a-8cf2-4c8b-91c2-9fdb08d22040",
   "metadata": {},
   "outputs": [],
   "source": [
    "import tenseal as ts\n",
    "from lightphe import LightPHE\n",
    "import base64"
   ]
  },
  {
   "cell_type": "code",
   "execution_count": 2,
   "id": "db460e05-eb9c-4253-8569-9e13200220b5",
   "metadata": {},
   "outputs": [],
   "source": [
    "t=[1,2,3,4,5,6,7,8,9,10]"
   ]
  },
  {
   "cell_type": "markdown",
   "id": "fdf31af6-9d76-4599-91fc-2bc9e69f7c02",
   "metadata": {},
   "source": [
    "### CKKS encryption:"
   ]
  },
  {
   "cell_type": "code",
   "execution_count": 3,
   "id": "68a2b621-20ff-4533-950c-449c60742f31",
   "metadata": {},
   "outputs": [],
   "source": [
    "context = ts.context(\n",
    "            ts.SCHEME_TYPE.CKKS,\n",
    "            poly_modulus_degree=8192,\n",
    "            coeff_mod_bit_sizes=[60, 40, 40, 60]\n",
    "          )\n",
    "context.generate_galois_keys()\n",
    "context.global_scale = 2**40"
   ]
  },
  {
   "cell_type": "code",
   "execution_count": 4,
   "id": "3c1ad01c-b050-4e6b-ba02-a7bd35b70386",
   "metadata": {},
   "outputs": [],
   "source": [
    "enc_v1=ts.ckks_vector(context,t)\n",
    "enc_v1=enc_v1.serialize()"
   ]
  },
  {
   "cell_type": "code",
   "execution_count": 5,
   "id": "0e0a48fd-ddf4-4726-9c87-6cf913c6479b",
   "metadata": {},
   "outputs": [],
   "source": [
    "ckks_data=base64.b64encode(enc_v1)\n",
    "with open('CKKS_data.txt','wb') as f:\n",
    "    f.write(ckks_data)"
   ]
  },
  {
   "cell_type": "markdown",
   "id": "323fa3a3-53cf-4e84-ac54-4314b40a4b4a",
   "metadata": {},
   "source": [
    "### Paillier Encryption:"
   ]
  },
  {
   "cell_type": "code",
   "execution_count": 6,
   "id": "97fb31ef-ec1a-4a88-bc3a-da345e1d53b7",
   "metadata": {},
   "outputs": [],
   "source": [
    "cs=LightPHE(algorithm_name=\"Paillier\")"
   ]
  },
  {
   "cell_type": "code",
   "execution_count": 7,
   "id": "6ddad8a8-9cb7-401c-a7a5-fa12099a2eb0",
   "metadata": {},
   "outputs": [],
   "source": [
    "enc_v2=cs.encrypt(t)"
   ]
  },
  {
   "cell_type": "code",
   "execution_count": 9,
   "id": "272c2df8-efa8-4539-8b07-eefc7b63027b",
   "metadata": {},
   "outputs": [],
   "source": [
    "import pickle"
   ]
  },
  {
   "cell_type": "code",
   "execution_count": 10,
   "id": "a3815688-496a-4b01-ba76-88eb6e148357",
   "metadata": {},
   "outputs": [],
   "source": [
    "with open('Paillier_data.txt', 'wb') as f:\n",
    "    pickle.dump(enc_v2, f)"
   ]
  },
  {
   "cell_type": "markdown",
   "id": "08059316-a9d0-47ae-ab26-63435ea2c3ab",
   "metadata": {},
   "source": [
    "### ElGamal Encryption:"
   ]
  },
  {
   "cell_type": "code",
   "execution_count": 11,
   "id": "791ab613-0571-4c6a-9060-d01d10051af3",
   "metadata": {},
   "outputs": [],
   "source": [
    "gs=LightPHE(algorithm_name=\"ElGamal\")\n",
    "enc_v3=gs.encrypt(t)\n",
    "with open('ElGamal_data.txt','wb') as f:\n",
    "    pickle.dump(enc_v3, f)"
   ]
  }
 ],
 "metadata": {
  "kernelspec": {
   "display_name": "Python 3 (ipykernel)",
   "language": "python",
   "name": "python3"
  },
  "language_info": {
   "codemirror_mode": {
    "name": "ipython",
    "version": 3
   },
   "file_extension": ".py",
   "mimetype": "text/x-python",
   "name": "python",
   "nbconvert_exporter": "python",
   "pygments_lexer": "ipython3",
   "version": "3.10.0"
  }
 },
 "nbformat": 4,
 "nbformat_minor": 5
}
